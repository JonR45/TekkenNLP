{
 "cells": [
  {
   "cell_type": "code",
   "execution_count": 1,
   "id": "8fcf75a5-4651-40ea-b138-0b60134db7a3",
   "metadata": {},
   "outputs": [],
   "source": [
    "import os\n",
    "os.chdir('..') # this resolves ImportError: attempted relative import with no known parent package\n",
    "\n",
    "# general DS packages\n",
    "import pandas as pd\n",
    "import numpy as np\n",
    "\n",
    "# cleaning and pre-processing\n",
    "from nltk.tokenize import RegexpTokenizer\n",
    "from src.processing.text_cleaning import (normalize_text, process_contractions, remove_all_punctuation, remove_emojis, \n",
    "remove_html_unescape, remove_href_pattern, remove_digits, remove_extra_whitespace, remove_website_links)\n",
    "\n",
    "from src.processing.text_processing import (tokenize_comment, lemmatize_comment, remove_stop_words, remove_tiny_tokens, \n",
    "remove_tekken_character_names_from_tokens, part_of_speech, part_of_speech_tag, part_of_speech_dependency, part_of_speech_shape, \n",
    "part_of_speech_alpha, part_of_speech_is_stop, word_count, unique_words_from_tokens)\n",
    "\n",
    "from src.modeling.topic_dataframe import topic_dataframe, _heaviest_words_indices\n",
    "\n",
    "# modeling\n",
    "import gensim\n",
    "from gensim import corpora\n",
    "from gensim.corpora.dictionary import Dictionary\n",
    "from gensim.models.nmf import Nmf\n",
    "from gensim.models.coherencemodel import CoherenceModel\n",
    "from sklearn.feature_extraction.text import TfidfVectorizer\n",
    "from sklearn.decomposition import NMF\n",
    "\n",
    "# visualisation\n",
    "import matplotlib.pyplot as plt\n",
    "\n",
    "# other\n",
    "from operator import itemgetter"
   ]
  },
  {
   "cell_type": "markdown",
   "id": "c2ee2c16-d416-4f34-b9d9-aacac75293d2",
   "metadata": {},
   "source": [
    "# Load the data"
   ]
  },
  {
   "cell_type": "code",
   "execution_count": 2,
   "id": "df209d0a-9643-4714-909c-0943871a7168",
   "metadata": {},
   "outputs": [],
   "source": [
    "# import data from csv\n",
    "raw_data = pd.read_csv(\"data/raw/new_character_reveal_comments.csv\", )\n",
    "data = raw_data.copy()\n",
    "df = pd.DataFrame(data)"
   ]
  },
  {
   "cell_type": "markdown",
   "id": "fac04d27-119c-41d9-bf71-f3c1eb0bd2ad",
   "metadata": {},
   "source": [
    "# Clean and process data"
   ]
  },
  {
   "cell_type": "code",
   "execution_count": 3,
   "id": "ab851dbe-c953-4b9d-a833-901da4a47a78",
   "metadata": {},
   "outputs": [
    {
     "name": "stdout",
     "output_type": "stream",
     "text": [
      "CPU times: user 38.3 s, sys: 30 ms, total: 38.4 s\n",
      "Wall time: 38.4 s\n"
     ]
    },
    {
     "data": {
      "text/html": [
       "<div>\n",
       "<style scoped>\n",
       "    .dataframe tbody tr th:only-of-type {\n",
       "        vertical-align: middle;\n",
       "    }\n",
       "\n",
       "    .dataframe tbody tr th {\n",
       "        vertical-align: top;\n",
       "    }\n",
       "\n",
       "    .dataframe thead th {\n",
       "        text-align: right;\n",
       "    }\n",
       "</style>\n",
       "<table border=\"1\" class=\"dataframe\">\n",
       "  <thead>\n",
       "    <tr style=\"text-align: right;\">\n",
       "      <th></th>\n",
       "      <th>videoId</th>\n",
       "      <th>authorDisplayName</th>\n",
       "      <th>publishedAt</th>\n",
       "      <th>updatedAt</th>\n",
       "      <th>likeCount</th>\n",
       "      <th>totalReplyCount</th>\n",
       "      <th>textDisplay</th>\n",
       "      <th>textDisplayWordCount</th>\n",
       "      <th>textStopWordsRemoved</th>\n",
       "      <th>textTokenized</th>\n",
       "      <th>textLemmatized</th>\n",
       "      <th>textTekkenCharactersRemoved</th>\n",
       "      <th>textProcessedCharactersRemoved</th>\n",
       "      <th>pos</th>\n",
       "      <th>posTag</th>\n",
       "      <th>posDependency</th>\n",
       "      <th>posShape</th>\n",
       "      <th>posAlpha</th>\n",
       "      <th>posStopWord</th>\n",
       "    </tr>\n",
       "  </thead>\n",
       "  <tbody>\n",
       "    <tr>\n",
       "      <th>0</th>\n",
       "      <td>rDxrpSqYHD8</td>\n",
       "      <td>@faizaanjaved7150</td>\n",
       "      <td>2023-11-01 16:10:05+00:00</td>\n",
       "      <td>2023-11-01 16:10:05+00:00</td>\n",
       "      <td>1</td>\n",
       "      <td>1</td>\n",
       "      <td>already seen it you are getting less views now...</td>\n",
       "      <td>10</td>\n",
       "      <td>seen getting views bamco</td>\n",
       "      <td>[seen, getting, views, bamco]</td>\n",
       "      <td>[see, get, view, bamco]</td>\n",
       "      <td>[see, get, view, bamco]</td>\n",
       "      <td>see get view bamco</td>\n",
       "      <td>[VERB, VERB, NOUN, NOUN]</td>\n",
       "      <td>[VBN, VBG, NNS, NNS]</td>\n",
       "      <td>[ROOT, xcomp, dobj, dobj]</td>\n",
       "      <td>[xxxx, xxxx, xxxx, xxxx]</td>\n",
       "      <td>[True, True, True, True]</td>\n",
       "      <td>[False, False, False, False]</td>\n",
       "    </tr>\n",
       "    <tr>\n",
       "      <th>1</th>\n",
       "      <td>rDxrpSqYHD8</td>\n",
       "      <td>@TS-rw4lk</td>\n",
       "      <td>2023-11-01 16:10:05+00:00</td>\n",
       "      <td>2023-11-01 16:10:05+00:00</td>\n",
       "      <td>0</td>\n",
       "      <td>0</td>\n",
       "      <td>wow</td>\n",
       "      <td>1</td>\n",
       "      <td>wow</td>\n",
       "      <td>[wow]</td>\n",
       "      <td>[wow]</td>\n",
       "      <td>[wow]</td>\n",
       "      <td>wow</td>\n",
       "      <td>[INTJ]</td>\n",
       "      <td>[UH]</td>\n",
       "      <td>[ROOT]</td>\n",
       "      <td>[xxx]</td>\n",
       "      <td>[True]</td>\n",
       "      <td>[False]</td>\n",
       "    </tr>\n",
       "    <tr>\n",
       "      <th>2</th>\n",
       "      <td>rDxrpSqYHD8</td>\n",
       "      <td>@ALONCAK</td>\n",
       "      <td>2023-11-01 16:10:06+00:00</td>\n",
       "      <td>2023-11-01 16:10:06+00:00</td>\n",
       "      <td>0</td>\n",
       "      <td>0</td>\n",
       "      <td>oww yeaah</td>\n",
       "      <td>2</td>\n",
       "      <td>oww yeaah</td>\n",
       "      <td>[oww, yeaah]</td>\n",
       "      <td>[oww, yeaah]</td>\n",
       "      <td>[oww, yeaah]</td>\n",
       "      <td>oww yeaah</td>\n",
       "      <td>[PROPN, PROPN]</td>\n",
       "      <td>[NNP, NNP]</td>\n",
       "      <td>[compound, ROOT]</td>\n",
       "      <td>[xxx, xxxx]</td>\n",
       "      <td>[True, True]</td>\n",
       "      <td>[False, False]</td>\n",
       "    </tr>\n",
       "    <tr>\n",
       "      <th>3</th>\n",
       "      <td>rDxrpSqYHD8</td>\n",
       "      <td>@Rough_Estimates</td>\n",
       "      <td>2023-11-01 16:10:06+00:00</td>\n",
       "      <td>2023-11-01 16:10:06+00:00</td>\n",
       "      <td>150</td>\n",
       "      <td>18</td>\n",
       "      <td>i hope we get an angel version of jin</td>\n",
       "      <td>9</td>\n",
       "      <td>hope angel version jin</td>\n",
       "      <td>[hope, angel, version, jin]</td>\n",
       "      <td>[hope, angel, version, jin]</td>\n",
       "      <td>[hope, version]</td>\n",
       "      <td>hope version</td>\n",
       "      <td>[PROPN, PROPN, PROPN, PROPN]</td>\n",
       "      <td>[NNP, NNP, NNP, NNP]</td>\n",
       "      <td>[compound, compound, compound, ROOT]</td>\n",
       "      <td>[xxxx, xxxx, xxxx, xxx]</td>\n",
       "      <td>[True, True, True, True]</td>\n",
       "      <td>[False, False, False, False]</td>\n",
       "    </tr>\n",
       "    <tr>\n",
       "      <th>4</th>\n",
       "      <td>rDxrpSqYHD8</td>\n",
       "      <td>@kazamataurus337</td>\n",
       "      <td>2023-11-01 16:10:08+00:00</td>\n",
       "      <td>2023-11-01 16:10:08+00:00</td>\n",
       "      <td>1</td>\n",
       "      <td>0</td>\n",
       "      <td>so it begins</td>\n",
       "      <td>3</td>\n",
       "      <td>begins</td>\n",
       "      <td>[begins]</td>\n",
       "      <td>[begin]</td>\n",
       "      <td>[begin]</td>\n",
       "      <td>begin</td>\n",
       "      <td>[VERB]</td>\n",
       "      <td>[VBZ]</td>\n",
       "      <td>[ROOT]</td>\n",
       "      <td>[xxxx]</td>\n",
       "      <td>[True]</td>\n",
       "      <td>[False]</td>\n",
       "    </tr>\n",
       "  </tbody>\n",
       "</table>\n",
       "</div>"
      ],
      "text/plain": [
       "       videoId  authorDisplayName                publishedAt  \\\n",
       "0  rDxrpSqYHD8  @faizaanjaved7150  2023-11-01 16:10:05+00:00   \n",
       "1  rDxrpSqYHD8          @TS-rw4lk  2023-11-01 16:10:05+00:00   \n",
       "2  rDxrpSqYHD8           @ALONCAK  2023-11-01 16:10:06+00:00   \n",
       "3  rDxrpSqYHD8   @Rough_Estimates  2023-11-01 16:10:06+00:00   \n",
       "4  rDxrpSqYHD8   @kazamataurus337  2023-11-01 16:10:08+00:00   \n",
       "\n",
       "                   updatedAt  likeCount  totalReplyCount  \\\n",
       "0  2023-11-01 16:10:05+00:00          1                1   \n",
       "1  2023-11-01 16:10:05+00:00          0                0   \n",
       "2  2023-11-01 16:10:06+00:00          0                0   \n",
       "3  2023-11-01 16:10:06+00:00        150               18   \n",
       "4  2023-11-01 16:10:08+00:00          1                0   \n",
       "\n",
       "                                         textDisplay  textDisplayWordCount  \\\n",
       "0  already seen it you are getting less views now...                    10   \n",
       "1                                                wow                     1   \n",
       "2                                          oww yeaah                     2   \n",
       "3              i hope we get an angel version of jin                     9   \n",
       "4                                       so it begins                     3   \n",
       "\n",
       "       textStopWordsRemoved                  textTokenized  \\\n",
       "0  seen getting views bamco  [seen, getting, views, bamco]   \n",
       "1                       wow                          [wow]   \n",
       "2                 oww yeaah                   [oww, yeaah]   \n",
       "3    hope angel version jin    [hope, angel, version, jin]   \n",
       "4                    begins                       [begins]   \n",
       "\n",
       "                textLemmatized textTekkenCharactersRemoved  \\\n",
       "0      [see, get, view, bamco]     [see, get, view, bamco]   \n",
       "1                        [wow]                       [wow]   \n",
       "2                 [oww, yeaah]                [oww, yeaah]   \n",
       "3  [hope, angel, version, jin]             [hope, version]   \n",
       "4                      [begin]                     [begin]   \n",
       "\n",
       "  textProcessedCharactersRemoved                           pos  \\\n",
       "0             see get view bamco      [VERB, VERB, NOUN, NOUN]   \n",
       "1                            wow                        [INTJ]   \n",
       "2                      oww yeaah                [PROPN, PROPN]   \n",
       "3                   hope version  [PROPN, PROPN, PROPN, PROPN]   \n",
       "4                          begin                        [VERB]   \n",
       "\n",
       "                 posTag                         posDependency  \\\n",
       "0  [VBN, VBG, NNS, NNS]             [ROOT, xcomp, dobj, dobj]   \n",
       "1                  [UH]                                [ROOT]   \n",
       "2            [NNP, NNP]                      [compound, ROOT]   \n",
       "3  [NNP, NNP, NNP, NNP]  [compound, compound, compound, ROOT]   \n",
       "4                 [VBZ]                                [ROOT]   \n",
       "\n",
       "                   posShape                  posAlpha  \\\n",
       "0  [xxxx, xxxx, xxxx, xxxx]  [True, True, True, True]   \n",
       "1                     [xxx]                    [True]   \n",
       "2               [xxx, xxxx]              [True, True]   \n",
       "3   [xxxx, xxxx, xxxx, xxx]  [True, True, True, True]   \n",
       "4                    [xxxx]                    [True]   \n",
       "\n",
       "                    posStopWord  \n",
       "0  [False, False, False, False]  \n",
       "1                       [False]  \n",
       "2                [False, False]  \n",
       "3  [False, False, False, False]  \n",
       "4                       [False]  "
      ]
     },
     "execution_count": 3,
     "metadata": {},
     "output_type": "execute_result"
    }
   ],
   "source": [
    "%%time\n",
    "\n",
    "# clean\n",
    "df['textDisplay'] = df['textDisplay'].apply(normalize_text)\n",
    "df['textDisplay'] = df['textDisplay'].apply(process_contractions)\n",
    "df['textDisplay'] = df['textDisplay'].apply(remove_website_links)\n",
    "df['textDisplay'] = df['textDisplay'].apply(remove_html_unescape)\n",
    "df['textDisplay'] = df['textDisplay'].apply(remove_emojis)\n",
    "df['textDisplay'] = df['textDisplay'].apply(remove_digits)\n",
    "df['textDisplay'] = df['textDisplay'].apply(remove_all_punctuation)\n",
    "df['textDisplay'] = df['textDisplay'].apply(remove_href_pattern)\n",
    "df['textDisplay'] = df['textDisplay'].apply(remove_extra_whitespace)\n",
    "\n",
    "# process\n",
    "df[\"textDisplayWordCount\"] = df['textDisplay'].apply(word_count)\n",
    "df[\"textStopWordsRemoved\"] = df[\"textDisplay\"].apply(remove_stop_words)\n",
    "df[\"textTokenized\"] = df['textStopWordsRemoved'].apply(tokenize_comment)\n",
    "df[\"textLemmatized\"] = df[\"textStopWordsRemoved\"].apply(lemmatize_comment)\n",
    "# remove short meaningless tokens from lemmatized tokens\n",
    "df[\"textLemmatized\"] = df['textLemmatized'].apply(remove_tiny_tokens)\n",
    "df[\"textTekkenCharactersRemoved\"] = df[\"textLemmatized\"].apply(remove_tekken_character_names_from_tokens)\n",
    "df[\"textProcessedCharactersRemoved\"] = df[\"textTekkenCharactersRemoved\"].apply(lambda x: ' '.join(x))\n",
    "\n",
    "# part of speech operations\n",
    "df[\"pos\"] = df[\"textStopWordsRemoved\"].apply(part_of_speech)\n",
    "df[\"posTag\"] = df[\"textStopWordsRemoved\"].apply(part_of_speech_tag)\n",
    "df[\"posDependency\"] = df[\"textStopWordsRemoved\"].apply(part_of_speech_dependency)\n",
    "df[\"posShape\"] = df[\"textStopWordsRemoved\"].apply(part_of_speech_shape)\n",
    "df[\"posAlpha\"] = df[\"textStopWordsRemoved\"].apply(part_of_speech_alpha)\n",
    "df[\"posStopWord\"] = df[\"textStopWordsRemoved\"].apply(part_of_speech_is_stop)\n",
    "\n",
    "\n",
    "# remove rows with empty strings in the 'textProcessedCharactersRemoved' column as these will have nothing to pass to the vectorizer when we come to transforming the text input\n",
    "# to numerical input\n",
    "df = df[df[\"textProcessedCharactersRemoved\"].astype(str) != '']\n",
    "df.reset_index(drop=True, inplace=True)\n",
    "\n",
    "df.head()"
   ]
  },
  {
   "cell_type": "markdown",
   "id": "9d619bcf-0455-4c64-815e-9f34b0c3b086",
   "metadata": {
    "scrolled": true
   },
   "source": [
    "# Non-negative Matrix Factorisation (NMF)\n",
    "- At this point we have the text processed and avaibale in tokenized format and as a string.\n",
    "- We now need to turn the text into numbers...\n",
    "    - This can be done in a variety of ways e.g., TF-IDF, bag of words (which we previously used gensim to create as part of the LDA model)\n",
    "    - We're going to use TF-IDF to create the features.\n",
    "- Once the features are created we can then create a topic model."
   ]
  },
  {
   "cell_type": "markdown",
   "id": "d1dc1d55-1195-4f00-a33f-e891e7614dc4",
   "metadata": {},
   "source": [
    "## Create and fit vectorizer"
   ]
  },
  {
   "cell_type": "code",
   "execution_count": 4,
   "id": "f0359f13-aec2-4ab9-b494-12801cb1d937",
   "metadata": {},
   "outputs": [],
   "source": [
    "# store all the comments in a variable\n",
    "texts = df['textTekkenCharactersRemoved']\n",
    "\n",
    "tfidf_vectorizer = TfidfVectorizer(\n",
    "    min_df=3,  # ignore words that appear in less than x of the youtube comments\n",
    "    max_df=0.85,   # ignore words that appear in more than x% of the comments\n",
    "    max_features=999,   # each word will become a feature, set the max we want\n",
    "    ngram_range=(1, 2),   # allow tf-idf weights for bigrams\n",
    "    preprocessor=' '.join   # the model will tokenize everything by default so we need to join the tokenized words\n",
    ")\n",
    "\n",
    "# fit and transform the text input\n",
    "tfidf = tfidf_vectorizer.fit_transform(texts)"
   ]
  },
  {
   "cell_type": "markdown",
   "id": "73d315f2-8599-458f-9ca8-3d92f092fa72",
   "metadata": {},
   "source": [
    "## Create NMF model\n",
    "- Manually set the number of topics to discover to 10; we'll use coherence score later to determine the best number of topics"
   ]
  },
  {
   "cell_type": "code",
   "execution_count": 5,
   "id": "a6d76698-70f0-48d0-97f3-5afbfdd66961",
   "metadata": {},
   "outputs": [
    {
     "data": {
      "text/html": [
       "<style>#sk-container-id-1 {\n",
       "  /* Definition of color scheme common for light and dark mode */\n",
       "  --sklearn-color-text: black;\n",
       "  --sklearn-color-line: gray;\n",
       "  /* Definition of color scheme for unfitted estimators */\n",
       "  --sklearn-color-unfitted-level-0: #fff5e6;\n",
       "  --sklearn-color-unfitted-level-1: #f6e4d2;\n",
       "  --sklearn-color-unfitted-level-2: #ffe0b3;\n",
       "  --sklearn-color-unfitted-level-3: chocolate;\n",
       "  /* Definition of color scheme for fitted estimators */\n",
       "  --sklearn-color-fitted-level-0: #f0f8ff;\n",
       "  --sklearn-color-fitted-level-1: #d4ebff;\n",
       "  --sklearn-color-fitted-level-2: #b3dbfd;\n",
       "  --sklearn-color-fitted-level-3: cornflowerblue;\n",
       "\n",
       "  /* Specific color for light theme */\n",
       "  --sklearn-color-text-on-default-background: var(--sg-text-color, var(--theme-code-foreground, var(--jp-content-font-color1, black)));\n",
       "  --sklearn-color-background: var(--sg-background-color, var(--theme-background, var(--jp-layout-color0, white)));\n",
       "  --sklearn-color-border-box: var(--sg-text-color, var(--theme-code-foreground, var(--jp-content-font-color1, black)));\n",
       "  --sklearn-color-icon: #696969;\n",
       "\n",
       "  @media (prefers-color-scheme: dark) {\n",
       "    /* Redefinition of color scheme for dark theme */\n",
       "    --sklearn-color-text-on-default-background: var(--sg-text-color, var(--theme-code-foreground, var(--jp-content-font-color1, white)));\n",
       "    --sklearn-color-background: var(--sg-background-color, var(--theme-background, var(--jp-layout-color0, #111)));\n",
       "    --sklearn-color-border-box: var(--sg-text-color, var(--theme-code-foreground, var(--jp-content-font-color1, white)));\n",
       "    --sklearn-color-icon: #878787;\n",
       "  }\n",
       "}\n",
       "\n",
       "#sk-container-id-1 {\n",
       "  color: var(--sklearn-color-text);\n",
       "}\n",
       "\n",
       "#sk-container-id-1 pre {\n",
       "  padding: 0;\n",
       "}\n",
       "\n",
       "#sk-container-id-1 input.sk-hidden--visually {\n",
       "  border: 0;\n",
       "  clip: rect(1px 1px 1px 1px);\n",
       "  clip: rect(1px, 1px, 1px, 1px);\n",
       "  height: 1px;\n",
       "  margin: -1px;\n",
       "  overflow: hidden;\n",
       "  padding: 0;\n",
       "  position: absolute;\n",
       "  width: 1px;\n",
       "}\n",
       "\n",
       "#sk-container-id-1 div.sk-dashed-wrapped {\n",
       "  border: 1px dashed var(--sklearn-color-line);\n",
       "  margin: 0 0.4em 0.5em 0.4em;\n",
       "  box-sizing: border-box;\n",
       "  padding-bottom: 0.4em;\n",
       "  background-color: var(--sklearn-color-background);\n",
       "}\n",
       "\n",
       "#sk-container-id-1 div.sk-container {\n",
       "  /* jupyter's `normalize.less` sets `[hidden] { display: none; }`\n",
       "     but bootstrap.min.css set `[hidden] { display: none !important; }`\n",
       "     so we also need the `!important` here to be able to override the\n",
       "     default hidden behavior on the sphinx rendered scikit-learn.org.\n",
       "     See: https://github.com/scikit-learn/scikit-learn/issues/21755 */\n",
       "  display: inline-block !important;\n",
       "  position: relative;\n",
       "}\n",
       "\n",
       "#sk-container-id-1 div.sk-text-repr-fallback {\n",
       "  display: none;\n",
       "}\n",
       "\n",
       "div.sk-parallel-item,\n",
       "div.sk-serial,\n",
       "div.sk-item {\n",
       "  /* draw centered vertical line to link estimators */\n",
       "  background-image: linear-gradient(var(--sklearn-color-text-on-default-background), var(--sklearn-color-text-on-default-background));\n",
       "  background-size: 2px 100%;\n",
       "  background-repeat: no-repeat;\n",
       "  background-position: center center;\n",
       "}\n",
       "\n",
       "/* Parallel-specific style estimator block */\n",
       "\n",
       "#sk-container-id-1 div.sk-parallel-item::after {\n",
       "  content: \"\";\n",
       "  width: 100%;\n",
       "  border-bottom: 2px solid var(--sklearn-color-text-on-default-background);\n",
       "  flex-grow: 1;\n",
       "}\n",
       "\n",
       "#sk-container-id-1 div.sk-parallel {\n",
       "  display: flex;\n",
       "  align-items: stretch;\n",
       "  justify-content: center;\n",
       "  background-color: var(--sklearn-color-background);\n",
       "  position: relative;\n",
       "}\n",
       "\n",
       "#sk-container-id-1 div.sk-parallel-item {\n",
       "  display: flex;\n",
       "  flex-direction: column;\n",
       "}\n",
       "\n",
       "#sk-container-id-1 div.sk-parallel-item:first-child::after {\n",
       "  align-self: flex-end;\n",
       "  width: 50%;\n",
       "}\n",
       "\n",
       "#sk-container-id-1 div.sk-parallel-item:last-child::after {\n",
       "  align-self: flex-start;\n",
       "  width: 50%;\n",
       "}\n",
       "\n",
       "#sk-container-id-1 div.sk-parallel-item:only-child::after {\n",
       "  width: 0;\n",
       "}\n",
       "\n",
       "/* Serial-specific style estimator block */\n",
       "\n",
       "#sk-container-id-1 div.sk-serial {\n",
       "  display: flex;\n",
       "  flex-direction: column;\n",
       "  align-items: center;\n",
       "  background-color: var(--sklearn-color-background);\n",
       "  padding-right: 1em;\n",
       "  padding-left: 1em;\n",
       "}\n",
       "\n",
       "\n",
       "/* Toggleable style: style used for estimator/Pipeline/ColumnTransformer box that is\n",
       "clickable and can be expanded/collapsed.\n",
       "- Pipeline and ColumnTransformer use this feature and define the default style\n",
       "- Estimators will overwrite some part of the style using the `sk-estimator` class\n",
       "*/\n",
       "\n",
       "/* Pipeline and ColumnTransformer style (default) */\n",
       "\n",
       "#sk-container-id-1 div.sk-toggleable {\n",
       "  /* Default theme specific background. It is overwritten whether we have a\n",
       "  specific estimator or a Pipeline/ColumnTransformer */\n",
       "  background-color: var(--sklearn-color-background);\n",
       "}\n",
       "\n",
       "/* Toggleable label */\n",
       "#sk-container-id-1 label.sk-toggleable__label {\n",
       "  cursor: pointer;\n",
       "  display: block;\n",
       "  width: 100%;\n",
       "  margin-bottom: 0;\n",
       "  padding: 0.5em;\n",
       "  box-sizing: border-box;\n",
       "  text-align: center;\n",
       "}\n",
       "\n",
       "#sk-container-id-1 label.sk-toggleable__label-arrow:before {\n",
       "  /* Arrow on the left of the label */\n",
       "  content: \"▸\";\n",
       "  float: left;\n",
       "  margin-right: 0.25em;\n",
       "  color: var(--sklearn-color-icon);\n",
       "}\n",
       "\n",
       "#sk-container-id-1 label.sk-toggleable__label-arrow:hover:before {\n",
       "  color: var(--sklearn-color-text);\n",
       "}\n",
       "\n",
       "/* Toggleable content - dropdown */\n",
       "\n",
       "#sk-container-id-1 div.sk-toggleable__content {\n",
       "  max-height: 0;\n",
       "  max-width: 0;\n",
       "  overflow: hidden;\n",
       "  text-align: left;\n",
       "  /* unfitted */\n",
       "  background-color: var(--sklearn-color-unfitted-level-0);\n",
       "}\n",
       "\n",
       "#sk-container-id-1 div.sk-toggleable__content.fitted {\n",
       "  /* fitted */\n",
       "  background-color: var(--sklearn-color-fitted-level-0);\n",
       "}\n",
       "\n",
       "#sk-container-id-1 div.sk-toggleable__content pre {\n",
       "  margin: 0.2em;\n",
       "  border-radius: 0.25em;\n",
       "  color: var(--sklearn-color-text);\n",
       "  /* unfitted */\n",
       "  background-color: var(--sklearn-color-unfitted-level-0);\n",
       "}\n",
       "\n",
       "#sk-container-id-1 div.sk-toggleable__content.fitted pre {\n",
       "  /* unfitted */\n",
       "  background-color: var(--sklearn-color-fitted-level-0);\n",
       "}\n",
       "\n",
       "#sk-container-id-1 input.sk-toggleable__control:checked~div.sk-toggleable__content {\n",
       "  /* Expand drop-down */\n",
       "  max-height: 200px;\n",
       "  max-width: 100%;\n",
       "  overflow: auto;\n",
       "}\n",
       "\n",
       "#sk-container-id-1 input.sk-toggleable__control:checked~label.sk-toggleable__label-arrow:before {\n",
       "  content: \"▾\";\n",
       "}\n",
       "\n",
       "/* Pipeline/ColumnTransformer-specific style */\n",
       "\n",
       "#sk-container-id-1 div.sk-label input.sk-toggleable__control:checked~label.sk-toggleable__label {\n",
       "  color: var(--sklearn-color-text);\n",
       "  background-color: var(--sklearn-color-unfitted-level-2);\n",
       "}\n",
       "\n",
       "#sk-container-id-1 div.sk-label.fitted input.sk-toggleable__control:checked~label.sk-toggleable__label {\n",
       "  background-color: var(--sklearn-color-fitted-level-2);\n",
       "}\n",
       "\n",
       "/* Estimator-specific style */\n",
       "\n",
       "/* Colorize estimator box */\n",
       "#sk-container-id-1 div.sk-estimator input.sk-toggleable__control:checked~label.sk-toggleable__label {\n",
       "  /* unfitted */\n",
       "  background-color: var(--sklearn-color-unfitted-level-2);\n",
       "}\n",
       "\n",
       "#sk-container-id-1 div.sk-estimator.fitted input.sk-toggleable__control:checked~label.sk-toggleable__label {\n",
       "  /* fitted */\n",
       "  background-color: var(--sklearn-color-fitted-level-2);\n",
       "}\n",
       "\n",
       "#sk-container-id-1 div.sk-label label.sk-toggleable__label,\n",
       "#sk-container-id-1 div.sk-label label {\n",
       "  /* The background is the default theme color */\n",
       "  color: var(--sklearn-color-text-on-default-background);\n",
       "}\n",
       "\n",
       "/* On hover, darken the color of the background */\n",
       "#sk-container-id-1 div.sk-label:hover label.sk-toggleable__label {\n",
       "  color: var(--sklearn-color-text);\n",
       "  background-color: var(--sklearn-color-unfitted-level-2);\n",
       "}\n",
       "\n",
       "/* Label box, darken color on hover, fitted */\n",
       "#sk-container-id-1 div.sk-label.fitted:hover label.sk-toggleable__label.fitted {\n",
       "  color: var(--sklearn-color-text);\n",
       "  background-color: var(--sklearn-color-fitted-level-2);\n",
       "}\n",
       "\n",
       "/* Estimator label */\n",
       "\n",
       "#sk-container-id-1 div.sk-label label {\n",
       "  font-family: monospace;\n",
       "  font-weight: bold;\n",
       "  display: inline-block;\n",
       "  line-height: 1.2em;\n",
       "}\n",
       "\n",
       "#sk-container-id-1 div.sk-label-container {\n",
       "  text-align: center;\n",
       "}\n",
       "\n",
       "/* Estimator-specific */\n",
       "#sk-container-id-1 div.sk-estimator {\n",
       "  font-family: monospace;\n",
       "  border: 1px dotted var(--sklearn-color-border-box);\n",
       "  border-radius: 0.25em;\n",
       "  box-sizing: border-box;\n",
       "  margin-bottom: 0.5em;\n",
       "  /* unfitted */\n",
       "  background-color: var(--sklearn-color-unfitted-level-0);\n",
       "}\n",
       "\n",
       "#sk-container-id-1 div.sk-estimator.fitted {\n",
       "  /* fitted */\n",
       "  background-color: var(--sklearn-color-fitted-level-0);\n",
       "}\n",
       "\n",
       "/* on hover */\n",
       "#sk-container-id-1 div.sk-estimator:hover {\n",
       "  /* unfitted */\n",
       "  background-color: var(--sklearn-color-unfitted-level-2);\n",
       "}\n",
       "\n",
       "#sk-container-id-1 div.sk-estimator.fitted:hover {\n",
       "  /* fitted */\n",
       "  background-color: var(--sklearn-color-fitted-level-2);\n",
       "}\n",
       "\n",
       "/* Specification for estimator info (e.g. \"i\" and \"?\") */\n",
       "\n",
       "/* Common style for \"i\" and \"?\" */\n",
       "\n",
       ".sk-estimator-doc-link,\n",
       "a:link.sk-estimator-doc-link,\n",
       "a:visited.sk-estimator-doc-link {\n",
       "  float: right;\n",
       "  font-size: smaller;\n",
       "  line-height: 1em;\n",
       "  font-family: monospace;\n",
       "  background-color: var(--sklearn-color-background);\n",
       "  border-radius: 1em;\n",
       "  height: 1em;\n",
       "  width: 1em;\n",
       "  text-decoration: none !important;\n",
       "  margin-left: 1ex;\n",
       "  /* unfitted */\n",
       "  border: var(--sklearn-color-unfitted-level-1) 1pt solid;\n",
       "  color: var(--sklearn-color-unfitted-level-1);\n",
       "}\n",
       "\n",
       ".sk-estimator-doc-link.fitted,\n",
       "a:link.sk-estimator-doc-link.fitted,\n",
       "a:visited.sk-estimator-doc-link.fitted {\n",
       "  /* fitted */\n",
       "  border: var(--sklearn-color-fitted-level-1) 1pt solid;\n",
       "  color: var(--sklearn-color-fitted-level-1);\n",
       "}\n",
       "\n",
       "/* On hover */\n",
       "div.sk-estimator:hover .sk-estimator-doc-link:hover,\n",
       ".sk-estimator-doc-link:hover,\n",
       "div.sk-label-container:hover .sk-estimator-doc-link:hover,\n",
       ".sk-estimator-doc-link:hover {\n",
       "  /* unfitted */\n",
       "  background-color: var(--sklearn-color-unfitted-level-3);\n",
       "  color: var(--sklearn-color-background);\n",
       "  text-decoration: none;\n",
       "}\n",
       "\n",
       "div.sk-estimator.fitted:hover .sk-estimator-doc-link.fitted:hover,\n",
       ".sk-estimator-doc-link.fitted:hover,\n",
       "div.sk-label-container:hover .sk-estimator-doc-link.fitted:hover,\n",
       ".sk-estimator-doc-link.fitted:hover {\n",
       "  /* fitted */\n",
       "  background-color: var(--sklearn-color-fitted-level-3);\n",
       "  color: var(--sklearn-color-background);\n",
       "  text-decoration: none;\n",
       "}\n",
       "\n",
       "/* Span, style for the box shown on hovering the info icon */\n",
       ".sk-estimator-doc-link span {\n",
       "  display: none;\n",
       "  z-index: 9999;\n",
       "  position: relative;\n",
       "  font-weight: normal;\n",
       "  right: .2ex;\n",
       "  padding: .5ex;\n",
       "  margin: .5ex;\n",
       "  width: min-content;\n",
       "  min-width: 20ex;\n",
       "  max-width: 50ex;\n",
       "  color: var(--sklearn-color-text);\n",
       "  box-shadow: 2pt 2pt 4pt #999;\n",
       "  /* unfitted */\n",
       "  background: var(--sklearn-color-unfitted-level-0);\n",
       "  border: .5pt solid var(--sklearn-color-unfitted-level-3);\n",
       "}\n",
       "\n",
       ".sk-estimator-doc-link.fitted span {\n",
       "  /* fitted */\n",
       "  background: var(--sklearn-color-fitted-level-0);\n",
       "  border: var(--sklearn-color-fitted-level-3);\n",
       "}\n",
       "\n",
       ".sk-estimator-doc-link:hover span {\n",
       "  display: block;\n",
       "}\n",
       "\n",
       "/* \"?\"-specific style due to the `<a>` HTML tag */\n",
       "\n",
       "#sk-container-id-1 a.estimator_doc_link {\n",
       "  float: right;\n",
       "  font-size: 1rem;\n",
       "  line-height: 1em;\n",
       "  font-family: monospace;\n",
       "  background-color: var(--sklearn-color-background);\n",
       "  border-radius: 1rem;\n",
       "  height: 1rem;\n",
       "  width: 1rem;\n",
       "  text-decoration: none;\n",
       "  /* unfitted */\n",
       "  color: var(--sklearn-color-unfitted-level-1);\n",
       "  border: var(--sklearn-color-unfitted-level-1) 1pt solid;\n",
       "}\n",
       "\n",
       "#sk-container-id-1 a.estimator_doc_link.fitted {\n",
       "  /* fitted */\n",
       "  border: var(--sklearn-color-fitted-level-1) 1pt solid;\n",
       "  color: var(--sklearn-color-fitted-level-1);\n",
       "}\n",
       "\n",
       "/* On hover */\n",
       "#sk-container-id-1 a.estimator_doc_link:hover {\n",
       "  /* unfitted */\n",
       "  background-color: var(--sklearn-color-unfitted-level-3);\n",
       "  color: var(--sklearn-color-background);\n",
       "  text-decoration: none;\n",
       "}\n",
       "\n",
       "#sk-container-id-1 a.estimator_doc_link.fitted:hover {\n",
       "  /* fitted */\n",
       "  background-color: var(--sklearn-color-fitted-level-3);\n",
       "}\n",
       "</style><div id=\"sk-container-id-1\" class=\"sk-top-container\"><div class=\"sk-text-repr-fallback\"><pre>NMF(init=&#x27;nndsvd&#x27;, max_iter=100, n_components=10, random_state=42)</pre><b>In a Jupyter environment, please rerun this cell to show the HTML representation or trust the notebook. <br />On GitHub, the HTML representation is unable to render, please try loading this page with nbviewer.org.</b></div><div class=\"sk-container\" hidden><div class=\"sk-item\"><div class=\"sk-estimator fitted sk-toggleable\"><input class=\"sk-toggleable__control sk-hidden--visually\" id=\"sk-estimator-id-1\" type=\"checkbox\" checked><label for=\"sk-estimator-id-1\" class=\"sk-toggleable__label fitted sk-toggleable__label-arrow fitted\">&nbsp;&nbsp;NMF<a class=\"sk-estimator-doc-link fitted\" rel=\"noreferrer\" target=\"_blank\" href=\"https://scikit-learn.org/1.4/modules/generated/sklearn.decomposition.NMF.html\">?<span>Documentation for NMF</span></a><span class=\"sk-estimator-doc-link fitted\">i<span>Fitted</span></span></label><div class=\"sk-toggleable__content fitted\"><pre>NMF(init=&#x27;nndsvd&#x27;, max_iter=100, n_components=10, random_state=42)</pre></div> </div></div></div></div>"
      ],
      "text/plain": [
       "NMF(init='nndsvd', max_iter=100, n_components=10, random_state=42)"
      ]
     },
     "execution_count": 5,
     "metadata": {},
     "output_type": "execute_result"
    }
   ],
   "source": [
    "# create and fit the NMF model with scikit-learn NMF\n",
    "nmf = NMF(\n",
    "    n_components=10,   # manually select number of topics\n",
    "    init='nndsvd',   # ‘nndsvd’ initialiser works well on sparse data\n",
    "    max_iter=100,\n",
    "    random_state=42\n",
    ").fit(tfidf)\n",
    "\n",
    "nmf"
   ]
  },
  {
   "cell_type": "markdown",
   "id": "a8788f1c-4ca9-4dad-b097-dee10dee76fc",
   "metadata": {},
   "source": [
    "## Using scikit-learn and gensim to build an optimised model \n",
    "- scikit-learn's NMF implementations enables us to use TF-IDF, however scikit-learn's NMF model doesn't have a built-in coherence score functionality, and we need the coherence score to help determine the optimal number of topics.\n",
    "- So, we'll use gensim's Nmf and coherence score to get the optimum number of topics and then manually select this number of topics with scikit-learn's implementation so we can use TF-IDF instead of gensim's bag of words approach.\n",
    "- This way we get the benefits of TF-IDF and select the optimal number of topics.\n",
    "\n",
    "### Why use TF-IDF?\n",
    "\n",
    "TF-IDF is superior to Bag of Words because:\n",
    "- Both are common ways of representing text representation in numerical format.\n",
    "- TF-IDF addresses the weaknesses of Bag of Words, namely TF-IDF:\n",
    "    - De-emphasises common words and focusses on unique words\n",
    "    - Results in sparser feature vectors, with many zero values corresponding to irrelevant words. This can be beneficial for certain machine learning algorithms that perform better with sparse data, leading to improved model performance and interpretability.\n",
    "    - The above helps overcome the word frequency bias that occurs with BoW which simply counts word occurrences, favoring frequent words regardless of their significance."
   ]
  },
  {
   "cell_type": "markdown",
   "id": "b7f3c1e1-1403-45c4-92f1-3fe22474ef8e",
   "metadata": {},
   "source": [
    "## Use Gensim to get the optimal number of topics\n",
    "- Use Bag of Words approach to create a corpus.\n",
    "- Use gensim Nmf to create a model, try varios topic numbers and get the coherence score for each."
   ]
  },
  {
   "cell_type": "markdown",
   "id": "b14403b9-2e9b-46d1-9b81-67ae00e66cd1",
   "metadata": {},
   "source": [
    "### Create corpus using Bag of Words"
   ]
  },
  {
   "cell_type": "code",
   "execution_count": 6,
   "id": "113e2e42-226d-4a70-bd63-9488b0ceea8a",
   "metadata": {},
   "outputs": [],
   "source": [
    "# store all the comments in a variable\n",
    "texts = df['textTekkenCharactersRemoved']\n",
    "\n",
    "# create a gensim dictionary (words and their id)\n",
    "dictionary = Dictionary(texts)\n",
    "\n",
    "# filter out upper and lower extremes to limit the number of features (don't include words occurring less than 3 times or in >85% of comments)\n",
    "dictionary.filter_extremes(no_below=3, \n",
    "                           no_above=0.85, \n",
    "                           keep_n=5000)\n",
    "\n",
    "# create the bag-of-words corpus (list of (token_id, token_count))\n",
    "corpus = [dictionary.doc2bow(text) for text in texts]"
   ]
  },
  {
   "cell_type": "markdown",
   "id": "f65f922a-be52-42cc-a44a-1821c4cff67d",
   "metadata": {},
   "source": [
    "### Use Gensim Nmf to create model and find optimal number of topics"
   ]
  },
  {
   "cell_type": "code",
   "execution_count": 7,
   "id": "538ded62-7d36-4fc4-998a-5392db3119a9",
   "metadata": {},
   "outputs": [
    {
     "data": {
      "text/plain": [
       "30"
      ]
     },
     "execution_count": 7,
     "metadata": {},
     "output_type": "execute_result"
    }
   ],
   "source": [
    "# create a list of the topic numbers we want to try\n",
    "topic_numbers = list(np.arange(5, 50, 5))\n",
    "\n",
    "# run the nmf model and calculate the coherence score for each number of topics\n",
    "coherence_scores = []\n",
    "\n",
    "for number_of_topics in topic_numbers:\n",
    "    nmf = Nmf(\n",
    "        corpus=corpus,\n",
    "        num_topics=number_of_topics,\n",
    "        id2word=dictionary,\n",
    "        chunksize=1000,   # number of documents to process at a time during model training, impacts memory usage and computational efficiency\n",
    "        passes=5,   # number of complete passes over the corpus during training; more passes leads to better topic refinement but increases time\n",
    "        kappa=.1,    # regularization parameter that controls model sparsity. Higher values encourage sparser topics, potentially leading to more distinct and interpretable results.\n",
    "        minimum_probability=0.01,   # The minimum probability threshold for filtering out low-probability words from topics; helps focus on the most representative words for each topic.\n",
    "        w_max_iter=300,   # The maximum number of iterations for updating the W (document-topic) and H (topic-word) matrices, respectively. \n",
    "                          # They control model convergence and can be adjusted based on model complexity and dataset size.\n",
    "        w_stop_condition=0.0001,   # The convergence thresholds for W and H updates. Training stops when changes in these matrices fall below these thresholds.\n",
    "        h_max_iter=100,\n",
    "        h_stop_condition=0.001,\n",
    "        eval_every=10,   # Evaluate model perplexity on the corpus every eval_every iterations.\n",
    "        normalize=True,   # Normalize document vectors before NMF factorization. It can improve convergence and topic quality in some cases.\n",
    "        random_state=42\n",
    "    )\n",
    "    \n",
    "    # Run the coherence model to get the score\n",
    "    coherence_model = CoherenceModel(\n",
    "        model=nmf,\n",
    "        texts=texts,\n",
    "        dictionary=dictionary,\n",
    "        coherence='c_v'\n",
    "    )\n",
    "    \n",
    "    coherence_scores.append(round(coherence_model.get_coherence(), 3))\n",
    "\n",
    "\n",
    "# get the number of topics with the highest coherence score\n",
    "scores = list(zip(topic_numbers, coherence_scores))\n",
    "\n",
    "# sort the coherence from highest to lowest and access the number of topics associated with the highest coherence score \n",
    "best_number_of_topics = sorted(scores, key=itemgetter(1), reverse=True)[0][0]    # access the first element of the (number_of_topics, coherence score) tuple\n",
    "                                                                                 # key=itemgetter(1) specifies that the sorting should be done using the value \n",
    "                                                                                 # at index 1 of each element as the key (the coherence score)\n",
    "best_number_of_topics"
   ]
  },
  {
   "cell_type": "markdown",
   "id": "3987abec-a71e-4225-84f8-a7d0ba35bd90",
   "metadata": {},
   "source": [
    "# Visualise coherence score and number of topics"
   ]
  },
  {
   "cell_type": "code",
   "execution_count": 8,
   "id": "675ca885-144c-41cb-974c-4c28a953c3d6",
   "metadata": {},
   "outputs": [
    {
     "data": {
      "image/png": "[encoded data removed]",
      "text/plain": [
       "<Figure size 1500x700 with 1 Axes>"
      ]
     },
     "metadata": {},
     "output_type": "display_data"
    },
    {
     "name": "stdout",
     "output_type": "stream",
     "text": [
      "Number of topics with highest coherence score: 30\n",
      "Coherence score: 0.464\n"
     ]
    }
   ],
   "source": [
    "fig, ax = plt.subplots(figsize=(15, 7))\n",
    "\n",
    "plt.plot(\n",
    "    topic_numbers,\n",
    "    coherence_scores,\n",
    "    linewidth=3,\n",
    "    color='#4287f5'\n",
    ")\n",
    "\n",
    "plt.xlabel(\"Topic Number\", fontsize=14)\n",
    "plt.ylabel(\"Coherence Score\", fontsize=14)\n",
    "plt.title(f\"Coherence score by topic number (optimal number of topics = {best_number_of_topics})\", fontsize=16)\n",
    "plt.xticks(np.arange(5, max(topic_numbers) + 1, 5), fontsize=12)\n",
    "plt.yticks(fontsize=12)\n",
    "\n",
    "# remove plot box outline (spines)\n",
    "spines = ax.spines\n",
    "spines['top'].set_visible(False)\n",
    "spines['right'].set_visible(False)\n",
    "# ax.tick_params(bottom=False, left=False)\n",
    "\n",
    "plt.show()\n",
    "\n",
    "# print summary\n",
    "print(f\"Number of topics with highest coherence score: {best_number_of_topics}\\n\"\n",
    "      f\"Coherence score: {[item[1] for item in scores if item[0] == best_number_of_topics][0]}\")\n",
    "\n",
    "\n",
    "# save image\n",
    "fig.savefig(f\"images/coherence_score_{[item[1] for item in scores if item[0] == best_number_of_topics][0]}_number_of_topics_{best_number_of_topics}.png\")"
   ]
  },
  {
   "cell_type": "markdown",
   "id": "8e7b6f09-5a65-45d8-92c4-453ca5e3a83b",
   "metadata": {},
   "source": [
    "## Number of topics\n",
    "- 30 seems like a lot... we'll likely need to experiment with this number. We can see that 10 topics has a coherence score of 0.42 so this may well be fine for the use case as 10 key topics seems more sensible; what's more important is the words making up these topics.\n",
    "- Trial and error and experimentation may find more optimal topic numbers, and once we can see what words are making up each topic then we'll be able to ascertain:\n",
    "    1. If the topics make sense\n",
    "    2. If there is any similarity between topics."
   ]
  },
  {
   "cell_type": "markdown",
   "id": "383e7fac-6156-41d6-bd10-3e6b55989684",
   "metadata": {},
   "source": [
    "# Create NMF model using TF-IDF and the optimal number of topics\n",
    "- Now that we have an 'optimal' number of topics we can use _scikit-learn_ to create an NMF model that uses TF-IDF to vectorize.\n",
    "- The first step is to create a TF-IDF vectorizer..."
   ]
  },
  {
   "cell_type": "code",
   "execution_count": 9,
   "id": "ded7aae4-0863-4e65-b614-58261afe7b15",
   "metadata": {},
   "outputs": [
    {
     "data": {
      "text/html": [
       "<style>#sk-container-id-2 {\n",
       "  /* Definition of color scheme common for light and dark mode */\n",
       "  --sklearn-color-text: black;\n",
       "  --sklearn-color-line: gray;\n",
       "  /* Definition of color scheme for unfitted estimators */\n",
       "  --sklearn-color-unfitted-level-0: #fff5e6;\n",
       "  --sklearn-color-unfitted-level-1: #f6e4d2;\n",
       "  --sklearn-color-unfitted-level-2: #ffe0b3;\n",
       "  --sklearn-color-unfitted-level-3: chocolate;\n",
       "  /* Definition of color scheme for fitted estimators */\n",
       "  --sklearn-color-fitted-level-0: #f0f8ff;\n",
       "  --sklearn-color-fitted-level-1: #d4ebff;\n",
       "  --sklearn-color-fitted-level-2: #b3dbfd;\n",
       "  --sklearn-color-fitted-level-3: cornflowerblue;\n",
       "\n",
       "  /* Specific color for light theme */\n",
       "  --sklearn-color-text-on-default-background: var(--sg-text-color, var(--theme-code-foreground, var(--jp-content-font-color1, black)));\n",
       "  --sklearn-color-background: var(--sg-background-color, var(--theme-background, var(--jp-layout-color0, white)));\n",
       "  --sklearn-color-border-box: var(--sg-text-color, var(--theme-code-foreground, var(--jp-content-font-color1, black)));\n",
       "  --sklearn-color-icon: #696969;\n",
       "\n",
       "  @media (prefers-color-scheme: dark) {\n",
       "    /* Redefinition of color scheme for dark theme */\n",
       "    --sklearn-color-text-on-default-background: var(--sg-text-color, var(--theme-code-foreground, var(--jp-content-font-color1, white)));\n",
       "    --sklearn-color-background: var(--sg-background-color, var(--theme-background, var(--jp-layout-color0, #111)));\n",
       "    --sklearn-color-border-box: var(--sg-text-color, var(--theme-code-foreground, var(--jp-content-font-color1, white)));\n",
       "    --sklearn-color-icon: #878787;\n",
       "  }\n",
       "}\n",
       "\n",
       "#sk-container-id-2 {\n",
       "  color: var(--sklearn-color-text);\n",
       "}\n",
       "\n",
       "#sk-container-id-2 pre {\n",
       "  padding: 0;\n",
       "}\n",
       "\n",
       "#sk-container-id-2 input.sk-hidden--visually {\n",
       "  border: 0;\n",
       "  clip: rect(1px 1px 1px 1px);\n",
       "  clip: rect(1px, 1px, 1px, 1px);\n",
       "  height: 1px;\n",
       "  margin: -1px;\n",
       "  overflow: hidden;\n",
       "  padding: 0;\n",
       "  position: absolute;\n",
       "  width: 1px;\n",
       "}\n",
       "\n",
       "#sk-container-id-2 div.sk-dashed-wrapped {\n",
       "  border: 1px dashed var(--sklearn-color-line);\n",
       "  margin: 0 0.4em 0.5em 0.4em;\n",
       "  box-sizing: border-box;\n",
       "  padding-bottom: 0.4em;\n",
       "  background-color: var(--sklearn-color-background);\n",
       "}\n",
       "\n",
       "#sk-container-id-2 div.sk-container {\n",
       "  /* jupyter's `normalize.less` sets `[hidden] { display: none; }`\n",
       "     but bootstrap.min.css set `[hidden] { display: none !important; }`\n",
       "     so we also need the `!important` here to be able to override the\n",
       "     default hidden behavior on the sphinx rendered scikit-learn.org.\n",
       "     See: https://github.com/scikit-learn/scikit-learn/issues/21755 */\n",
       "  display: inline-block !important;\n",
       "  position: relative;\n",
       "}\n",
       "\n",
       "#sk-container-id-2 div.sk-text-repr-fallback {\n",
       "  display: none;\n",
       "}\n",
       "\n",
       "div.sk-parallel-item,\n",
       "div.sk-serial,\n",
       "div.sk-item {\n",
       "  /* draw centered vertical line to link estimators */\n",
       "  background-image: linear-gradient(var(--sklearn-color-text-on-default-background), var(--sklearn-color-text-on-default-background));\n",
       "  background-size: 2px 100%;\n",
       "  background-repeat: no-repeat;\n",
       "  background-position: center center;\n",
       "}\n",
       "\n",
       "/* Parallel-specific style estimator block */\n",
       "\n",
       "#sk-container-id-2 div.sk-parallel-item::after {\n",
       "  content: \"\";\n",
       "  width: 100%;\n",
       "  border-bottom: 2px solid var(--sklearn-color-text-on-default-background);\n",
       "  flex-grow: 1;\n",
       "}\n",
       "\n",
       "#sk-container-id-2 div.sk-parallel {\n",
       "  display: flex;\n",
       "  align-items: stretch;\n",
       "  justify-content: center;\n",
       "  background-color: var(--sklearn-color-background);\n",
       "  position: relative;\n",
       "}\n",
       "\n",
       "#sk-container-id-2 div.sk-parallel-item {\n",
       "  display: flex;\n",
       "  flex-direction: column;\n",
       "}\n",
       "\n",
       "#sk-container-id-2 div.sk-parallel-item:first-child::after {\n",
       "  align-self: flex-end;\n",
       "  width: 50%;\n",
       "}\n",
       "\n",
       "#sk-container-id-2 div.sk-parallel-item:last-child::after {\n",
       "  align-self: flex-start;\n",
       "  width: 50%;\n",
       "}\n",
       "\n",
       "#sk-container-id-2 div.sk-parallel-item:only-child::after {\n",
       "  width: 0;\n",
       "}\n",
       "\n",
       "/* Serial-specific style estimator block */\n",
       "\n",
       "#sk-container-id-2 div.sk-serial {\n",
       "  display: flex;\n",
       "  flex-direction: column;\n",
       "  align-items: center;\n",
       "  background-color: var(--sklearn-color-background);\n",
       "  padding-right: 1em;\n",
       "  padding-left: 1em;\n",
       "}\n",
       "\n",
       "\n",
       "/* Toggleable style: style used for estimator/Pipeline/ColumnTransformer box that is\n",
       "clickable and can be expanded/collapsed.\n",
       "- Pipeline and ColumnTransformer use this feature and define the default style\n",
       "- Estimators will overwrite some part of the style using the `sk-estimator` class\n",
       "*/\n",
       "\n",
       "/* Pipeline and ColumnTransformer style (default) */\n",
       "\n",
       "#sk-container-id-2 div.sk-toggleable {\n",
       "  /* Default theme specific background. It is overwritten whether we have a\n",
       "  specific estimator or a Pipeline/ColumnTransformer */\n",
       "  background-color: var(--sklearn-color-background);\n",
       "}\n",
       "\n",
       "/* Toggleable label */\n",
       "#sk-container-id-2 label.sk-toggleable__label {\n",
       "  cursor: pointer;\n",
       "  display: block;\n",
       "  width: 100%;\n",
       "  margin-bottom: 0;\n",
       "  padding: 0.5em;\n",
       "  box-sizing: border-box;\n",
       "  text-align: center;\n",
       "}\n",
       "\n",
       "#sk-container-id-2 label.sk-toggleable__label-arrow:before {\n",
       "  /* Arrow on the left of the label */\n",
       "  content: \"▸\";\n",
       "  float: left;\n",
       "  margin-right: 0.25em;\n",
       "  color: var(--sklearn-color-icon);\n",
       "}\n",
       "\n",
       "#sk-container-id-2 label.sk-toggleable__label-arrow:hover:before {\n",
       "  color: var(--sklearn-color-text);\n",
       "}\n",
       "\n",
       "/* Toggleable content - dropdown */\n",
       "\n",
       "#sk-container-id-2 div.sk-toggleable__content {\n",
       "  max-height: 0;\n",
       "  max-width: 0;\n",
       "  overflow: hidden;\n",
       "  text-align: left;\n",
       "  /* unfitted */\n",
       "  background-color: var(--sklearn-color-unfitted-level-0);\n",
       "}\n",
       "\n",
       "#sk-container-id-2 div.sk-toggleable__content.fitted {\n",
       "  /* fitted */\n",
       "  background-color: var(--sklearn-color-fitted-level-0);\n",
       "}\n",
       "\n",
       "#sk-container-id-2 div.sk-toggleable__content pre {\n",
       "  margin: 0.2em;\n",
       "  border-radius: 0.25em;\n",
       "  color: var(--sklearn-color-text);\n",
       "  /* unfitted */\n",
       "  background-color: var(--sklearn-color-unfitted-level-0);\n",
       "}\n",
       "\n",
       "#sk-container-id-2 div.sk-toggleable__content.fitted pre {\n",
       "  /* unfitted */\n",
       "  background-color: var(--sklearn-color-fitted-level-0);\n",
       "}\n",
       "\n",
       "#sk-container-id-2 input.sk-toggleable__control:checked~div.sk-toggleable__content {\n",
       "  /* Expand drop-down */\n",
       "  max-height: 200px;\n",
       "  max-width: 100%;\n",
       "  overflow: auto;\n",
       "}\n",
       "\n",
       "#sk-container-id-2 input.sk-toggleable__control:checked~label.sk-toggleable__label-arrow:before {\n",
       "  content: \"▾\";\n",
       "}\n",
       "\n",
       "/* Pipeline/ColumnTransformer-specific style */\n",
       "\n",
       "#sk-container-id-2 div.sk-label input.sk-toggleable__control:checked~label.sk-toggleable__label {\n",
       "  color: var(--sklearn-color-text);\n",
       "  background-color: var(--sklearn-color-unfitted-level-2);\n",
       "}\n",
       "\n",
       "#sk-container-id-2 div.sk-label.fitted input.sk-toggleable__control:checked~label.sk-toggleable__label {\n",
       "  background-color: var(--sklearn-color-fitted-level-2);\n",
       "}\n",
       "\n",
       "/* Estimator-specific style */\n",
       "\n",
       "/* Colorize estimator box */\n",
       "#sk-container-id-2 div.sk-estimator input.sk-toggleable__control:checked~label.sk-toggleable__label {\n",
       "  /* unfitted */\n",
       "  background-color: var(--sklearn-color-unfitted-level-2);\n",
       "}\n",
       "\n",
       "#sk-container-id-2 div.sk-estimator.fitted input.sk-toggleable__control:checked~label.sk-toggleable__label {\n",
       "  /* fitted */\n",
       "  background-color: var(--sklearn-color-fitted-level-2);\n",
       "}\n",
       "\n",
       "#sk-container-id-2 div.sk-label label.sk-toggleable__label,\n",
       "#sk-container-id-2 div.sk-label label {\n",
       "  /* The background is the default theme color */\n",
       "  color: var(--sklearn-color-text-on-default-background);\n",
       "}\n",
       "\n",
       "/* On hover, darken the color of the background */\n",
       "#sk-container-id-2 div.sk-label:hover label.sk-toggleable__label {\n",
       "  color: var(--sklearn-color-text);\n",
       "  background-color: var(--sklearn-color-unfitted-level-2);\n",
       "}\n",
       "\n",
       "/* Label box, darken color on hover, fitted */\n",
       "#sk-container-id-2 div.sk-label.fitted:hover label.sk-toggleable__label.fitted {\n",
       "  color: var(--sklearn-color-text);\n",
       "  background-color: var(--sklearn-color-fitted-level-2);\n",
       "}\n",
       "\n",
       "/* Estimator label */\n",
       "\n",
       "#sk-container-id-2 div.sk-label label {\n",
       "  font-family: monospace;\n",
       "  font-weight: bold;\n",
       "  display: inline-block;\n",
       "  line-height: 1.2em;\n",
       "}\n",
       "\n",
       "#sk-container-id-2 div.sk-label-container {\n",
       "  text-align: center;\n",
       "}\n",
       "\n",
       "/* Estimator-specific */\n",
       "#sk-container-id-2 div.sk-estimator {\n",
       "  font-family: monospace;\n",
       "  border: 1px dotted var(--sklearn-color-border-box);\n",
       "  border-radius: 0.25em;\n",
       "  box-sizing: border-box;\n",
       "  margin-bottom: 0.5em;\n",
       "  /* unfitted */\n",
       "  background-color: var(--sklearn-color-unfitted-level-0);\n",
       "}\n",
       "\n",
       "#sk-container-id-2 div.sk-estimator.fitted {\n",
       "  /* fitted */\n",
       "  background-color: var(--sklearn-color-fitted-level-0);\n",
       "}\n",
       "\n",
       "/* on hover */\n",
       "#sk-container-id-2 div.sk-estimator:hover {\n",
       "  /* unfitted */\n",
       "  background-color: var(--sklearn-color-unfitted-level-2);\n",
       "}\n",
       "\n",
       "#sk-container-id-2 div.sk-estimator.fitted:hover {\n",
       "  /* fitted */\n",
       "  background-color: var(--sklearn-color-fitted-level-2);\n",
       "}\n",
       "\n",
       "/* Specification for estimator info (e.g. \"i\" and \"?\") */\n",
       "\n",
       "/* Common style for \"i\" and \"?\" */\n",
       "\n",
       ".sk-estimator-doc-link,\n",
       "a:link.sk-estimator-doc-link,\n",
       "a:visited.sk-estimator-doc-link {\n",
       "  float: right;\n",
       "  font-size: smaller;\n",
       "  line-height: 1em;\n",
       "  font-family: monospace;\n",
       "  background-color: var(--sklearn-color-background);\n",
       "  border-radius: 1em;\n",
       "  height: 1em;\n",
       "  width: 1em;\n",
       "  text-decoration: none !important;\n",
       "  margin-left: 1ex;\n",
       "  /* unfitted */\n",
       "  border: var(--sklearn-color-unfitted-level-1) 1pt solid;\n",
       "  color: var(--sklearn-color-unfitted-level-1);\n",
       "}\n",
       "\n",
       ".sk-estimator-doc-link.fitted,\n",
       "a:link.sk-estimator-doc-link.fitted,\n",
       "a:visited.sk-estimator-doc-link.fitted {\n",
       "  /* fitted */\n",
       "  border: var(--sklearn-color-fitted-level-1) 1pt solid;\n",
       "  color: var(--sklearn-color-fitted-level-1);\n",
       "}\n",
       "\n",
       "/* On hover */\n",
       "div.sk-estimator:hover .sk-estimator-doc-link:hover,\n",
       ".sk-estimator-doc-link:hover,\n",
       "div.sk-label-container:hover .sk-estimator-doc-link:hover,\n",
       ".sk-estimator-doc-link:hover {\n",
       "  /* unfitted */\n",
       "  background-color: var(--sklearn-color-unfitted-level-3);\n",
       "  color: var(--sklearn-color-background);\n",
       "  text-decoration: none;\n",
       "}\n",
       "\n",
       "div.sk-estimator.fitted:hover .sk-estimator-doc-link.fitted:hover,\n",
       ".sk-estimator-doc-link.fitted:hover,\n",
       "div.sk-label-container:hover .sk-estimator-doc-link.fitted:hover,\n",
       ".sk-estimator-doc-link.fitted:hover {\n",
       "  /* fitted */\n",
       "  background-color: var(--sklearn-color-fitted-level-3);\n",
       "  color: var(--sklearn-color-background);\n",
       "  text-decoration: none;\n",
       "}\n",
       "\n",
       "/* Span, style for the box shown on hovering the info icon */\n",
       ".sk-estimator-doc-link span {\n",
       "  display: none;\n",
       "  z-index: 9999;\n",
       "  position: relative;\n",
       "  font-weight: normal;\n",
       "  right: .2ex;\n",
       "  padding: .5ex;\n",
       "  margin: .5ex;\n",
       "  width: min-content;\n",
       "  min-width: 20ex;\n",
       "  max-width: 50ex;\n",
       "  color: var(--sklearn-color-text);\n",
       "  box-shadow: 2pt 2pt 4pt #999;\n",
       "  /* unfitted */\n",
       "  background: var(--sklearn-color-unfitted-level-0);\n",
       "  border: .5pt solid var(--sklearn-color-unfitted-level-3);\n",
       "}\n",
       "\n",
       ".sk-estimator-doc-link.fitted span {\n",
       "  /* fitted */\n",
       "  background: var(--sklearn-color-fitted-level-0);\n",
       "  border: var(--sklearn-color-fitted-level-3);\n",
       "}\n",
       "\n",
       ".sk-estimator-doc-link:hover span {\n",
       "  display: block;\n",
       "}\n",
       "\n",
       "/* \"?\"-specific style due to the `<a>` HTML tag */\n",
       "\n",
       "#sk-container-id-2 a.estimator_doc_link {\n",
       "  float: right;\n",
       "  font-size: 1rem;\n",
       "  line-height: 1em;\n",
       "  font-family: monospace;\n",
       "  background-color: var(--sklearn-color-background);\n",
       "  border-radius: 1rem;\n",
       "  height: 1rem;\n",
       "  width: 1rem;\n",
       "  text-decoration: none;\n",
       "  /* unfitted */\n",
       "  color: var(--sklearn-color-unfitted-level-1);\n",
       "  border: var(--sklearn-color-unfitted-level-1) 1pt solid;\n",
       "}\n",
       "\n",
       "#sk-container-id-2 a.estimator_doc_link.fitted {\n",
       "  /* fitted */\n",
       "  border: var(--sklearn-color-fitted-level-1) 1pt solid;\n",
       "  color: var(--sklearn-color-fitted-level-1);\n",
       "}\n",
       "\n",
       "/* On hover */\n",
       "#sk-container-id-2 a.estimator_doc_link:hover {\n",
       "  /* unfitted */\n",
       "  background-color: var(--sklearn-color-unfitted-level-3);\n",
       "  color: var(--sklearn-color-background);\n",
       "  text-decoration: none;\n",
       "}\n",
       "\n",
       "#sk-container-id-2 a.estimator_doc_link.fitted:hover {\n",
       "  /* fitted */\n",
       "  background-color: var(--sklearn-color-fitted-level-3);\n",
       "}\n",
       "</style><div id=\"sk-container-id-2\" class=\"sk-top-container\"><div class=\"sk-text-repr-fallback\"><pre>TfidfVectorizer(max_df=0.85, max_features=999, min_df=3, ngram_range=(1, 2),\n",
       "                preprocessor=&lt;built-in method join of str object at 0x1050b5330&gt;)</pre><b>In a Jupyter environment, please rerun this cell to show the HTML representation or trust the notebook. <br />On GitHub, the HTML representation is unable to render, please try loading this page with nbviewer.org.</b></div><div class=\"sk-container\" hidden><div class=\"sk-item\"><div class=\"sk-estimator  sk-toggleable\"><input class=\"sk-toggleable__control sk-hidden--visually\" id=\"sk-estimator-id-2\" type=\"checkbox\" checked><label for=\"sk-estimator-id-2\" class=\"sk-toggleable__label  sk-toggleable__label-arrow \">&nbsp;&nbsp;TfidfVectorizer<a class=\"sk-estimator-doc-link \" rel=\"noreferrer\" target=\"_blank\" href=\"https://scikit-learn.org/1.4/modules/generated/sklearn.feature_extraction.text.TfidfVectorizer.html\">?<span>Documentation for TfidfVectorizer</span></a><span class=\"sk-estimator-doc-link \">i<span>Not fitted</span></span></label><div class=\"sk-toggleable__content \"><pre>TfidfVectorizer(max_df=0.85, max_features=999, min_df=3, ngram_range=(1, 2),\n",
       "                preprocessor=&lt;built-in method join of str object at 0x1050b5330&gt;)</pre></div> </div></div></div></div>"
      ],
      "text/plain": [
       "TfidfVectorizer(max_df=0.85, max_features=999, min_df=3, ngram_range=(1, 2),\n",
       "                preprocessor=<built-in method join of str object at 0x1050b5330>)"
      ]
     },
     "execution_count": 9,
     "metadata": {},
     "output_type": "execute_result"
    }
   ],
   "source": [
    "# store the text input (all the comments) that we'll transform into numerical format in a variable\n",
    "texts = df['textTekkenCharactersRemoved']\n",
    "\n",
    "# create the TF-IDF vectorizer\n",
    "tfidf_vectorizer = TfidfVectorizer(\n",
    "    min_df=3,  # discard words in less than 3 documents\n",
    "    max_df=0.85,    # discard words in more than 85% of documents\n",
    "    max_features=999, \n",
    "    ngram_range=(1, 2),   # enable bigrams\n",
    "    preprocessor=' '.join   # joins each list of words within a document into a single string, creating the expected string \n",
    "                            # representation for each document.\n",
    ")\n",
    "\n",
    "tfidf_vectorizer"
   ]
  },
  {
   "cell_type": "markdown",
   "id": "4a6234c5-a546-4037-a470-6df026aabc86",
   "metadata": {},
   "source": [
    "Now that we have a vectoizer created we can use it to fit and transform our input data. _fit_ learns the vocab (terms) and frequencies, _transform_ takes the knowledge gained during fit and applies it to transform raw text into a structured, numerical representation that machines can effectively analyze "
   ]
  },
  {
   "cell_type": "code",
   "execution_count": 10,
   "id": "3ce89cae-1337-42a3-8817-b424f4f1a235",
   "metadata": {},
   "outputs": [],
   "source": [
    "# fit and transform\n",
    "tfidf = tfidf_vectorizer.fit_transform(texts)   "
   ]
  },
  {
   "cell_type": "markdown",
   "id": "13332a05-9f66-477b-b34d-a675c896222e",
   "metadata": {},
   "source": [
    "## Feature names and TF-IDF score\n",
    "- We can view the feature names of the TF-IDF vectorizer; the feature names refer to the actual terms (words or phrases) that have been used to create the numerical representation; the feature names are the vocabulary of the vectorizer.\n",
    "- Each feature name (word or phrase) will have a TF-IDF score associated with it for each document; the TF-IDF score reflects the word or phrase's unique usage pattern compared to the entire corpus.\n",
    "- Higher scores indicate terms that are more statistically relevant and informative for that specific document."
   ]
  },
  {
   "cell_type": "code",
   "execution_count": 11,
   "id": "f585660b-7389-4bc1-a096-c83768b84e24",
   "metadata": {},
   "outputs": [
    {
     "name": "stdout",
     "output_type": "stream",
     "text": [
      "There are 544 features (words) in our TF-IDF vectorizer\n",
      "First 10 words:\n",
      "['able' 'absolutely' 'actor' 'actual' 'actually' 'actually look' 'add'\n",
      " 'aesthetic' 'alisas' 'alright']\n"
     ]
    }
   ],
   "source": [
    "# store the feature names in a variable - we'll use these later for topic summaries\n",
    "tfidf_feature_names = tfidf_vectorizer.get_feature_names_out()\n",
    "\n",
    "# store the TF-IDF scores associated with each word for each document\n",
    "tfidf_matrix = tfidf.toarray()\n",
    "\n",
    "print(f\"There are {len(tfidf_feature_names)} features (words) in our TF-IDF vectorizer\")\n",
    "print(f\"First 10 words:\\n{tfidf_feature_names[:10]}\")"
   ]
  },
  {
   "cell_type": "markdown",
   "id": "ae855649-60af-41b7-a21c-c6f4f5f8fb0d",
   "metadata": {},
   "source": [
    "### Viewing the TF-IDF scores\n",
    "- We can loop through the items and values in our TF-IDF matrix and get the TF-IDF score for each word in each comment.\n",
    "- Each item in the TF-IDF matrix is a list with a length equal to the number of features (words), and each value in the list is the TF-IDF score for a given word. \n",
    "- Most of the TF-IDF values will therefore be 0.0 as each comment will only have a small number of words.\n",
    "- Therefore, we can apply an if logic that checks if the word has a score of >0.0 so that we only get a view of the words that actually have scores for a given comment."
   ]
  },
  {
   "cell_type": "code",
   "execution_count": 12,
   "id": "e0513615-dbd2-46c4-8c07-2dbcb10ecec8",
   "metadata": {},
   "outputs": [
    {
     "data": {
      "text/plain": [
       "numpy.ndarray"
      ]
     },
     "execution_count": 12,
     "metadata": {},
     "output_type": "execute_result"
    }
   ],
   "source": [
    "type(tfidf_matrix)"
   ]
  },
  {
   "cell_type": "code",
   "execution_count": 13,
   "id": "9bcf4d7b-1b17-4973-b563-9cec1ea05210",
   "metadata": {},
   "outputs": [
    {
     "data": {
      "text/plain": [
       "1739"
      ]
     },
     "execution_count": 13,
     "metadata": {},
     "output_type": "execute_result"
    }
   ],
   "source": [
    "len(tfidf_matrix)"
   ]
  },
  {
   "cell_type": "markdown",
   "id": "566ac9c3-0f9c-4dfd-ae59-42530f30629c",
   "metadata": {},
   "source": [
    "The length of the matrix is equal to the number of comments we have in our data."
   ]
  },
  {
   "cell_type": "code",
   "execution_count": 14,
   "id": "0182594d-207b-44ae-b8e8-87dea88f301e",
   "metadata": {},
   "outputs": [
    {
     "data": {
      "text/plain": [
       "544"
      ]
     },
     "execution_count": 14,
     "metadata": {},
     "output_type": "execute_result"
    }
   ],
   "source": [
    "len(tfidf_feature_names)"
   ]
  },
  {
   "cell_type": "markdown",
   "id": "2e975c5e-516e-4225-bcfe-375cd4471eac",
   "metadata": {},
   "source": [
    "The length of the feature names is equal to the number of words we have as features."
   ]
  },
  {
   "cell_type": "code",
   "execution_count": 15,
   "id": "4fa442f5-265f-4cc6-a369-1df632715b2a",
   "metadata": {},
   "outputs": [
    {
     "data": {
      "text/plain": [
       "544"
      ]
     },
     "execution_count": 15,
     "metadata": {},
     "output_type": "execute_result"
    }
   ],
   "source": [
    "len(tfidf_matrix[0])"
   ]
  },
  {
   "cell_type": "markdown",
   "id": "16806584-88e0-4967-b9d6-4872e0eec41f",
   "metadata": {},
   "source": [
    "Each item in our matrix has a length equal to the feature names as each item will contain a TF-IDF score for each word (so it will contain lots of 0.0 vales (a sparse matrix))."
   ]
  },
  {
   "cell_type": "code",
   "execution_count": 16,
   "id": "4352fad8-7f91-40bb-ac05-a0c078f066ce",
   "metadata": {},
   "outputs": [
    {
     "name": "stdout",
     "output_type": "stream",
     "text": [
      "\n",
      "Comment 1:\n",
      "bamco: 0.548\n",
      "get: 0.363\n",
      "see: 0.464\n",
      "view: 0.595\n",
      "\n",
      "Comment 2:\n",
      "wow: 1.0\n",
      "\n",
      "Comment 3:\n",
      "\n",
      "Comment 4:\n",
      "hope: 0.522\n",
      "version: 0.853\n",
      "\n",
      "Comment 5:\n",
      "\n",
      "Comment 6:\n",
      "right: 1.0\n",
      "\n",
      "Comment 7:\n",
      "let: 1.0\n",
      "\n",
      "Comment 8:\n",
      "wow: 1.0\n",
      "\n",
      "Comment 9:\n",
      "marvelous: 1.0\n",
      "\n",
      "Comment 10:\n",
      "bandai: 0.639\n",
      "late: 0.769\n"
     ]
    }
   ],
   "source": [
    "# loop through the first 10 comments and get the words and their TF-IDF score\n",
    "for index, values in enumerate(tfidf_matrix[:10]):\n",
    "    print(f\"\\nComment {index + 1}:\")\n",
    "    for word_index, tfidf_score in enumerate(values):\n",
    "        if tfidf_score >0.0:    \n",
    "            word_index = int(word_index)   # indexing issue as for some reason the word index was a float\n",
    "            print(f\"{tfidf_feature_names[word_index]}: {round(tfidf_score, 3)}\")"
   ]
  },
  {
   "cell_type": "markdown",
   "id": "d5bce739-7440-4f67-8e41-d9fb9457f2df",
   "metadata": {},
   "source": [
    "## Visualising the TF-IDF scores for comments\n",
    "- We can get an idea of what the TF-IDF scores look like for the documents (comments).\n",
    "- To do this we can create a bar chart, with the words in our corpus on the x axis and the TF-IDF score on the y-axis.\n",
    "- We'll create individual graphs for each document (comment); however we have over 1,000 comments, and 544 words in our corpus so we'll just visualise the TF-IDF scores for a few comments, and only include the words with a score greater than 0.0 (as lots of words will be 0.0 as only small number of the 544 words will be in each comment)."
   ]
  },
  {
   "cell_type": "markdown",
   "id": "ad12aa9e-bf1a-41d2-b279-426ca5310d62",
   "metadata": {},
   "source": [
    "#### Accessing the TF-IDF scores and feature names (words) for visualisation\n",
    "Let's quickly make sure we're accessing the feature names (words) and TF-IDF scores properly... The length of the TF-IDF matrix should be the same as the toal number of comments in our dataset, each array in the tfifd matrix should have a TF-IDF score for each of the 544 words in our dataset, and we can decide to access all or some of the scores in each array when visualising..."
   ]
  },
  {
   "cell_type": "code",
   "execution_count": 17,
   "id": "87df4de8-a793-487c-b24b-46bb801fc3e6",
   "metadata": {},
   "outputs": [
    {
     "data": {
      "text/plain": [
       "1739"
      ]
     },
     "execution_count": 17,
     "metadata": {},
     "output_type": "execute_result"
    }
   ],
   "source": [
    "# length should be the same as the number of comments in our dataset\n",
    "len(tfidf_matrix)"
   ]
  },
  {
   "cell_type": "markdown",
   "id": "005f95e8-2715-44fa-8b40-4b285d3b9512",
   "metadata": {},
   "source": [
    "...and the length of each array in the tfidf matrix should be the length of our feature names (words)"
   ]
  },
  {
   "cell_type": "code",
   "execution_count": 18,
   "id": "dec6172c-0383-426e-a20c-5c5669224c8c",
   "metadata": {},
   "outputs": [
    {
     "name": "stdout",
     "output_type": "stream",
     "text": [
      "544\n",
      "544\n"
     ]
    }
   ],
   "source": [
    "print(len(tfidf_matrix[0]))\n",
    "print(len(tfidf_feature_names))"
   ]
  },
  {
   "cell_type": "markdown",
   "id": "8f46dec2-0233-4fc9-8176-0d029af92fde",
   "metadata": {},
   "source": [
    "...and we can access the TF-IDF scores for the first 50 features in the first comment (many will be 0.0)"
   ]
  },
  {
   "cell_type": "code",
   "execution_count": 19,
   "id": "d5fc7afd-ceb9-4ca5-a99f-4f31844ce3a2",
   "metadata": {},
   "outputs": [
    {
     "data": {
      "text/plain": [
       "array([0.        , 0.        , 0.        , 0.        , 0.        ,\n",
       "       0.        , 0.        , 0.        , 0.        , 0.        ,\n",
       "       0.        , 0.        , 0.        , 0.        , 0.        ,\n",
       "       0.        , 0.        , 0.        , 0.        , 0.        ,\n",
       "       0.        , 0.        , 0.        , 0.        , 0.        ,\n",
       "       0.        , 0.        , 0.        , 0.        , 0.54755144,\n",
       "       0.        , 0.        , 0.        , 0.        , 0.        ,\n",
       "       0.        , 0.        , 0.        , 0.        , 0.        ,\n",
       "       0.        , 0.        , 0.        , 0.        , 0.        ,\n",
       "       0.        , 0.        , 0.        , 0.        , 0.        ])"
      ]
     },
     "execution_count": 19,
     "metadata": {},
     "output_type": "execute_result"
    }
   ],
   "source": [
    "tfidf_matrix[:][0][:50]"
   ]
  },
  {
   "cell_type": "markdown",
   "id": "5e55a161-edc0-4346-a789-baf809ff3e5e",
   "metadata": {},
   "source": [
    "We can see that of the first 50 features only one has a value greater than 0.0.. Let's visualise the TF-IDF scores for the first features 50 in the first 2 comments. We expect most values to be 0.0 but hopefully some of the first 50 words will be in the first two commments..."
   ]
  },
  {
   "cell_type": "code",
   "execution_count": 20,
   "id": "930ff874-1ad7-43a2-86c3-41627f6f21dc",
   "metadata": {},
   "outputs": [
    {
     "name": "stdout",
     "output_type": "stream",
     "text": [
      "\n",
      "Words and TF-IDF scores for comment 1:\n",
      "bamco: 0.548\n",
      "get: 0.363\n",
      "see: 0.464\n",
      "view: 0.595\n"
     ]
    },
    {
     "data": {
      "image/png": "[encoded data removed]",
      "text/plain": [
       "<Figure size 2000x1000 with 1 Axes>"
      ]
     },
     "metadata": {},
     "output_type": "display_data"
    },
    {
     "name": "stdout",
     "output_type": "stream",
     "text": [
      "\n",
      "Words and TF-IDF scores for comment 2:\n",
      "wow: 1.0\n"
     ]
    },
    {
     "data": {
      "image/png": "[encoded data removed]",
      "text/plain": [
       "<Figure size 2000x1000 with 1 Axes>"
      ]
     },
     "metadata": {},
     "output_type": "display_data"
    }
   ],
   "source": [
    "# define the number of comments we want to visualise so that we can break the for loop when this number is reached\n",
    "number_of_comments_to_visualise = 2\n",
    "\n",
    "# visualise the TF-IDF scores for the first x documents (comments)\n",
    "for index, scores in enumerate(tfidf_matrix[:100]):  # limit to first x comments\n",
    "    if index == number_of_comments_to_visualise:  # stop after x iterations, so we just graphs for the first 10 comments\n",
    "        break\n",
    "    plt.figure(figsize=(20, 10))\n",
    "    plt.barh(tfidf_feature_names[:50], scores[:50], color='teal', )  # limit to first x features and scores, the indexing for features and socres must match\n",
    "    plt.title(f\"Comment {index + 1}\")\n",
    "    plt.xlabel(\"TF-IDF Score\")\n",
    "    plt.ylabel(\"Word\")\n",
    "    plt.xlim((0,1))\n",
    "    plt.xticks(rotation=45, ha='right')  # Adjust for readability\n",
    "    plt.tight_layout()\n",
    "    plt.gca().invert_yaxis()  # invert y-axis\n",
    "\n",
    "    print(f\"\\nWords and TF-IDF scores for comment {index + 1}:\")\n",
    "    for word_index, tfidf_score in enumerate(scores):\n",
    "        if tfidf_score >0.0:    \n",
    "            word_index = int(word_index)   # indexing issue as for some reason the word index was a float\n",
    "            print(f\"{tfidf_feature_names[word_index]}: {round(tfidf_score, 3)}\")\n",
    "    \n",
    "    plt.show()"
   ]
  },
  {
   "cell_type": "markdown",
   "id": "09361a6c-1401-4308-9669-6f25bacbee77",
   "metadata": {},
   "source": [
    "## Remove sparsity from the visualisation\n",
    "The above graphs are mostly empty; we see from comment 1 has a TF-IDF score of 0.54 for the word Bamco, and none of the other features visualised are in the first 2 comments. We can implement code to only visualise the words with a score >0.0 in each comment..."
   ]
  },
  {
   "cell_type": "code",
   "execution_count": 33,
   "id": "cc57082a-bbfa-4a2e-bc85-2a51efd2ab7f",
   "metadata": {},
   "outputs": [
    {
     "name": "stdout",
     "output_type": "stream",
     "text": [
      "Words for comment 1:\n",
      "bamco 0.5475514448208861\n",
      "get 0.36290698487249895\n",
      "see 0.4636397598340532\n",
      "view 0.5945789339577491\n"
     ]
    },
    {
     "data": {
      "image/png": "[encoded data removed]",
      "text/plain": [
       "<Figure size 1200x600 with 1 Axes>"
      ]
     },
     "metadata": {},
     "output_type": "display_data"
    },
    {
     "name": "stdout",
     "output_type": "stream",
     "text": [
      "Words for comment 2:\n",
      "wow 1.0\n"
     ]
    },
    {
     "data": {
      "image/png": "[encoded data removed]",
      "text/plain": [
       "<Figure size 1200x600 with 1 Axes>"
      ]
     },
     "metadata": {},
     "output_type": "display_data"
    },
    {
     "name": "stdout",
     "output_type": "stream",
     "text": [
      "Words for comment 3:\n"
     ]
    },
    {
     "data": {
      "image/png": "[encoded data removed]",
      "text/plain": [
       "<Figure size 1200x600 with 1 Axes>"
      ]
     },
     "metadata": {},
     "output_type": "display_data"
    }
   ],
   "source": [
    "number_of_comments_to_visualise = 3\n",
    "\n",
    "for index, scores in enumerate(tfidf_matrix[:10]):  # limit to first 100 comments\n",
    "    if index == number_of_comments_to_visualise:  # stop after 5 iterations\n",
    "        break  \n",
    "\n",
    "    # filter scores and features for TF-IDF > 0.0 using boolean indexing\n",
    "    relevant_scores = scores[scores > 0.0]    # use boolean indexing to get the indices from scores where score >0.0\n",
    "    relevant_features = tfidf_feature_names[scores > 0.0]    # use boolean indexing to get the corresponding indices for the features where score >0.0\n",
    "        \n",
    "    plt.figure(figsize=(12, 6))\n",
    "    plt.barh(relevant_features, relevant_scores, color='teal')\n",
    "    plt.title(f\"Comment {index + 1}\")\n",
    "    plt.xlabel(\"TF-IDF Score\")\n",
    "    plt.ylabel(\"Word\")\n",
    "    plt.xlim((0, 1))\n",
    "    plt.xticks(rotation=45, ha='right')\n",
    "    plt.tight_layout()\n",
    "    plt.gca().invert_yaxis()\n",
    "\n",
    "    print(f\"Words for comment {index + 1}:\")\n",
    "    for i, v in enumerate(relevant_features):\n",
    "        print(f\"{v} {relevant_scores[i]}\")\n",
    "\n",
    "    file_name = f\"images/tfidf_viz_comment_{index+1}.png\"\n",
    "    \n",
    "    plt.savefig(file_name, transparent=None, dpi='figure', format=\"png\")\n",
    "    \n",
    "    plt.show()"
   ]
  },
  {
   "cell_type": "markdown",
   "id": "d5f17404-7063-4bf7-b13b-4f74ec519646",
   "metadata": {},
   "source": [
    "# Create the scikit-learn NMF model"
   ]
  },
  {
   "cell_type": "code",
   "execution_count": 34,
   "id": "792b7aac-6eac-4975-b977-c5e2d14c27bf",
   "metadata": {},
   "outputs": [],
   "source": [
    "# create an NMF model with scikit-learn\n",
    "nmf = NMF(\n",
    "    n_components=best_number_of_topics,   # number of topics to be extracted\n",
    "    init='nndsvd',  # initialization method for the non-negative matrices; 'nndsvd' works well on sparse data\n",
    "    max_iter=200,   # Maximum number of iterations for the optimization algorithm. Higher values lead to better convergence but increase computation time.\n",
    "    l1_ratio=0.0,   # Regularization parameter controlling balance between L1 and L2 penalties for sparsity; 0.0 (default): No L1 penalty, only L2 penalty.\n",
    "    solver='cd',    # Optimization algorithm used for NMF. 'cd' (default): Coordinate Descent. 'mu': Multiplicative Update.\n",
    "    alpha_W=0.0,    # Regularization parameter for the W matrix (document-topic matrix); 0.0 (default): No regularization.\n",
    "    tol=0.0001,     # Convergence tolerance for the optimization algorithm. Training stops when the change in error falls below this threshold.\n",
    "    random_state=42\n",
    ").fit(tfidf)"
   ]
  },
  {
   "cell_type": "markdown",
   "id": "f5224412-f103-459e-991d-c6ff2b29851f",
   "metadata": {},
   "source": [
    "We can check out the weights given to each word in a given topic by exploring _nmf_components\\__ which is an array, with each item in the array containing an array of the feature (word) weights.  _nmf_components_ contains each topic and the weighting of each feature (word), so this is a list of length x (optimal number of topics) and each item in the list is an array of feature (word) weights"
   ]
  },
  {
   "cell_type": "code",
   "execution_count": 41,
   "id": "bc3bb7c2-b53f-4a01-8fef-b47694eff5c6",
   "metadata": {},
   "outputs": [
    {
     "data": {
      "text/plain": [
       "30"
      ]
     },
     "execution_count": 41,
     "metadata": {},
     "output_type": "execute_result"
    }
   ],
   "source": [
    "# length should be the optimal number of topics\n",
    "len(nmf.components_)"
   ]
  },
  {
   "cell_type": "code",
   "execution_count": 43,
   "id": "0b8ea4be-9914-4a1a-a159-23fb31d9cc81",
   "metadata": {},
   "outputs": [
    {
     "data": {
      "text/plain": [
       "544"
      ]
     },
     "execution_count": 43,
     "metadata": {},
     "output_type": "execute_result"
    }
   ],
   "source": [
    "# length of the array for a given topic should be the same as the number of features\n",
    "len(nmf.components_[0])"
   ]
  },
  {
   "cell_type": "code",
   "execution_count": 44,
   "id": "f155d16a-dcdb-4aa6-9d6e-7c88b72ab31c",
   "metadata": {},
   "outputs": [
    {
     "name": "stdout",
     "output_type": "stream",
     "text": [
      "[0.         0.         0.         0.         0.         0.\n",
      " 0.         0.00850072 0.         0.        ]\n"
     ]
    }
   ],
   "source": [
    "# print the weights of the first 10 words for topic 0\n",
    "print(nmf.components_[0][:10])"
   ]
  },
  {
   "cell_type": "markdown",
   "id": "44dc7c00-0869-4edd-9f1f-7c80bae5d4bf",
   "metadata": {},
   "source": [
    "## Creating valubale topics from the most heavily weighted words\n",
    "- Because topic modeling is a form of unsupervised learning, summarising the topics can be a challenge.\n",
    "- One solution is to go through the texts and manually create topics, but this is laborious.\n",
    "- Another option is to use the words in each topic that had the highest score for that topic and map these back to the feature names.\n",
    "- Let's try with the top 5 words for each topic."
   ]
  },
  {
   "cell_type": "markdown",
   "id": "db88338a-329d-4904-8386-420a2cc8b127",
   "metadata": {},
   "source": [
    "## Exploring the words and topics\n",
    "\n",
    "- We now have a model created with the 'optimal' number of topics (as defined by the highest coherence score). We also have the feature names stored in 'tfidf_feature_names'. \n",
    "- The next step is to see what words make up each topic and what the topics are, and, ultimately, we want to use the most important words, as determined by the TF-IDF weightage, to create 'topics'.\n",
    "- To do this we...\n",
    "    - Create a 'document_weights' variable; this will be a matrix that will tell us which topic each document most closely aligns to, e.g., \\[10,3\\] would mean that document 10 most closely aligns with topic 3. By examining the values in this matrix, you can understand how documents are distributed across the topics and identify which documents are most representative of each topic.\n",
    "    - To do this we will:\n",
    "        - Use the tf-idf vectorizer to transform our text input into a numerical representation, this will be a matrix.\n",
    "        - Use the NMF model to decompose the matric into a a topics matrix and a documents matrix.\n",
    "        - Applying the NMF model essentially links each document to a topic.  "
   ]
  },
  {
   "cell_type": "code",
   "execution_count": null,
   "id": "892fd15e-d174-4495-ad6f-d4a724e4dbfb",
   "metadata": {},
   "outputs": [],
   "source": [
    "# convert text document into numerical tf-idf representation and apply nmf model to this\n",
    "\n",
    "# add a variable that does the tfidf vectoriser transformer and then pass this variable in place of tfidf_vectoriser.transform below\n",
    "document_weights = nmf.transform(tfidf_vectorizer.transform(texts))"
   ]
  },
  {
   "cell_type": "code",
   "execution_count": null,
   "id": "a9ce9282-3dc9-4d46-8f1b-d7874b948b46",
   "metadata": {},
   "outputs": [],
   "source": [
    "# set the number of words we want to use (the top x many)\n",
    "number_of_words = 8\n",
    "\n",
    "df_topic = topic_dataframe(model=nmf, \n",
    "                           feature_names=tfidf_feature_names, \n",
    "                           number_of_words=number_of_words\n",
    "                          ).T    # .T transposes the dataframe\n",
    "\n",
    "df_topic.head(2)"
   ]
  },
  {
   "cell_type": "markdown",
   "id": "38c62466-7920-4c7d-8439-15a878866532",
   "metadata": {},
   "source": [
    "We have a dataframe that contains the top x most heavily weighted (important) words for a given topic. Now we'll create a dataframe that houses the topic number and a string of the words that are most closely linked with the topic."
   ]
  },
  {
   "cell_type": "code",
   "execution_count": null,
   "id": "a1d10d51-0a47-47ec-ab6e-3bed4390386b",
   "metadata": {},
   "outputs": [],
   "source": [
    "# perform operations to bring together the top x words and create a string of topic words\n",
    "df_topic['topic_words'] = df_topic.apply(lambda x: [' '.join(x)], axis=1) # apply row (axis=1) operation that takes the word from each column and \n",
    "                                                                     # turns it into a list\n",
    "df_topic['topic_words'] = df_topic['topic_words'].str[0]  # returns the str of first item in single item list (essentially removes the list brackets)\n",
    "df_topic['topic_words'] = df_topic['topic_words'].apply(lambda x: tokenize_comment(x)) # tokenize\n",
    "df_topic['topic_words'] = df_topic['topic_words'].apply(lambda x: unique_words_from_tokens(x))  # Removing duplicate words\n",
    "df_topic['topic_words'] = df_topic['topic_words'].apply(lambda x: [' '.join(x)])  # returns a single item list where the item is a single string\n",
    "df_topic['topic_words'] = df_topic['topic_words'].str[0]  # returns the str of first item in single item list (essentially removes the list brackets)\n",
    "\n",
    "\n",
    "df_topic.head(3)"
   ]
  },
  {
   "cell_type": "code",
   "execution_count": null,
   "id": "e0cad733-ae70-4b3b-9aaa-291de5db79c0",
   "metadata": {},
   "outputs": [],
   "source": [
    "# create a dataframe with only the topics and topic number\n",
    "df_topic = df_topic['topic_words'].reset_index()\n",
    "df_topic.columns = ['topic_number', 'topic_words']\n",
    "\n",
    "df_topic"
   ]
  },
  {
   "cell_type": "markdown",
   "id": "e93df67c-ad72-4f25-b29b-b2e9de4569d0",
   "metadata": {
    "scrolled": true
   },
   "source": [
    "We now have our x number of topics and the top x words that are most closely associated with these topics..."
   ]
  },
  {
   "cell_type": "markdown",
   "id": "d0b76cd7-df0b-4ea9-8c66-cd87bf9b1a25",
   "metadata": {},
   "source": [
    "# Summary of topics"
   ]
  },
  {
   "cell_type": "code",
   "execution_count": null,
   "id": "703ebb01-4213-4b88-8e5e-b4fbb4ec7be6",
   "metadata": {},
   "outputs": [],
   "source": []
  },
  {
   "cell_type": "code",
   "execution_count": null,
   "id": "ed2f267e-cdc9-4cd3-a1eb-0970b6a03b0a",
   "metadata": {},
   "outputs": [],
   "source": []
  },
  {
   "cell_type": "code",
   "execution_count": null,
   "id": "8419b4d8-c8df-4ce0-ab8b-dfe84396a0f4",
   "metadata": {},
   "outputs": [],
   "source": []
  },
  {
   "cell_type": "markdown",
   "id": "85c921f4-da2e-4b2c-a592-b649cc916529",
   "metadata": {},
   "source": [
    "# Next steps\n",
    "- 30 topics is too many so I'm going to create a model with the number of topics set to 5-10; 10 had a 0.42 coherence score which is not far off the highest coherence score of 0.46 and involves a vastly reduced number of topics."
   ]
  },
  {
   "cell_type": "code",
   "execution_count": null,
   "id": "5add6313-5603-48eb-8a40-6dfaaa9d5376",
   "metadata": {},
   "outputs": [],
   "source": []
  }
 ],
 "metadata": {
  "kernelspec": {
   "display_name": "Python 3 (ipykernel)",
   "language": "python",
   "name": "python3"
  },
  "language_info": {
   "codemirror_mode": {
    "name": "ipython",
    "version": 3
   },
   "file_extension": ".py",
   "mimetype": "text/x-python",
   "name": "python",
   "nbconvert_exporter": "python",
   "pygments_lexer": "ipython3",
   "version": "3.10.11"
  }
 },
 "nbformat": 4,
 "nbformat_minor": 5
}
