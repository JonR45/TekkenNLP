{
 "cells": [
  {
   "cell_type": "code",
   "execution_count": 1,
   "id": "1ecfec99-ca18-48d7-8bd8-d76614dac139",
   "metadata": {
    "scrolled": true
   },
   "outputs": [],
   "source": [
    "import os\n",
    "from dotenv import load_dotenv\n",
    "load_dotenv()\n",
    "import googleapiclient.discovery\n",
    "import pandas as pd"
   ]
  },
  {
   "cell_type": "code",
   "execution_count": 2,
   "id": "00f76e84-b5bd-408d-a67b-6e2577fb6a0d",
   "metadata": {
    "scrolled": true
   },
   "outputs": [],
   "source": [
    "# set parameters required to create a youtube service object\n",
    "api_service_name = \"youtube\"\n",
    "api_version = \"v3\"\n",
    "API_KEY = os.environ.get(\"API_KEY\")\n",
    "\n",
    "# create a youtube api service object\n",
    "youtube = googleapiclient.discovery.build(\n",
    "    api_service_name, api_version, developerKey=API_KEY)"
   ]
  },
  {
   "cell_type": "markdown",
   "id": "91cc3986-fe75-49fd-b312-ee3b8dab95f8",
   "metadata": {},
   "source": [
    "# Video Ids"
   ]
  },
  {
   "cell_type": "code",
   "execution_count": 3,
   "id": "d006ddfb-87d1-41b3-a98a-2e29205f547a",
   "metadata": {
    "scrolled": true
   },
   "outputs": [],
   "source": [
    "def get_video_ids(youtube_service_object, channel_id: str, published_after, published_before, search_term: str = None):\n",
    "    \"\"\"Connects to the YouTube Data API using 'search' and returns video Ids for a specified request.\n",
    "\n",
    "    \n",
    "    Parameters\n",
    "    ----------\n",
    "    service_object : googleapiclient object\n",
    "        a service object created using `googleapiclinet.discovery.build`\n",
    "\n",
    "    channel_Id : str\n",
    "        The id of the YouTube channel you want to search for videos.\n",
    "\n",
    "    published_after : datetime\n",
    "        an RFC 3339 formatted date-time value (1970-01-01T00:00:00Z).\n",
    "\n",
    "    published_before : datetime\n",
    "        an RFC 3339 formatted date-time value (1970-01-01T00:00:00Z).\n",
    "\n",
    "    query : str\n",
    "        A search term if you wish to narrow down the search using keywords. See Notes for \n",
    "        further information.\n",
    "\n",
    "\n",
    "\n",
    "    Returns\n",
    "    --------\n",
    "    video_ids : list\n",
    "        A list of the videoId values obtained from the request.\n",
    "\n",
    "    \n",
    "    Notes\n",
    "    ------\n",
    "    query : str\n",
    "        Your request can also use the Boolean NOT (-) and OR (|) operators to exclude videos or \n",
    "        to find videos that are associated with one of several search terms. For example, to \n",
    "        search for videos matching either \"boating\" or \"sailing\", set the q parameter value to \n",
    "        boating|sailing. Similarly, to search for videos matching either \"boating\" or \"sailing\" \n",
    "        but not \"fishing\", set the q parameter value to boating|sailing -fishing. Note that the \n",
    "        pipe character must be URL-escaped when it is sent in your API request. The URL-escaped \n",
    "        value for the pipe character is %7C.\n",
    "\n",
    "\n",
    "    References\n",
    "    -----------\n",
    "        https://developers.google.com/youtube/v3/docs/search\n",
    "    \n",
    "    \"\"\"\n",
    "    \n",
    "    # make a request to the youtube api\n",
    "    request = youtube_service_object.search().list(\n",
    "        channelId=channel_id,\n",
    "        publishedAfter=published_after,\n",
    "        publishedBefore=published_before,\n",
    "        q=search_term,\n",
    "        part=\"snippet\", \n",
    "        type=\"video\",\n",
    "        order=\"date\",\n",
    "        maxResults=50,\n",
    "    )\n",
    "    response = request.execute()\n",
    "    \n",
    "    video_ids = []\n",
    "\n",
    "    # loop through response and store video Ids in a list\n",
    "    for i, v in enumerate(range(len(response[\"items\"]))):\n",
    "        video_ids.append(response[\"items\"][i][\"id\"][\"videoId\"])\n",
    "    \n",
    "    next_page_token = response.get(\"nextPageToken\", None)\n",
    "    more_pages = True\n",
    "    \n",
    "    while more_pages == True:\n",
    "        if next_page_token is None:\n",
    "            more_pages = False\n",
    "    \n",
    "        else: \n",
    "            # make a request to the youtube api to get the next page results\n",
    "            request = youtube_service_object.search().list(\n",
    "            channelId=channel_id,\n",
    "            publishedAfter=published_after,\n",
    "            publishedBefore=published_before,\n",
    "            q=search_term,\n",
    "            part=\"snippet\", \n",
    "            type=\"video\",\n",
    "            order=\"date\",\n",
    "            maxResults=50,\n",
    "            pageToken=next_page_token\n",
    "            )\n",
    "            response = request.execute()\n",
    "    \n",
    "            for i, v in enumerate(range(len(response[\"items\"]))):\n",
    "                video_ids.append(response[\"items\"][i][\"id\"][\"videoId\"])\n",
    "            \n",
    "            next_page_token = response.get(\"nextPageToken\", None)\n",
    "    \n",
    "    return video_ids"
   ]
  },
  {
   "cell_type": "markdown",
   "id": "8994dd19-3be0-4dd9-a38e-4b8b2fd99a02",
   "metadata": {},
   "source": [
    "# Video data from a given video ID"
   ]
  },
  {
   "cell_type": "code",
   "execution_count": 4,
   "id": "e827fd43-488e-4837-b3a2-15907c81ca1f",
   "metadata": {
    "scrolled": true
   },
   "outputs": [],
   "source": [
    "def get_video_data(youtube_service_object, video_ids):\n",
    "    \"\"\"Retrieves statistics for a given YouTube video ID.\n",
    "\n",
    "    Parameters\n",
    "    ----------\n",
    "    youtube_service_object : googleapiclient object\n",
    "        a service object created using `googleapiclinet.discovery.build`\n",
    "    \n",
    "    video_ids : list or str\n",
    "        A list of video IDs or a single string if only wanting to return data for one video ID.\n",
    "\n",
    "    Returns\n",
    "    --------\n",
    "    df_ : dataframe\n",
    "        A dataframe with the data for each video ID.\n",
    "    \n",
    "    \"\"\"\n",
    "\n",
    "    request = youtube_service_object.videos().list(\n",
    "        part=\"snippet,statistics\",\n",
    "        maxResults=50,\n",
    "        id=video_ids\n",
    "    )\n",
    "    \n",
    "    response = request.execute()\n",
    "    \n",
    "    data_dict = {}\n",
    "    \n",
    "    # loop through response and store data about each video in a dictionary\n",
    "    for i, v in enumerate(response[\"items\"]):\n",
    "        data_dict_ = {\n",
    "            response[\"items\"][i][\"id\"]: {\"channelTitle\": response[\"items\"][i][\"snippet\"][\"channelTitle\"],\n",
    "                                         \"channelId\": response[\"items\"][i][\"snippet\"][\"channelId\"],\n",
    "                                         \"videoId\": response[\"items\"][i][\"id\"],\n",
    "                                         \"publishedAt\": response[\"items\"][i][\"snippet\"][\"publishedAt\"],\n",
    "                                         \"title\": response[\"items\"][i][\"snippet\"][\"title\"],\n",
    "                                         \"description\": response[\"items\"][i][\"snippet\"][\"description\"],\n",
    "                                         \"tags\": response[\"items\"][i][\"snippet\"][\"tags\"],\n",
    "                                         \"viewCount\": response[\"items\"][i][\"statistics\"][\"viewCount\"],\n",
    "                                         \"likeCount\": response[\"items\"][i][\"statistics\"][\"likeCount\"],\n",
    "                                         \"commentCount\": response[\"items\"][i][\"statistics\"][\"commentCount\"],\n",
    "                                         \"favoriteCount\": response[\"items\"][i][\"statistics\"][\"favoriteCount\"],\n",
    "                                        }\n",
    "        }\n",
    "        \n",
    "        # add the data to the data dictionary\n",
    "        data_dict.update(data_dict_)\n",
    "    \n",
    "    next_page_token = response.get(\"nextPageToken\", None)\n",
    "    more_pages = True\n",
    "    \n",
    "    while more_pages == True:\n",
    "        if next_page_token is None:\n",
    "            more_pages = False\n",
    "    \n",
    "        else: \n",
    "            # make a request to the youtube api to get the next page results   \n",
    "            request = youtube_service_object.videos().list(\n",
    "                part=\"snippet,statistics\",\n",
    "                maxResults=50,\n",
    "                id=video_ids,\n",
    "                pageToken=next_page_token,\n",
    "            )\n",
    "            \n",
    "            response = request.execute()\n",
    "            \n",
    "            # loop through response and store data about each video in a dictionary\n",
    "            for i, v in enumerate(response[\"items\"]):\n",
    "                data_dict_ = {\n",
    "                    response[\"items\"][i][\"id\"]: {\"channelTitle\": response[\"items\"][i][\"snippet\"][\"channelTitle\"],\n",
    "                                                 \"channelId\": response[\"items\"][i][\"snippet\"][\"channelId\"],\n",
    "                                                 \"videoId\": response[\"items\"][i][\"id\"],\n",
    "                                                 \"publishedAt\": response[\"items\"][i][\"snippet\"][\"publishedAt\"],\n",
    "                                                 \"title\": response[\"items\"][i][\"snippet\"][\"title\"],\n",
    "                                                 \"description\": response[\"items\"][i][\"snippet\"][\"description\"],\n",
    "                                                 \"tags\": response[\"items\"][i][\"snippet\"][\"tags\"],\n",
    "                                                 \"viewCount\": response[\"items\"][i][\"statistics\"][\"viewCount\"],\n",
    "                                                 \"likeCount\": response[\"items\"][i][\"statistics\"][\"likeCount\"],\n",
    "                                                 \"commentCount\": response[\"items\"][i][\"statistics\"][\"commentCount\"],\n",
    "                                                 \"favoriteCount\": response[\"items\"][i][\"statistics\"][\"favoriteCount\"],\n",
    "                                                }\n",
    "                }\n",
    "                \n",
    "                # add the data to the data dictionary\n",
    "                data_dict.update(data_dict_)\n",
    "            \n",
    "            next_page_token = response.get(\"nextPageToken\", None)\n",
    "\n",
    "    \n",
    "    # create dataframe from dictionary data\n",
    "    df = (pd.DataFrame.from_dict(data_dict, orient=\"index\")\n",
    "          .rename_axis(\"videoId\")\n",
    "          .astype({\"publishedAt\": \"datetime64[ns, UTC]\", \n",
    "                           \"viewCount\": \"int64\", \n",
    "                           \"likeCount\": \"int64\", \n",
    "                           \"commentCount\": \"int64\", \n",
    "                           \"favoriteCount\": \"int64\"})\n",
    "          .drop_duplicates(subset=['videoId'])\n",
    "          .sort_values(by=[\"publishedAt\"])\n",
    "          .reset_index(drop=True)\n",
    "         )\n",
    "\n",
    "    # add a line that drops rows where 'tekken' isn't in the video title\n",
    "    df = (df.loc[df['title'].str.lower().str.contains(\"tekken\")]\n",
    "          .reset_index(drop=True))\n",
    "\n",
    "\n",
    "    return df"
   ]
  },
  {
   "cell_type": "markdown",
   "id": "3f1d9552-6906-448a-a630-177b7ac98b22",
   "metadata": {},
   "source": [
    "# Test functions"
   ]
  },
  {
   "cell_type": "code",
   "execution_count": 5,
   "id": "2ede6f94-3796-477f-b5ed-956294842988",
   "metadata": {
    "scrolled": true
   },
   "outputs": [],
   "source": [
    "# set channel and search details\n",
    "bandai_namco_america_id = \"UC_ntXHv-XdKCD7CPynVvnQw\"\n",
    "published_after = \"2023-06-01T00:00:00Z\"\n",
    "published_before = \"2023-12-21T00:00:00Z\"\n",
    "search_term = \"tekken\""
   ]
  },
  {
   "cell_type": "code",
   "execution_count": 6,
   "id": "e06dbb9a-431f-4234-9be2-7b2c0f433e02",
   "metadata": {},
   "outputs": [],
   "source": [
    "# set parameters required to create a youtube service object\n",
    "api_service_name = \"youtube\"\n",
    "api_version = \"v3\"\n",
    "API_KEY = os.environ.get(\"API_KEY\")\n",
    "\n",
    "# create a youtube service object\n",
    "youtube = googleapiclient.discovery.build(\n",
    "    api_service_name, api_version, developerKey=API_KEY)"
   ]
  },
  {
   "cell_type": "markdown",
   "id": "556ac23f-9187-4163-8f35-9a69a507aff1",
   "metadata": {},
   "source": [
    "## Get channel data"
   ]
  },
  {
   "cell_type": "code",
   "execution_count": 7,
   "id": "f9e43902-881f-4d50-8500-65641b7cfac2",
   "metadata": {
    "scrolled": true
   },
   "outputs": [
    {
     "data": {
      "text/plain": [
       "{'kind': 'youtube#channelListResponse',\n",
       " 'etag': 't-ljBz4wibkJdndFyooMPL-Cgro',\n",
       " 'pageInfo': {'totalResults': 1, 'resultsPerPage': 5},\n",
       " 'items': [{'kind': 'youtube#channel',\n",
       "   'etag': 'sE8FVbDqKHWy0boDbKZocBNeBKE',\n",
       "   'id': 'UC_ntXHv-XdKCD7CPynVvnQw',\n",
       "   'snippet': {'title': 'Bandai Namco Entertainment America',\n",
       "    'description': 'Fun for all into the future! Tune in right here for new trailers and reveals for your favorite Bandai Namco games!\\n\\n\\n',\n",
       "    'customUrl': '@bandainamcoamerica',\n",
       "    'publishedAt': '2006-09-19T17:48:06Z',\n",
       "    'thumbnails': {'default': {'url': 'https://yt3.ggpht.com/-K3RYA88iYssAO0kKa5DKazS_6mrkBIbgpnHpykrGeROqEIZ18QA7JmD6KPiaXwL_JXNp3hf=s88-c-k-c0x00ffffff-no-rj',\n",
       "      'width': 88,\n",
       "      'height': 88},\n",
       "     'medium': {'url': 'https://yt3.ggpht.com/-K3RYA88iYssAO0kKa5DKazS_6mrkBIbgpnHpykrGeROqEIZ18QA7JmD6KPiaXwL_JXNp3hf=s240-c-k-c0x00ffffff-no-rj',\n",
       "      'width': 240,\n",
       "      'height': 240},\n",
       "     'high': {'url': 'https://yt3.ggpht.com/-K3RYA88iYssAO0kKa5DKazS_6mrkBIbgpnHpykrGeROqEIZ18QA7JmD6KPiaXwL_JXNp3hf=s800-c-k-c0x00ffffff-no-rj',\n",
       "      'width': 800,\n",
       "      'height': 800}},\n",
       "    'localized': {'title': 'Bandai Namco Entertainment America',\n",
       "     'description': 'Fun for all into the future! Tune in right here for new trailers and reveals for your favorite Bandai Namco games!\\n\\n\\n'},\n",
       "    'country': 'US'},\n",
       "   'contentDetails': {'relatedPlaylists': {'likes': '',\n",
       "     'uploads': 'UU_ntXHv-XdKCD7CPynVvnQw'}},\n",
       "   'statistics': {'viewCount': '474005358',\n",
       "    'subscriberCount': '1100000',\n",
       "    'hiddenSubscriberCount': False,\n",
       "    'videoCount': '2662'}}]}"
      ]
     },
     "execution_count": 7,
     "metadata": {},
     "output_type": "execute_result"
    }
   ],
   "source": [
    "# make a request to the youtube api\n",
    "request_channel_data = youtube.channels().list(\n",
    "    part = \"snippet,statistics,contentDetails\", \n",
    "    # forUsername = \"BandaiNamcoAmerica\",\n",
    "    id = \"UC_ntXHv-XdKCD7CPynVvnQw\"\n",
    ")\n",
    "\n",
    "response = request_channel_data.execute()\n",
    "response"
   ]
  },
  {
   "cell_type": "code",
   "execution_count": 8,
   "id": "073795b1-5ce6-40b8-853d-973e357ea53a",
   "metadata": {
    "scrolled": true
   },
   "outputs": [
    {
     "data": {
      "text/plain": [
       "'UC_ntXHv-XdKCD7CPynVvnQw'"
      ]
     },
     "execution_count": 8,
     "metadata": {},
     "output_type": "execute_result"
    }
   ],
   "source": [
    "response['items'][0]['id']"
   ]
  },
  {
   "cell_type": "code",
   "execution_count": 9,
   "id": "9de67fbc-e55c-40fc-98aa-e6d8ae378db0",
   "metadata": {
    "scrolled": true
   },
   "outputs": [
    {
     "data": {
      "text/plain": [
       "'1100000'"
      ]
     },
     "execution_count": 9,
     "metadata": {},
     "output_type": "execute_result"
    }
   ],
   "source": [
    "response['items'][0]['statistics']['subscriberCount']"
   ]
  },
  {
   "cell_type": "code",
   "execution_count": null,
   "id": "b6918939-54b6-42b6-9588-87c53251be2a",
   "metadata": {},
   "outputs": [],
   "source": []
  },
  {
   "cell_type": "code",
   "execution_count": null,
   "id": "7de150b7-c086-458d-a2da-3c0b371cef12",
   "metadata": {},
   "outputs": [],
   "source": []
  },
  {
   "cell_type": "code",
   "execution_count": null,
   "id": "d78566b6-1be6-484c-b515-8512fef32160",
   "metadata": {},
   "outputs": [],
   "source": []
  },
  {
   "cell_type": "markdown",
   "id": "d57a5b26-bb93-4a01-a08b-d5b4b73c7d94",
   "metadata": {},
   "source": [
    "## Get video Ids"
   ]
  },
  {
   "cell_type": "code",
   "execution_count": 10,
   "id": "3d66af07-2b35-4d1a-a682-f98f3799e395",
   "metadata": {
    "scrolled": true
   },
   "outputs": [],
   "source": [
    "video_ids = get_video_ids(youtube_service_object=youtube, \n",
    "                          channel_id=bandai_namco_america_id,\n",
    "                         published_after=published_after,\n",
    "                         published_before=published_before,\n",
    "                         search_term=search_term)"
   ]
  },
  {
   "cell_type": "code",
   "execution_count": 11,
   "id": "f9174f4a-af5a-45ba-babe-8f7c810013b5",
   "metadata": {
    "scrolled": true
   },
   "outputs": [
    {
     "data": {
      "text/plain": [
       "['UgnPG2bScVQ',\n",
       " '9jJiNa4HoD0',\n",
       " 'X1dgCe1jDYg',\n",
       " 'EMZkmjE8wdw',\n",
       " 'ToKJfywbe1o',\n",
       " '9D5vq-zq9y4',\n",
       " 'y8JGUIF2pu4',\n",
       " 'oeFfzCWif-Q',\n",
       " 'bSCANspTDeE',\n",
       " 'ucesGynb2Yk',\n",
       " 'UcBcNOSoFzI',\n",
       " '8DVlK_QrZ-A',\n",
       " 'Zc-yMi05vBA',\n",
       " 'e1N4juHVqNc',\n",
       " 'QH6s_o3dIic',\n",
       " '7skTtnpSb58',\n",
       " 'bjzYbEjE-C4',\n",
       " 'weVrUBszFIM',\n",
       " 'Gw5nQaSF0CI',\n",
       " '3pGxqOFmIN4',\n",
       " 'w0IqzD-gUOI',\n",
       " 'PsCpewoF2E4',\n",
       " 'cHnxJplTQuY',\n",
       " 'qbUnCiTMCGE',\n",
       " 'cIDK50IaVpg',\n",
       " 'rDxrpSqYHD8',\n",
       " 'YFJfLsJtVzM',\n",
       " 'e7mqbmNb6eA',\n",
       " '_q26pgYDOV4',\n",
       " 'n27RxZ7vnAU',\n",
       " 'lDgv7CMIoRo',\n",
       " 'nA-QTZbm_hU',\n",
       " 'KHSwxMDibvE',\n",
       " 'sNHv1y46dhs',\n",
       " 'yowAmloydVY',\n",
       " '6hxZCQtpJ9w',\n",
       " '-l3AY19cn0M',\n",
       " 'MxGp3wHXtNE',\n",
       " '4UkK_psUEVM',\n",
       " 'maawo7O9Sg8',\n",
       " 'Qkoba4YhbGo',\n",
       " 'N5ZlZSnNyo0',\n",
       " 'hEQTFXMQU7I',\n",
       " 'flXHAFNT4sU',\n",
       " 'RFO9Z_0wrKE',\n",
       " 'kpmOhBWlDfc',\n",
       " '0Tk5YA4WRrg',\n",
       " 'bMbDVh_OKZg',\n",
       " 'UPPKjJgQT4A',\n",
       " 'iILoqJlCa2s',\n",
       " 'ODforBeu7_c',\n",
       " 'DcDjyestr4Y',\n",
       " 'Vs2piSWfofQ',\n",
       " '9Xgj0KYypVw',\n",
       " 'LYdPz_GD8OQ',\n",
       " '6JLOD_a7or4',\n",
       " 'Nh5udl01YXc']"
      ]
     },
     "execution_count": 11,
     "metadata": {},
     "output_type": "execute_result"
    }
   ],
   "source": [
    "video_ids"
   ]
  },
  {
   "cell_type": "code",
   "execution_count": 12,
   "id": "511353cb-a6b4-4965-9c37-701d45e21dd5",
   "metadata": {},
   "outputs": [
    {
     "data": {
      "text/plain": [
       "57"
      ]
     },
     "execution_count": 12,
     "metadata": {},
     "output_type": "execute_result"
    }
   ],
   "source": [
    "len(video_ids)"
   ]
  },
  {
   "cell_type": "code",
   "execution_count": null,
   "id": "2b9b9a99-8160-4702-a5fa-7abb8399e912",
   "metadata": {},
   "outputs": [],
   "source": []
  },
  {
   "cell_type": "code",
   "execution_count": null,
   "id": "547e65c9-6439-42b1-aa8a-239e8db9cdb8",
   "metadata": {},
   "outputs": [],
   "source": []
  },
  {
   "cell_type": "code",
   "execution_count": null,
   "id": "d8a48145-0c0e-497d-b1af-f89213bb4491",
   "metadata": {},
   "outputs": [],
   "source": []
  },
  {
   "cell_type": "code",
   "execution_count": null,
   "id": "a249d8dd-cf8c-4926-9115-8a45014172c1",
   "metadata": {},
   "outputs": [],
   "source": []
  },
  {
   "cell_type": "markdown",
   "id": "59dd5fab-1fd0-4b89-8a8b-210ebc01aa33",
   "metadata": {},
   "source": [
    "## Get video data"
   ]
  },
  {
   "cell_type": "code",
   "execution_count": 13,
   "id": "4c392776-6285-4103-b0e4-cb87ff5a9d16",
   "metadata": {
    "scrolled": true
   },
   "outputs": [
    {
     "data": {
      "text/html": [
       "<div>\n",
       "<style scoped>\n",
       "    .dataframe tbody tr th:only-of-type {\n",
       "        vertical-align: middle;\n",
       "    }\n",
       "\n",
       "    .dataframe tbody tr th {\n",
       "        vertical-align: top;\n",
       "    }\n",
       "\n",
       "    .dataframe thead th {\n",
       "        text-align: right;\n",
       "    }\n",
       "</style>\n",
       "<table border=\"1\" class=\"dataframe\">\n",
       "  <thead>\n",
       "    <tr style=\"text-align: right;\">\n",
       "      <th></th>\n",
       "      <th>channelTitle</th>\n",
       "      <th>channelId</th>\n",
       "      <th>videoId</th>\n",
       "      <th>publishedAt</th>\n",
       "      <th>title</th>\n",
       "      <th>description</th>\n",
       "      <th>tags</th>\n",
       "      <th>viewCount</th>\n",
       "      <th>likeCount</th>\n",
       "      <th>commentCount</th>\n",
       "      <th>favoriteCount</th>\n",
       "    </tr>\n",
       "  </thead>\n",
       "  <tbody>\n",
       "    <tr>\n",
       "      <th>0</th>\n",
       "      <td>Bandai Namco Entertainment America</td>\n",
       "      <td>UC_ntXHv-XdKCD7CPynVvnQw</td>\n",
       "      <td>ToKJfywbe1o</td>\n",
       "      <td>2023-12-14 14:10:00+00:00</td>\n",
       "      <td>TEKKEN 8 – Official Story Trailer</td>\n",
       "      <td>Witness true power. Experience the Mishima sag...</td>\n",
       "      <td>[Bandai Namco, Bandai Namco Entertainment, Vid...</td>\n",
       "      <td>1299243</td>\n",
       "      <td>43259</td>\n",
       "      <td>4012</td>\n",
       "      <td>0</td>\n",
       "    </tr>\n",
       "    <tr>\n",
       "      <th>1</th>\n",
       "      <td>Bandai Namco Entertainment America</td>\n",
       "      <td>UC_ntXHv-XdKCD7CPynVvnQw</td>\n",
       "      <td>9jJiNa4HoD0</td>\n",
       "      <td>2023-12-19 14:00:08+00:00</td>\n",
       "      <td>TEKKEN 8 – Ultimate Edition Trailer</td>\n",
       "      <td>Ultimate style. Experience everything TEKKEN 8...</td>\n",
       "      <td>[Bandai Namco, Bandai Namco Entertainment, Vid...</td>\n",
       "      <td>364914</td>\n",
       "      <td>9367</td>\n",
       "      <td>1212</td>\n",
       "      <td>0</td>\n",
       "    </tr>\n",
       "    <tr>\n",
       "      <th>2</th>\n",
       "      <td>Bandai Namco Entertainment America</td>\n",
       "      <td>UC_ntXHv-XdKCD7CPynVvnQw</td>\n",
       "      <td>UgnPG2bScVQ</td>\n",
       "      <td>2023-12-20 14:00:19+00:00</td>\n",
       "      <td>TEKKEN 8 – Shaheen Reveal &amp; Gameplay Trailer</td>\n",
       "      <td>The Desert Falcon is ready to ruffle some feat...</td>\n",
       "      <td>[Bandai Namco, Bandai Namco Entertainment, Vid...</td>\n",
       "      <td>578721</td>\n",
       "      <td>23796</td>\n",
       "      <td>3666</td>\n",
       "      <td>0</td>\n",
       "    </tr>\n",
       "  </tbody>\n",
       "</table>\n",
       "</div>"
      ],
      "text/plain": [
       "                         channelTitle                 channelId      videoId  \\\n",
       "0  Bandai Namco Entertainment America  UC_ntXHv-XdKCD7CPynVvnQw  ToKJfywbe1o   \n",
       "1  Bandai Namco Entertainment America  UC_ntXHv-XdKCD7CPynVvnQw  9jJiNa4HoD0   \n",
       "2  Bandai Namco Entertainment America  UC_ntXHv-XdKCD7CPynVvnQw  UgnPG2bScVQ   \n",
       "\n",
       "                publishedAt                                         title  \\\n",
       "0 2023-12-14 14:10:00+00:00             TEKKEN 8 – Official Story Trailer   \n",
       "1 2023-12-19 14:00:08+00:00           TEKKEN 8 – Ultimate Edition Trailer   \n",
       "2 2023-12-20 14:00:19+00:00  TEKKEN 8 – Shaheen Reveal & Gameplay Trailer   \n",
       "\n",
       "                                         description  \\\n",
       "0  Witness true power. Experience the Mishima sag...   \n",
       "1  Ultimate style. Experience everything TEKKEN 8...   \n",
       "2  The Desert Falcon is ready to ruffle some feat...   \n",
       "\n",
       "                                                tags  viewCount  likeCount  \\\n",
       "0  [Bandai Namco, Bandai Namco Entertainment, Vid...    1299243      43259   \n",
       "1  [Bandai Namco, Bandai Namco Entertainment, Vid...     364914       9367   \n",
       "2  [Bandai Namco, Bandai Namco Entertainment, Vid...     578721      23796   \n",
       "\n",
       "   commentCount  favoriteCount  \n",
       "0          4012              0  \n",
       "1          1212              0  \n",
       "2          3666              0  "
      ]
     },
     "execution_count": 13,
     "metadata": {},
     "output_type": "execute_result"
    }
   ],
   "source": [
    "video_ids_test = ['UgnPG2bScVQ', '9jJiNa4HoD0','EMZkmjE8wdw','ToKJfywbe1o']\n",
    "df = get_video_data(youtube_service_object=youtube, video_ids=video_ids_test)\n",
    "df.head()"
   ]
  },
  {
   "cell_type": "code",
   "execution_count": 14,
   "id": "586e7ddc-3cb5-433d-b536-ecaf000f9971",
   "metadata": {},
   "outputs": [
    {
     "name": "stdout",
     "output_type": "stream",
     "text": [
      "<class 'pandas.core.frame.DataFrame'>\n",
      "RangeIndex: 3 entries, 0 to 2\n",
      "Data columns (total 11 columns):\n",
      " #   Column         Non-Null Count  Dtype              \n",
      "---  ------         --------------  -----              \n",
      " 0   channelTitle   3 non-null      object             \n",
      " 1   channelId      3 non-null      object             \n",
      " 2   videoId        3 non-null      object             \n",
      " 3   publishedAt    3 non-null      datetime64[ns, UTC]\n",
      " 4   title          3 non-null      object             \n",
      " 5   description    3 non-null      object             \n",
      " 6   tags           3 non-null      object             \n",
      " 7   viewCount      3 non-null      int64              \n",
      " 8   likeCount      3 non-null      int64              \n",
      " 9   commentCount   3 non-null      int64              \n",
      " 10  favoriteCount  3 non-null      int64              \n",
      "dtypes: datetime64[ns, UTC](1), int64(4), object(6)\n",
      "memory usage: 396.0+ bytes\n"
     ]
    }
   ],
   "source": [
    "df.info()"
   ]
  },
  {
   "cell_type": "code",
   "execution_count": null,
   "id": "d3b4c5b1-62fd-476f-9c15-9e9732429611",
   "metadata": {},
   "outputs": [],
   "source": [
    "# export the video data to a csv\n",
    "df.to_csv(\"../data/raw/video_data.csv\", index=False)"
   ]
  },
  {
   "cell_type": "code",
   "execution_count": null,
   "id": "3a70411a-b9e8-4ea4-9363-8a1a0a75328f",
   "metadata": {},
   "outputs": [],
   "source": []
  },
  {
   "cell_type": "code",
   "execution_count": null,
   "id": "e490d8b4-3962-4990-ae85-2f2b7f1f77f3",
   "metadata": {},
   "outputs": [],
   "source": []
  },
  {
   "cell_type": "code",
   "execution_count": null,
   "id": "d05d16e0-c8fb-4c95-944d-8490d7a6a65e",
   "metadata": {
    "scrolled": true
   },
   "outputs": [],
   "source": []
  },
  {
   "cell_type": "code",
   "execution_count": null,
   "id": "f914094d-ec1c-48b4-8487-547c8998a03a",
   "metadata": {
    "scrolled": true
   },
   "outputs": [],
   "source": []
  },
  {
   "cell_type": "code",
   "execution_count": null,
   "id": "641e5c87-4b50-42ed-9b61-1a0ed50f69ba",
   "metadata": {
    "scrolled": true
   },
   "outputs": [],
   "source": []
  },
  {
   "cell_type": "code",
   "execution_count": null,
   "id": "bc02d86a-a3d8-424b-a7e2-5e112c760fe4",
   "metadata": {
    "scrolled": true
   },
   "outputs": [],
   "source": []
  },
  {
   "cell_type": "code",
   "execution_count": null,
   "id": "e71a9d4d-839b-4df7-bbff-9bd641400724",
   "metadata": {
    "scrolled": true
   },
   "outputs": [],
   "source": []
  },
  {
   "cell_type": "code",
   "execution_count": null,
   "id": "813d5aab-b907-4440-9783-bfb53231e735",
   "metadata": {
    "scrolled": true
   },
   "outputs": [],
   "source": []
  }
 ],
 "metadata": {
  "kernelspec": {
   "display_name": "Python 3 (ipykernel)",
   "language": "python",
   "name": "python3"
  },
  "language_info": {
   "codemirror_mode": {
    "name": "ipython",
    "version": 3
   },
   "file_extension": ".py",
   "mimetype": "text/x-python",
   "name": "python",
   "nbconvert_exporter": "python",
   "pygments_lexer": "ipython3",
   "version": "3.12.1"
  }
 },
 "nbformat": 4,
 "nbformat_minor": 5
}
