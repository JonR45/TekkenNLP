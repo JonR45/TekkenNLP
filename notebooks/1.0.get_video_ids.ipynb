{
 "cells": [
  {
   "cell_type": "code",
   "execution_count": 1,
   "id": "1ecfec99-ca18-48d7-8bd8-d76614dac139",
   "metadata": {
    "scrolled": true
   },
   "outputs": [],
   "source": [
    "import os\n",
    "from dotenv import load_dotenv\n",
    "load_dotenv()\n",
    "import googleapiclient.discovery\n",
    "import pandas as pd"
   ]
  },
  {
   "cell_type": "code",
   "execution_count": null,
   "id": "00f76e84-b5bd-408d-a67b-6e2577fb6a0d",
   "metadata": {
    "scrolled": true
   },
   "outputs": [],
   "source": [
    "# set parameters required to create a youtube service object\n",
    "api_service_name = \"youtube\"\n",
    "api_version = \"v3\"\n",
    "API_KEY = os.environ.get(\"API_KEY\")\n",
    "\n",
    "# create a youtube api service object\n",
    "youtube = googleapiclient.discovery.build(\n",
    "    api_service_name, api_version, developerKey=API_KEY)"
   ]
  },
  {
   "cell_type": "markdown",
   "id": "91cc3986-fe75-49fd-b312-ee3b8dab95f8",
   "metadata": {},
   "source": [
    "# Video Ids"
   ]
  },
  {
   "cell_type": "code",
   "execution_count": null,
   "id": "d006ddfb-87d1-41b3-a98a-2e29205f547a",
   "metadata": {
    "scrolled": true
   },
   "outputs": [],
   "source": [
    "def get_video_ids(youtube_service_object, channel_id: str, published_after, published_before, search_term: str = None):\n",
    "    \"\"\"Connects to the YouTube Data API using 'search' and returns video Ids for a specified request.\n",
    "\n",
    "    \n",
    "    Parameters\n",
    "    ----------\n",
    "    service_object : googleapiclient object\n",
    "        a service object created using `googleapiclinet.discovery.build`\n",
    "\n",
    "    channel_Id : str\n",
    "        The id of the YouTube channel you want to search for videos.\n",
    "\n",
    "    published_after : datetime\n",
    "        an RFC 3339 formatted date-time value (1970-01-01T00:00:00Z).\n",
    "\n",
    "    published_before : datetime\n",
    "        an RFC 3339 formatted date-time value (1970-01-01T00:00:00Z).\n",
    "\n",
    "    query : str\n",
    "        A search term if you wish to narrow down the search using keywords. See Notes for \n",
    "        further information.\n",
    "\n",
    "\n",
    "\n",
    "    Returns\n",
    "    --------\n",
    "    video_ids : list\n",
    "        A list of the videoId values obtained from the request.\n",
    "\n",
    "    \n",
    "    Notes\n",
    "    ------\n",
    "    query : str\n",
    "        Your request can also use the Boolean NOT (-) and OR (|) operators to exclude videos or \n",
    "        to find videos that are associated with one of several search terms. For example, to \n",
    "        search for videos matching either \"boating\" or \"sailing\", set the q parameter value to \n",
    "        boating|sailing. Similarly, to search for videos matching either \"boating\" or \"sailing\" \n",
    "        but not \"fishing\", set the q parameter value to boating|sailing -fishing. Note that the \n",
    "        pipe character must be URL-escaped when it is sent in your API request. The URL-escaped \n",
    "        value for the pipe character is %7C.\n",
    "\n",
    "\n",
    "    References\n",
    "    -----------\n",
    "        https://developers.google.com/youtube/v3/docs/search\n",
    "    \n",
    "    \"\"\"\n",
    "    \n",
    "    # make a request to the youtube api\n",
    "    request = youtube_service_object.search().list(\n",
    "        channelId=channel_id,\n",
    "        publishedAfter=published_after,\n",
    "        publishedBefore=published_before,\n",
    "        q=search_term,\n",
    "        part=\"snippet\", \n",
    "        type=\"video\",\n",
    "        order=\"date\",\n",
    "        maxResults=50,\n",
    "    )\n",
    "    response = request.execute()\n",
    "    \n",
    "    video_ids = []\n",
    "\n",
    "    # loop through response and store video Ids in a list\n",
    "    for i, v in enumerate(range(len(response[\"items\"]))):\n",
    "        video_ids.append(response[\"items\"][i][\"id\"][\"videoId\"])\n",
    "    \n",
    "    next_page_token = response.get(\"nextPageToken\", None)\n",
    "    more_pages = True\n",
    "    \n",
    "    while more_pages == True:\n",
    "        if next_page_token is None:\n",
    "            more_pages = False\n",
    "    \n",
    "        else: \n",
    "            # make a request to the youtube api to get the next page results\n",
    "            request = youtube_service_object.search().list(\n",
    "            channelId=channel_id,\n",
    "            publishedAfter=published_after,\n",
    "            publishedBefore=published_before,\n",
    "            q=search_term,\n",
    "            part=\"snippet\", \n",
    "            type=\"video\",\n",
    "            order=\"date\",\n",
    "            maxResults=50,\n",
    "            pageToken=next_page_token\n",
    "            )\n",
    "            response = request.execute()\n",
    "    \n",
    "            for i, v in enumerate(range(len(response[\"items\"]))):\n",
    "                video_ids.append(response[\"items\"][i][\"id\"][\"videoId\"])\n",
    "            \n",
    "            next_page_token = response.get(\"nextPageToken\", None)\n",
    "    \n",
    "    return video_ids"
   ]
  },
  {
   "cell_type": "markdown",
   "id": "c81846ea-10a7-4589-b20d-6bebdcd7b554",
   "metadata": {},
   "source": [
    "--------------------------"
   ]
  },
  {
   "cell_type": "code",
   "execution_count": null,
   "id": "9667a3b4-303d-4fbe-a5b2-ac7a70ef8f2c",
   "metadata": {},
   "outputs": [],
   "source": []
  },
  {
   "cell_type": "markdown",
   "id": "3f1d9552-6906-448a-a630-177b7ac98b22",
   "metadata": {},
   "source": [
    "# Test functions"
   ]
  },
  {
   "cell_type": "code",
   "execution_count": null,
   "id": "2ede6f94-3796-477f-b5ed-956294842988",
   "metadata": {
    "scrolled": true
   },
   "outputs": [],
   "source": [
    "# set channel and search details\n",
    "bandai_namco_america_id = \"UC_ntXHv-XdKCD7CPynVvnQw\"\n",
    "published_after = \"2023-06-01T00:00:00Z\"\n",
    "published_before = \"2023-12-28T00:00:00Z\"\n",
    "search_term = \"tekken\""
   ]
  },
  {
   "cell_type": "code",
   "execution_count": null,
   "id": "e06dbb9a-431f-4234-9be2-7b2c0f433e02",
   "metadata": {},
   "outputs": [],
   "source": [
    "# set parameters required to create a youtube service object\n",
    "api_service_name = \"youtube\"\n",
    "api_version = \"v3\"\n",
    "API_KEY = os.environ.get(\"API_KEY\")\n",
    "\n",
    "# create a youtube service object\n",
    "youtube = googleapiclient.discovery.build(\n",
    "    api_service_name, api_version, developerKey=API_KEY)"
   ]
  },
  {
   "cell_type": "markdown",
   "id": "d57a5b26-bb93-4a01-a08b-d5b4b73c7d94",
   "metadata": {},
   "source": [
    "## Get video Ids"
   ]
  },
  {
   "cell_type": "code",
   "execution_count": null,
   "id": "3d66af07-2b35-4d1a-a682-f98f3799e395",
   "metadata": {
    "scrolled": true
   },
   "outputs": [],
   "source": [
    "video_ids = get_video_ids(youtube_service_object=youtube, \n",
    "                          channel_id=bandai_namco_america_id,\n",
    "                         published_after=published_after,\n",
    "                         published_before=published_before,\n",
    "                         search_term=search_term)"
   ]
  },
  {
   "cell_type": "code",
   "execution_count": null,
   "id": "f9174f4a-af5a-45ba-babe-8f7c810013b5",
   "metadata": {
    "scrolled": true
   },
   "outputs": [],
   "source": [
    "video_ids"
   ]
  },
  {
   "cell_type": "code",
   "execution_count": null,
   "id": "511353cb-a6b4-4965-9c37-701d45e21dd5",
   "metadata": {},
   "outputs": [],
   "source": [
    "len(video_ids)"
   ]
  },
  {
   "cell_type": "markdown",
   "id": "59dd5fab-1fd0-4b89-8a8b-210ebc01aa33",
   "metadata": {},
   "source": [
    "## Get video data"
   ]
  },
  {
   "cell_type": "code",
   "execution_count": null,
   "id": "4c392776-6285-4103-b0e4-cb87ff5a9d16",
   "metadata": {
    "scrolled": true
   },
   "outputs": [],
   "source": [
    "# video_ids_test = ['UgnPG2bScVQ', '9jJiNa4HoD0','EMZkmjE8wdw','ToKJfywbe1o']\n",
    "df = get_video_data(youtube_service_object=youtube, video_ids=video_ids)\n",
    "df.head()"
   ]
  },
  {
   "cell_type": "code",
   "execution_count": null,
   "id": "12f01141-6ef3-4558-a1a4-555ac9160af4",
   "metadata": {},
   "outputs": [],
   "source": [
    "request = youtube.videos().list(\n",
    "    part=\"snippet,statistics\",\n",
    "    maxResults=50,\n",
    "    id=video_ids\n",
    ")\n",
    "\n",
    "response = request.execute()"
   ]
  },
  {
   "cell_type": "code",
   "execution_count": null,
   "id": "ffba7c7a-313e-4e2e-aede-f7b149f57cdc",
   "metadata": {},
   "outputs": [],
   "source": [
    "response[\"items\"][0][\"snippet\"].get(\"tags\")"
   ]
  },
  {
   "cell_type": "code",
   "execution_count": null,
   "id": "9fcb1912-dcc1-464f-b158-e6ac6d887dea",
   "metadata": {},
   "outputs": [],
   "source": [
    "response[\"items\"][0][\"snippet\"][\"tags\"]"
   ]
  },
  {
   "cell_type": "code",
   "execution_count": null,
   "id": "586e7ddc-3cb5-433d-b536-ecaf000f9971",
   "metadata": {},
   "outputs": [],
   "source": [
    "df.info()"
   ]
  },
  {
   "cell_type": "code",
   "execution_count": null,
   "id": "d3b4c5b1-62fd-476f-9c15-9e9732429611",
   "metadata": {},
   "outputs": [],
   "source": [
    "# export the video data to a csv\n",
    "df.to_csv(\"../data/raw/video_data.csv\", index=False)"
   ]
  },
  {
   "cell_type": "code",
   "execution_count": null,
   "id": "3a70411a-b9e8-4ea4-9363-8a1a0a75328f",
   "metadata": {},
   "outputs": [],
   "source": []
  },
  {
   "cell_type": "code",
   "execution_count": null,
   "id": "e490d8b4-3962-4990-ae85-2f2b7f1f77f3",
   "metadata": {},
   "outputs": [],
   "source": []
  },
  {
   "cell_type": "code",
   "execution_count": null,
   "id": "d05d16e0-c8fb-4c95-944d-8490d7a6a65e",
   "metadata": {
    "scrolled": true
   },
   "outputs": [],
   "source": []
  },
  {
   "cell_type": "code",
   "execution_count": null,
   "id": "f914094d-ec1c-48b4-8487-547c8998a03a",
   "metadata": {
    "scrolled": true
   },
   "outputs": [],
   "source": []
  },
  {
   "cell_type": "markdown",
   "id": "556ac23f-9187-4163-8f35-9a69a507aff1",
   "metadata": {},
   "source": [
    "## Get channel data"
   ]
  },
  {
   "cell_type": "code",
   "execution_count": null,
   "id": "f9e43902-881f-4d50-8500-65641b7cfac2",
   "metadata": {
    "scrolled": true
   },
   "outputs": [],
   "source": [
    "# make a request to the youtube api\n",
    "request_channel_data = youtube.channels().list(\n",
    "    part = \"snippet,statistics,contentDetails\", \n",
    "    # forUsername = \"BandaiNamcoAmerica\",\n",
    "    id = \"UC_ntXHv-XdKCD7CPynVvnQw\"\n",
    ")\n",
    "\n",
    "response = request_channel_data.execute()\n",
    "response"
   ]
  },
  {
   "cell_type": "code",
   "execution_count": null,
   "id": "073795b1-5ce6-40b8-853d-973e357ea53a",
   "metadata": {
    "scrolled": true
   },
   "outputs": [],
   "source": [
    "response['items'][0]['id']"
   ]
  },
  {
   "cell_type": "code",
   "execution_count": null,
   "id": "9de67fbc-e55c-40fc-98aa-e6d8ae378db0",
   "metadata": {
    "scrolled": true
   },
   "outputs": [],
   "source": [
    "response['items'][0]['statistics']['subscriberCount']"
   ]
  },
  {
   "cell_type": "code",
   "execution_count": null,
   "id": "641e5c87-4b50-42ed-9b61-1a0ed50f69ba",
   "metadata": {
    "scrolled": true
   },
   "outputs": [],
   "source": []
  },
  {
   "cell_type": "code",
   "execution_count": null,
   "id": "bc02d86a-a3d8-424b-a7e2-5e112c760fe4",
   "metadata": {
    "scrolled": true
   },
   "outputs": [],
   "source": []
  },
  {
   "cell_type": "code",
   "execution_count": null,
   "id": "e71a9d4d-839b-4df7-bbff-9bd641400724",
   "metadata": {
    "scrolled": true
   },
   "outputs": [],
   "source": []
  },
  {
   "cell_type": "code",
   "execution_count": null,
   "id": "813d5aab-b907-4440-9783-bfb53231e735",
   "metadata": {
    "scrolled": true
   },
   "outputs": [],
   "source": []
  }
 ],
 "metadata": {
  "kernelspec": {
   "display_name": "Python 3 (ipykernel)",
   "language": "python",
   "name": "python3"
  },
  "language_info": {
   "codemirror_mode": {
    "name": "ipython",
    "version": 3
   },
   "file_extension": ".py",
   "mimetype": "text/x-python",
   "name": "python",
   "nbconvert_exporter": "python",
   "pygments_lexer": "ipython3",
   "version": "3.10.10"
  }
 },
 "nbformat": 4,
 "nbformat_minor": 5
}
