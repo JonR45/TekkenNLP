{
 "cells": [
  {
   "cell_type": "code",
   "execution_count": 1,
   "id": "1ecfec99-ca18-48d7-8bd8-d76614dac139",
   "metadata": {
    "scrolled": true
   },
   "outputs": [],
   "source": [
    "import os\n",
    "from dotenv import load_dotenv\n",
    "load_dotenv()\n",
    "import googleapiclient.discovery\n",
    "import pandas as pd"
   ]
  },
  {
   "cell_type": "markdown",
   "id": "91cc3986-fe75-49fd-b312-ee3b8dab95f8",
   "metadata": {},
   "source": [
    "# Video Ids"
   ]
  },
  {
   "cell_type": "code",
   "execution_count": 24,
   "id": "d006ddfb-87d1-41b3-a98a-2e29205f547a",
   "metadata": {},
   "outputs": [],
   "source": [
    "def get_video_ids(youtube_service_object, channel_id: str, published_after, published_before, search_term: str = None):\n",
    "    \"\"\"Connects to the YouTube Data API using 'search' and returns video Ids for a specified request.\n",
    "\n",
    "    \n",
    "    Parameters\n",
    "    ----------\n",
    "    service_object : googleapiclient object\n",
    "        a service object created using `googleapiclinet.discovery.build`\n",
    "\n",
    "    channel_Id : str\n",
    "        The id of the YouTube channel you want to search for videos.\n",
    "\n",
    "    published_after : datetime\n",
    "        an RFC 3339 formatted date-time value (1970-01-01T00:00:00Z).\n",
    "\n",
    "    published_before : datetime\n",
    "        an RFC 3339 formatted date-time value (1970-01-01T00:00:00Z).\n",
    "\n",
    "    query : str\n",
    "        A search term if you wish to narrow down the search using keywords. See Notes for \n",
    "        further information.\n",
    "\n",
    "\n",
    "\n",
    "    Returns\n",
    "    --------\n",
    "    video_ids : list\n",
    "        A list of the videoId values obtained from the request.\n",
    "\n",
    "    \n",
    "    Notes\n",
    "    ------\n",
    "    query : str\n",
    "        Your request can also use the Boolean NOT (-) and OR (|) operators to exclude videos or \n",
    "        to find videos that are associated with one of several search terms. For example, to \n",
    "        search for videos matching either \"boating\" or \"sailing\", set the q parameter value to \n",
    "        boating|sailing. Similarly, to search for videos matching either \"boating\" or \"sailing\" \n",
    "        but not \"fishing\", set the q parameter value to boating|sailing -fishing. Note that the \n",
    "        pipe character must be URL-escaped when it is sent in your API request. The URL-escaped \n",
    "        value for the pipe character is %7C.\n",
    "\n",
    "\n",
    "    References\n",
    "    -----------\n",
    "        https://developers.google.com/youtube/v3/docs/search\n",
    "    \n",
    "    \"\"\"\n",
    "    \n",
    "    # make a request to the youtube api\n",
    "    request = youtube_service_object.search().list(\n",
    "        channelId=channel_id,\n",
    "        publishedAfter=published_after,\n",
    "        publishedBefore=published_before,\n",
    "        q=search_term,\n",
    "        part=\"snippet\", \n",
    "        type=\"video\",\n",
    "        order=\"date\",\n",
    "        maxResults=50,\n",
    "    )\n",
    "    response = request.execute()\n",
    "    \n",
    "    video_ids = []\n",
    "\n",
    "    # loop through response and store video Ids in a list\n",
    "    for i, v in enumerate(range(len(response[\"items\"]))):\n",
    "        video_ids.append(response[\"items\"][i][\"id\"][\"videoId\"])\n",
    "    \n",
    "    next_page_token = response.get(\"nextPageToken\", None)\n",
    "    more_pages = True\n",
    "    \n",
    "    while more_pages == True:\n",
    "        if next_page_token is None:\n",
    "            more_pages = False\n",
    "    \n",
    "        else: \n",
    "            # make a request to the youtube api to get the next page results\n",
    "            request = youtube_service_object.search().list(\n",
    "            channelId=channel_id,\n",
    "            publishedAfter=published_after,\n",
    "            publishedBefore=published_before,\n",
    "            q=search_term,\n",
    "            part=\"snippet\", \n",
    "            type=\"video\",\n",
    "            order=\"date\",\n",
    "            maxResults=50,\n",
    "                pageToken=next_page_token\n",
    "            )\n",
    "            response = request.execute()\n",
    "    \n",
    "            for i, v in enumerate(range(len(response[\"items\"]))):\n",
    "                video_ids.append(response[\"items\"][i][\"id\"][\"videoId\"])\n",
    "            \n",
    "            next_page_token = response.get(\"nextPageToken\", None)\n",
    "    \n",
    "    return video_ids"
   ]
  },
  {
   "cell_type": "markdown",
   "id": "3f1d9552-6906-448a-a630-177b7ac98b22",
   "metadata": {},
   "source": [
    "# Test function"
   ]
  },
  {
   "cell_type": "code",
   "execution_count": 25,
   "id": "00f76e84-b5bd-408d-a67b-6e2577fb6a0d",
   "metadata": {},
   "outputs": [],
   "source": [
    "# create a youtube service object\n",
    "api_service_name = \"youtube\"\n",
    "api_version = \"v3\"\n",
    "API_KEY = os.environ.get(\"API_KEY\")\n",
    "\n",
    "youtube = googleapiclient.discovery.build(\n",
    "    api_service_name, api_version, developerKey=API_KEY)"
   ]
  },
  {
   "cell_type": "code",
   "execution_count": 34,
   "id": "2ede6f94-3796-477f-b5ed-956294842988",
   "metadata": {},
   "outputs": [],
   "source": [
    "# set channel and search details\n",
    "bandai_namco_america_id = \"UC_ntXHv-XdKCD7CPynVvnQw\"\n",
    "published_after = \"2023-06-01T00:00:00Z\"\n",
    "published_before = \"2023-12-20T00:00:00Z\"\n",
    "search_term = \"tekken\""
   ]
  },
  {
   "cell_type": "code",
   "execution_count": 35,
   "id": "3d66af07-2b35-4d1a-a682-f98f3799e395",
   "metadata": {},
   "outputs": [],
   "source": [
    "video_ids = get_video_ids(youtube_service_object=youtube, \n",
    "                          channel_id=bandai_namco_america_id,\n",
    "                         published_after=published_after,\n",
    "                         published_before=published_before,\n",
    "                         search_term=search_term)"
   ]
  },
  {
   "cell_type": "code",
   "execution_count": 36,
   "id": "84c8ff00-c4f9-46f9-9085-31a3cb42c8c1",
   "metadata": {
    "scrolled": true
   },
   "outputs": [
    {
     "data": {
      "text/plain": [
       "['9jJiNa4HoD0',\n",
       " 'EMZkmjE8wdw',\n",
       " 'ToKJfywbe1o',\n",
       " '9D5vq-zq9y4',\n",
       " 'y8JGUIF2pu4',\n",
       " 'oeFfzCWif-Q',\n",
       " 'bSCANspTDeE',\n",
       " 'ucesGynb2Yk',\n",
       " 'UcBcNOSoFzI',\n",
       " '8DVlK_QrZ-A',\n",
       " 'Zc-yMi05vBA',\n",
       " 'e1N4juHVqNc',\n",
       " 'QH6s_o3dIic',\n",
       " '7skTtnpSb58',\n",
       " 'bjzYbEjE-C4',\n",
       " 'weVrUBszFIM',\n",
       " 'Gw5nQaSF0CI',\n",
       " '3pGxqOFmIN4',\n",
       " 'w0IqzD-gUOI',\n",
       " 'PsCpewoF2E4',\n",
       " 'cHnxJplTQuY',\n",
       " 'qbUnCiTMCGE',\n",
       " 'cIDK50IaVpg',\n",
       " 'rDxrpSqYHD8',\n",
       " 'YFJfLsJtVzM',\n",
       " 'e7mqbmNb6eA',\n",
       " '_q26pgYDOV4',\n",
       " 'n27RxZ7vnAU',\n",
       " 'lDgv7CMIoRo',\n",
       " 'nA-QTZbm_hU',\n",
       " 'KHSwxMDibvE',\n",
       " 'sNHv1y46dhs',\n",
       " 'yowAmloydVY',\n",
       " '6hxZCQtpJ9w',\n",
       " '-l3AY19cn0M',\n",
       " 'MxGp3wHXtNE',\n",
       " '4UkK_psUEVM',\n",
       " 'maawo7O9Sg8',\n",
       " 'Qkoba4YhbGo',\n",
       " 'N5ZlZSnNyo0',\n",
       " 'hEQTFXMQU7I',\n",
       " 'flXHAFNT4sU',\n",
       " 'RFO9Z_0wrKE',\n",
       " 'kpmOhBWlDfc',\n",
       " '0Tk5YA4WRrg',\n",
       " 'bMbDVh_OKZg',\n",
       " 'UPPKjJgQT4A',\n",
       " 'iILoqJlCa2s',\n",
       " 'ODforBeu7_c',\n",
       " 'DcDjyestr4Y',\n",
       " 'Vs2piSWfofQ',\n",
       " '9Xgj0KYypVw',\n",
       " 'LYdPz_GD8OQ',\n",
       " '6JLOD_a7or4',\n",
       " 'LpxwBAxQ9Ug',\n",
       " 'Nh5udl01YXc']"
      ]
     },
     "execution_count": 36,
     "metadata": {},
     "output_type": "execute_result"
    }
   ],
   "source": [
    "video_ids"
   ]
  },
  {
   "cell_type": "code",
   "execution_count": 37,
   "id": "93851187-a5ec-4654-a619-4028db9284bb",
   "metadata": {},
   "outputs": [
    {
     "data": {
      "text/plain": [
       "56"
      ]
     },
     "execution_count": 37,
     "metadata": {},
     "output_type": "execute_result"
    }
   ],
   "source": [
    "len(video_ids)"
   ]
  },
  {
   "cell_type": "code",
   "execution_count": null,
   "id": "3bde0ce2-02e3-42b3-81e6-872236a95fe4",
   "metadata": {},
   "outputs": [],
   "source": []
  },
  {
   "cell_type": "code",
   "execution_count": 3,
   "id": "07e105ec-6104-47e7-97a2-b51103a7cedb",
   "metadata": {
    "scrolled": true
   },
   "outputs": [],
   "source": []
  },
  {
   "cell_type": "markdown",
   "id": "14f93143-2965-4d40-993f-a72f2aafaa16",
   "metadata": {},
   "source": [
    "# Channel data"
   ]
  },
  {
   "cell_type": "code",
   "execution_count": 37,
   "id": "f9e43902-881f-4d50-8500-65641b7cfac2",
   "metadata": {
    "scrolled": true
   },
   "outputs": [],
   "source": [
    "# make a request to the youtube api\n",
    "request_channel_data = youtube.channels().list(\n",
    "    part = \"snippet,statistics,contentDetails\", \n",
    "    # forUsername = \"BandaiNamcoAmerica\",\n",
    "    id = \"UC_ntXHv-XdKCD7CPynVvnQw\"\n",
    ")"
   ]
  },
  {
   "cell_type": "markdown",
   "id": "b8854965-0b42-4d17-bb1b-479a98700cb5",
   "metadata": {},
   "source": [
    "### Explore response"
   ]
  },
  {
   "cell_type": "code",
   "execution_count": 38,
   "id": "5a2004f9-28cd-47d9-9e6d-cb931c0c365f",
   "metadata": {
    "scrolled": true
   },
   "outputs": [
    {
     "data": {
      "text/plain": [
       "{'kind': 'youtube#channelListResponse',\n",
       " 'etag': 'QeuQnxg-joWDMIF3K2-6bV0Ql1E',\n",
       " 'pageInfo': {'totalResults': 1, 'resultsPerPage': 5},\n",
       " 'items': [{'kind': 'youtube#channel',\n",
       "   'etag': '38tdTXPvMYugZ3JFxaaUmMrhR_g',\n",
       "   'id': 'UC_ntXHv-XdKCD7CPynVvnQw',\n",
       "   'snippet': {'title': 'Bandai Namco Entertainment America',\n",
       "    'description': 'Fun for all into the future! Tune in right here for new trailers and reveals for your favorite Bandai Namco games!\\n\\n\\n',\n",
       "    'customUrl': '@bandainamcoamerica',\n",
       "    'publishedAt': '2006-09-19T17:48:06Z',\n",
       "    'thumbnails': {'default': {'url': 'https://yt3.ggpht.com/-K3RYA88iYssAO0kKa5DKazS_6mrkBIbgpnHpykrGeROqEIZ18QA7JmD6KPiaXwL_JXNp3hf=s88-c-k-c0x00ffffff-no-rj',\n",
       "      'width': 88,\n",
       "      'height': 88},\n",
       "     'medium': {'url': 'https://yt3.ggpht.com/-K3RYA88iYssAO0kKa5DKazS_6mrkBIbgpnHpykrGeROqEIZ18QA7JmD6KPiaXwL_JXNp3hf=s240-c-k-c0x00ffffff-no-rj',\n",
       "      'width': 240,\n",
       "      'height': 240},\n",
       "     'high': {'url': 'https://yt3.ggpht.com/-K3RYA88iYssAO0kKa5DKazS_6mrkBIbgpnHpykrGeROqEIZ18QA7JmD6KPiaXwL_JXNp3hf=s800-c-k-c0x00ffffff-no-rj',\n",
       "      'width': 800,\n",
       "      'height': 800}},\n",
       "    'localized': {'title': 'Bandai Namco Entertainment America',\n",
       "     'description': 'Fun for all into the future! Tune in right here for new trailers and reveals for your favorite Bandai Namco games!\\n\\n\\n'},\n",
       "    'country': 'US'},\n",
       "   'contentDetails': {'relatedPlaylists': {'likes': '',\n",
       "     'uploads': 'UU_ntXHv-XdKCD7CPynVvnQw'}},\n",
       "   'statistics': {'viewCount': '471783474',\n",
       "    'subscriberCount': '1090000',\n",
       "    'hiddenSubscriberCount': False,\n",
       "    'videoCount': '2670'}}]}"
      ]
     },
     "execution_count": 38,
     "metadata": {},
     "output_type": "execute_result"
    }
   ],
   "source": [
    "response = request_channel_data.execute()\n",
    "response"
   ]
  },
  {
   "cell_type": "code",
   "execution_count": 35,
   "id": "073795b1-5ce6-40b8-853d-973e357ea53a",
   "metadata": {
    "scrolled": true
   },
   "outputs": [
    {
     "data": {
      "text/plain": [
       "'UC_ntXHv-XdKCD7CPynVvnQw'"
      ]
     },
     "execution_count": 35,
     "metadata": {},
     "output_type": "execute_result"
    }
   ],
   "source": [
    "response['items'][0]['id']"
   ]
  },
  {
   "cell_type": "code",
   "execution_count": 36,
   "id": "9de67fbc-e55c-40fc-98aa-e6d8ae378db0",
   "metadata": {
    "scrolled": true
   },
   "outputs": [
    {
     "data": {
      "text/plain": [
       "'1090000'"
      ]
     },
     "execution_count": 36,
     "metadata": {},
     "output_type": "execute_result"
    }
   ],
   "source": [
    "response['items'][0]['statistics']['subscriberCount']"
   ]
  },
  {
   "cell_type": "code",
   "execution_count": null,
   "id": "b42404b3-dbe6-44cd-8c49-637186495d66",
   "metadata": {
    "scrolled": true
   },
   "outputs": [],
   "source": []
  },
  {
   "cell_type": "code",
   "execution_count": null,
   "id": "bed6fc7e-ea44-4436-87c0-51de7ff41c0b",
   "metadata": {
    "scrolled": true
   },
   "outputs": [],
   "source": []
  },
  {
   "cell_type": "code",
   "execution_count": null,
   "id": "ff5b939b-ba89-44ec-a1b3-fc303dbb0e90",
   "metadata": {
    "scrolled": true
   },
   "outputs": [],
   "source": []
  },
  {
   "cell_type": "code",
   "execution_count": null,
   "id": "b47a1e89-03b9-4590-8b6a-d2e56b4bd10d",
   "metadata": {
    "scrolled": true
   },
   "outputs": [],
   "source": []
  },
  {
   "cell_type": "code",
   "execution_count": null,
   "id": "d05d16e0-c8fb-4c95-944d-8490d7a6a65e",
   "metadata": {
    "scrolled": true
   },
   "outputs": [],
   "source": []
  },
  {
   "cell_type": "markdown",
   "id": "bc3d9537-a7f0-434f-8a3e-fab47e465399",
   "metadata": {},
   "source": [
    "# Create dataframe from search response"
   ]
  },
  {
   "cell_type": "code",
   "execution_count": 38,
   "id": "cf4e72b2-9109-4eb0-b2eb-66cf5f40fb01",
   "metadata": {},
   "outputs": [],
   "source": [
    "# make a request to the youtube api\n",
    "request = youtube.search().list(\n",
    "    channelId=bandai_namco_america_id,\n",
    "    publishedAfter=published_after,\n",
    "    publishedBefore=published_before,\n",
    "    q=search_term,\n",
    "    part=\"snippet\", \n",
    "    type=\"video\",\n",
    "    order=\"date\",\n",
    "    maxResults=50,\n",
    ")\n",
    "response = request.execute()"
   ]
  },
  {
   "cell_type": "code",
   "execution_count": 39,
   "id": "af6f7f79-06be-4802-8715-26c65a49e277",
   "metadata": {
    "scrolled": true
   },
   "outputs": [
    {
     "data": {
      "text/plain": [
       "'9jJiNa4HoD0'"
      ]
     },
     "execution_count": 39,
     "metadata": {},
     "output_type": "execute_result"
    }
   ],
   "source": [
    "response[\"items\"][0][\"id\"][\"videoId\"]"
   ]
  },
  {
   "cell_type": "code",
   "execution_count": 41,
   "id": "1c1de258-76f7-46cc-949c-75c12a9615e8",
   "metadata": {
    "scrolled": true
   },
   "outputs": [
    {
     "name": "stdout",
     "output_type": "stream",
     "text": [
      "tekken 8 – ultimate edition trailer\n",
      "tekken 8 – official story trailer\n",
      "tekken 8 exclusive story demo showcase\n",
      "tekken 8 — yoshimitsu reveal &amp; gameplay trailer\n",
      "tekken 8 — dragunov reveal &amp; gameplay trailer\n",
      "tekken 8 – steve fox reveal &amp; gameplay trailer\n",
      "tekken 8 — leo reveal &amp; gameplay trailer\n",
      "tekken 8 — reina reveal &amp; gameplay trailer\n",
      "tekken 8 – victor chevalier reveal &amp; gameplay trailer\n",
      "tekken 8 – the return of legends - new characters reveal trailer\n",
      "tekken 8 - premium collector&#39;s edition overview\n",
      "tekken 8 - introduction feng v. asuka\n",
      "tekken 8 - feng and closed beta test reveal trailer\n",
      "tekken 8 – release date and exclusive content reveal trailer\n",
      "tekken 8 — raven reveal &amp; gameplay trailer\n",
      "tekken 8 — azucena reveal &amp; gameplay trailer\n",
      "tekken talk live @ evo 2023!\n"
     ]
    }
   ],
   "source": [
    "for i, v in enumerate(response[\"items\"]):\n",
    "\n",
    "    title = response[\"items\"][i][\"snippet\"][\"title\"].lower()\n",
    "    video_id = response[\"items\"][i][\"snippet\"][\"title\"]\n",
    "\n",
    "    if search_term in title:\n",
    "        print(title)"
   ]
  },
  {
   "cell_type": "code",
   "execution_count": 37,
   "id": "91924d75-d986-4acf-a229-122658201a37",
   "metadata": {
    "scrolled": true
   },
   "outputs": [
    {
     "data": {
      "text/plain": [
       "30"
      ]
     },
     "execution_count": 37,
     "metadata": {},
     "output_type": "execute_result"
    }
   ],
   "source": [
    "len(response_tekken[\"items\"])"
   ]
  },
  {
   "cell_type": "markdown",
   "id": "d530d291-fdcf-4604-b16d-7f6c43dffb7e",
   "metadata": {},
   "source": [
    "- Use _search_ to get the video IDs\n",
    "- Use the video IDs as input for _videos_ to get the video data\n",
    "- Use video IDs as input for _commentThreads_ to get the comments for each video"
   ]
  },
  {
   "cell_type": "code",
   "execution_count": null,
   "id": "f914094d-ec1c-48b4-8487-547c8998a03a",
   "metadata": {
    "scrolled": true
   },
   "outputs": [],
   "source": []
  },
  {
   "cell_type": "code",
   "execution_count": null,
   "id": "641e5c87-4b50-42ed-9b61-1a0ed50f69ba",
   "metadata": {
    "scrolled": true
   },
   "outputs": [],
   "source": []
  },
  {
   "cell_type": "code",
   "execution_count": null,
   "id": "bc02d86a-a3d8-424b-a7e2-5e112c760fe4",
   "metadata": {
    "scrolled": true
   },
   "outputs": [],
   "source": []
  },
  {
   "cell_type": "code",
   "execution_count": null,
   "id": "e71a9d4d-839b-4df7-bbff-9bd641400724",
   "metadata": {
    "scrolled": true
   },
   "outputs": [],
   "source": []
  },
  {
   "cell_type": "code",
   "execution_count": null,
   "id": "813d5aab-b907-4440-9783-bfb53231e735",
   "metadata": {
    "scrolled": true
   },
   "outputs": [],
   "source": []
  }
 ],
 "metadata": {
  "kernelspec": {
   "display_name": "Python 3 (ipykernel)",
   "language": "python",
   "name": "python3"
  },
  "language_info": {
   "codemirror_mode": {
    "name": "ipython",
    "version": 3
   },
   "file_extension": ".py",
   "mimetype": "text/x-python",
   "name": "python",
   "nbconvert_exporter": "python",
   "pygments_lexer": "ipython3",
   "version": "3.12.1"
  }
 },
 "nbformat": 4,
 "nbformat_minor": 5
}
