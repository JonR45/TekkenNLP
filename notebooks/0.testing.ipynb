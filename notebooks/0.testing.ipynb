{
 "cells": [
  {
   "cell_type": "code",
   "execution_count": 1,
   "id": "218ba044-e6f9-4df7-b2fa-5b4a5ab00793",
   "metadata": {},
   "outputs": [],
   "source": [
    "import os\n",
    "os.chdir('..') # this resolves ImportError: attempted relative import with no known parent package\n",
    "from dotenv import load_dotenv\n",
    "load_dotenv()\n",
    "\n",
    "import googleapiclient.discovery\n",
    "import pandas as pd\n",
    "from src.api.get_youtube_data import get_video_ids, get_video_data\n",
    "from tqdm import tqdm"
   ]
  },
  {
   "cell_type": "code",
   "execution_count": 2,
   "id": "3c621a08-3025-4a6c-a6a9-eac9f73f81c1",
   "metadata": {},
   "outputs": [],
   "source": [
    "# set parameters for creating a youtube service object\n",
    "api_service_name = \"youtube\"\n",
    "api_version = \"v3\"\n",
    "API_KEY = os.environ.get(\"API_KEY\")\n",
    "\n",
    "# create a youtube service object\n",
    "youtube = googleapiclient.discovery.build(\n",
    "    api_service_name, api_version, developerKey=API_KEY)"
   ]
  },
  {
   "cell_type": "code",
   "execution_count": 3,
   "id": "bd203227-3c2f-44ce-bc51-dd4223f3cb11",
   "metadata": {},
   "outputs": [],
   "source": [
    "# set channel and search details\n",
    "bandai_namco_america_id = \"UC_ntXHv-XdKCD7CPynVvnQw\"\n",
    "published_after = \"2023-07-01T00:00:00Z\"\n",
    "published_before = \"2023-12-21T00:00:00Z\"\n",
    "search_term = \"tekken\""
   ]
  },
  {
   "cell_type": "code",
   "execution_count": 4,
   "id": "16808f5f-eb65-402f-96ae-b2b8df93dc8e",
   "metadata": {
    "scrolled": true
   },
   "outputs": [
    {
     "data": {
      "text/plain": [
       "['UgnPG2bScVQ',\n",
       " '9jJiNa4HoD0',\n",
       " 'X1dgCe1jDYg',\n",
       " 'EMZkmjE8wdw',\n",
       " 'ToKJfywbe1o',\n",
       " '9D5vq-zq9y4',\n",
       " 'y8JGUIF2pu4',\n",
       " 'oeFfzCWif-Q',\n",
       " 'bSCANspTDeE',\n",
       " 'ucesGynb2Yk',\n",
       " 'UcBcNOSoFzI',\n",
       " '8DVlK_QrZ-A',\n",
       " 'Zc-yMi05vBA',\n",
       " 'e1N4juHVqNc',\n",
       " 'QH6s_o3dIic',\n",
       " '7skTtnpSb58',\n",
       " 'bjzYbEjE-C4',\n",
       " 'weVrUBszFIM',\n",
       " 'Gw5nQaSF0CI',\n",
       " '3pGxqOFmIN4',\n",
       " 'w0IqzD-gUOI',\n",
       " 'PsCpewoF2E4',\n",
       " 'cHnxJplTQuY',\n",
       " 'qbUnCiTMCGE',\n",
       " 'cIDK50IaVpg',\n",
       " 'rDxrpSqYHD8',\n",
       " 'YFJfLsJtVzM',\n",
       " 'e7mqbmNb6eA',\n",
       " '_q26pgYDOV4',\n",
       " 'n27RxZ7vnAU',\n",
       " 'lDgv7CMIoRo',\n",
       " 'nA-QTZbm_hU',\n",
       " 'KHSwxMDibvE',\n",
       " 'sNHv1y46dhs',\n",
       " 'yowAmloydVY',\n",
       " '6hxZCQtpJ9w',\n",
       " '-l3AY19cn0M',\n",
       " 'MxGp3wHXtNE',\n",
       " '4UkK_psUEVM',\n",
       " 'maawo7O9Sg8',\n",
       " 'Qkoba4YhbGo',\n",
       " 'N5ZlZSnNyo0',\n",
       " 'hEQTFXMQU7I',\n",
       " 'flXHAFNT4sU',\n",
       " 'RFO9Z_0wrKE',\n",
       " 'kpmOhBWlDfc',\n",
       " '0Tk5YA4WRrg',\n",
       " 'bMbDVh_OKZg',\n",
       " 'UPPKjJgQT4A',\n",
       " 'iILoqJlCa2s',\n",
       " 'ODforBeu7_c',\n",
       " 'DcDjyestr4Y',\n",
       " 'Vs2piSWfofQ',\n",
       " '9Xgj0KYypVw',\n",
       " 'LYdPz_GD8OQ',\n",
       " '6JLOD_a7or4']"
      ]
     },
     "execution_count": 4,
     "metadata": {},
     "output_type": "execute_result"
    }
   ],
   "source": [
    "# get video Ids\n",
    "video_ids = get_video_ids(youtube_service_object=youtube, \n",
    "                          channel_id=bandai_namco_america_id,\n",
    "                         published_before=published_before,\n",
    "                         published_after=published_after,\n",
    "                         search_term=search_term)\n",
    "video_ids"
   ]
  },
  {
   "cell_type": "code",
   "execution_count": 5,
   "id": "dffe0c38-8c23-466e-8d95-c8d8054b047a",
   "metadata": {},
   "outputs": [
    {
     "data": {
      "text/plain": [
       "56"
      ]
     },
     "execution_count": 5,
     "metadata": {},
     "output_type": "execute_result"
    }
   ],
   "source": [
    "len(video_ids)"
   ]
  },
  {
   "cell_type": "code",
   "execution_count": 6,
   "id": "29fc6dd0-b212-48d5-a3ff-d375905d0a83",
   "metadata": {},
   "outputs": [
    {
     "name": "stderr",
     "output_type": "stream",
     "text": [
      "2it [00:00, 15.06it/s]"
     ]
    },
    {
     "name": "stdout",
     "output_type": "stream",
     "text": [
      "Batch 1 start: 0\n",
      "Batch 1 end: 50\n",
      "Batch 2 start: 50\n",
      "Batch 2 end: 56\n"
     ]
    },
    {
     "name": "stderr",
     "output_type": "stream",
     "text": [
      "\n"
     ]
    },
    {
     "data": {
      "text/html": [
       "<div>\n",
       "<style scoped>\n",
       "    .dataframe tbody tr th:only-of-type {\n",
       "        vertical-align: middle;\n",
       "    }\n",
       "\n",
       "    .dataframe tbody tr th {\n",
       "        vertical-align: top;\n",
       "    }\n",
       "\n",
       "    .dataframe thead th {\n",
       "        text-align: right;\n",
       "    }\n",
       "</style>\n",
       "<table border=\"1\" class=\"dataframe\">\n",
       "  <thead>\n",
       "    <tr style=\"text-align: right;\">\n",
       "      <th></th>\n",
       "      <th>channelTitle</th>\n",
       "      <th>channelId</th>\n",
       "      <th>videoId</th>\n",
       "      <th>publishedAt</th>\n",
       "      <th>title</th>\n",
       "      <th>description</th>\n",
       "      <th>tags</th>\n",
       "      <th>viewCount</th>\n",
       "      <th>likeCount</th>\n",
       "      <th>commentCount</th>\n",
       "      <th>favoriteCount</th>\n",
       "    </tr>\n",
       "  </thead>\n",
       "  <tbody>\n",
       "    <tr>\n",
       "      <th>0</th>\n",
       "      <td>Bandai Namco Entertainment America</td>\n",
       "      <td>UC_ntXHv-XdKCD7CPynVvnQw</td>\n",
       "      <td>LYdPz_GD8OQ</td>\n",
       "      <td>2023-07-19 14:00:16+00:00</td>\n",
       "      <td>TEKKEN Talk — Episode 2</td>\n",
       "      <td>We're back with more #TEKKENTalk! Hosted by su...</td>\n",
       "      <td>[Bandai Namco, Bandai Namco Entertainment, Vid...</td>\n",
       "      <td>99885</td>\n",
       "      <td>3115</td>\n",
       "      <td>617</td>\n",
       "      <td>0</td>\n",
       "    </tr>\n",
       "    <tr>\n",
       "      <th>1</th>\n",
       "      <td>Bandai Namco Entertainment America</td>\n",
       "      <td>UC_ntXHv-XdKCD7CPynVvnQw</td>\n",
       "      <td>9Xgj0KYypVw</td>\n",
       "      <td>2023-07-20 13:00:13+00:00</td>\n",
       "      <td>TEKKEN 8 — Claudio Serafino Reveal &amp; Gameplay ...</td>\n",
       "      <td>It's time to get Sirius ✨ Claudio Serafino wil...</td>\n",
       "      <td>[Bandai Namco, Bandai Namco Entertainment, Vid...</td>\n",
       "      <td>770959</td>\n",
       "      <td>29137</td>\n",
       "      <td>3681</td>\n",
       "      <td>0</td>\n",
       "    </tr>\n",
       "    <tr>\n",
       "      <th>2</th>\n",
       "      <td>Bandai Namco Entertainment America</td>\n",
       "      <td>UC_ntXHv-XdKCD7CPynVvnQw</td>\n",
       "      <td>ODforBeu7_c</td>\n",
       "      <td>2023-08-05 22:22:04+00:00</td>\n",
       "      <td>TEKKEN Talk Live @ Evo 2023!</td>\n",
       "      <td>Join us for a live episode of #TEKKENTalk at E...</td>\n",
       "      <td>[Bandai Namco, Bandai Namco Entertainment, Vid...</td>\n",
       "      <td>96718</td>\n",
       "      <td>1874</td>\n",
       "      <td>135</td>\n",
       "      <td>0</td>\n",
       "    </tr>\n",
       "    <tr>\n",
       "      <th>3</th>\n",
       "      <td>Bandai Namco Entertainment America</td>\n",
       "      <td>UC_ntXHv-XdKCD7CPynVvnQw</td>\n",
       "      <td>UPPKjJgQT4A</td>\n",
       "      <td>2023-08-06 20:02:43+00:00</td>\n",
       "      <td>TEKKEN 8 — Raven Reveal &amp; Gameplay Trailer</td>\n",
       "      <td>Now you see him. Now you don't. Raven returns ...</td>\n",
       "      <td>[Bandai Namco, Bandai Namco Entertainment, Vid...</td>\n",
       "      <td>938493</td>\n",
       "      <td>33705</td>\n",
       "      <td>4119</td>\n",
       "      <td>0</td>\n",
       "    </tr>\n",
       "    <tr>\n",
       "      <th>4</th>\n",
       "      <td>Bandai Namco Entertainment America</td>\n",
       "      <td>UC_ntXHv-XdKCD7CPynVvnQw</td>\n",
       "      <td>iILoqJlCa2s</td>\n",
       "      <td>2023-08-06 20:02:49+00:00</td>\n",
       "      <td>TEKKEN 8 — Azucena Reveal &amp; Gameplay Trailer</td>\n",
       "      <td>Not everyone can handle a strong and punchy bl...</td>\n",
       "      <td>[Bandai Namco, Bandai Namco Entertainment, Vid...</td>\n",
       "      <td>1385391</td>\n",
       "      <td>44930</td>\n",
       "      <td>8851</td>\n",
       "      <td>0</td>\n",
       "    </tr>\n",
       "  </tbody>\n",
       "</table>\n",
       "</div>"
      ],
      "text/plain": [
       "                         channelTitle                 channelId      videoId  \\\n",
       "0  Bandai Namco Entertainment America  UC_ntXHv-XdKCD7CPynVvnQw  LYdPz_GD8OQ   \n",
       "1  Bandai Namco Entertainment America  UC_ntXHv-XdKCD7CPynVvnQw  9Xgj0KYypVw   \n",
       "2  Bandai Namco Entertainment America  UC_ntXHv-XdKCD7CPynVvnQw  ODforBeu7_c   \n",
       "3  Bandai Namco Entertainment America  UC_ntXHv-XdKCD7CPynVvnQw  UPPKjJgQT4A   \n",
       "4  Bandai Namco Entertainment America  UC_ntXHv-XdKCD7CPynVvnQw  iILoqJlCa2s   \n",
       "\n",
       "                publishedAt  \\\n",
       "0 2023-07-19 14:00:16+00:00   \n",
       "1 2023-07-20 13:00:13+00:00   \n",
       "2 2023-08-05 22:22:04+00:00   \n",
       "3 2023-08-06 20:02:43+00:00   \n",
       "4 2023-08-06 20:02:49+00:00   \n",
       "\n",
       "                                               title  \\\n",
       "0                            TEKKEN Talk — Episode 2   \n",
       "1  TEKKEN 8 — Claudio Serafino Reveal & Gameplay ...   \n",
       "2                       TEKKEN Talk Live @ Evo 2023!   \n",
       "3         TEKKEN 8 — Raven Reveal & Gameplay Trailer   \n",
       "4       TEKKEN 8 — Azucena Reveal & Gameplay Trailer   \n",
       "\n",
       "                                         description  \\\n",
       "0  We're back with more #TEKKENTalk! Hosted by su...   \n",
       "1  It's time to get Sirius ✨ Claudio Serafino wil...   \n",
       "2  Join us for a live episode of #TEKKENTalk at E...   \n",
       "3  Now you see him. Now you don't. Raven returns ...   \n",
       "4  Not everyone can handle a strong and punchy bl...   \n",
       "\n",
       "                                                tags  viewCount  likeCount  \\\n",
       "0  [Bandai Namco, Bandai Namco Entertainment, Vid...      99885       3115   \n",
       "1  [Bandai Namco, Bandai Namco Entertainment, Vid...     770959      29137   \n",
       "2  [Bandai Namco, Bandai Namco Entertainment, Vid...      96718       1874   \n",
       "3  [Bandai Namco, Bandai Namco Entertainment, Vid...     938493      33705   \n",
       "4  [Bandai Namco, Bandai Namco Entertainment, Vid...    1385391      44930   \n",
       "\n",
       "   commentCount  favoriteCount  \n",
       "0           617              0  \n",
       "1          3681              0  \n",
       "2           135              0  \n",
       "3          4119              0  \n",
       "4          8851              0  "
      ]
     },
     "execution_count": 6,
     "metadata": {},
     "output_type": "execute_result"
    }
   ],
   "source": [
    "df = get_video_data(youtube_service_object=youtube, video_ids=video_ids)\n",
    "df.head()"
   ]
  },
  {
   "cell_type": "code",
   "execution_count": 7,
   "id": "5ccff077-435a-4203-8330-2b60a3adef4b",
   "metadata": {},
   "outputs": [
    {
     "name": "stdout",
     "output_type": "stream",
     "text": [
      "<class 'pandas.core.frame.DataFrame'>\n",
      "RangeIndex: 20 entries, 0 to 19\n",
      "Data columns (total 11 columns):\n",
      " #   Column         Non-Null Count  Dtype              \n",
      "---  ------         --------------  -----              \n",
      " 0   channelTitle   20 non-null     object             \n",
      " 1   channelId      20 non-null     object             \n",
      " 2   videoId        20 non-null     object             \n",
      " 3   publishedAt    20 non-null     datetime64[ns, UTC]\n",
      " 4   title          20 non-null     object             \n",
      " 5   description    20 non-null     object             \n",
      " 6   tags           20 non-null     object             \n",
      " 7   viewCount      20 non-null     int64              \n",
      " 8   likeCount      20 non-null     int64              \n",
      " 9   commentCount   20 non-null     int64              \n",
      " 10  favoriteCount  20 non-null     int64              \n",
      "dtypes: datetime64[ns, UTC](1), int64(4), object(6)\n",
      "memory usage: 1.8+ KB\n"
     ]
    }
   ],
   "source": [
    "df.info()"
   ]
  },
  {
   "cell_type": "code",
   "execution_count": null,
   "id": "9824f360-1ae3-427f-a5ab-6537b41c2040",
   "metadata": {},
   "outputs": [],
   "source": []
  },
  {
   "cell_type": "code",
   "execution_count": null,
   "id": "b2e137a7-20d3-4aff-849d-4b025c027f80",
   "metadata": {},
   "outputs": [],
   "source": []
  },
  {
   "cell_type": "code",
   "execution_count": null,
   "id": "b3a15f4f-cfca-4472-9eef-07c50fbc5df1",
   "metadata": {},
   "outputs": [],
   "source": []
  },
  {
   "cell_type": "code",
   "execution_count": null,
   "id": "7e834247-53f6-42ea-bda0-bacf7d5d700a",
   "metadata": {},
   "outputs": [],
   "source": []
  },
  {
   "cell_type": "code",
   "execution_count": null,
   "id": "16eb9ecc-418c-4d84-9589-da44dc098eb1",
   "metadata": {},
   "outputs": [],
   "source": []
  },
  {
   "cell_type": "code",
   "execution_count": null,
   "id": "534b851f-a32a-4995-9750-4d96b54e8e1b",
   "metadata": {},
   "outputs": [],
   "source": []
  }
 ],
 "metadata": {
  "kernelspec": {
   "display_name": "Python 3 (ipykernel)",
   "language": "python",
   "name": "python3"
  },
  "language_info": {
   "codemirror_mode": {
    "name": "ipython",
    "version": 3
   },
   "file_extension": ".py",
   "mimetype": "text/x-python",
   "name": "python",
   "nbconvert_exporter": "python",
   "pygments_lexer": "ipython3",
   "version": "3.12.1"
  }
 },
 "nbformat": 4,
 "nbformat_minor": 5
}
