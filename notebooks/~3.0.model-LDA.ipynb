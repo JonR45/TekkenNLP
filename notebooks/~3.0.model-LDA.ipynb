{
 "cells": [
  {
   "cell_type": "code",
   "execution_count": 1,
   "id": "6eb587b1-f78a-43d7-8d80-755bb016cc0a",
   "metadata": {
    "scrolled": true
   },
   "outputs": [],
   "source": [
    "import os\n",
    "os.chdir('..') # this resolves ImportError: attempted relative import with no known parent package\n",
    "\n",
    "# general ds packages\n",
    "import pandas as pd\n",
    "import numpy as np\n",
    "\n",
    "# cleaning and pre-processing\n",
    "from src.processing.text_cleaning import (normalize_text, process_contractions, remove_all_punctuation, remove_emojis, \n",
    "remove_html_unescape, remove_href_pattern, remove_digits, remove_extra_whitespace, remove_website_links)\n",
    "\n",
    "from src.processing.text_processing import (tokenize_comment, lemmatize_comment, remove_stop_words, remove_tiny_tokens, \n",
    "remove_tekken_character_names_from_tokens, part_of_speech, part_of_speech_tag, part_of_speech_dependency, part_of_speech_shape, \n",
    "part_of_speech_alpha, part_of_speech_is_stop, word_count)\n",
    "\n",
    "# modeling\n",
    "import gensim\n",
    "from gensim import corpora\n",
    "from gensim.models import LdaModel\n",
    "from gensim.models.coherencemodel import CoherenceModel\n",
    "\n",
    "# visualisation\n",
    "import pyLDAvis\n",
    "import pyLDAvis.gensim\n",
    "import matplotlib.pyplot as plt"
   ]
  },
  {
   "cell_type": "code",
   "execution_count": 2,
   "id": "a69cb38f-e778-48fd-ab07-450f6824049a",
   "metadata": {
    "scrolled": true
   },
   "outputs": [],
   "source": [
    "# import data from csv\n",
    "raw_data = pd.read_csv(\"data/raw/new_character_reveal_comments.csv\", )\n",
    "data = raw_data.copy()\n",
    "df = pd.DataFrame(data)"
   ]
  },
  {
   "cell_type": "markdown",
   "id": "89ffe2dd-2134-48a0-a429-53fd388d4435",
   "metadata": {},
   "source": [
    "# Clean and process dataframe"
   ]
  },
  {
   "cell_type": "code",
   "execution_count": 3,
   "id": "782dc94c-7472-4ed7-bf08-bdb7dd9d6aa1",
   "metadata": {
    "scrolled": true
   },
   "outputs": [
    {
     "name": "stdout",
     "output_type": "stream",
     "text": [
      "CPU times: user 38.2 s, sys: 92.6 ms, total: 38.3 s\n",
      "Wall time: 38.7 s\n"
     ]
    },
    {
     "data": {
      "text/html": [
       "<div>\n",
       "<style scoped>\n",
       "    .dataframe tbody tr th:only-of-type {\n",
       "        vertical-align: middle;\n",
       "    }\n",
       "\n",
       "    .dataframe tbody tr th {\n",
       "        vertical-align: top;\n",
       "    }\n",
       "\n",
       "    .dataframe thead th {\n",
       "        text-align: right;\n",
       "    }\n",
       "</style>\n",
       "<table border=\"1\" class=\"dataframe\">\n",
       "  <thead>\n",
       "    <tr style=\"text-align: right;\">\n",
       "      <th></th>\n",
       "      <th>videoId</th>\n",
       "      <th>authorDisplayName</th>\n",
       "      <th>publishedAt</th>\n",
       "      <th>updatedAt</th>\n",
       "      <th>likeCount</th>\n",
       "      <th>totalReplyCount</th>\n",
       "      <th>textDisplay</th>\n",
       "      <th>textDisplayWordCount</th>\n",
       "      <th>textStopWordsRemoved</th>\n",
       "      <th>textTokenized</th>\n",
       "      <th>textLemmatized</th>\n",
       "      <th>textTekkenCharactersRemoved</th>\n",
       "      <th>textProcessedCharactersRemoved</th>\n",
       "      <th>pos</th>\n",
       "      <th>posTag</th>\n",
       "      <th>posDependency</th>\n",
       "      <th>posShape</th>\n",
       "      <th>posAlpha</th>\n",
       "      <th>posStopWord</th>\n",
       "    </tr>\n",
       "  </thead>\n",
       "  <tbody>\n",
       "    <tr>\n",
       "      <th>0</th>\n",
       "      <td>rDxrpSqYHD8</td>\n",
       "      <td>@faizaanjaved7150</td>\n",
       "      <td>2023-11-01 16:10:05+00:00</td>\n",
       "      <td>2023-11-01 16:10:05+00:00</td>\n",
       "      <td>1</td>\n",
       "      <td>1</td>\n",
       "      <td>already seen it you are getting less views now...</td>\n",
       "      <td>10</td>\n",
       "      <td>seen getting views bamco</td>\n",
       "      <td>[seen, getting, views, bamco]</td>\n",
       "      <td>[see, get, view, bamco]</td>\n",
       "      <td>[see, get, view, bamco]</td>\n",
       "      <td>see get view bamco</td>\n",
       "      <td>[VERB, VERB, NOUN, NOUN]</td>\n",
       "      <td>[VBN, VBG, NNS, NNS]</td>\n",
       "      <td>[ROOT, xcomp, dobj, dobj]</td>\n",
       "      <td>[xxxx, xxxx, xxxx, xxxx]</td>\n",
       "      <td>[True, True, True, True]</td>\n",
       "      <td>[False, False, False, False]</td>\n",
       "    </tr>\n",
       "    <tr>\n",
       "      <th>1</th>\n",
       "      <td>rDxrpSqYHD8</td>\n",
       "      <td>@TS-rw4lk</td>\n",
       "      <td>2023-11-01 16:10:05+00:00</td>\n",
       "      <td>2023-11-01 16:10:05+00:00</td>\n",
       "      <td>0</td>\n",
       "      <td>0</td>\n",
       "      <td>wow</td>\n",
       "      <td>1</td>\n",
       "      <td>wow</td>\n",
       "      <td>[wow]</td>\n",
       "      <td>[wow]</td>\n",
       "      <td>[wow]</td>\n",
       "      <td>wow</td>\n",
       "      <td>[INTJ]</td>\n",
       "      <td>[UH]</td>\n",
       "      <td>[ROOT]</td>\n",
       "      <td>[xxx]</td>\n",
       "      <td>[True]</td>\n",
       "      <td>[False]</td>\n",
       "    </tr>\n",
       "    <tr>\n",
       "      <th>2</th>\n",
       "      <td>rDxrpSqYHD8</td>\n",
       "      <td>@ALONCAK</td>\n",
       "      <td>2023-11-01 16:10:06+00:00</td>\n",
       "      <td>2023-11-01 16:10:06+00:00</td>\n",
       "      <td>0</td>\n",
       "      <td>0</td>\n",
       "      <td>oww yeaah</td>\n",
       "      <td>2</td>\n",
       "      <td>oww yeaah</td>\n",
       "      <td>[oww, yeaah]</td>\n",
       "      <td>[oww, yeaah]</td>\n",
       "      <td>[oww, yeaah]</td>\n",
       "      <td>oww yeaah</td>\n",
       "      <td>[PROPN, PROPN]</td>\n",
       "      <td>[NNP, NNP]</td>\n",
       "      <td>[compound, ROOT]</td>\n",
       "      <td>[xxx, xxxx]</td>\n",
       "      <td>[True, True]</td>\n",
       "      <td>[False, False]</td>\n",
       "    </tr>\n",
       "    <tr>\n",
       "      <th>3</th>\n",
       "      <td>rDxrpSqYHD8</td>\n",
       "      <td>@Rough_Estimates</td>\n",
       "      <td>2023-11-01 16:10:06+00:00</td>\n",
       "      <td>2023-11-01 16:10:06+00:00</td>\n",
       "      <td>150</td>\n",
       "      <td>18</td>\n",
       "      <td>i hope we get an angel version of jin</td>\n",
       "      <td>9</td>\n",
       "      <td>hope angel version jin</td>\n",
       "      <td>[hope, angel, version, jin]</td>\n",
       "      <td>[hope, angel, version, jin]</td>\n",
       "      <td>[hope, version]</td>\n",
       "      <td>hope version</td>\n",
       "      <td>[PROPN, PROPN, PROPN, PROPN]</td>\n",
       "      <td>[NNP, NNP, NNP, NNP]</td>\n",
       "      <td>[compound, compound, compound, ROOT]</td>\n",
       "      <td>[xxxx, xxxx, xxxx, xxx]</td>\n",
       "      <td>[True, True, True, True]</td>\n",
       "      <td>[False, False, False, False]</td>\n",
       "    </tr>\n",
       "    <tr>\n",
       "      <th>4</th>\n",
       "      <td>rDxrpSqYHD8</td>\n",
       "      <td>@kazamataurus337</td>\n",
       "      <td>2023-11-01 16:10:08+00:00</td>\n",
       "      <td>2023-11-01 16:10:08+00:00</td>\n",
       "      <td>1</td>\n",
       "      <td>0</td>\n",
       "      <td>so it begins</td>\n",
       "      <td>3</td>\n",
       "      <td>begins</td>\n",
       "      <td>[begins]</td>\n",
       "      <td>[begin]</td>\n",
       "      <td>[begin]</td>\n",
       "      <td>begin</td>\n",
       "      <td>[VERB]</td>\n",
       "      <td>[VBZ]</td>\n",
       "      <td>[ROOT]</td>\n",
       "      <td>[xxxx]</td>\n",
       "      <td>[True]</td>\n",
       "      <td>[False]</td>\n",
       "    </tr>\n",
       "  </tbody>\n",
       "</table>\n",
       "</div>"
      ],
      "text/plain": [
       "       videoId  authorDisplayName                publishedAt  \\\n",
       "0  rDxrpSqYHD8  @faizaanjaved7150  2023-11-01 16:10:05+00:00   \n",
       "1  rDxrpSqYHD8          @TS-rw4lk  2023-11-01 16:10:05+00:00   \n",
       "2  rDxrpSqYHD8           @ALONCAK  2023-11-01 16:10:06+00:00   \n",
       "3  rDxrpSqYHD8   @Rough_Estimates  2023-11-01 16:10:06+00:00   \n",
       "4  rDxrpSqYHD8   @kazamataurus337  2023-11-01 16:10:08+00:00   \n",
       "\n",
       "                   updatedAt  likeCount  totalReplyCount  \\\n",
       "0  2023-11-01 16:10:05+00:00          1                1   \n",
       "1  2023-11-01 16:10:05+00:00          0                0   \n",
       "2  2023-11-01 16:10:06+00:00          0                0   \n",
       "3  2023-11-01 16:10:06+00:00        150               18   \n",
       "4  2023-11-01 16:10:08+00:00          1                0   \n",
       "\n",
       "                                         textDisplay  textDisplayWordCount  \\\n",
       "0  already seen it you are getting less views now...                    10   \n",
       "1                                                wow                     1   \n",
       "2                                          oww yeaah                     2   \n",
       "3              i hope we get an angel version of jin                     9   \n",
       "4                                       so it begins                     3   \n",
       "\n",
       "       textStopWordsRemoved                  textTokenized  \\\n",
       "0  seen getting views bamco  [seen, getting, views, bamco]   \n",
       "1                       wow                          [wow]   \n",
       "2                 oww yeaah                   [oww, yeaah]   \n",
       "3    hope angel version jin    [hope, angel, version, jin]   \n",
       "4                    begins                       [begins]   \n",
       "\n",
       "                textLemmatized textTekkenCharactersRemoved  \\\n",
       "0      [see, get, view, bamco]     [see, get, view, bamco]   \n",
       "1                        [wow]                       [wow]   \n",
       "2                 [oww, yeaah]                [oww, yeaah]   \n",
       "3  [hope, angel, version, jin]             [hope, version]   \n",
       "4                      [begin]                     [begin]   \n",
       "\n",
       "  textProcessedCharactersRemoved                           pos  \\\n",
       "0             see get view bamco      [VERB, VERB, NOUN, NOUN]   \n",
       "1                            wow                        [INTJ]   \n",
       "2                      oww yeaah                [PROPN, PROPN]   \n",
       "3                   hope version  [PROPN, PROPN, PROPN, PROPN]   \n",
       "4                          begin                        [VERB]   \n",
       "\n",
       "                 posTag                         posDependency  \\\n",
       "0  [VBN, VBG, NNS, NNS]             [ROOT, xcomp, dobj, dobj]   \n",
       "1                  [UH]                                [ROOT]   \n",
       "2            [NNP, NNP]                      [compound, ROOT]   \n",
       "3  [NNP, NNP, NNP, NNP]  [compound, compound, compound, ROOT]   \n",
       "4                 [VBZ]                                [ROOT]   \n",
       "\n",
       "                   posShape                  posAlpha  \\\n",
       "0  [xxxx, xxxx, xxxx, xxxx]  [True, True, True, True]   \n",
       "1                     [xxx]                    [True]   \n",
       "2               [xxx, xxxx]              [True, True]   \n",
       "3   [xxxx, xxxx, xxxx, xxx]  [True, True, True, True]   \n",
       "4                    [xxxx]                    [True]   \n",
       "\n",
       "                    posStopWord  \n",
       "0  [False, False, False, False]  \n",
       "1                       [False]  \n",
       "2                [False, False]  \n",
       "3  [False, False, False, False]  \n",
       "4                       [False]  "
      ]
     },
     "execution_count": 3,
     "metadata": {},
     "output_type": "execute_result"
    }
   ],
   "source": [
    "%%time\n",
    "\n",
    "# clean\n",
    "df['textDisplay'] = df['textDisplay'].apply(normalize_text)\n",
    "df['textDisplay'] = df['textDisplay'].apply(process_contractions)\n",
    "df['textDisplay'] = df['textDisplay'].apply(remove_website_links)\n",
    "df['textDisplay'] = df['textDisplay'].apply(remove_html_unescape)\n",
    "df['textDisplay'] = df['textDisplay'].apply(remove_emojis)\n",
    "df['textDisplay'] = df['textDisplay'].apply(remove_digits)\n",
    "df['textDisplay'] = df['textDisplay'].apply(remove_all_punctuation)\n",
    "df['textDisplay'] = df['textDisplay'].apply(remove_href_pattern)\n",
    "df['textDisplay'] = df['textDisplay'].apply(remove_extra_whitespace)\n",
    "\n",
    "# process\n",
    "df[\"textDisplayWordCount\"] = df['textDisplay'].apply(word_count)\n",
    "df[\"textStopWordsRemoved\"] = df[\"textDisplay\"].apply(remove_stop_words)\n",
    "df[\"textTokenized\"] = df['textStopWordsRemoved'].apply(tokenize_comment)\n",
    "df[\"textLemmatized\"] = df[\"textStopWordsRemoved\"].apply(lemmatize_comment)\n",
    "# remove short meaningless tokens from lemmatized tokens\n",
    "df[\"textLemmatized\"] = df['textLemmatized'].apply(remove_tiny_tokens)\n",
    "df[\"textTekkenCharactersRemoved\"] = df[\"textLemmatized\"].apply(remove_tekken_character_names_from_tokens)\n",
    "df[\"textProcessedCharactersRemoved\"] = df[\"textTekkenCharactersRemoved\"].apply(lambda x: ' '.join(x))\n",
    "\n",
    "# part of speech operations\n",
    "df[\"pos\"] = df[\"textStopWordsRemoved\"].apply(part_of_speech)\n",
    "df[\"posTag\"] = df[\"textStopWordsRemoved\"].apply(part_of_speech_tag)\n",
    "df[\"posDependency\"] = df[\"textStopWordsRemoved\"].apply(part_of_speech_dependency)\n",
    "df[\"posShape\"] = df[\"textStopWordsRemoved\"].apply(part_of_speech_shape)\n",
    "df[\"posAlpha\"] = df[\"textStopWordsRemoved\"].apply(part_of_speech_alpha)\n",
    "df[\"posStopWord\"] = df[\"textStopWordsRemoved\"].apply(part_of_speech_is_stop)\n",
    "\n",
    "\n",
    "# remove rows with empty strings in the 'textProcessedCharactersRemoved' column as these will have nothing to pass to the vectorizer when we come to transforming the text input\n",
    "# to numerical input\n",
    "df = df[df[\"textProcessedCharactersRemoved\"].astype(str) != '']\n",
    "df.reset_index(drop=True, inplace=True)\n",
    "\n",
    "df.head()"
   ]
  },
  {
   "cell_type": "markdown",
   "id": "c4cef98c-3ce1-4ede-8f22-9a36029953fb",
   "metadata": {},
   "source": [
    "# Topic Modeling\n",
    "- We're going to build an Latent Dirichlet Allocation (LDA) model, but first we need to prepare the data so it can be read by the algorithm. To do this we need to:\n",
    "    - Create a corpus (a list that contains all of the YouTube comments in it)\n",
    "    - Create a document term matrix (a tuple of word ID and frequency of occurrence in a given document)."
   ]
  },
  {
   "cell_type": "markdown",
   "id": "f9a047ce-8c39-40ed-9980-6d62201b194b",
   "metadata": {},
   "source": [
    "## Create a corpus and document term matrix"
   ]
  },
  {
   "cell_type": "code",
   "execution_count": 4,
   "id": "8251f3e6-6c4f-4f3a-9d9e-5e356ae8c11b",
   "metadata": {
    "scrolled": true
   },
   "outputs": [
    {
     "name": "stdout",
     "output_type": "stream",
     "text": [
      "[['see', 'get', 'view', 'bamco'], ['wow'], ['oww', 'yeaah'], ['hope', 'version'], ['begin'], ['waiting', 'room', 'right'], ['let'], ['wow'], ['marvelous'], ['late', 'bandai'], ['excitement'], ['marvelous'], ['new', 'trailer', 'drop', 'excited', 'game'], ['need', 'rest', 'trailer', 'mfs'], ['reason', 'get'], ['primer', 'comentario'], ['legend', 'shiiet', 'throw'], ['character', 'bandai', 'love'], ['good', 'fight', 'game', 'franchise'], ['want', 'action', 'point'], ['get', 'trailer', 'crime'], ['know', 'shriek', 'like', 'thatt'], ['amazing'], ['hailo', 'bandai', 'sayonara'], ['finally', 'sadly', 'design', 'suck'], ['think', 'new', 'trailer'], ['hope', 'bring', 'character', 'creation'], ['gdmf'], ['year', 'epic'], ['gaaaaaaaaaaaaaaaaaaaaaaaaaaaaaaaaaaaaaaaaaaaaaa'], ['tvt'], ['black', 'goku'], ['finally', 'mean'], ['need', 'beg'], ['lol'], ['queen'], ['weekly', 'trailer'], ['bring', 'crime', 'ashame'], ['take', 'inspiration', 'goku', 'black'], ['roster', 'look', 'lovely', 'wait', 'release'], ['vegetto'], ['damn'], ['wait'], ['character', 'confirm'], ['wait', 'look', 'good'], ['get', 'clickbaite'], ['come'], ['belove'], ['soooo', 'female', 'expressiveless', 'face'], ['design', 'look', 'like', 'design', 'love'], ['leoooooo'], ['late', 'uploading', 'smh'], ['notice', 'arm', 'pop'], ['let', 'goo', 'high', 'tech'], ['bro', 'excellent', 'marvelous'], ['basis', 'preorder', 'bonus', 'bonus', 'matter', 'preorder', 'regular', 'cdkey', 'save', 'moneybrbr', 'cmon', 'guy', 'well', 'xbox', 'avatars', 'lifelong', 'fan', 'ridiculous', 'selling', 'point'], ['give', 'boy', 'azure', 'dragon', 'sword', 'goku', 'black', 'signature'], ['amazing', 'new', 'reveal', 'yesterday', 'main', 'look', 'badass'], ['water', 'mark'], ['soon', 'brbrbrbrbrunlikely'], ['well'], ['like'], ['legend', 'return'], ['well', 'justice', 'dlcs', 'time'], ['totally', 'unnecassary'], ['wait'], ['talk'], ['lol', 'bandai', 'namco', 'release', 'trailer', 'ignbreveryone', 'know'], ['yes', 'get', 'finally', 'reveal'], ['kill'], ['oufit', 'sooo', 'fire'], ['ign', 'pay', 'uploaded', 'channel', 'not', 'way', 'lol'], ['wtf', 'happen', 'need', 'diving', 'glass', 'try', 'protect', 'sharingan', 'like', 'obito'], ['marvelous'], ['wrong', 'voiceface', 'lmao'], ['mortal', 'slayer'], ['bae'], ['damn'], ['release', 'soon', 'not', 'wait', 'bust', 'head'], ['finally'], ['look', 'different', 'whatsoever'], ['tifa', 'lockhart', 'guest', 'character'], ['come', 'slim'], ['isshin', 'ichiba', 'voice', 'actor'], ['tomorrow', 'reveal'], ['wish', 'game', 'release', 'december', 'long', 'alright'], ['need', 'return', 'character', 'game', 'need', 'appear', 'game', 'spirit', 'cameo', 'appearance', 'release', 'hatred'], ['slot', 'end', 'new', 'agent', 'heihachis', 'step', 'daughter'], ['hope', 'confirm', 'ancient', 'playable', 'character'], ['дьявол', 'никаких', 'цепей', 'ограничивающих', 'твою', 'истинную', 'силу'], ['cmon', 'man'], ['leave', 'die', 'beautifully', 'excellent'], ['add'], ['well', 'bad', 'part', 'trailerbrbest', 'get', 'mad', 'dripbrworst', 'face', 'look', 'like', 'oddly', 'shape', 'plastic', 'like', 'eat', 'bee', 'look', 'fine', 'character', 'panel'], ['amazing', 'legendsbrjulia'], ['myman', 'get', 'drip', 'lookin', 'fire'], ['well', 'add', 'armorke'], ['look', 'like', 'control', 'gene', 'nowbrtekken', 'yeah'], ['know', 'likely', 'like', 'ancient', 'return'], ['like', 'character', 'reveal', 'gameplay', 'reveal', 'happy'], ['hope', 'reveal', 'tomorrow'], ['think', 'dio', 'moment'], ['not', 'comment'], ['kazooie', 'character', 'time'], ['deh'], ['parabéns', 'bamdai', 'gostaria', 'que', 'incluise', 'modo', 'dano', 'quando', 'personagens', 'apanham', 'começam', 'sangrar', 'igual', 'street'], ['hope', 'development', 'look'], ['encanta'], ['bandai', 'namco'], ['bro', 'main', 'favorite'], ['eddyyyyyyyyy'], ['ill', 'good', 'bring', 'cristie', 'character'], ['hear', 'max', 'brbralisa', 'backbrbrzafina', 'dear', 'god', 'backbrbrdevil', 'damn', 'edgelord', 'think', 'escape', 'nomura', 'belt'], ['que', 'salga', 'baki', 'que', 'salga', 'baki', 'que', 'salga', 'baki', 'que', 'salga', 'baki', 'que', 'salga', 'baki'], ['wait', 'play', 'game', 'let', 'goooooo'], ['look', 'awesome'], ['want', 'redesign', 'point', 'welcome'], ['actual', 'new', 'character', 'nice', 'aside'], ['올린거', '또올리노'], ['show', 'slow', 'character', 'trailer', 'game', 'come', 'january', 'consider', 'character', 'show', 'come', 'way', 'able', 'trailer', 'character', 'game', 'release'], ['come'], ['newcomer', 'launch', 'kind', 'weak', 'tobri', 'cut', 'classic', 'character', 'exchange', 'new'], ['okay'], ['new', 'costumes', 'mid', 'wtf'], ['character', 'roster', 'leak', 'screw', 'trailer'], ['beautiful'], ['get'], ['see', 'ign', 'yesterday', 'lol'], ['player', 'life', 'change'], ['thank', 'bandai', 'namco', 'bring', 'bring', 'toooo'], ['goku', 'black', 'nowbrbri', 'mad'], ['wait'], ['alisaaaaa'], ['need', 'ghost', 'character'], ['drip', 'daddy', 'break', 'trailer'], ['saben', 'tendrá', 'alter', 'ego', 'esta', 'entrega'], ['excellent'], ['look', 'super', 'voice', 'especially', 'new', 'talk', 'rendition', 'line', 'terrible', 'facial', 'featuresbrhe', 'look', 'like', 'ken', 'doll', 'similarly', 'female', 'character', 'look', 'bit', 'lifelessbrgame', 'look', 'amazing', 'play', 'like', 'beauty', 'aspect'], ['lie', 'say', 'legend', 'hope', 'unfortunately', 'notbr'], ['namco', 'like', 'well', 'release', 'character', 'trailer', 'bring', 'character', 'trailer', 'soon', 'possible'], ['confuse', 'waste', 'character', 'slot', 'completely', 'different'], ['bring'], ['rage', 'art', 'low', 'key', 'look', 'like', 'critical', 'edge', 'soulcalibur'], ['feel', 'sad'], ['character', 'baki', 'yujiro', 'want', 'believe'], ['not', 'upload', 'yesterday', 'trailer', 'wtf', 'game', 'waste', 'space', 'effort'], ['amazing', 'game', 'yes', 'criminal', 'main'], ['wtf'], ['legend', 'not', 'think'], ['pre', 'order', 'digital', 'edition', 'let', 'goooo'], ['zero', 'new', 'character'], ['pleeeeeaaase'], ['damn', 'unreal', 'engine', 'joke', 'look', 'freak', 'good'], ['want'], ['bbg', 'backbrlessss', 'gooooooooooo'], ['let'], ['look', 'fuqe', 'badass', 'not', 'wait', 'tomorrows', 'character', 'reveal'], ['late'], ['fist', 'champion', 'shoe', 'champion'], ['wait', 'vincent', 'guess', 'leak'], ['gave', 'bout', 'lol', 'return', 'legend'], ['hope', 'pay'], ['honest', 'return', 'standard', 'staple', 'think'], ['ayyyy', 'ьbrbrbrbrbrbr', 'pleez', 'habe', 'duh'], ['glad', 'favourite', 'engrish', 'speak', 'tech', 'billionaire', 'come'], ['drag'], ['need', 'new', 'guest', 'character'], ['atp', 'wish', 'different', 'entity', 'prime', 'viable', 'lore', 'will', 'sacrifice', 'alternate', 'ego', 'restrict', 'character', 'development'], ['wait'], ['let', 'gooooo'], ['power'], ['gameplay'], ['jumpscare', 'scary'], ['definitely', 'new', 'fighter'], ['character', 'lanch', 'big'], ['thoughbrto', 'release', 'later', 'datebrbrmarduk'], ['leak', 'roster', 'come', 'final', 'character', 'reveal', 'release', 'year', 'secondtolast', 'character', 'reveal', 'tomorrow'], ['nov'], ['thing', 'continue', 'like', 'character'], ['tomorrow', 'new', 'character', 'come', 'final', 'character', 'reveal', 'november', 'not', 'wait'], ['have', 'annoying', 'voice', 'know', 'mankind', 'godsend'], ['new', 'character', 'spot', 'leave'], ['goddamn', 'girl', 'ahhhhhhhhhhhhhhhh'], ['well', 'add', 'armorke', 'man', 'roster', 'incomplete'], ['military', 'drip', 'magnificent'], ['character', 'drop', 'apathetic'], ['hope', 'join', 'party'], ['act', 'abit', 'like', 'black', 'goku', 'rise'], ['yes', 'gameplay', 'reveal'], ['moveset'], ['bri', 'demand', 'trailer'], ['bring', 'want'], ['like', 'fucking', 'tired', 'home', 'rest'], ['grenade', 'dome', 'president'], ['wryyyyyy', 'probably'], ['sure', 'outfit'], ['big', 'people', 'say', 'will', 'not', 'lot', 'move', 'wait'], ['excellent'], ['guy', 'boy'], ['cool', 'add', 'fortnite'], ['know', 'point', 'have', 'deviljin', 'regular', 'demonic', 'power', 'add', 'quick', 'switch', 'normal', 'stance', 'stance', 'give', 'access', 'deviljin', 'move', 'issue', 'bear', 'take', 'slot', 'instead', 'palette', 'give', 'extra', 'character', 'year', 'window'], ['slot', 'bear', 'real', 'harada'], ['ign', 'screw', 'spoil', 'character', 'title', 'damn'], ['reveal', 'toooo', 'tough'], ['heck', 'wait', 'main', 'announce', 'final', 'date'], ['puck', 'ask', 'shahoon', 'return', 'people'], ['auntie', 'come'], ['queria', 'muito'], ['brhow', 'possible', 'leave', 'bri', 'play', 'game', 'preorder', 'buy', 'absence', 'include', 'roster', 'useless', 'fighter', 'like', 'brwhat', 'hell', 'crazy', 'leave'], ['hate', 'game', 'edgy', 'reason'], ['update', 'official', 'website', 'fighter', 'section', 'want', 'entire', 'outfitbrbredit', 'thank', 'bandai', 'namco'], ['beautiful', 'prefer', 'voldogameplay', 'version', 'vessel', 'power', 'curse', 'shitty', 'guess', 'happy'], ['bring'], ['weird', 'face', 'capoeira', 'fighting', 'game', 'people', 'think', 'capoeira', 'come', 'fight', 'game'], ['gameplay', 'trailer'], ['allergic', 'new', 'character'], ['beautiful', 'lady'], ['let', 'gooo', 'leee', 'chaolann'], ['دراقنوڤ', 'منور', 'التريلر', 'يالبى', 'ضحكتك'], ['wait'], ['bring', 'guest', 'fighter'], ['marvelous'], ['background', 'music'], ['extremely', 'epic', 'coming', 'btekken', 'year'], ['return', 'mistake', 'neglect', 'drama', 'death', 'evolution', 'hope', 'will', 'not', 'physically', 'present', 'story', 'mode'], ['let', 'frickin', 'day'], ['gragunov', 'russian', 'hammer', 'let'], ['brand', 'new', 'character', 'guest', 'character'], ['get', 'excited', 'boy', 'get', 'announce'], ['bring'], ['exellent'], ['waste', 'slot', 'freaking', 'bear'], ['armorke'], ['need', 'add', 'alexrogerbrand', 'finally', 'guest', 'charactersbrkazuma', 'kiryubrbaki', 'hanmabrakira', 'virtua', 'fighterbrbrad', 'hawke', 'urban', 'reign'], ['theme', 'event', 'fortnite', 'boss'], ['drop', 'price', 'bit', 'beg'], ['want', 'seperate', 'reveal', 'trailer', 'character'], ['prototype', 'ancient', 'want', 'come'], ['power', 'armour', 'use', 'traditional', 'military', 'take', 'away', 'hope', 'good', 'classic', 'skin'], ['legendbraahahhahaha'], ['getsuga', 'tenshou'], ['let', 'goooooooooooooo'], ['return', 'legend', 'right'], ['hope', 'jukebox', 'feature', 'ost', 'disappointing', 'look', 'great', 'solid'], ['not', 'wait', 'replacement'], ['look', 'amazing', 'hope', 'character', 'special', 'guest'], ['guest', 'ideasbrtifa', 'lockhartbrrugal', 'bernsteinbrdr', 'eggmanbrvincenzo', 'cassano'], ['look', 'nice', 'nice', 'character', 'design'], ['dripil'], ['pray', 'drunken', 'gods', 'slot'], ['god', 'dammit'], ['look', 'awfull', 'voice', 'look', 'like', 'teenager'], ['feel', 'right', 'assume', 'bring', 'reveal', 'joke', 'character', 'like', 'fan', 'favourite', 'like'], ['boon', 'dead'], ['great'], ['bring', 'good', 'character', 'series', 'beautifully', 'animate', 'fight', 'style'], ['delight', 'official', 'confirmation', 'return', 'seperate', 'playable', 'character'], ['fuckin', 'piss'], ['roster'], ['look', 'well'], ['pls'], ['fear', 'game'], ['hope', 'announce'], ['trailer'], ['warm', 'hot'], ['fucking', 'ign', 'day', 'official', 'page', 'show'], ['hype', 'game', 'wish', 'different', 'character', 'like', 'different'], ['quiero', 'saber', 'verdad', 'ball', 'vuelve', 'con'], ['increidible', 'miss'], ['year', 'month', 'day'], ['let', 'goooo'], ['welp'], ['kuni', 'need', 'bring'], ['day', 'guy', 'think'], ['website', 'update'], ['come', 'gamplay'], ['beg', 'gameplay'], ['memory'], ['not', 'understand', 'side', 'control', 'gene', 'series', 'calm', 'asf', 'psycho', 'emo', 'boy', 'wth'], ['ngl', 'mad', 'dope', 'bring', 'voice'], ['want', 'devilbrkazuya', 'character', 'like'], ['microvaved', 'cast', 'strong'], ['expect', 'william'], ['alisas', 'hair', 'grow'], ['right', 'see', 'ill', 'ahead', 'pre', 'order', 'not', 'know', 'dude'], ['okaybrtwo', 'bear', 'harada', 'pls', 'add'], ['want', 'green'], ['yes', 'boy', 'heree'], ['roster', 'look', 'amazing', 'start', 'roster', 'favorite'], ['hope', 'appear'], ['love', 'gameplay'], ['want', 'god', 'hand'], ['lar', 'happy', 'wife', 'return'], ['boi', 'jackie', 'chan'], ['news'], ['tomorrow', 'brnov'], ['armour', 'dlc'], ['ignore', 'potentially', 'adapt', 'heihachis', 'playstyle'], ['dio'], ['wonder', 'bring', 'different', 'fighting', 'style', 'father', 'game', 'mainline', 'game'], ['face', 'look', 'point', 'like', 'alisas', 'look', 'right', 'term', 'face', 'hope', 'polished', 'look', 'wierd', 'bland'], ['idea', 'character'], ['not', 'understand', 'ign', 'get', 'reveal', 'trailer'], ['wait'], ['want', 'dlc', 'ill', 'satisfied'], ['devilish', 'drip', 'wow', 'look', 'phenomenal'], ['game', 'look', 'far', 'well', 'pathetic'], ['bro', 'swear', 'need', 'bring', 'breven', 'dlc'], ['make', 'individual', 'trailer', 'anymore', 'love'], ['deviljin', 'rage', 'art'], ['know'], ['기본캐릭터는', '샤힌까지고', '나머진', '패스캐릭터인가', 'br아니면', '공개하는', '캐릭터까지가', '기본캐릭터인가', 'brbr따로', '구분해서', '보여주진'], ['fix', 'face', 'look', 'terrible'], ['get', 'drip'], ['need', 'need', 'moveset', 'need', 'moveset'], ['love'], ['wiliams'], ['let'], ['need', 'happy', 'man'], ['hell'], ['pov', 'huh'], ['pleaase'], ['think', 'move', 'normal'], ['ult', 'like', 'ultra', 'super', 'atack', 'ssj', 'rise', 'goku', 'black', 'dokkan', 'battle', 'real', 'know', 'arika', 'capcom', 'add', 'game', 'think', 'come', 'game', 'crash', 'enemy'], ['grenade', 'design', 'like', 'head', 'sweet', 'detail', 'artist'], ['baki'], ['focus', 'alisas', 'armpits', 'thank', 'base', 'harada'], ['word', 'brsteeeeeeeeeeeeeeeeeeeeeeveeeeeeeeeeee'], ['bhope', 'disc', 'inside', 'code', 'like', 'spider', 'man', 'collectorz', 'eurosb'], ['heikuma', 'kumachi', 'maybe'], ['legend'], ['sound', 'dio', 'brando', 'lol'], ['chances', 'base', 'roster', 'let', 'gooo'], ['watch'], ['wait', 'god', 'dang', 'trailer'], ['tfw', 'roster', 'large', 'launch', 'include', 'main'], ['want'], ['sukuna'], ['minute', 'trailer', 'character', 'second'], ['레이우롱따거', '커밍쑨'], ['elizaaaa'], ['zasalamel', 'dlc'], ['let'], ['describe', 'happy'], ['wait'], ['music'], ['care', 'excellent'], ['look', 'marvellous'], ['glad', 'bae', 'get'], ['good', 'fight', 'game', 'play'], ['nice'], ['look', 'amazing'], ['leave'], ['surprised'], ['reveal', 'well'], ['baki', 'yujiro'], ['look', 'good'], ['marvelous'], ['yeeeeeeeeaaaaaaaah', 'let', 'goooooooo', 'thank', 'bandai', 'namco', 'project', 'harada', 'murray', 'team', 'super', 'awesome', 'marvelous', 'trailer', 'awesome', 'hard', 'work'], ['boy', 'finally'], ['time', 'hear', 'speak'], ['eddychristy'], ['boy', 'going', 'come', 'damn', 'azuzena', 'sexy', 'dance'], ['real', 'good', 'ball', 'fix', 'need', 'new', 'tool', 'man', 'suck', 'beta', 'play', 'people', 'want', 'know', 'inside', 'clubhouse', 'bamco', 'need', 'answer', 'man', 'seriously'], ['need'], ['wow', 'awesome'], ['nice', 'look', 'good'], ['need'], ['wonder', 'gender', 'swap', 'male'], ['come', 'bamco', 'ign', 'trailer', 'yesterday', 'beat', 'product'], ['harada', 'game', 'american', 'market', 'noob', 'friendly', 'know', 'americans', 'noob'], ['man', 'miss'], ['kumapandadevil', 'dragonov', 'look', 'awesome', 'bandi', 'namco'], ['goat', 'return'], ['yes', 'beta', 'insane', 'not', 'wait', 'qwaaargh'], ['wait', 'come'], ['dlc', 'sad'], ['alisaaaaaaaaaaa'], ['wait'], ['cool'], ['bandai', 'capoeira', 'tiger', 'edy', 'yes', 'tag', 'playstation', 'yes', 'warrior', 'fight', 'game'], ['come'], ['캐릭터별로', '따로내주지'], ['wonder', 'add'], ['hype', 'play'], ['want'], ['main', 'dvj', 'character', 'amazing', 'voice', 'rage', 'art', 'money'], ['big', 'ass', 'start', 'roster', 'new', 'character', 'far', 'weird'], ['god', 'clueless'], ['legend'], ['bamco', 'input', 'great', 'tool', 'suck', 'able', 'throw', 'backdash'], ['sword', 'sick', 'face', 'emotion', 'lack', 'like', 'scream', 'face', 'barely', 'show'], ['fans', 'stay', 'win', 'excelllllllllllent'], ['wait', 'character', 'reveal', 'nov', 'excited'], ['happy', 'return', 'hope', 'base', 'roster', 'probably', 'see', 'leak', 'early', 'dlc'], ['legend', 'moves', 'merge', 'legend', 'newcomer'], ['chaobla', 'confirm'], ['understand', 'harada', 'say', 'ask', 'shi', 'want', 'let', 'cook', 'hungry', 'till', 'release', 'marvelous', 'job', 'harada', 'team', 'wait', 'buy', 'game'], ['kingbrarmor', 'kingbrarmor'], ['fan', 'hit', 'different', 'nostalgia'], ['disappoint', 'personally', 'not', 'great', 'difference', 'rosterbrbrit', 'update'], ['return'], ['want'], ['fight', 'game', 'roster', 'look', 'like', 'release'], ['devin', 'final', 'boss', 'man'], ['gna', 'miss', 'real', 'legend'], ['let', 'cook'], ['hell', 'legends', 'legend', 'character', 'orge'], ['ill', 'accept', 'return', 'knock', 'ass'], ['need', 'bro'], ['girl', 'return', 'let'], ['know', 'probably', 'happen', 'return', 'know', 'kill', 'end', 'declare', 'dead', 'end', 'seemingly', 'die', 'explosive', 'death', 'survive', 'brbror', 'hell', 'stay', 'dead', 'pull', 'joker', 'injustice', 'version', 'hallucination', 'ghost', 'haunt', 'sort', 'unfinished', 'business'], ['want'], ['dirty', 'rise', 'bomb', 'sick'], ['announce', 'nice'], ['hope', 'ryu', 'reveal'], ['lose', 'swag'], ['attention', 'main', 'come', 'pray', 'angry', 'boy', 'slot', 'type', 'sav', 'whoohoo'], ['max', 'steel', 'lookin', 'ass', 'mfer'], ['need'], ['wait', 'beloved', 'police', 'man'], ['wow', 'quick', 'delete', 'comment', 'spoilere', 'character'], ['new', 'outfit', 'look', 'goofy', 'care', 'happy'], ['get', 'new', 'character', 'far', 'hope', 'character', 'new'], ['thankful', 'base', 'roster', 'option', 'play', 'like', 'xaioyu', 'trash', 'season', 'work', 'drag'], ['fanplayer', 'happy', 'bandai', 'change', 'voice', 'main', 'costume', 'nice', 'player', 'like', 'innovative', 'skin', 'u_u'], ['yooo', 'broooken', 'freaking', 'vegito', 'aura', 'sword', 'lmao'], ['think', 'come'], ['excellent', 'infinity'], ['well', 'release'], ['zafinaaaaaaaaa'], ['want', 'yoshis', 'trailerrrr'], ['nice', 'wait'], ['let', 'goooo'], ['bring', 'beak'], ['nice', 'wtf', 'wear'], ['want', 'separate', 'trailer', 'not', 'want', 'leaker', 'ruin', 'experience', 'watch', 'gameplay', 'main', 'like', 'character'], ['like', 'holy', 'crap', 'hell', 'costume', 'design'], ['glorius', 'leeee'], ['come', 'man', 'reveal', 'boy'], ['amazing', 'hope'], ['hope', 'return'], ['mugetsu', 'fro', 'bleach', 'badass'], ['not', 'let', 'buy', 'old', 'character', 'dlcs'], ['bro', 'get', 'piss'], ['suprise', 'appearance', 'brbrbrbecause', 'tag', 'hope', 'story', 'lore', 'wise', 'plus', 'opinion', 'tag', 'moveset', 'fit', 'pretty', 'brbrstory', 'wise', 'tame', 'atleast', 'handle', 'brbri', 'mean', 'game', 'canon', 'appear', 'ending', 'unknown', 'herselfbrbrbranyway', 'secretly', 'wish', 'unknown', 'obviously'], ['getting', 'announce', 'tomorrowbrlet', 'goooo'], ['want', 'pls', 'pls', 'happen'], ['think', 'time', 'new', 'movie', 'tie'], ['trailer'], ['need', 'ana'], ['hype'], ['대박이네'], ['hype'], ['look', 'good'], ['long', 'dlc', 'want', 'base', 'game'], ['kind', 'sound', 'like', 'dio', 'brando'], ['lineup', 'look', 'fire', 'play'], ['dragunovs', 'voice', 'takehito', 'koyasu'], ['not', 'wait', 'tomorrow'], ['will', 'not', 'happen', 'want'], ['love', 'agent', 'reveal'], ['costumes', 'awful'], ['wait', 'destroy', 'unreal', 'engine'], ['downgrade'], ['buy', 'rip', 'unu'], ['hope'], ['include'], ['look', 'super', 'aesthetic', 'new', 'graphic', 'look', 'bad', 'ass', 'voice', 'get', 'fight', 'kaz', 'form', 'light'], ['need', 'girl', 'everybody', 'upset', 'good', 'reason', 'lol'], ['надеюсь', 'будет', 'кунимицу', 'ттт'], ['great', 'alisabri', 'hope', 'base', 'roster'], ['year', 'later', 'change', 'costume'], ['man', 'respect'], ['awesome', 'video', 'man'], ['tomorrow'], ['brshow', 'pandabrsure', 'buddy'], ['electric', 'cuddle', 'core', 'fightinggmgmfizzle', 'trash', 'oop', 'brshadowz', 'kind', 'trash', 'brlowhigh', 'rangchu', 'chanel', 'qudan', 'gagguni', 'tekkentimfgctim', 'gatekeeper', 'trent', 'course', 'arslan', 'ash', 'trash'], ['waste', 'fke', 'roster'], ['new', 'character'], ['devilll', 'jinnnnn'], ['yes', 'yes', 'yes', 'think', 'baby', 'boy'], ['yes', 'yes', 'confirm', 'brbrthanks', 'harada'], ['neee', 'belove'], ['get', 'bad', 'botox', 'job', 'see', 'give', 'bad', 'delivery', 'cringiest', 'line', 'series', 'help', 'man'], ['want', 'slim'], ['bring'], ['bnow', 'convinced', 'announce', 'return', 'similar', 'epic', 'wayb'], ['всякого', 'сброда', 'надобавляли', 'где', 'армор', 'кинг', 'может', 'додумаются', 'акумбуюмбу', 'гуся', 'ногтиса', 'добавлять', 'или', 'тогда', 'уже', 'всем', 'персонажам', 'projectile', 'высокие', 'прыжки', 'ударами', 'обеспечить'], ['know', 'chance', 'come', 'close', 'pray'], ['cody', 'rhode', 'debut', 'imminent'], ['real', 'sad', 'get', 'second', 'footage', 'hope', 'trailer', 'soon'], ['face', 'look', 'weirdly', 'shaped', 'look', 'like', 'wear', 'face', 'face'], ['remain'], ['yes', 'brchance', 'pretty', 'slim'], ['look', 'like', 'plastic', 'surgeon', 'look', 'face'], ['not', 'main'], ['legend', 'character', 'return', 'right', 'tomorrow', 'thursday', 'not', 'wait', 'new', 'character', 'amazed', 'time'], ['get', 'huh'], ['fck'], ['bet', 'character', 'sebastian'], ['want'], ['excellent', 'finally', 'purple', 'hair', 'glad', 'legend', 'list'], ['right', 'well', 'write', 'goat', 'easily', 'good', 'character', 'return', 'late', 'game', 'atleast', 'come', 'main', 'fighter', 'wup', 'ass', 'game', 'favorite', 'character', 'brbrthose', 'game', 'great', 'wait'], ['character', 'miss', 'please'], ['excited', 'hope', 'costume', 'variety', 'good', 'need', 'lose', 'ski', 'mask', 'immediately'], ['damn', 'guess', 'wait', 'season', 'pack'], ['lot', 'compare', 'start'], ['love', 'alisas', 'new', 'look', 'not', 'wait', 'game', 'launch'], ['main'], ['alright', 'reveal', 'kuni'], ['favs', 'hope'], ['get'], ['pleaaaaaseee'], ['yess', 'happy', 'return'], ['design', 'disappoint'], ['bring', 'capoeirabrcristine', 'monteirobrou'], ['trailer', 'wtf'], ['character'], ['need'], ['see', 'get', 'excited', 'plus', 'brian', 'list', 'complete', 'ill', 'try', 'time', 'life', 'try'], ['not', 'excellent'], ['notice', 'grenade', 'resemble'], ['willing', 'bet', 'right', 'nut', 'character'], ['interested', 'intro', 'beween', 'june'], ['hope'], ['today', 'nov'], ['ruin', 'main', 'nooooooooo'], ['literally', 'new', 'character', 'huh'], ['long', 'say', 'excellent'], ['glad', 'comeback', 'join', 'fight', 'pray'], ['lidiabrplease', 'lidiabrplease', 'lidiabrplease', 'lidiabrplease', 'lidiabrplease', 'lidiabrplease', 'lidiabrplease', 'lidiabrplease', 'lidiabrplease'], ['replace', 'dumb', 'world', 'stupid', 'people'], ['chance'], ['look', 'game', 'wish', 'appearance', 'instead', 'cameo', 'mention'], ['miss'], ['dammit', 'let'], ['make', 'battle', 'epic'], ['shame', 'dvj', 'decide', 'anyways', 'instead', 'totally', 'different', 'character', 'redundant', 'look', 'way', 'cool', 'brbralso', 'love', 'finally'], ['point', 'release', 'trailer', 'want', 'actual', 'gameplay'], ['happen', 'excellent'], ['wait', 'brand', 'new', 'character'], ['surprised', 'talk', 'fffffff', 'cool', 'look'], ['literally', 'give', 'vegitos', 'spirt', 'sword'], ['bring'], ['happy', 'pinoy', 'toxic', 'asf', 'like', 'corrupt', 'government', 'dick', 'ride', 'long', 'win', 'toxic', 'not', 'gago', 'manga', 'kupal'], ['drop', 'trailer', 'twice', 'definition', 'blue', 'ball'], ['look', 'terrible'], ['hope', 'main', 'roster'], ['cross', 'finger', 'cast', 'fantastic', 'regardless'], ['want', 'bet', 'character'], ['jinnn', 'yeahhhhhh'], ['raiden', 'era'], ['hopefully', 'stay'], ['dragunovbrbrdragunovbrbrdragunovbrbrderagunoppu'], ['need', 'track'], ['want', 'add'], ['super', 'make', 'regular', 'super', 'look', 'lame'], ['hope', 'come', 'irving'], ['pls'], ['aye', 'well', 'baki', 'yujiro'], ['need', 'hihachi', 'baki', 'akumalu', 'kangterry', 'dlc'], ['possible', 'free', 'return', 'moment'], ['boy', 'look', 'scary'], ['badass', 'time'], ['omg', 'sweet'], ['need', 'boi'], ['guy', 'agree', 'special', 'introrage', 'art', 'dialoge', 'special', 'winning'], ['lets', 'gooooo', 'main', 'come', 'not', 'wait', 'video'], ['paywall'], ['hope', 'get', 'release'], ['bold', 'design', 'leave', 'hand', 'human', 'wow', 'not', 'wait', 'trailer', 'play'], ['call', 'bout', 'time', 'receive', 'update', 'long', 'hair', 'new', 'appearance', 'good', 'waifu', 'game', 'minute'], ['drop', 'acharacter', 'week', 'view'], ['pand', 'waste', 'slot', 'bring', 'honest', 'character'], ['roster', 'bad', 'netcode'], ['beg', 'tomorrow'], ['joey', 'bueno'], ['legend'], ['character', 'far', 'kick', 'fighting', 'game', 'ass'], ['yes', 'excited', 'character', 'roster', 'reveal', 'despite', 'see', 'previous', 'installment'], ['bring', 'bumming'], ['storm', 'connection', 'demo', 'attend', 'cpu', 'hard', 'beat', 'storm', 'connection', 'free', 'mode'], ['get', 'hype', 'boy', 'disappearinto', 'void'], ['rip'], ['not', 'know', 'aesthetic', 'style', 'game', 'beautiful', 'game', 'see', 'want', 'watch', 'scene', 'character', 'talk', 'cool', 'thing', 'remember', 'dang', 'game', 'hype', 'single', 'trailer'], ['happy', 'game', 'hope'], ['gameplay', 'reveal', 'trailer', 'click', 'bait', 'thumbnail'], ['modern', 'day', 'fight', 'game', 'outfit', 'suck', 'ass', 'compare', 'previous', 'game'], ['chance', 'make', 'comeback', 'dlc', 'maybe'], ['bring'], ['wuloooong'], ['not', 'game', 'boy'], ['character', 'leave', 'jaycee', 'new', 'character', 'alas', 'french', 'dutch', 'character', 'introduce', 'saga'], ['guess', 'throw', 'away', 'fan', 'service', 'like', 'street', 'fighter', 'mortal', 'kombat', 'hope', 'soul', 'calibur', 'follow', 'trend', 'leave', 'ivy'], ['deserve', 'proper', 'reveal', 'trailer'], ['release', 'halloween', 'good', 'idea', 'haha'], ['get', 'new', 'character', 'kind', 'suck', 'replace', 'bear', 'crazy', 'bringing', 'crazy'], ['costumepreset', 'reveal'], ['get', 'boy', 'arabic', 'dub', 'not', 'way'], ['individual', 'character', 'trailer', 'want', 'second', 'lol'], ['fear', 'wrath', 'god'], ['porque', 'que', 'fome', 'pensaba', 'que', 'estaba', 'fusionado', 'con', 'forma', 'demonio', 'creo', 'que', 'innecesario', 'ocupa', 'espacio', 'cual', 'podría', 'usar', 'personaje', 'icónico', 'saga', 'como', 'que', 'pelea', 'como', 'jackie'], ['wonder', 'insert', 'dlc', 'probably', 'nerfe', 'move'], ['not', 'wait', 'november', 'stepping', 'lava', 'unscathed', 'rightbrbr'], ['armour'], ['lie'], ['return', 'soon', 'later'], ['damn', 'capcom', 'launch', 'roster'], ['hold', 'return'], ['new', 'zamasu'], ['hype', 'right', 'scream', 'loud', 'see', 'yoshimistu', 'people', 'think', 'insane'], ['plz'], ['thai', 'hope', 'keep', 'farkumram'], ['masterpiece', 'caracter'], ['legend', 'trailer'], ['omae', 'mou', 'shindeiru'], ['question', 'brand', 'new', 'character'], ['yassssssssssssssss', 'fuckin', 'happy', 'sure', 'feel', 'say', 'marvelous', 'instead', 'excellent'], ['face', 'model', 'not', 'look', 'like', 'quality'], ['bear'], ['character', 'gameplay', 'trailer'], ['ill', 'happy'], ['throw', 'combotinspire', 'grenade', 'dub', 'combomb'], ['espero', 'dlc', 'mas', 'delante', 'traigan'], ['brokennnnnnnnnn', 'tier', 'day', 'bro'], ['bruh', 'happen', 'tastein', 'fashion'], ['need', 'guest', 'character'], ['see', 'reveal', 'story', 'feel', 'kill'], ['satanic', 'stuff', 'game', 'shame'], ['hope', 'come'], ['present', 'hour'], ['rearry'], ['probably', 'spend', 'million', 'dollar', 'make', 'advance', 'tech', 'grenade', 'specifically', 'explode', 'make', 'fancy', 'rise', 'petal', 'effect', 'give', 'rose', 'fragrance', 'scent', 'explode'], ['guy', 'well', 'add', 'legacy', 'character'], ['misread', 'trailer', 'say', 'think'], ['awesome'], ['bandai', 'final', 'form'], ['bring'], ['verme', 'tragam', 'volta', 'terno', 'crime', 'guerra', 'que', 'vocês', 'fizeram', 'pqp'], ['like', 'heck'], ['thing', 'baby', 'finally', 'footage', 'assume', 'couple', 'day', 'ago', 'game', 'chance', 'behold', 'happen'], ['hope', 'final', 'character'], ['marvelous', 'hope', 'excellent', 'line'], ['tifa', 'come', 'guy'], ['notice', 'trailer', 'ign', 'post', 'yesterday', 'lol'], ['game', 'slot', 'guest'], ['need', 'wiliams', 'heiachi'], ['estará'], ['octopath', 'cotc', 'reference', 'love'], ['get', 'mow'], ['lie', 'expect', 'new', 'comer', 'hopefully', 'dlc', 'like', 'street', 'fighter'], ['will', 'not', 'bother', 'buying', 'not', 'add'], ['need', 'spend', 'time', 'fix', 'online'], ['come', 'kingmarduk', 'brucemiguel'], ['wait', 'occupy', 'different', 'slot'], ['mean', 'arslan', 'ash', 'unstoppable'], ['need', 'character', 'boscovisk', 'reason', 'neutralize', 'dan'], ['learn', 'new', 'word', 'marvelous'], ['man', 'need'], ['suck'], ['game', 'character', 'slot', 'valuable', 'separate', 'character', 'kind', 'suck'], ['wear', 'typical', 'trench', 'coat', 'give', 'alternative', 'end', 'lol'], ['hope', 'return'], ['kingggg'], ['love', 'trailer', 'not', 'like', 'gameplay', 'direction', 'game', 'despise', 'oversaturate', 'stuff'], ['come', 'home', 'brbrmarvelous', 'brbrthe', 'new', 'costume', 'look', 'great', 'justice', 'look', 'awesome'], ['pure', 'fire'], ['beloved'], ['separate', 'character', 'moveset', 'rage', 'art', 'sweet'], ['fucking', 'sick', 'get', 'roster', 'character'], ['lmao', 'suck', 'suck', 'loser'], ['hope'], ['love', 'development'], ['come'], ['let', 'hitmonlee'], ['new', 'boss'], ['favorite'], ['look', 'good', 'boy'], ['remind', 'james', 'pokémon'], ['character', 'jojo', 'clothe', 'sponsor', 'balenciaga'], ['happen'], ['sure', 'hope', 'deal', 'cringe', 'edgy', 'phase'], ['thank', 'later'], ['ign', 'trailer', 'guy'], ['somebody', 'send', 'music'], ['god', 'let', 'new', 'character', 'drop'], ['hope', 'announce', 'soon'], ['capcom', 'note', 'release', 'fight', 'game', 'sufficient', 'character', 'arena'], ['november'], ['excite', 'return', 'man', 'alisas', 'outfit', 'ugly'], ['wow', 'actually', 'surprised'], ['girl'], ['main', 'ttt', 'need', 'sad', 'unique', 'character', 'maybe', 'similar', 'playstyle', 'think', 'add', 'dlc', 'sad', 'have', 'kind', 'main', 'character'], ['pray', 'character', 'chtistie'], ['crazy', 'hope', 'make', 'return'], ['hope'], ['want'], ['game', 'look', 'good', 'wish', 'plain', 'toylikebrbrrefer', 'render', 'want', 'perfectly', 'realistic', 'classic'], ['play', 'scam', 'dlc', 'original'], ['game', 'boy', 'get', 'dirty', 'leave', 'probable', 'pay'], ['alissa', 'fuckin', 'hype'], ['bring', 'pleeeeeeease'], ['necesito'], ['yesss'], ['devillllll'], ['one'], ['yass'], ['plz'], ['fvk', 'bear', 'alyssa', 'player'], ['impatiently', 'wait', 'announce'], ['boom', 'rise', 'badass', 'thing'], ['think', 'dvj', 'come', 'bcs', 'control', 'able', 'enter', 'style', 'oman', 'wrong', 'start', 'animey', 'animelike', 'fan', 'get', 'honest', 'get', 'good', 'glow', 'game'], ['hope', 'return'], ['por', 'favor'], ['遂にリーとアリサ来たーbrナムコ様ハラダ様ありがとうございます'], ['hope', 'reveal', 'totally', 'new', 'character', 'lookin', 'like', 'far', 'kind'], ['love', 'comical', 'wait', 'character', 'reveal', 'thing', 'get'], ['let'], ['tomorrow', 'lol'], ['come', 'yes'], ['know', 'hope', 'spot', 'sayin'], ['모쿠진'], ['thank', 'haradasan', 'give'], ['main', 'stand'], ['new', 'design', 'cute', 'color', 'scheme', 'offso', 'reminding', 'toothpaste', 'need', 'change', 'color', 'scheme', 'game', 'fully', 'release'], ['like', 'selection', 'understand', 'waste', 'slot', 'let', 'swap', 'als', 'custom', 'waste', 'likeable', 'playing', 'charakter', 'brbrthere', 'charakter', 'want', 'like', 'think', 'time', 'bring', 'old', 'character', 'like', 'brbrand', 'think', 'story', 'need', 'ancient'], ['separate', 'character'], ['return', 'legend'], ['kill'], ['bring'], ['wait'], ['bad'], ['ready', 'game', 'drop'], ['need', 'muay', 'thai', 'fighter'], ['que', 'vuelva', 'por', 'favor'], ['wow'], ['freaking', 'hype'], ['yoooo', 'good'], ['unpopular', 'opinion', 'hope', 'bring', 'great', 'addition', 'roster'], ['bro', 'want', 'wrap', 'slot', 'leave', 'think'], ['wtf', 'happen', 'face', 'ddddddd'], ['bro', 'hell', 'happen'], ['realize', 'grenade', 'head'], ['return'], ['hope', 'play', 'like', 'kind', 'want', 'bear', 'finally', 'play', 'different'], ['plzzzz'], ['elizaaaa'], ['cap', 'happen', 'jaw', 'bone', 'bro'], ['coolest', 'trailer', 'see', 'not', 'wait'], ['plz'], ['share', 'slot', 'like', 'brand', 'brxiaoyu', 'miharu', 'breddy', 'brraven'], ['main', 'punch', 'air'], ['madly', 'happy', 'character', 'come'], ['want', 'huhu'], ['ign', 'release', 'trailer'], ['man', 'hope'], ['demonic'], ['legend'], ['love', 'trailer', 'emphasize', 'alisas', 'armpit', 'important', 'content'], ['faltaría'], ['hell', 'yeah'], ['awesome'], ['character', 'stage', 'make', 'sense', 'team', 'battle'], ['miss'], ['waw'], ['get', 'game'], ['cheek', 'lol'], ['bring'], ['アーマーキングではない場合血の復讐があるでしょう'], ['like', 'lar', 'askua', 'nice', 'encounter', 'eventually', 'fight', 'adopt', 'brother', 'have', 'batman', 'superman', 'sort', 'thing', 'utilize', 'technology', 'leave', 'family', 'blood', 'relate', 'family'], ['robot', 'face', 'longdead', 'person', 'age', 'somewhat', 'possible', 'bandai', 'namco'], ['character', 'guess'], ['извинитено', 'кто', 'проходил', 'сюжетразве', 'lar', 'должны', 'были', 'так', 'быть', 'списке', 'персонажей', 'чем', 'легенды'], ['pllzz'], ['gorgeous', 'word', 'sin', 'trigger'], ['finally', 'talk'], ['ich', 'höre', 'grad', 'ganz', 'viele', 'stimmen', 'ich', 'weiß', 'nicht', 'das', 'die', 'videos', 'oder', 'mein', 'tren', 'ist', 'den', 'ich', 'seit', 'wochen', 'nehme', 'ballert', 'mich', 'komplett'], ['hope', 'drb'], ['new', 'character'], ['yeeeeeeeeeeeeeeeeesssssssssssssssssssssssssssssssssssssss'], ['yeee'], ['baki', 'need', 'baki'], ['hope', 'beef', 'kazamasbrbredit', 'mean', 'mishibas'], ['hope', 'announce'], ['need'], ['yes', 'legend', 'fke', 'character'], ['vivaaa', 'mortal', 'kombattt'], ['jumpscare', 'get', 'love', 'keep', 'dragunovs', 'quiet', 'deadly', 'attitude'], ['touchups', 'character', 'design', 'good'], ['legend'], ['say', 'cool', 'bring', 'brucekunimitsumokujinbaekbob', 'get', 'real', 'legendary', 'character', 'fun', 'bring', 'cool', 'like', 'know', 'spelt', 'name', 'wrong', 'lol'], ['look', 'unfinished'], ['look', 'sick', 'brbrwhere'], ['hype', 'game', 'hello', 'huge', 'fan', 'disappoint', 'far', 'roster', 'character', 'new', 'character'], ['bad', 'montero', 'come'], ['character'], ['dlc', 'add'], ['actually', 'look', 'unsettling', 'ill', 'forget', 'hworang', 'end', 'actually', 'bother', 'kid', 'slowly', 'walk', 'camera', 'outstretched', 'arm', 'not', 'wait', 'game'], ['order'], ['game', 'look', 'cool', 'hard', 'play'], ['know', 'care', 'welcome', 'bro', 'think', 'drop', 'lol'], ['character', 'new', 'game', 'compatible', 'spirit', 'fahkumran', 'effective', 'fighting', 'branch', 'example', 'expect', 'young', 'attractive', 'character', 'like', 'mma', 'branch', 'bad', 'teenage', 'girl', 'character', 'story', 'game', 'bad', 'nice', 'story', 'movie', 'character', 'not', 'impact'], ['damn', 'look', 'like', 'woman', 'damn', 'choker', 'wtf', 'lol', 'think'], ['bring', 'mokojin', 'plllleeeaaassseeeee'], ['chloeeeeeeeeeeeeeeeeee'], ['omgg', 'alisaaaa', 'finally'], ['bring'], ['armpitsu'], ['forgot', 'character', 'inside', 'joke', 'need'], ['cast', 'make', 'big', 'date'], ['leí'], ['hope', 'poland', 'queen', 'good', 'dlc', 'character', 'not', 'leave'], ['hand', 'sword'], ['look', 'like', 'game', 'year', 'character', 'music', 'thing', 'look', 'wonderful', 'wait', 'add', 'base', 'game', 'cool', 'video'], ['badass'], ['feel', 'great', 'game', 'play', 'kidgrow', 'old', 'adult', 'maybe', 'family'], ['woolong', 'comeback'], ['release', 'dlc', 'add', 'release', 'feel', 'bad', 'street', 'fighter', 'mortal', 'kombat', 'point'], ['need', 'trailer', 'pleaseeeee'], ['vegito', 'spirit', 'sword'], ['die', 'look', 'like', 'spykid'], ['miss'], ['poor', 'redesign', 'look', 'absolutely', 'ridiculous', 'drastic', 'step', 'game', 'bear', 'look', 'emo', 'dumb', 'bang', 'look', 'like', 'napoleon', 'dynamite', 'draw'], ['hope', 'show'], ['excite', 'music', 'stage'], ['new', 'character', 'old', 'generation', 'like', 'christine', 'generation', 'character'], ['데빌진', '안나올리가'], ['literally', 'earth', 'thing', 'legend'], ['quit', 'remove', 'main', 'character'], ['want'], ['heart', 'favorite', 'main', 'glad'], ['aight'], ['trailer'], ['dio', 'voice'], ['hopefully', 'soon'], ['omg', 'yasss', 'confirm', 'main'], ['finally', 'nice', 'looking'], ['belovedbri', 'love', 'play', 'devilangel', 'type', 'character', 'laser', 'cool', 'pass', 'upbralso', 'love', 'new', 'design', 'good', 'look', 'soulcalibur'], ['kuni'], ['boi'], ['hope', 'slim'], ['spirit', 'sword'], ['like', 'brand', 'new', 'universe', 'character'], ['lol', 'look', 'like', 'zac', 'efron', 'filler'], ['represent', 'art', 'muay', 'thai'], ['inbrnow', 'bring'], ['someweight'], ['reveal', 'cool', 'design', 'nvidia', 'quadro', 'rtx'], ['legend', 'need', 'believe', 'bring', 'bear', 'base', 'roster', 'character'], ['hope', 'different', 'move', 'combo'], ['jajajaj', 'mas', 'bien', 'street', 'final', 'mission'], ['tomorrow', 'new', 'character'], ['get'], ['long', 'guess', 'iam', 'save'], ['gundum', 'ulti'], ['want', 'not', 'play', 'character'], ['dang', 'zafinas', 'face', 'maybe', 'good', 'female', 'face', 'game', 'look', 'like', 'human'], ['bear'], ['graphic', 'bit', 'sad'], ['trolling', 'thumbnail', 'know', 'banco', 'have', 'ball'], ['pleasee'], ['reveal', 'bout'], ['reveal', 'tomorrow', 'halloween'], ['man', 'hope', 'amkthink', 'lil', 'majin', 'mention', 'have', 'amks', 'move', 'confirm', 'come', 'hopeful'], ['guess', 'wish', 'irwin', 'sanbrbrbr', 'know', 'ask', 'lot', 'not', 'rub'], ['get', 'rid'], ['people', 'say', 'leak', 'fake', 'lily', 'have', 'face'], ['new', 'favorite', 'game', 'love', 'lar', 'play', 'year', 'fighter', 'til'], ['yes'], ['resurgence', 'pretty', 'cool', 'debut', 'largely', 'ignore', 'tournament', 'play', 'happy', 'downloadable', 'content', 'able', 'bring', 'popularity', 'love', 'look', 'like', 'get', 'replace'], ['namco'], ['need', 'tiger', 'capoeira'], ['want', 'boy'], ['bring', 'character', 'root', 'main', 'roster'], ['need'], ['holy', 'smokes', 'look', 'gorgeous', 'trailer'], ['capoeira', 'user', 'roster'], ['wrong', 'face'], ['데빌진'], ['black', 'goku'], ['independent', 'trailer', 'look', 'good'], ['turn', 'raiden', 'mgs', 'series'], ['que', 'sea', 'otra', 'moriré'], ['hell', 'man', 'actually', 'release', 'game', 'add'], ['christe', 'main', 'bring', 'buy', 'game'], ['need'], ['not', 'hand', 'motion', 'ttt', 'hold', 'place', 'ill', 'upsetbrbrmake', 'happen', 'bandai', 'namco'], ['wtf'], ['enserio', 'pondran', 'una', 'lástima'], ['crazy', 'get', 'naruto', 'dbz', 'jjk', 'time', 'alive'], ['cry'], ['baki'], ['glad', 'legend', 'return', 'plus', 'love', 'alisas', 'new', 'design', 'look', 'pretty'], ['letzzgooo'], ['main'], ['miss', 'lol'], ['return', 'straight', 'middle', 'finger', 'main'], ['파쿰람', '파쿰람', '파쿰람', '파쿰람', '파쿰람', '파쿰람', '파쿰람', '파쿰람', '파쿰람', '파쿰람', '파쿰람', '파쿰람', '파쿰람', '파쿰람', '파쿰람', '파쿰람'], ['nice', 'want', 'individual', 'trailer'], ['roar', 'love', 'iyyyyyaaaaaaahhhhhhhhrrrghhh'], ['look', 'amazing', 'man', 'hope', 'self', 'able', 'wear', 'clothe', 'preset', 'customization', 'feel', 'weird', 'totally', 'different', 'clothing', 'past', 'game'], ['play'], ['love', 'audio', 'direction', 'obviously', 'case', 'feel', 'grandiose', 'extra', 'spot', 'hard', 'describe', 'excited'], ['well'], ['mah', 'poor', 'baby', 'nerve', 'hideous'], ['bring'], ['great'], ['new', 'character', 'previous'], ['chloeee'], ['mean', 'char', 'leave', 'main', 'going', 'dlc', 'axe'], ['seriously', 'have', 'different', 'character', 'literally', 'waste', 'slot', 'character'], ['think', 'new', 'trailer', 'nov'], ['yes', 'main'], ['baki', 'dlc', 'unit', 'night'], ['ign', 'get', 'access', 'trailer', 'drop', 'trailer', 'say', 'come', 'reveal', 'trailer'], ['ngl', 'haradas', 'artist'], ['new', 'trailer'], ['qudans', 'comeback', 'need', 'dvj', 'player'], ['baki', 'yujiro'], ['happy', 'question', 'remain', 'need', 'start', 'roster'], ['mas', 'legenda', 'que', 'muchos', 'ahi', 'siempre', 'dejan', 'resagado', 'mal', 'ahi'], ['excellleeentttt'], ['think', 'vegeto'], ['need', 'happy'], ['wait', 'ridge', 'racer'], ['know'], ['quero', 'nesse', 'jogo', 'também'], ['graphic', 'look'], ['cmon', 'baki', 'yujiro', 'hanma'], ['chapman', 'legend', 'bronly', 'count', 'legend'], ['man', 'bear', 'character', 'slot', 'favorite', 'kangaroo', 'get'], ['look', 'like', 'hero', 'form', 'rent', 'hero'], ['whre', 'annaaaaa'], ['girl', 'look', 'good', 'miss', 'definitely', 'get', 'release'], ['pls'], ['rage', 'art', 'look', 'similar', 'spirit', 'sword', 'vegetto'], ['love', 'roster'], ['legend', 'lol', 'legend'], ['bear', 'koala'], ['song'], ['legend', 'old', 'scientist', 'dude', 'unknown', 'legend'], ['capoeira'], ['brand', 'new', 'characterand', 'exact', 'roster', 'far', 'want', 'bit', 'diversity'], ['wait', 'bit', 'game', 'soon', 'possible', 'mean'], ['laser', 'sword', 'spam', 'babyyyyyyyy'], ['design', 'look', 'well', 'everbrsteve', 'dig', 'new', 'gearbrdragovich', 'kind', 'forgettable', 'stillbrkuma', 'wow', 'look', 'like', 'take', 'seriously', 'oncebrleo', 'redorange', 'suit', 'himbrshaheen', 'thank', 'god', 'story', 'need', 'continuebrpanda', 'mehbrzafina', 'look', 'way', 'well', 'nadj', 'kofbrleo', 'tech', 'outfit', 'suit', 'himbralisa', 'change', 'design', 'want', 'badassbrdevil', 'bsighb', 'sure'], ['guest', 'character', 'maybe'], ['expect', 'secondary', 'ace', 'fighter', 'mean', 'get', 'train'], ['wow'], ['hope', 'get', 'love', 'absolute', 'garbage', 'funny'], ['want', 'bruve'], ['wear', 'fancy', 'suit', 'pretty', 'consistent', 'theme', 'dude', 'suit', 'make', 'world', 'bad', 'place', 'live'], ['buy', 'game', 'pick', 'beta', 'fact', 'return', 'character'], ['dlc', 'plz', 'plz', 'plz'], ['kunimitsuuuuuuu', 'pleaseeeeeeeeee'], ['character', 'goodbrbut', 'steal'], ['dlc', 'plz', 'plz', 'plz', 'elizatekken'], ['let', 'base', 'roster'], ['rage', 'art', 'marvelous'], ['menacing'], ['far', 'new', 'original', 'character'], ['beat'], ['dear', 'god', 'let', 'slot', 'cameo', 'fighter'], ['ask', 'lol'], ['game'], ['smokey', 'lip'], ['hope', 'add'], ['hopefully', 'add', 'want', 'similar', 'set'], ['finallybrmy', 'dear'], ['need'], ['need'], ['miss'], ['goku', 'black'], ['individual', 'trailer', 'anymore'], ['mokojin'], ['think', 'character'], ['main'], ['aside', 'fight', 'wonderful', 'taste', 'clothing', 'engage', 'duel', 'agree', 'think', 'itbrbrcan', 'suggest', 'haradasan', 'add', 'evil'], ['yeeessir'], ['real', 'question', 'wait', 'female', 'male'], ['pls'], ['whwre'], ['think', 'new', 'character', 'like', 'azusena', 'turn', 'old', 'character'], ['wait', 'new', 'guest', 'character', 'new', 'face', 'original', 'character'], ['drip'], ['okay'], ['plz'], ['horrible'], ['love', 'well', 'dvj', 'not', 'come', 'think', 'fused', 'dvj', 'well'], ['pleaseee'], ['yeah'], ['shame', 'old', 'shi'], ['disco', 'trao', 'music'], ['inner', 'realm', 'nutshell', 'brjin', 'tap', 'half', 'gene', 'power', 'entity', 'gain', 'powerbrunlike', 'kill', 'gene', 'entity', 'inner', 'realm', 'gain', 'gene', 'power', 'sadly'], ['current', 'main', 'foxbrchildhood', 'main'], ['anybody', 'know', 'time', 'new', 'character', 'going', 'reveal', 'say', 'today', 'november', 'not'], ['hot'], ['think', 'dlc', 'character'], ['wait', 'return'], ['그래서', '리디아는'], ['day', 'dream', 'release', 'grant', 'insane'], ['god', 'damne', 'shame', 'oder'], ['excellent'], ['need', 'new', 'appear'], ['look', 'foward', 'use', 'shahin'], ['think', 'return'], ['look', 'forward', 'see', 'trailer'], ['guess', 'character'], ['power', 'jaw', 'drop', 'nostalgia'], ['yushimitsu'], ['bet', 'masterpiece', 'like'], ['missingbrwho', 'fill'], ['hype'], ['look', 'like', 'crusty', 'ass', 'rot', 'corpse', 'love'], ['mias', 'trailer'], ['dialogue', 'sound', 'cringe', 'hell', 'like', 'catch', 'pokemon', 'somethin'], ['god', 'look', 'massacre', 'boy'], ['work', 'year', 'new', 'character'], ['데빌진', '나온다'], ['try', 'old', 'character', 'new'], ['come', 'reveali', 'know', 'remain', 'character', 'well', 'release', 'character', 'gameplay', 'trailer', 'cool', 'past', 'trailer', 'glimpse', 'character', 'nothingi', 'want', 'actually', 'play', 'looki', 'change', 'appearance', 'anytime', 'customization', 'not', 'like', 'come'], ['like', 'feel', 'new', 'come', 'soon', 'trailer', 'banger'], ['leak', 'real'], ['nonstreamer', 'version'], ['yes', 'kiss', 'beautiful', 'figure', 'toy', 'list', 'japanese', 'inglé', 'thank'], ['describe', 'happy', 'see', 'roster'], ['iron'], ['look', 'like', 'loose', 'main'], ['get', 'inspiration', 'vegito', 'rage', 'art'], ['need'], ['bro', 'bring', 'wtf'], ['outfit'], ['hope', 'gamebreven', 'dlc', 'buy', 'immediately'], ['bring', 'cross', 'street', 'fighter'], ['speak', 'english', 'speak', 'native', 'language'], ['leeeee'], ['finally'], ['plz'], ['nice', 'hope', 'kazumiluckyjosie', 'game', 'hope', 'add', 'baki', 'character', 'guest', 'character'], ['yes', 'yes'], ['think', 'shockingly', 'suit', 'look', 'like', 'cyborg', 'robot', 'terminator', 'offense'], ['awesome'], ['wow', 'beatiful', 'need', 'review', 'character', 'game', 'release', 'haha'], ['character', 'come', 'nov'], ['superó', 'que', 'olviden'], ['need'], ['bosconovicht', 'bcebrbrcome', 'player'], ['game', 'run', 'character', 'game', 'lock', 'greedy', 'pig'], ['damm', 'look', 'cold', 'interesting', 'dress', 'like'], ['fat', 'good', 'brazilian', 'character', 'perfect', 'want', 'revenge', 'look', 'like', 'game'], ['like', 'major', 'fight', 'story'], ['capoeira', 'capoeira', 'capoeira', 'capoeira', 'capoeira', 'capoeira', 'capoeira', 'capoeira', 'capoeira', 'capoeira', 'capoeira', 'capoeira', 'capoeira', 'capoeira', 'capoeira', 'capoeira', 'capoeira', 'capoeira', 'capoeira', 'capoeira', 'capoeira', 'capoeira', 'capoeira', 'capoeira', 'capoeira', 'capoeira', 'capoeira', 'capoeira', 'capoeira', 'capoeira', 'capoeira', 'capoeira', 'capoeira', 'capoeira', 'capoeira', 'capoeira', 'capoeira', 'capoeira', 'capoeira', 'capoeira', 'capoeira', 'capoeira', 'capoeira', 'capoeira', 'capoeira', 'capoeira', 'capoeira', 'capoeira', 'capoeira', 'capoeira', 'capoeira', 'capoeira', 'capoeira', 'capoeira', 'capoeira', 'capoeira', 'capoeira', 'capoeira', 'capoeira', 'capoeira', 'capoeira', 'capoeira', 'capoeira', 'capoeira', 'capoeira', 'capoeira', 'capoeira', 'capoeira', 'capoeira', 'capoeira', 'capoeira', 'capoeira', 'capoeira', 'capoeira', 'capoeira', 'capoeira', 'capoeira', 'capoeira', 'capoeira', 'capoeira', 'capoeira', 'capoeira', 'capoeira', 'capoeira', 'capoeira', 'capoeira', 'capoeira', 'capoeira', 'capoeira', 'capoeira', 'capoeira', 'capoeira', 'capoeira', 'capoeira', 'capoeira', 'capoeira', 'capoeira', 'capoeira', 'capoeira', 'capoeira', 'capoeira', 'capoeira', 'capoeira', 'capoeira', 'capoeira', 'capoeira', 'capoeira', 'capoeira', 'capoeira', 'capoeira', 'capoeira', 'capoeira', 'capoeira', 'capoeira', 'capoeira', 'capoeira', 'capoeira', 'capoeira', 'capoeira', 'capoeira'], ['think', 'shura', 'saint', 'seiya', 'vegito', 'dbz'], ['comeback'], ['bro', 'know', 'leave'], ['game', 'miss', 'hope', 'add', 'final', 'character', 'add', 'future', 'update'], ['weee', 'saquense', 'ese', 'también', 'esta', 'chido'], ['good'], ['think', 'announce', 'say', 'legend'], ['actually', 'look', 'like', 'want', 'proud', 'look', 'bad', 'ass'], ['wait', 'make', 'sense'], ['meh', 'pass'], ['hey', 'comeback'], ['dragunovvvvvvvv', 'aaaaaaaaa'], ['mdr', 'sont', 'les', 'trailer', 'des', 'nouveaux', 'personnages', 'namco', 'plus', 'temps', 'les', 'faire'], ['hope', 'bring', 'baki', 'yujiro', 'hanma', 'guest', 'fighter', 'future', 'dlc', 'want', 'know', 'real'], ['hope', 'fahkuram'], ['fckkkkkn', 'backkkkkkkkkkkkkkkk'], ['ana', 'ojala', 'añadan'], ['let', 'goooooooooooooooooo'], ['need'], ['hope', 'fighter', 'coulg'], ['character', 'well', 'hman', 'buy'], ['need'], ['imagine', 'have', 'instead', 'wow'], ['cringe'], ['great', 'cool'], ['bri', 'need', 'find', 'new', 'main', 'character'], ['look', 'like', 'will', 'not', 'return'], ['main', 'bros'], ['confirm', 'officially', 'happy'], ['disappoint', 'copy', 'copy'], ['bruceeeee'], ['new', 'characterbrbronly', 'remain', 'november', 'bris', 'new', 'character', 'return', 'find'], ['bit', 'information'], ['cmon', 'bring'], ['fun', 'jaycee', 'version'], ['whare'], ['buy'], ['want', 'able', 'play', 'tiger'], ['pleeeaaassee', 'let'], ['god', 'hope', 'return', 'friend', 'main', 'forward', 'match', 'advantage', 'classic', 'clash'], ['cadê', 'lutadore', 'brasileiros', 'não', 'vai', 'ter', 'nenhum', 'nesse', 'jogo', 'slk', 'akakakak'], ['sobeiska'], ['trekker', 'start', 'feel', 'like', 'lack', 'substance', 'thing', 'year'], ['shity', 'legend'], ['reallybrbrnah', 'seriousness', 'roster', 'look', 'amazing'], ['laugh', 'hahaha'], ['guy', 'long', 'gray', 'beard', 'father', 'look', 'like', 'father', 'evil', 'mouth', 'stomach'], ['forgot', 'moji'], ['miss', 'bring'], ['cool', 'big', 'roster', 'want', 'big', 'dlc', 'roster', 'maybe', 'game', 'story', 'extension', 'hopfully', 'devs', 'lot', 'note', 'game', 'soul', 'calabur'], ['plss'], ['man', 'find', 'change', 'size', 'form', 'like', 'dam'], ['drop'], ['fuck', 'sale'], ['release'], ['look', 'good', 'need', 'work', 'aesthetic', 'department', 'nearing', 'preorder', 'territory'], ['lol', 'cloe', 'ouch'], ['pray', 'future'], ['want', 'jaycee', 'not', 'forget'], ['bring'], ['release', 'play', 'game'], ['dragunovdevil', 'jinyoshimitsu', 'let', 'fke'], ['anime'], ['goty', 'incoming'], ['short', 'instead', 'pantie', 'guess', 'ill', 'stick', 'doa'], ['thank', 'god', 'game'], ['yes'], ['surprise', 'heihachis', 'moveset'], ['queria', 'eddi', 'ogro', 'aunque', 'imposible'], ['нам', 'нужен', 'эдди', 'капоэйра', 'бойцы', 'знаки', 'символ', 'теккен'], ['wait'], ['plz', 'soon'], ['hella', 'obvious', 'course', 'game', 'second', 'scare', 'dlclike', 'main', 'roster', 'character', 'know', 'mean', 'like', 'thank', 'god', 'outfit', 'oohh', 'damnn', 'look', 'perfect', 'devillike', 'pinaristocratic', 'style', 'maybe', 'kind', 'vergil', 'style', 'outfit', 'rage', 'art', 'look', 'pass', 'kazuyas', 'rage', 'art', 'level', 'thank', 'namco', 'ask', 'witness', 'game', 'want'], ['hope', 'spot'], ['happy', 'legend', 'return', 'fully', 'satisfied', 'old', 'main', 'comeback'], ['glad', 'come'], ['come'], ['happen', 'energetic', 'voice'], ['fck', 'lej', 'legend', 'return', 'return', 'game'], ['look', 'damn', 'awesome', 'wait', 'play', 'take'], ['know', 'guess', 'think', 'game', 'later', 'point', 'control', 'power', 'transform', 'like', 'know', 'popular', 'character', 'devs', 'probably', 'not', 'want', 'remove', 'think', 'storywise', 'far', 'past', 'not', 'control', 'power', 'stuff'], ['maaaavelo'], ['fucking', 'well', 'baki', 'yujiro'], ['marbelo'], ['excellent'], ['hehe', 'guy', 'think', 'forgot'], ['project', 'step', 'character', 'design', 'game'], ['nuuuuuuuuuu', 'challanjaaaaaaaa'], ['queen', 'pls', 'pls'], ['hell', 'daddy'], ['roster', 'well', 'street', 'fighter'], ['earth', 'sound', 'like'], ['expect', 'extra', 'fighter', 'baki', 'father'], ['glad', 'veteran', 'return', 'honestly', 'good'], ['not', 'excellent'], ['need', 'music', 'loop'], ['plz', 'team', 'battle', 'mode'], ['maybe', 'crazy', 'wait', 'come'], ['spot', 'leave', 'expect', 'newcomer', 'like', 'brrip', 'honestly', 'obvious', 'come', 'chunk', 'character', 'lose', 'stick', 'tag'], ['irving'], ['marverous'], ['franchise'], ['серёёжкаааааа', 'какой', 'потрясающий'], ['pls', 'durty', 'twt'], ['need', 'know'], ['shame', 'get', 'hard', 'see'], ['see', 'look', 'not', 'like', 'anymore', 'not', 'legend', 'trailer', 'click'], ['ummm', 'legends', 'trailer'], ['return', 'november'], ['not', 'forget', 'not', 'separate', 'emblematic', 'duo', 'ninaanna'], ['bring'], ['bring', 'need', 'queen'], ['want', 'want', 'want', 'want', 'want', 'want', 'want', 'want', 'want', 'want', 'want', 'want', 'want', 'want', 'want', 'want', 'want', 'want', 'want', 'want', 'want', 'want', 'want', 'want', 'want', 'want', 'want', 'want', 'want', 'want', 'want', 'want', 'want', 'want', 'want', 'want', 'want', 'want', 'want', 'want', 'want', 'want', 'want', 'want', 'want', 'want', 'want', 'want', 'want', 'want', 'want', 'want', 'want', 'want', 'want', 'want', 'want', 'want', 'want', 'want', 'want', 'want', 'want', 'want', 'want', 'want', 'want', 'want', 'want', 'want', 'want', 'want', 'want', 'want', 'want', 'want', 'want', 'want', 'want', 'want', 'want', 'want', 'want', 'want', 'want', 'want', 'want', 'want', 'want', 'want', 'want', 'want', 'want', 'want', 'want', 'want', 'want', 'want', 'want', 'want', 'want', 'want', 'want', 'want', 'want', 'want', 'want', 'want', 'want', 'want', 'want', 'want', 'want', 'want', 'want', 'want', 'want', 'want', 'want', 'want'], ['miss', 'fak', 'main'], ['understand', 'need', 'slot', 'waste', 'character', 'slot'], ['bro'], ['donde', 'coño', 'esta'], ['pose', 'excellent'], ['character'], ['thanks', 'god', 'game'], ['live', 'sin', 'find', 'atonement', 'solitude'], ['come'], ['wait', 'character', 'new', 'one', 'love'], ['alisaaa'], ['add', 'alve', 'woulkd', 'big', 'dream'], ['need'], ['ancora', 'quel', 'marocchino'], ['pleaaaaaaaassssse', 'come'], ['wish', 'bandai', 'add', 'baki', 'hanma', 'yujiro', 'hanma', 'game'], ['title', 'say', 'return', 'rogeralex'], ['brlucky'], ['good', 'roadster'], ['brucejosie'], ['main', 'year', 'guess'], ['aaaaaah', 'brwhere'], ['glad', 'love', 'fight', 'style'], ['hype', 'having', 'like', 'look', 'new', 'drip', 'happy', 'characterization', 'drip', 'voice', 'actor', 'isshin', 'chiba', 'get', 'sukuna', 'jjk', 'vibe', 'love', 'wait', 'game'], ['new', 'version'], ['look', 'different', 'dude', 'fire', 'different', 'look', 'different', 'love'], ['okay'], ['wait'], ['random', 'imagine', 'open', 'story', 'mode', 'like', 'kind', 'miss', 'ngl', 'damn', 'game', 'look', 'amazing', 'far'], ['listen', 'fan'], ['outwhat', 'sukuna', 'special', 'secretdlc', 'character'], ['high', 'res', 'armpit', 'confirm'], ['know', 'will', 'not', 'add', 'guest', 'character', 'begin', 'come', 'future', 'boy', 'hope', 'add', 'tifa', 'lockhart', 'guest', 'character', 'fit', 'gameplay', 'style', 'kit', 'gameplay', 'fire'], ['confuse', 'legend', 'return', 'damn', 'game', 'miss'], ['bet'], ['alisaaaaaa'], ['character', 'want', 'return', 'far', 'like', 'character', 'game'], ['buy', 'bandai', 'namco'], ['want', 'release'], ['come'], ['main'], ['need'], ['chavalier'], ['sad', 'filipino', 'character'], ['miss'], ['disrespect', 'like', 'legend', 'wtf', 'understand', 'game', 'bec', 'copyright', 'favorite', 'character', 'game', 'rock', 'wit', 'dis', 'new', 'aka', 'jackie', 'chan', 'game'], ['look', 'like', 'wish', 'return', 'slim'], ['think', 'incorporate', 'moveset', 'hell', 'separate', 'character'], ['laugh', 'marvelous', 'jarjit', 'singh'], ['not', 'come', 'long'], ['whrre', 'bruh'], ['hard', 'reason'], ['save', 'wtf'], ['fan', 'smh'], ['dancer'], ['come'], ['like'], ['thank'], ['wait'], ['hell'], ['데빌진나오면', '사야되잖아'], ['like', 'vegito', 'sword', 'attack'], ['yes', 'baby', 'baby'], ['hope', 'ones'], ['plz'], ['holllllyyyy', 'look', 'soooooooo', 'goooooood'], ['glad', 'look', 'like', 'debut'], ['drip', 'blade', 'damn'], ['forget', 'bandai'], ['bayonetta', 'idc', 'wat', 'say'], ['bro', 'fuckin', 'bring'], ['hope'], ['capoeira'], ['damn', 'bear', 'christi'], ['ergh', 'dawg'], ['yes', 'kiss', 'beautiful', 'male', 'flex', 'figure', 'adult'], ['know', 'vegito', 'demon'], ['sure', 'hope', 'return'], ['hihachi'], ['excited', 'game'], ['legendi', 'not', 'think', 'sobrbrreal', 'legend', 'leibaekheihachi', 'eddybrbrup', 'nowcharacter', 'roaster', 'incredibly'], ['baki'], ['announce', 'november', 'ndbrbrme', 'char', 'november', 'sure', 'party'], ['hope'], ['bring'], ['whereismiguel'], ['think', 'control', 'gene'], ['want'], ['roster', 'keeps', 'get', 'well', 'well', 'nice', 'new', 'improved', 'represent', 'muay', 'thai'], ['default', 'roster', 'separate', 'character', 'eddiechristie'], ['return', 'brbrfck', 'greedy', 'corp', 'not', 'buy', 'sht', 'anymore'], ['idea', 'idea'], ['wait'], ['recently', 'learn', 'share', 'voice', 'actor', 'dio', 'not', 'unhear'], ['dlc'], ['glad', 'get', 'new', 'old', 'character', 'hopefully', 'dlc', 'character', 'bust'], ['need', 'biii'], ['expect'], ['get', 'character', 'game', 'start', 'trouble', 'game'], ['nice'], ['mannnnnnnnnnnnnnnn'], ['movie', 'hype'], ['baki', 'plsssssssss'], ['look', 'scary', 'strong', 'unstoppable', 'let', 'play', 'game', 'look', 'like', 'big', 'deal'], ['main', 'omg', 'wait', 'tooooo', 'long', 'reveal', 'thank', 'soooo'], ['attempt', 'main'], ['add'], ['legend', 'show'], ['designer', 'god', 'cum'], ['put', 'game'], ['awesome'], ['onde', 'está'], ['need'], ['bandai', 'team', 'include', 'base', 'roster', 'need', 'mohawk', 'girly', 'game'], ['smh', 'man'], ['look', 'like', 'extra', 'fun', 'round', 'brbralso', 'let', 'noise', 'fan'], ['love', 'return', 'right', 'look', 'like', 'muay', 'thai', 'single', 'representative'], ['cadê', 'revil'], ['not', 'get', 'trailer', 'alright'], ['로져를', '돌려줘', '유기한건', '했잖아'], ['légende', 'return'], ['hihachi'], ['wish', 'bring', 'irving'], ['add'], ['damn', 'mean', 'gameplay', 'trailer', 'boy'], ['hell'], ['kuni', 'shit', 'damn', 'harada'], ['fate', 'decide'], ['know', 'leak', 'write', 'alisas', 'picture', 'main', 'hope', 'trailer', 'look', 'like'], ['cry', 'see'], ['awful'], ['end', 'january'], ['base', 'roster', 'way', 'well', 'base', 'roster', 'infuriate', 'base', 'roster', 'norm', 'fight', 'game'], ['start', 'look', 'like', 'raiden', 'mgs'], ['letssssgooooooo'], ['story', 'kazamas', 'feud'], ['get', 'separate', 'kill'], ['love', 'fact', 'bomb', 'shape', 'head', 'haha'], ['heck', 'stop', 'play', 'man', 'update', 'move'], ['glad', 'separate', 'character'], ['wryyyyyyyyy'], ['amaciante'], ['awesome', 'roster', 'glad', 'get', 'collector', 'edition', 'definitely', 'come', 'handful', 'actually', 'look', 'like', 'collector', 'edition'], ['need'], ['boii'], ['wtf', 'steeve', 'look', 'bad'], ['edgiest', 'boy'], ['november', 'not', 'brazil', 'going', 'invade', 'japan'], ['yeeeeeeeeeesssssssss'], ['sword', 'love', 'series'], ['want', 'baki'], ['point', 'bear', 'like', 'dot', 'need', 'bring'], ['sign', 'disgusting'], ['mega', 'namco'], ['return', 'fakhumram', 'hmmm'], ['character', 'awesome', 'plus', 'dlc', 'character', 'guess', 'character', 'eventually', 'bring', 'not', 'wait'], ['dude', 'fucking', 'know', 'return'], ['new', 'voice', 'dvj', 'light'], ['hope', 'announce', 'awesome', 'play'], ['want'], ['believe'], ['fight', 'story', 'directly', 'face', 'inner', 'demon', 'speak'], ['want'], ['want', 'trailer'], ['honest', 'unpopular', 'opinion', 'super', 'excited', 'favorite'], ['look', 'cool', 'brbrthe', 'miss', 'thing', 'design', 'vampire', 'fang', 'hope', 'fang', 'game', 'release'], ['iron', 'fist', 'iron', 'blade'], ['main'], ['unique', 'unfinished', 'lore', 'guess', 'need', 'figure', 'character'], ['wait'], ['need', 'man'], ['plssss'], ['damn', 'mortal', 'kombat', 'need', 'note'], ['plz'], ['buy'], ['stay', 'wait', 'discount', 'steam'], ['need', 'main'], ['wait'], ['whit', 'return', 'buy'], ['excite', 'love', 'costume', 'rise', 'grenade', 'beautiful', 'loll'], ['need', 'plz'], ['hehachi'], ['start', 'lose', 'hope', 'get', 'rid', 'girl', 'not', 'honestly', 'game', 'not', 'feel', 'right', 'pick', 'new', 'main'], ['nobodybrabsolutely', 'nobodybrdevil', 'laser', 'sword'], ['jiiiiiin'], ['care', 'real'], ['gordoooo'], ['estava', 'torcendo', 'pra', 'ver'], ['hope', 'make', 'return'], ['migule'], ['finally'], ['add', 'migule', 'tooooo', 'plsss'], ['need', 'return', 'stop', 'human'], ['hope', 'deep', 'game', 'voice', 'like', 'kazuyabrbrand', 'developer', 'bring', 'original', 'iconic', 'dah', 'tsu', 'brbromaiwa', 'kieru'], ['sad', 'ult', 'game', 'happy', 'new', 'character', 'arrive'], ['need', 'kiryu', 'majima', 'saejima'], ['yes'], ['harada'], ['nov', 'come', 'soonbrthis', 'trailer', 'drop', 'nov'], ['return'], ['freaking', 'playboy'], ['absolutely', 'immaculate'], ['seperate', 'original'], ['wait', 'return', 'buy', 'game'], ['find', 'ost', 'trailer', 'goate'], ['كتير', 'بشعه', 'اليسا', 'شذا', 'لبس'], ['gunna', 'bring'], ['good', 'costume', 'good', 'costume', 'bosconovith', 'good', 'costume', 'bad', 'unappropriated', 'costume'], ['armorr'], ['not', 'tell', 'forgot', 'include'], ['wait', 'juliamichelle'], ['diseño', 'está', 'horrible', 'espero', 'arreglen'], ['way', 'vegito', 'sword'], ['верните'], ['people', 'want', 'brbr'], ['bro', 'edee', 'codo'], ['bro', 'wait', 'hold', 'small', 'roster', 'well', 'add', 'like', 'come'], ['qudan', 'happy'], ['people', 'initial', 'roster', 'shock', 'good', 'look', 'people', 'return', 'anticipate', 'glad', 'return', 'wait', 'play', 'look', 'forward', 'evolve', 'iteration', 'truly', 'impressive', 'hype', 'release', 'far', 'good', 'feeling', 'number'], ['definitely', 'expect'], ['oooh', 'unexpected', 'excited'], ['love', 'return', 'character', 'wish', 'character', 'introduction', 'video', 'like', 'set'], ['god', 'surprise', 'wow', 'wonder', 'game', 'ass', 'literally', 'game', 'remake', 'streak', 'want', 'experience'], ['tha'], ['live', 'sin', 'find', 'atonement', 'solitude', 'disappear', 'void'], ['speak', 'english'], ['violence', 'stupidity', 'bad', 'people', 'not', 'play', 'game'], ['going', 'soul', 'calibur', 'weapon', 'weapon', 'love', 'match', 'dream'], ['add', 'unknown'], ['hype', 'game', 'dlc', 'currently', 'dead', 'story'], ['yay'], ['trailer', 'graphic', 'keep', 'degrading', 'watch', 'reveal', 'difference'], ['mit', 'den', 'schwertern', 'wirkt', 'das', 'mehr', 'wie', 'mortal', 'combat'], ['wire', 'vimp', 'wowe'], ['olmreud', 'wowe'], ['ralph', 'wowe'], ['hold', 'hope', 'tifa', 'lockhart', 'guest', 'fighter'], ['ストファイ'], ['forget'], ['yeeeeeeeeeeeeeeeeeeeeee'], ['bit', 'upset'], ['honestly', 'drop', 'bunch', 'trailer', 'long', 'period', 'time', 'kill', 'hype', 'game', 'especially', 'player', 'play', 'beta', 'game', 'post', 'gameplay'], ['game', 'extremely', 'pissed', 'disappointed', 'sfs', 'jamie', 'good', 'representation', 'drunken', 'fist', 'wtf'], ['byeeeeeeeeeeeeeeeeeee', 'fucking', 'finally', 'boy', 'hereb'], ['main', 'secondary', 'look', 'forward'], ['know', 'lurkin'], ['legend', 'come'], ['maybe', 'dlc'], ['word', 'word', 'dragonov'], ['dark', 'mistress', 'dear', 'princess', 'sexy', 'wife', 'glad'], ['bgm'], ['sheesh'], ['nice', 'brbrsubscribe', 'channel', 'game'], ['buy'], ['damn'], ['well'], ['win', 'easily', 'see', 'vengeance', 'defeat', 'easily', 'form', 'form', 'defeat', 'spot'], ['add', 'character', 'brleon', 'kennedybrada', 'wongbrchris', 'redfieldbrjack', 'krauserbralbert', 'wesker'], ['baki'], ['bring'], ['wtf', 'happend', 'fix'], ['release', 'not', 'word', 'ddddd'], ['hope', 'new', 'challenger', 'pulse'], ['confirm', 'transgender'], ['dirty'], ['beautiful'], ['buying'], ['add', 'wolong'], ['est'], ['sad', 'character', 'likebrchloebrjosiebrkatarinabrgigas', 'bralso', 'not', 'seriesbrbrwait', 'fall', 'disqualify'], ['realize', 'not', 'bruuuuh'], ['new', 'yes', 'veeery', 'veeery', 'new', 'character', 'not', 'diabolic', 'magic', 'dlc'], ['trailer', 'game', 'pretty', 'late', 'december', 'point'], ['diggin', 'skin', 'gameplay'], ['damn', 'slice', 'laser', 'half'], ['wait', 'favorite'], ['make', 'sad', 'good', 'character'], ['unlikely', 'imagine', 'boskonovitch', 'awesome'], ['love'], ['break', 'character', 'want', 'brnoctisbrakumabrelizabrgeese'], ['fue', 'ready'], ['speak', 'japanese', 'dress'], ['ruin', 'game', 'game', 'expect', 'buy', 'mego', 'hell'], ['baki', 'hanma', 'november', 'pls'], ['bring', 'bak'], ['metal', 'gear'], ['hope'], ['dissapointment', 'alisas', 'look'], ['include'], ['yes'], ['add', 'jackie', 'chan'], ['thank', 'god', 'get', 'abit', 'well', 'drip'], ['come', 'like', 'miss', 'lava', 'kazuma', 'hear', 'different'], ['nov', 'wiliams'], ['want', 'baki', 'yujiro', 'guest', 'appearance', 'game', 'pickle'], ['like', 'comment', 'talk', 'sound', 'like', 'anime', 'character', 'wear', 'choker', 'cheek', 'swell'], ['fill', 'character', 'slot', 'like', 'mean', 'sure', 'present', 'character', 'choise', 'way', 'fill', 'character', 'not', 'base', 'bsighb', 'love', 'game', 'look', 'great', 'come', 'way', 'cut', 'corner', 'filing', 'slot', 'dlc', 'sure', 'people', 'play', 'andor', 'base', 'game', 'character', 'happy'], ['queremos', 'ele', 'nos', 'dão', 'difícil', 'viu'], ['start', 'worried', 'lol'], ['nicht'], ['definitely', 'voice', 'actor'], ['ogs', 'glad', 'come', 'dlc'], ['know', 'father'], ['rogeralex', 'come'], ['tell'], ['look', 'tran'], ['hope', 'return'], ['christieee', 'montero'], ['love', 'dapper', 'look', 'not', 'forget', 'tech', 'giant', 'lore', 'turn', 'iron', 'man', 'guy', 'breath', 'fresh', 'air', 'totally', 'make', 'sense', 'dapper'], ['poul', 'kaha', 'hai'], ['buy', 'main'], ['defo', 'buying'], ['noo', 'want', 'exshellent'], ['finally', 'unknown', 'canon'], ['dragonov', 'remain', 'favoritesbrbralso', 'hand', 'try', 'stay', 'temple', 'end', 'power', 'connect'], ['hope', 'get', 'time', 'alternative', 'character', 'pair', 'story', 'mode', 'realize', 'potential', 'simple', 'robotic', 'love', 'interest', 'gene', 'biological', 'programming', 'existance', 'fight', 'kill', 'command', 'like', 'compell', 'brbrsome', 'scene', 'xiao', 'fun'], ['day', 'guy', 'long', 'line', 'good'], ['hwarang', 'bogus', 'pirate', 'outfit', 'sooo', 'glad', 'bring', 'classic', 'drip'], ['guy', 'remember', 'live', 'action', 'movie', 'wear', 'pant', 'show', 'crack', 'cheek', 'zipper', 'lmaooooo'], ['alisaaaa'], ['que', 'sirve', 'harada', 'hijo', 'puta', 'nerfear'], ['yes', 'lol'], ['pleaseeee'], ['pls'], ['add'], ['bring'], ['hell', 'yeah', 'main', 'play'], ['cool'], ['make', 'comeback', 'peak'], ['well', 'streetfighter', 'mortal', 'kombat', 'dlc', 'great'], ['able', 'character', 'speak', 'english'], ['fakhunram', 'sovieska'], ['yyaayy'], ['standard', 'edition', 'pre', 'order', 'like', 'change', 'deluxe', 'edition', 'available', 'digital', 'not', 'buy', 'digital', 'game', 'consider', 'give', 'deluxe', 'edition', 'physical', 'copy', 'option', 'gladly', 'buy', 'instead', 'standard', 'edition', 'think', 'like', 'option', 'old', 'player', 'like', 'buy', 'physical', 'game', 'like', 'digital', 'consideration', 'bandai', 'namco', 'look', 'forward', 'release'], ['baki', 'cuando'], ['let', 'rigth', 'rigth'], ['come', 'guy', 'seriously'], ['game', 'play', 'nowm', 'excited'], ['pit'], ['alsaaaaaaaaa'], ['legend', 'return', 'hype', 'hell', 'god', 'dayum', 'beast', 'right', 'menacing', 'rage', 'art', 'finisher', 'make', 'awesome'], ['neeed', 'pls'], ['hell'], ['goddamnit'], ['boy', 'russia'], ['not', 'decide', 'announce', 'pretty', 'important', 'holiday', 'poland'], ['not', 'expect'], ['guest', 'character'], ['hello'], ['wth'], ['stupid', 'bear', 'literally', 'cuss', 'harada', 'twitter'], ['character'], ['hope', 'character', 'trailer', 'get', 'individual', 'extended', 'trailer'], ['come', 'aswell'], ['miss'], ['leeeeeeeeeeeeeeeeeee'], ['throw', 'cliff', 'game'], ['wtf', 'face'], ['ojala', 'este'], ['lilibri', 'cry'], ['tomorrow'], ['looks', 'literally', 'different', 'story'], ['play'], ['look', 'exactly', 'like', 'wtf'], ['little', 'hard', 'botox'], ['okay'], ['want'], ['know', 'beta'], ['want'], ['honestly', 'not', 'expect', 'return', 'show'], ['favorite', 'wolong'], ['thumbnail', 'encapsulate', 'bandai', 'namco', 'corrupt', 'corporate', 'careless', 'mention', 'soulless', 'like', 'cartoon', 'network', 'money', 'solely', 'rely', 'toy', 'merch', 'feeling', 'know', 'way', 'cartoon', 'network', 'come', 'video', 'game', 'need', 'sell', 'merch', 'world', 'order', 'stay', 'alive', 'certain', 'game'], ['rip', 'street', 'fighter'], ['sad', 'favs'], ['nov'], ['today', 'new', 'char'], ['start', 'look', 'like', 'corpse'], ['novwho'], ['today', 'day', 'fighter', 'reveal'], ['novth', 'announcement'], ['donde', 'esta'], ['whtat', 'happend', 'tralier', 'nov', 'hear', 'trali'], ['paso', 'nada'], ['wait'], ['new', 'trailer'], ['mad'], ['hey', 'nov'], ['brtermina', 'dia', 'aun', 'nada'], ['new', 'trailer'], ['guy', 'worthy', 'individual', 'trailer'], ['marvelous'], ['rashidooooh'], ['finally', 'reveal'], ['love', 'love', 'game', 'get', 'look', 'soo', 'cleeeaaann'], ['sound', 'like', 'dio'], ['sword', 'look', 'awesome'], ['lets', 'gooooo'], ['hope'], ['let', 'goooooooooo'], ['slit'], ['play', 'know', 'come', 'lol'], ['happen'], ['legend'], ['give', 'reveal', 'trailer', 'huge', 'fucking'], ['buy', 'game', 'release'], ['half', 'main', 'cast', 'miss', 'replace', 'crap', 'new', 'character', 'personality'], ['bring', 'anscient'], ['add', 'mukojin', 'ancient', 'boskonovitch', 'icon'], ['amk', 'lose', 'forget'], ['wow', 'eye', 'musican', 'know', 'happy', 'main', 'drop', 'yoshis', 'trailer', 'bamco'], ['nah', 'chain', 'turning', 'brthaaaat', 'cold'], ['hell', 'nah'], ['fakumram', 'muay', 'thai', 'character', 'roster', 'big'], ['want'], ['hope', 'return'], ['see', 'hurt', 'soul'], ['want', 'brha'], ['trailer', 'come'], ['pls'], ['base', 'roster', 'frown', 'face'], ['game'], ['happen', 'face'], ['wow', 'think', 'hit', 'moment', 'think', 'outgrow', 'sense', 'well', 'start', 'excited', 'game', 'update', 'apart', 'design', 'return', 'excite', 'realize', 'like', 'dislike', 'new', 'opposite', 'fandom', 'normally', 'think', 'nowadays', 'stay', 'age', 'make', 'sense', 'target', 'certain', 'demographic', 'legendary', 'character', 'legendary', 'bri', 'guess', 'time', 'goodbye', 'franchise', 'give', 'year', 'great', 'memory', 'etc', 'ill', 'play', 'old', 'one'], ['mwahaha', 'mahvooluss'], ['bring'], ['bad', 'game', 'joke', 'lol', 'plz', 'add', 'boy', 'free', 'plz', 'plz', 'plz', 'plz'], ['get', 'cuz', 'weekly', 'trailer'], ['play', 'main'], ['not', 'miss'], ['need'], ['completely', 'dio', 'jojo', 'voice'], ['masima'], ['raiser', 'sword', 'move', 'raiser', 'use', 'sword'], ['help', 'like'], ['think', 'bayonetta', 'second'], ['pegaram', 'nessa', 'uso', 'nos', 'meus', 'nick', 'desde', 'por', 'causa', 'ver', 'ele', 'voltando', 'com', 'dese', 'classico', 'maravilhoso'], ['wonder'], ['iriven'], ['game'], ['omg', 'look', 'amazing'], ['not', 'help', 'notice', 'think', 'family', 'reunion', 'probably', 'free', 'gene'], ['want', 'join'], ['hope', 'miharu', 'comeback', 'pliss'], ['hope', 'pliiss'], ['hope', 'walk', 'dead', 'pliiss'], ['esta'], ['add', 'bear', 'need'], ['sound', 'like', 'dio', 'jjba'], ['franchise'], ['mannbrbrplease', 'want', 'play'], ['chaobla'], ['lol', 'rizz', 'bring', 'memory'], ['alisas', 'armpit', 'look', 'great'], ['need'], ['give', 'worst', 'possible', 'look'], ['imabatakaaaaaaammm'], ['think', 'gene', 'look', 'aesthetically', 'pleasing', 'grim', 'look', 'glad', 'bring', 'look'], ['fav', 'badass', 'brfeel', 'like', 'eren', 'yeager', 'want', 'revenge'], ['time', 'favorite', 'marshal'], ['bilang', 'marvelousbrjarjit', 'like', 'marvelous', 'marvelous', 'saya', 'juga', 'sama', 'sigh'], ['slim', 'need', 'comeback'], ['trash'], ['thank', 'interview', 'appreciate', 'bri', 'remember', 'good', 'old'], ['player', 'hahae'], ['game', 'incomplete', 'heichi'], ['smh'], ['new', 'return', 'character', 'series', 'debuts', 'wish', 'dlc', 'return', 'new', 'isbrjulia', 'changbranna', 'williamsbrchristie', 'monteirobrand', 'polish', 'new', 'man', 'alongside', 'thing', 'everybody', 'love', 'fighting', 'deserve'], ['wait', 'get', 'finger', 'cross'], ['need', 'backk'], ['roster', 'size', 'way', 'well'], ['miss'], ['wait'], ['bring'], ['noi', 'buy'], ['love', 'lol'], ['look', 'like'], ['christy', 'tiger', 'guess', 'ill'], ['cmon', 'bandai', 'base', 'roster'], ['heichai'], ['youtube', 'disappointbrbrwhen', 'revealedhe', 'view'], ['literally', 'turn', 'dio'], ['heck', 'bro'], ['consider', 'legend'], ['duck'], ['disappear', 'void'], ['bring', 'question', 'like', 'come', 'get', 'learn', 'new', 'character', 'definitely', 'look', 'forward', 'take', 'work', 'day', 'come'], ['wish', 'appear', 'season'], ['harada', 'bring'], ['truly', 'hope', 'jaycee', 'sense', 'canon', 'accord', 'juila', 'lore', 'juila', 'storyline', 'not', 'work', 'ttt', 'storyline', 'great'], ['need', 'excellet'], ['useless'], ['hope', 'crush'], ['need'], ['ich', 'bin', 'ein', 'street', 'fighter', 'fan', 'aber', 'capcom', 'sollte', 'sich', 'mal', 'ein', 'beispiel', 'nehman', 'kämpfer'], ['bring', 'capoeiristaaaaa'], ['marvelous', 'excellent'], ['glad', 'legend', 'dlc'], ['chaobla', 'finally', 'let'], ['want', 'playable', 'character'], ['hope', 'collab', 'scott', 'pilgrim', 'bakihanma', 'tokyo', 'revenger'], ['arabian', 'fighter'], ['latest', 'catchphrasebrmarvelous'], ['dragon', 'ball', 'upload', 'update', 'dbzbt'], ['hell', 'wrong', 'guy', 'seriously', 'shaeen'], ['armour'], ['change', 'excellent', 'marvelous'], ['come', 'brwhat', 'woloung'], ['trailer', 'hype', 'music', 'hype', 'character', 'hype', 'yeeeessssssss', 'sssssiiirrrrrr', 'let', 'gooooooo'], ['music', 'point'], ['fucking', 'great', 'complete', 'game', 'fucking', 'season', 'pass', 'character', 'paywall', 'people', 'buy', 'game', 'modern', 'gaming', 'suck'], ['income'], ['need'], ['wait', 'heck', 'new', 'character', 'crap'], ['need'], ['bamco'], ['vegito', 'sword', 'absolutely', 'perfect'], ['okey'], ['kangaroo', 'dinosaur'], ['subtract', 'add', 'perfect'], ['look', 'like', 'plastic', 'blerghhh', 'garbage'], ['not', 'fact', 'asukas', 'play', 'bear', 'main', 'roster', 'dude', 'know', 'add', 'dlc', 'damn'], ['kind', 'hate', 'will', 'not', 'bring', 'version'], ['like', 'main'], ['wish', 'add'], ['long', 'figth'], ['man', 'hope', 'pray', 'essential', 'roster', 'sign'], ['annoying', 'background', 'music'], ['check', 'trailer', 'info', 'character', 'able', 'comfortably', 'play', 'love', 'enjoy'], ['point', 'combined', 'like'], ['release', 'dlc', 'late', 'long', 'time', 'get', 'kuni', 'late', 'game', 'release', 'new', 'game', 'kuni', 'play'], ['playable'], ['trailer'], ['pls', 'add', 'farkomrahm'], ['finale', 'high'], ['glad'], ['jedah'], ['baki'], ['ask'], ['greek', 'player'], ['love'], ['feel', 'like', 'thing', 'move', 'nicelybrlei', 'probably', 'popularity', 'keep', 'plummet', 'enjoy', 'play'], ['wait', 'join', 'gang'], ['heiachi', 'come', 'matter', 'story'], ['dang', 'sister'], ['plz', 'bring'], ['omg', 'brok', 'yeah', 'ill', 'game'], ['needbrmokujin', 'brbobbreddiebrmardukbrganryu'], ['justice'], ['kono', 'dio'], ['get', 'tatooo'], ['bring'], ['great', 'roster', 'future', 'miss', 'kickboxing', 'style'], ['love', 'kula'], ['jims', 'mother', 'roaster', 'excited', 'play'], ['get', 'spot', 'reskin', 'ffs'], ['character', 'bat', 'lettttttttttttttts'], ['new', 'roster', 'look', 'good', 'big', 'man'], ['bring'], ['come', 'trailer', 'genuinely', 'people', 'say', 'game', 'literally', 'trailer', 'briefly', 'playable', 'demo', 'lol'], ['marvelous'], ['damn', 'new', 'sukuna', 'vibe'], ['exdy'], ['maaaarveroooosssse'], ['new', 'game', 'game', 'kiddin', 'nothin', 'new', 'great', 'character', 'watch', 'sink', 'game', 'bad', 'get'], ['wish', 'actual', 'rage', 'art'], ['like', 'wtf', 'buy', 'ltheir', 'dlc', 'come'], ['legend'], ['legend', 'die'], ['hope', 'core', 'gameplay', 'require', 'execution', 'scrub', 'able', 'use', 'potential', 'maybe', 'basic', 'combos', 'advanced', 'combos', 'decent', 'damage', 'gap'], ['damn'], ['versus', 'match'], ['muay', 'thai', 'guy', 'not', 'die'], ['want', 'naruto', 'uzumaki', 'guest', 'character', 'path', 'sage', 'mode', 'form', 'baryon', 'mode', 'form', 'game']]\n"
     ]
    }
   ],
   "source": [
    "# create a corpus (list of all the comments)\n",
    "corpus = list(df['textTekkenCharactersRemoved'].values)\n",
    "print(corpus)"
   ]
  },
  {
   "cell_type": "markdown",
   "id": "03faf64b-40d5-4318-93d7-826dbadb86bc",
   "metadata": {},
   "source": [
    "The output shows that our corpus is a list of all the YouTube comments; the items in each list are the words that make up the comment. We now have two next steps:\n",
    "1. Use _Gensim_ to create a dictionary that will store each word in the corpus and assign a unique ID to it.\n",
    "2. Create a bag of words document-term matrix which will return a tuple with the word's unique ID and how many times it occurs in the document i.e., (word_id, frequnecy_in_document)"
   ]
  },
  {
   "cell_type": "code",
   "execution_count": 10,
   "id": "1cd5606f-76fb-4986-aea3-f3e751b8456d",
   "metadata": {
    "scrolled": true
   },
   "outputs": [
    {
     "name": "stdout",
     "output_type": "stream",
     "text": [
      "bamco\n",
      "get\n",
      "see\n"
     ]
    }
   ],
   "source": [
    "# create dictionary that will store each word in the corpus and assign a unique ID to each word\n",
    "comments_dictionary = corpora.Dictionary(corpus)\n",
    "\n",
    "# explore dictionary\n",
    "print(comments_dictionary[0])\n",
    "print(comments_dictionary[1])\n",
    "print(comments_dictionary[2])"
   ]
  },
  {
   "cell_type": "markdown",
   "id": "75b6844b-fbca-4dc1-a5c3-4a810bddfec1",
   "metadata": {},
   "source": [
    "We now have a dictionary that stores the words in our corpus. Note that the first words in the dictioanry are the words in the first comment sorted alphabetically."
   ]
  },
  {
   "cell_type": "code",
   "execution_count": 11,
   "id": "f87e5edd-aa0d-45e7-8dd4-687ad09b3dac",
   "metadata": {
    "scrolled": true
   },
   "outputs": [
    {
     "name": "stdout",
     "output_type": "stream",
     "text": [
      "[[(0, 1), (1, 1), (2, 1), (3, 1)], [(4, 1)], [(5, 1), (6, 1)], [(7, 1), (8, 1)], [(9, 1)], [(10, 1), (11, 1), (12, 1)], [(13, 1)], [(4, 1)], [(14, 1)], [(15, 1), (16, 1)], [(17, 1)], [(14, 1)], [(18, 1), (19, 1), (20, 1), (21, 1), (22, 1)], [(22, 1), (23, 1), (24, 1), (25, 1)], [(1, 1), (26, 1)], [(27, 1), (28, 1)], [(29, 1), (30, 1), (31, 1)], [(15, 1), (32, 1), (33, 1)], [(20, 1), (34, 1), (35, 1), (36, 1)], [(37, 1), (38, 1), (39, 1)], [(1, 1), (22, 1), (40, 1)], [(41, 1), (42, 1), (43, 1), (44, 1)], [(45, 1)], [(15, 1), (46, 1), (47, 1)], [(48, 1), (49, 1), (50, 1), (51, 1)], [(21, 1), (22, 1), (52, 1)], [(7, 1), (32, 1), (53, 1), (54, 1)], [(55, 1)], [(56, 1), (57, 1)], [(58, 1)], [(59, 1)], [(60, 1), (61, 1)], [(49, 1), (62, 1)], [(24, 1), (63, 1)], [(64, 1)], [(65, 1)], [(22, 1), (66, 1)], [(40, 1), (53, 1), (67, 1)], [(60, 1), (61, 1), (68, 1), (69, 1)], [(70, 1), (71, 1), (72, 1), (73, 1), (74, 1)], [(75, 1)], [(76, 1)], [(74, 1)], [(32, 1), (77, 1)], [(36, 1), (70, 1), (74, 1)], [(1, 1), (78, 1)], [(79, 1)], [(80, 1)], [(81, 1), (82, 1), (83, 1), (84, 1)], [(33, 1), (42, 1), (48, 2), (70, 1)], [(85, 1)], [(16, 1), (86, 1), (87, 1)], [(88, 1), (89, 1), (90, 1)], [(13, 1), (91, 1), (92, 1), (93, 1)], [(14, 1), (94, 1), (95, 1)], [(38, 1), (96, 1), (97, 1), (98, 2), (99, 1), (100, 1), (101, 1), (102, 1), (103, 1), (104, 1), (105, 1), (106, 2), (107, 1), (108, 1), (109, 1), (110, 1), (111, 1), (112, 1)], [(60, 1), (61, 1), (113, 1), (114, 1), (115, 1), (116, 1), (117, 1), (118, 1)], [(21, 1), (45, 1), (70, 1), (119, 1), (120, 1), (121, 1), (122, 1)], [(123, 1), (124, 1)], [(125, 1), (126, 1)], [(111, 1)], [(42, 1)], [(29, 1), (127, 1)], [(111, 1), (128, 1), (129, 1), (130, 1)], [(131, 1), (132, 1)], [(74, 1)], [(133, 1)], [(15, 1), (22, 1), (41, 1), (64, 1), (72, 1), (134, 1), (135, 1)], [(1, 1), (49, 1), (121, 1), (136, 1)], [(137, 1)], [(138, 1), (139, 1), (140, 1)], [(64, 1), (141, 1), (142, 1), (143, 1), (144, 1), (145, 1), (146, 1)], [(24, 1), (42, 1), (147, 1), (148, 1), (149, 1), (150, 1), (151, 1), (152, 1), (153, 1), (154, 1)], [(14, 1)], [(155, 1), (156, 1), (157, 1)], [(158, 1), (159, 1)], [(160, 1)], [(76, 1)], [(72, 1), (74, 1), (126, 1), (143, 1), (161, 1), (162, 1)], [(49, 1)], [(70, 1), (163, 1), (164, 1)], [(32, 1), (165, 1), (166, 1), (167, 1)], [(79, 1), (168, 1)], [(169, 1), (170, 1), (171, 1), (172, 1)], [(121, 1), (173, 1)], [(20, 1), (72, 1), (174, 1), (175, 1), (176, 1), (177, 1)], [(20, 2), (24, 2), (32, 1), (72, 1), (127, 1), (178, 1), (179, 1), (180, 1), (181, 1), (182, 1)], [(21, 1), (183, 1), (184, 1), (185, 1), (186, 1), (187, 1), (188, 1)], [(7, 1), (32, 1), (77, 1), (189, 1), (190, 1)], [(191, 1), (192, 1), (193, 1), (194, 1), (195, 1), (196, 1), (197, 1)], [(100, 1), (198, 1)], [(95, 1), (199, 1), (200, 1), (201, 1)], [(202, 1)], [(1, 1), (32, 1), (42, 2), (70, 2), (82, 1), (111, 1), (203, 1), (204, 1), (205, 1), (206, 1), (207, 1), (208, 1), (209, 1), (210, 1), (211, 1), (212, 1), (213, 1), (214, 1)], [(45, 1), (215, 1)], [(1, 1), (138, 1), (216, 1), (217, 1), (218, 1)], [(111, 1), (202, 1), (219, 1)], [(42, 1), (70, 1), (220, 1), (221, 1), (222, 1), (223, 1)], [(41, 1), (42, 1), (127, 1), (189, 1), (224, 1)], [(32, 1), (42, 1), (121, 2), (225, 1), (226, 1)], [(7, 1), (121, 1), (173, 1)], [(52, 1), (227, 1), (228, 1)], [(143, 1), (229, 1)], [(32, 1), (130, 1), (230, 1)], [(231, 1)], [(232, 1), (233, 1), (234, 1), (235, 1), (236, 1), (237, 1), (238, 1), (239, 1), (240, 1), (241, 1), (242, 1), (243, 1), (244, 1), (245, 1)], [(7, 1), (70, 1), (246, 1)], [(247, 1)], [(15, 1), (135, 1)], [(94, 1), (120, 1), (248, 1)], [(249, 1)], [(32, 1), (36, 1), (53, 1), (250, 1), (251, 1)], [(52, 1), (76, 1), (252, 1), (253, 1), (254, 1), (255, 1), (256, 1), (257, 1), (258, 1), (259, 1), (260, 1), (261, 1), (262, 1)], [(243, 5), (263, 5), (264, 5)], [(13, 1), (20, 1), (74, 1), (265, 1), (266, 1)], [(70, 1), (267, 1)], [(38, 1), (39, 1), (268, 1), (269, 1)], [(21, 1), (32, 1), (270, 1), (271, 1), (272, 1)], [(273, 1), (274, 1)], [(20, 2), (22, 2), (32, 3), (72, 1), (79, 2), (146, 1), (275, 1), (276, 1), (277, 1), (278, 2), (279, 1)], [(79, 1)], [(21, 1), (32, 1), (280, 1), (281, 1), (282, 1), (283, 1), (284, 1), (285, 1), (286, 1), (287, 1)], [(288, 1)], [(21, 1), (154, 1), (289, 1), (290, 1)], [(22, 1), (32, 1), (73, 1), (291, 1), (292, 1)], [(293, 1)], [(1, 1)], [(2, 1), (64, 1), (122, 1), (142, 1)], [(294, 1), (295, 1), (296, 1)], [(15, 1), (53, 2), (135, 1), (297, 1), (298, 1)], [(60, 1), (61, 1), (208, 1), (299, 1)], [(74, 1)], [(300, 1)], [(24, 1), (32, 1), (301, 1)], [(22, 1), (216, 1), (302, 1), (303, 1)], [(304, 1), (305, 1), (306, 1), (307, 1), (308, 1), (309, 1)], [(95, 1)], [(21, 1), (32, 1), (42, 2), (45, 1), (70, 4), (83, 1), (133, 1), (172, 1), (266, 1), (310, 1), (311, 1), (312, 1), (313, 1), (314, 1), (315, 1), (316, 1), (317, 1), (318, 1), (319, 1), (320, 1), (321, 1), (322, 1), (323, 1)], [(7, 1), (29, 1), (324, 1), (325, 1), (326, 1), (327, 1)], [(22, 2), (32, 2), (42, 1), (53, 1), (72, 1), (111, 1), (126, 1), (135, 1), (328, 1)], [(32, 1), (163, 1), (187, 1), (329, 1), (330, 1), (331, 1)], [(53, 1)], [(42, 1), (70, 1), (332, 1), (333, 1), (334, 1), (335, 1), (336, 1), (337, 1), (338, 1)], [(339, 1), (340, 1)], [(32, 1), (39, 1), (263, 1), (341, 1), (342, 1)], [(20, 1), (22, 1), (122, 1), (143, 1), (154, 1), (331, 1), (343, 1), (344, 1), (345, 1)], [(20, 1), (45, 1), (120, 1), (136, 1), (346, 1)], [(154, 1)], [(29, 1), (52, 1), (143, 1)], [(13, 1), (347, 1), (348, 1), (349, 1), (350, 1), (351, 1)], [(21, 1), (32, 1), (352, 1)], [(353, 1)], [(36, 1), (70, 1), (76, 1), (354, 1), (355, 1), (356, 1), (357, 1)], [(39, 1)], [(358, 1), (359, 1), (360, 1)], [(13, 1)], [(32, 1), (70, 1), (74, 1), (119, 1), (121, 1), (143, 1), (361, 1), (362, 1)], [(16, 1)], [(363, 2), (364, 1), (365, 1)], [(74, 1), (291, 1), (366, 1), (367, 1)], [(29, 1), (64, 1), (127, 1), (368, 1), (369, 1)], [(7, 1), (144, 1)], [(52, 1), (127, 1), (370, 1), (371, 1), (372, 1)], [(373, 1), (374, 1), (375, 1), (376, 1), (377, 1)], [(79, 1), (93, 1), (378, 1), (379, 1), (380, 1), (381, 1), (382, 1)], [(383, 1)], [(21, 1), (24, 1), (32, 1), (165, 1)], [(32, 1), (163, 1), (177, 1), (246, 1), (305, 1), (384, 1), (385, 1), (386, 1), (387, 1), (388, 1), (389, 1), (390, 1), (391, 1), (392, 1)], [(74, 1)], [(13, 1), (393, 1)], [(394, 1)], [(225, 1)], [(395, 1), (396, 1)], [(21, 1), (397, 1), (398, 1)], [(32, 1), (399, 1), (400, 1)], [(72, 1), (401, 1), (402, 1), (403, 1)], [(32, 2), (57, 1), (72, 1), (73, 1), (79, 1), (121, 2), (173, 1), (291, 1), (404, 1), (405, 1)], [(406, 1)], [(32, 1), (42, 1), (407, 1), (408, 1)], [(21, 1), (32, 2), (74, 1), (79, 1), (121, 1), (143, 1), (173, 1), (404, 1), (409, 1)], [(41, 1), (172, 1), (410, 1), (411, 1), (412, 1), (413, 1)], [(21, 1), (32, 1), (201, 1), (414, 1)], [(415, 1), (416, 1), (417, 1)], [(73, 1), (111, 1), (198, 1), (202, 1), (219, 1), (418, 1)], [(216, 1), (419, 1), (420, 1)], [(18, 1), (32, 1), (421, 1)], [(7, 1), (422, 1), (423, 1)], [(42, 1), (60, 1), (61, 1), (424, 1), (425, 1), (426, 1)], [(121, 1), (136, 1), (225, 1)], [(427, 1)], [(22, 1), (428, 1), (429, 1)], [(39, 1), (53, 1)], [(25, 1), (42, 1), (430, 1), (431, 1), (432, 1)], [(433, 1), (434, 1), (435, 1)], [(436, 1), (437, 1)], [(438, 1), (439, 1)], [(74, 1), (143, 1), (326, 1), (392, 1), (399, 1), (440, 1), (441, 1), (442, 1)], [(95, 1)], [(102, 1), (114, 1)], [(202, 1), (443, 1), (444, 1)], [(32, 1), (38, 1), (41, 1), (57, 1), (69, 1), (107, 1), (116, 2), (187, 1), (202, 1), (394, 1), (412, 1), (441, 1), (445, 1), (446, 1), (447, 1), (448, 2), (449, 1), (450, 1), (451, 1), (452, 1), (453, 1), (454, 1), (455, 2), (456, 1), (457, 1)], [(187, 1), (446, 1), (458, 1), (459, 1)], [(32, 1), (76, 1), (142, 1), (292, 1), (460, 1), (461, 1)], [(121, 1), (298, 1), (462, 1)], [(74, 1), (120, 1), (404, 1), (463, 1), (464, 1), (465, 1)], [(127, 1), (442, 1), (466, 1), (467, 1), (468, 1)], [(79, 1), (469, 1)], [(470, 1), (471, 1)], [(20, 1), (42, 1), (73, 1), (106, 1), (201, 2), (266, 1), (328, 1), (398, 1), (428, 1), (472, 1), (473, 1), (474, 1), (475, 1), (476, 1), (477, 1), (478, 1), (479, 1)], [(20, 1), (26, 1), (480, 1), (481, 1)], [(15, 1), (39, 1), (135, 1), (297, 1), (398, 1), (482, 1), (483, 1), (484, 1), (485, 1), (486, 1), (487, 1)], [(8, 1), (226, 1), (293, 1), (366, 1), (394, 1), (488, 1), (489, 1), (490, 1), (491, 1), (492, 1)], [(53, 1)], [(20, 2), (34, 1), (52, 1), (79, 1), (82, 1), (442, 1), (493, 2), (494, 1), (495, 1)], [(22, 1), (225, 1)], [(21, 1), (32, 1), (496, 1)], [(293, 1), (497, 1)], [(13, 1), (498, 1), (499, 1), (500, 1)], [(501, 1), (502, 1), (503, 1), (504, 1), (505, 1)], [(74, 1)], [(53, 1), (165, 1), (398, 1)], [(14, 1)], [(506, 1), (507, 1)], [(56, 1), (57, 1), (508, 1), (509, 1), (510, 1)], [(7, 1), (127, 1), (143, 1), (392, 1), (511, 1), (512, 1), (513, 1), (514, 1), (515, 1), (516, 1), (517, 1), (518, 1), (519, 1)], [(13, 1), (520, 1), (521, 1)], [(13, 1), (522, 1), (523, 1), (524, 1)], [(21, 1), (32, 2), (165, 1), (525, 1)], [(1, 2), (19, 1), (114, 1), (463, 1)], [(53, 1)], [(526, 1)], [(187, 1), (331, 1), (446, 1), (527, 1)], [(219, 1)], [(24, 1), (49, 1), (165, 1), (202, 1), (528, 1), (529, 1), (530, 1), (531, 1), (532, 1), (533, 1), (534, 1), (535, 1), (536, 1)], [(444, 1), (537, 1), (538, 1), (539, 1)], [(18, 1), (63, 1), (312, 1), (540, 1)], [(22, 1), (32, 1), (39, 1), (121, 1), (541, 1)], [(39, 1), (79, 1), (189, 1), (542, 1)], [(7, 1), (36, 1), (69, 1), (280, 1), (394, 1), (420, 1), (543, 1), (544, 1), (545, 1), (546, 1), (547, 1)], [(548, 1)], [(549, 1), (550, 1)], [(13, 1), (551, 1)], [(10, 1), (29, 1), (127, 1)], [(7, 1), (70, 1), (552, 1), (553, 1), (554, 1), (555, 1), (556, 1), (557, 1)], [(74, 1), (143, 1), (558, 1)], [(7, 1), (32, 1), (45, 1), (70, 1), (165, 1), (559, 1)], [(165, 1), (560, 1), (561, 1), (562, 1), (563, 1), (564, 1)], [(32, 1), (48, 1), (70, 1), (272, 2)], [(565, 1)], [(187, 1), (566, 1), (567, 1), (568, 1)], [(259, 1), (569, 1)], [(42, 1), (70, 2), (172, 1), (570, 1), (571, 1)], [(10, 1), (32, 1), (42, 2), (53, 1), (101, 1), (121, 1), (339, 1), (356, 1), (380, 1), (572, 1)], [(573, 1), (574, 1)], [(554, 1)], [(32, 1), (34, 1), (36, 1), (53, 1), (199, 1), (575, 1), (576, 1), (577, 1)], [(32, 1), (127, 1), (190, 1), (483, 1), (541, 1), (578, 1), (579, 1)], [(580, 1), (581, 1)], [(73, 1)], [(70, 1), (111, 1)], [(582, 1)], [(20, 1), (583, 1)], [(7, 1), (463, 1)], [(22, 1)], [(584, 1), (585, 1)], [(142, 1), (278, 1), (430, 1), (483, 1), (520, 1), (586, 1)], [(20, 1), (32, 1), (42, 1), (163, 2), (177, 1), (587, 1)], [(588, 1), (589, 1), (590, 1), (591, 1), (592, 1), (593, 1)], [(594, 1), (595, 1)], [(57, 1), (520, 1), (596, 1)], [(13, 1), (349, 1)], [(597, 1)], [(24, 1), (53, 1), (598, 1)], [(52, 1), (102, 1), (520, 1)], [(486, 1), (487, 1)], [(79, 1), (599, 1)], [(63, 1), (225, 1)], [(600, 1)], [(114, 1), (143, 1), (220, 1), (221, 1), (576, 1), (601, 1), (602, 1), (603, 1), (604, 1), (605, 1), (606, 1), (607, 1)], [(53, 1), (172, 1), (208, 1), (608, 1), (609, 1)], [(32, 1), (39, 1), (42, 1), (610, 1)], [(611, 1), (612, 1), (613, 1)], [(614, 1), (615, 1)], [(616, 1), (617, 1), (618, 1)], [(2, 1), (10, 1), (41, 1), (143, 1), (251, 1), (350, 1), (351, 1), (619, 1), (620, 1)], [(202, 1), (446, 1), (458, 1), (582, 1), (621, 1)], [(39, 1), (622, 1)], [(114, 1), (136, 1), (623, 1)], [(45, 1), (70, 1), (73, 2), (248, 1), (624, 1)], [(7, 1), (178, 1)], [(33, 1), (225, 1)], [(39, 1), (259, 1), (625, 1)], [(127, 1), (226, 1), (626, 1), (627, 1)], [(628, 1), (629, 1), (630, 1)], [(631, 1)], [(173, 1), (632, 1)], [(543, 1), (633, 1)], [(186, 1), (634, 1), (635, 1), (636, 1), (637, 1)], [(227, 1)], [(20, 2), (53, 1), (163, 1), (494, 1), (577, 1), (638, 1), (639, 1), (640, 1)], [(7, 1), (10, 1), (38, 1), (42, 1), (70, 3), (82, 2), (616, 1), (641, 1), (642, 1), (643, 1), (644, 1)], [(32, 1), (645, 1)], [(1, 1), (22, 1), (121, 1), (142, 1), (143, 1), (606, 1)], [(74, 1)], [(39, 1), (251, 1), (633, 1), (646, 1)], [(4, 1), (70, 1), (216, 1), (647, 1), (648, 1)], [(20, 1), (70, 1), (111, 1), (649, 1), (650, 1)], [(24, 1), (53, 1), (94, 1), (633, 1), (651, 1), (652, 1)], [(22, 1), (33, 1), (653, 1), (654, 1), (655, 1)], [(332, 1), (337, 1), (448, 1)], [(41, 1)], [(656, 1), (657, 1), (658, 1), (659, 1), (660, 1), (661, 1), (662, 1), (663, 1), (664, 1), (665, 1), (666, 1)], [(70, 1), (82, 1), (323, 1), (667, 1)], [(1, 1), (216, 1)], [(24, 3), (427, 2)], [(33, 1)], [(668, 1)], [(13, 1)], [(24, 1), (198, 1), (226, 1)], [(477, 1)], [(669, 1), (670, 1)], [(671, 1)], [(52, 1), (441, 1), (452, 1)], [(20, 2), (41, 1), (42, 1), (52, 1), (60, 1), (61, 1), (79, 1), (202, 1), (322, 1), (426, 1), (459, 1), (672, 1), (673, 1), (674, 1), (675, 1), (676, 1), (677, 1), (678, 1), (679, 1), (680, 1), (681, 1)], [(42, 1), (48, 1), (162, 1), (434, 1), (682, 1), (683, 1), (684, 1)], [(263, 1)], [(297, 1), (458, 1), (616, 1), (685, 1), (686, 1), (687, 1)], [(688, 1), (689, 1)], [(42, 1), (198, 1), (690, 1), (691, 1), (692, 1), (693, 1), (694, 1), (695, 1), (696, 1)], [(697, 1), (698, 1), (699, 1)], [(29, 1)], [(64, 1), (227, 1), (700, 1), (701, 1)], [(13, 1), (73, 1), (499, 1), (686, 1), (702, 1)], [(703, 1)], [(22, 1), (74, 1), (259, 1), (704, 1)], [(73, 1), (120, 1), (284, 1), (478, 1), (705, 1), (706, 1)], [(39, 1)], [(707, 1)], [(22, 1), (32, 1), (708, 1), (709, 1)], [(710, 1), (711, 1)], [(712, 1)], [(633, 1), (713, 1)], [(13, 1)], [(226, 1), (714, 1)], [(74, 1)], [(507, 1)], [(95, 1), (715, 1)], [(70, 1), (716, 1)], [(1, 1), (160, 1), (381, 1)], [(20, 1), (34, 1), (36, 1), (266, 1)], [(272, 1)], [(45, 1), (70, 1)], [(201, 1)], [(717, 1)], [(111, 1), (121, 1)], [(263, 1), (342, 1)], [(36, 1), (70, 1)], [(14, 1)], [(13, 1), (14, 1), (15, 1), (22, 1), (135, 1), (267, 2), (297, 1), (322, 1), (458, 1), (718, 1), (719, 1), (720, 1), (721, 1), (722, 1), (723, 1), (724, 1)], [(49, 1), (114, 1)], [(130, 1), (260, 1), (382, 1)], [(725, 1)], [(76, 1), (79, 1), (114, 1), (726, 1), (727, 1), (728, 1), (729, 1)], [(0, 1), (21, 1), (24, 2), (36, 1), (39, 1), (41, 1), (51, 1), (198, 2), (266, 1), (442, 1), (459, 1), (588, 1), (667, 1), (695, 1), (730, 1), (731, 1), (732, 1), (733, 1), (734, 1)], [(24, 1)], [(4, 1), (267, 1)], [(36, 1), (70, 1), (272, 1)], [(24, 1)], [(640, 1), (735, 1), (736, 1), (737, 1)], [(0, 1), (22, 1), (79, 1), (122, 1), (142, 1), (738, 1), (739, 1)], [(20, 1), (41, 1), (458, 1), (740, 1), (741, 1), (742, 1), (743, 1), (744, 2)], [(198, 1), (595, 1)], [(70, 1), (135, 1), (267, 1), (745, 1), (746, 1), (747, 1)], [(127, 1), (748, 1)], [(74, 1), (136, 1), (143, 1), (731, 1), (749, 1), (750, 1)], [(74, 1), (79, 1)], [(340, 1), (633, 1)], [(751, 1)], [(74, 1)], [(443, 1)], [(15, 1), (20, 1), (34, 1), (136, 2), (493, 1), (752, 1), (753, 1), (754, 1), (755, 1), (756, 1)], [(79, 1)], [(757, 1), (758, 1)], [(202, 1), (640, 1)], [(266, 1), (587, 1)], [(39, 1)], [(32, 1), (45, 1), (120, 1), (172, 1), (332, 1), (337, 1), (759, 1), (760, 1)], [(21, 1), (32, 1), (73, 1), (399, 1), (495, 1), (624, 1), (649, 1), (761, 1)], [(259, 1), (762, 1)], [(29, 1)], [(0, 1), (31, 1), (51, 1), (275, 1), (554, 1), (734, 1), (763, 1), (764, 1)], [(42, 1), (82, 2), (118, 1), (278, 1), (765, 1), (766, 1), (767, 1), (768, 1), (769, 1)], [(770, 1), (771, 1), (772, 1), (773, 1)], [(19, 1), (32, 1), (74, 1), (121, 1), (406, 1)], [(2, 1), (7, 1), (73, 1), (127, 1), (226, 1), (291, 1), (436, 1), (633, 1), (686, 1), (774, 1)], [(29, 2), (285, 1), (775, 1), (776, 1)], [(77, 1), (777, 1)], [(13, 1), (14, 1), (20, 1), (39, 1), (72, 1), (74, 1), (326, 1), (458, 2), (466, 1), (475, 1), (606, 1), (722, 1), (778, 1), (779, 1), (780, 1), (781, 1), (782, 1)], [(783, 2)], [(101, 1), (163, 1), (784, 1), (785, 1)], [(143, 1), (486, 1), (554, 1), (786, 1), (787, 1), (788, 1), (789, 1)], [(127, 1)], [(39, 1)], [(20, 1), (34, 1), (42, 1), (70, 1), (72, 1), (73, 1)], [(198, 1), (404, 1), (537, 1), (790, 1)], [(29, 1), (459, 1), (595, 1), (791, 1)], [(13, 1), (778, 1)], [(29, 1), (32, 1), (477, 1), (792, 1), (793, 1)], [(127, 1), (251, 1), (761, 1), (794, 1), (795, 1)], [(24, 1), (94, 1)], [(13, 1), (127, 1), (416, 1)], [(8, 1), (41, 2), (127, 1), (137, 1), (149, 1), (185, 2), (200, 1), (301, 1), (436, 1), (477, 1), (511, 1), (574, 2), (772, 1), (796, 1), (797, 1), (798, 1), (799, 1), (800, 1), (801, 1), (802, 1), (803, 1), (804, 1), (805, 1), (806, 1), (807, 1), (808, 1)], [(39, 1)], [(426, 1), (769, 1), (809, 1), (810, 1)], [(272, 1), (463, 1)], [(7, 1), (121, 1), (811, 1)], [(812, 1), (813, 1)], [(79, 1), (114, 1), (120, 1), (187, 1), (568, 1), (814, 1), (815, 1), (816, 1), (817, 1), (818, 1)], [(217, 1), (261, 1), (761, 1), (819, 1), (820, 1)], [(24, 1)], [(74, 1), (198, 1), (821, 1), (822, 1)], [(4, 1), (32, 1), (229, 1), (454, 1), (823, 1), (824, 1)], [(21, 1), (70, 1), (226, 1), (438, 1), (715, 1), (825, 1)], [(1, 1), (7, 1), (21, 2), (32, 2), (649, 1)], [(42, 1), (73, 1), (266, 1), (383, 1), (686, 1), (723, 1), (826, 1), (827, 1), (828, 1), (829, 1), (830, 1)], [(15, 1), (42, 1), (120, 1), (172, 1), (226, 1), (272, 1), (294, 1), (296, 1), (545, 1), (831, 1), (832, 1), (833, 1), (834, 1)], [(118, 1), (155, 1), (527, 1), (835, 1), (836, 1), (837, 1), (838, 1)], [(52, 1), (79, 1)], [(95, 1), (839, 1)], [(72, 1), (111, 1)], [(840, 1)], [(39, 1), (841, 1), (842, 1)], [(74, 1), (272, 1)], [(13, 1), (349, 1)], [(53, 1), (843, 1)], [(154, 1), (272, 1), (844, 1)], [(22, 1), (32, 1), (39, 2), (42, 1), (120, 1), (143, 1), (225, 1), (703, 1), (845, 1), (846, 1), (847, 1), (848, 1)], [(42, 1), (48, 1), (477, 1), (831, 1), (849, 1), (850, 1)], [(851, 1), (852, 1)], [(79, 1), (114, 1), (121, 1), (198, 1)], [(7, 1), (45, 1)], [(7, 1), (127, 1)], [(119, 1), (853, 1), (854, 1), (855, 1)], [(13, 1), (32, 1), (128, 1), (143, 1), (475, 1), (856, 1)], [(1, 1), (94, 1), (581, 1)], [(7, 1), (20, 1), (62, 1), (177, 1), (178, 1), (179, 1), (387, 1), (427, 1), (519, 1), (754, 2), (857, 1), (858, 1), (859, 1), (860, 1), (861, 1), (862, 1), (863, 1), (864, 1), (865, 1), (866, 1), (867, 1), (868, 1), (869, 1), (870, 1), (871, 1), (872, 1), (873, 2), (874, 2)], [(349, 1), (463, 1), (875, 1), (876, 1)], [(39, 1), (149, 1), (582, 2)], [(21, 1), (52, 1), (130, 1), (877, 1), (878, 1)], [(22, 1)], [(24, 1), (879, 1)], [(587, 1)], [(880, 1)], [(587, 1)], [(36, 1), (70, 1)], [(20, 1), (39, 1), (176, 1), (633, 1), (686, 1)], [(42, 1), (227, 1), (283, 1), (700, 1), (701, 1)], [(70, 1), (138, 1), (266, 1), (881, 1)], [(172, 1), (882, 1), (883, 1), (884, 1)], [(74, 1), (143, 1), (173, 1)], [(39, 1), (143, 1), (149, 1), (392, 1)], [(33, 1), (121, 1), (183, 1)], [(289, 1), (885, 1)], [(74, 1), (354, 1), (357, 1), (886, 1)], [(887, 1)], [(475, 1), (888, 1), (889, 1)], [(7, 1)], [(478, 1)], [(1, 1), (21, 1), (34, 1), (70, 2), (172, 1), (203, 1), (322, 1), (761, 1), (890, 1), (891, 1), (892, 1), (893, 1), (894, 1)], [(24, 1), (26, 1), (36, 1), (64, 1), (416, 1), (895, 1), (896, 1)], [(897, 1), (898, 1), (899, 1), (900, 1)], [(7, 1), (73, 1), (554, 1), (686, 1), (901, 1)], [(57, 1), (294, 1), (402, 1), (831, 1)], [(198, 1), (902, 1)], [(198, 1), (267, 1), (903, 1)], [(173, 1)], [(904, 1), (905, 1), (906, 1)], [(283, 1), (829, 3), (907, 1), (908, 1), (909, 1), (910, 1), (911, 1), (912, 1), (913, 1), (914, 1), (915, 1), (916, 1), (917, 1), (918, 1), (919, 1), (920, 1), (921, 1), (922, 1), (923, 1)], [(73, 1), (331, 1), (924, 1)], [(21, 1), (32, 1)], [(925, 1), (926, 1)], [(52, 1), (114, 1), (136, 3), (927, 1)], [(77, 1), (136, 2), (458, 1), (928, 1)], [(80, 1), (929, 1)], [(1, 1), (2, 1), (116, 1), (198, 1), (203, 2), (319, 1), (576, 1), (780, 1), (930, 1), (931, 1), (932, 1), (933, 1)], [(39, 1), (168, 1)], [(53, 1)], [(56, 1), (127, 1), (463, 1), (934, 1), (935, 1), (936, 1), (937, 1)], [(938, 1), (939, 1), (940, 1), (941, 1), (942, 1), (943, 1), (944, 1), (945, 1), (946, 1), (947, 1), (948, 1), (949, 1), (950, 1), (951, 1), (952, 1), (953, 1), (954, 1), (955, 1), (956, 1), (957, 1), (958, 1), (959, 1)], [(41, 1), (79, 1), (568, 1), (960, 1), (961, 1)], [(962, 1), (963, 1), (964, 1), (965, 1)], [(1, 1), (7, 1), (22, 1), (126, 1), (340, 1), (459, 1), (709, 1), (966, 1)], [(42, 1), (70, 2), (82, 3), (844, 1), (967, 1), (968, 1)], [(969, 1)], [(136, 1), (168, 1), (869, 1), (970, 1)], [(42, 1), (70, 2), (82, 1), (212, 1), (971, 1)], [(120, 1), (143, 1)], [(10, 1), (21, 1), (29, 1), (32, 2), (74, 1), (127, 1), (130, 1), (143, 1), (173, 1), (972, 1), (973, 1)], [(1, 1), (669, 1)], [(974, 1)], [(32, 1), (975, 1), (976, 1)], [(39, 1)], [(29, 1), (49, 1), (95, 1), (381, 1), (618, 1), (977, 1), (978, 1)], [(10, 1), (16, 1), (20, 3), (32, 2), (36, 1), (74, 1), (79, 1), (111, 1), (120, 1), (127, 1), (248, 1), (398, 1), (554, 1), (748, 1), (761, 1), (857, 1), (979, 1), (980, 1), (981, 1), (982, 1)], [(32, 1), (595, 1), (983, 1)], [(7, 1), (19, 1), (24, 1), (36, 1), (812, 1), (831, 1), (984, 1), (985, 1), (986, 1), (987, 1)], [(74, 1), (76, 1), (366, 1), (827, 1), (988, 1)], [(440, 1), (624, 1), (989, 1)], [(20, 1), (21, 1), (33, 1), (70, 1), (74, 1), (143, 1), (284, 1), (616, 1)], [(120, 1)], [(121, 1), (174, 1), (598, 1)], [(7, 1), (990, 1)], [(1, 1)], [(991, 1)], [(127, 1), (226, 1), (992, 1)], [(48, 1), (787, 1)], [(53, 1), (993, 1), (994, 1)], [(22, 1), (154, 1)], [(32, 1)], [(24, 1)], [(1, 1), (2, 1), (19, 1), (130, 1), (153, 2), (251, 1), (295, 1), (868, 1), (977, 1), (995, 1), (996, 1)], [(95, 1), (143, 1)], [(89, 1), (434, 1), (997, 1)], [(10, 1), (32, 1), (975, 1), (998, 1), (999, 1)], [(1000, 1), (1001, 1), (1002, 1), (1003, 1)], [(7, 1)], [(406, 1), (1004, 1)], [(120, 1), (847, 1), (1005, 1)], [(21, 1), (32, 1), (669, 1), (1006, 1)], [(95, 1), (176, 1), (326, 1)], [(34, 1), (381, 1), (422, 1), (568, 1), (1007, 1)], [(1008, 9)], [(442, 1), (1009, 1), (1010, 1), (1011, 1), (1012, 1)], [(960, 1)], [(20, 1), (70, 1), (177, 1), (179, 1), (180, 1), (450, 1), (1013, 1)], [(595, 1)], [(13, 1), (569, 1)], [(56, 1), (655, 1), (674, 1)], [(32, 1), (33, 1), (49, 1), (70, 1), (131, 1), (146, 1), (163, 1), (443, 1), (450, 1), (759, 1), (1014, 1), (1015, 1), (1016, 1), (1017, 1), (1018, 1)], [(22, 1), (38, 1), (39, 1), (72, 1), (225, 1), (270, 1)], [(95, 1), (149, 1)], [(21, 1), (32, 1), (74, 1), (525, 1)], [(70, 1), (133, 1), (443, 1), (717, 1), (1019, 1)], [(116, 1), (118, 1), (1006, 1), (1020, 1), (1021, 1)], [(53, 1)], [(42, 1), (143, 1), (176, 1), (226, 1), (601, 1), (773, 1), (1022, 1), (1023, 1), (1024, 1), (1025, 1), (1026, 1), (1027, 1), (1028, 1), (1029, 1), (1030, 2)], [(18, 1), (22, 1), (588, 1), (1031, 1), (1032, 1), (1033, 1)], [(70, 1), (323, 1)], [(7, 1), (73, 1), (120, 1)], [(611, 1), (1034, 1), (1035, 1), (1036, 1), (1037, 1)], [(32, 1), (39, 1), (975, 1)], [(1038, 1), (1039, 1)], [(1040, 1), (1041, 1)], [(772, 1), (1042, 1)], [(1043, 1)], [(24, 1), (1044, 1)], [(39, 1), (202, 1)], [(70, 1), (107, 1), (322, 2), (655, 1), (1045, 1)], [(7, 1), (79, 1), (1046, 1)], [(582, 1)], [(111, 1), (263, 1), (342, 1), (1047, 1)], [(24, 1), (263, 1), (633, 1), (1048, 1), (1049, 1), (1050, 1)], [(127, 1), (228, 1), (328, 1), (1051, 1)], [(70, 1), (114, 1), (396, 1)], [(119, 1), (130, 1)], [(684, 1), (1052, 1)], [(24, 1), (628, 1)], [(102, 1), (332, 1), (559, 2), (1053, 1), (1054, 1), (1055, 1), (1056, 1)], [(74, 1), (79, 1), (120, 1), (143, 1), (393, 1), (903, 1), (1057, 1)], [(1058, 1)], [(1, 1), (7, 1), (72, 1)], [(4, 1), (22, 1), (48, 1), (74, 1), (143, 1), (201, 1), (266, 1), (625, 1), (1059, 1), (1060, 1)], [(20, 1), (21, 1), (36, 1), (130, 1), (176, 1), (179, 1), (368, 1), (486, 1), (618, 1), (708, 1), (1061, 1), (1062, 1), (1063, 1)], [(3, 1), (18, 1), (1064, 1), (1065, 1)], [(32, 1), (53, 1), (187, 1), (331, 1), (370, 1), (1066, 1)], [(73, 1), (203, 1), (1067, 1)], [(63, 1), (173, 1)], [(1068, 1), (1069, 1)], [(29, 1)], [(20, 1), (32, 1), (494, 1), (649, 1), (761, 1), (1070, 1)], [(2, 1), (19, 1), (32, 1), (73, 1), (121, 1), (136, 1), (1071, 1), (1072, 1), (1073, 1)], [(53, 1), (1074, 1)], [(515, 1), (719, 1), (738, 1), (1051, 1), (1075, 1), (1076, 2), (1077, 1), (1078, 1), (1079, 2)], [(1, 1), (114, 1), (587, 1), (1080, 1), (1081, 1)], [(888, 1)], [(2, 1), (20, 3), (22, 1), (32, 1), (39, 1), (41, 1), (133, 1), (143, 1), (293, 1), (408, 1), (443, 1), (577, 1), (587, 1), (703, 1), (704, 1), (890, 1), (1082, 1), (1083, 1), (1084, 1)], [(7, 1), (20, 1), (226, 1)], [(22, 1), (121, 1), (225, 1), (1085, 1), (1086, 1), (1087, 1)], [(20, 2), (34, 1), (51, 1), (438, 1), (520, 1), (761, 1), (989, 1), (1073, 1), (1088, 1)], [(633, 1), (655, 1), (699, 1), (960, 1), (1007, 1)], [(53, 1)], [(1089, 1)], [(20, 1), (114, 1), (143, 1)], [(21, 1), (32, 3), (201, 1), (1090, 1), (1091, 1), (1092, 1), (1093, 1), (1094, 1), (1095, 1)], [(7, 1), (31, 1), (42, 1), (101, 1), (158, 1), (201, 1), (245, 1), (366, 1), (398, 1), (544, 1), (1096, 1), (1097, 1), (1098, 1), (1099, 1), (1100, 1), (1101, 1), (1102, 1)], [(22, 1), (121, 1), (1103, 1), (1104, 1)], [(36, 1), (72, 1), (645, 1), (1105, 1), (1106, 1)], [(1, 1), (21, 1), (32, 1), (51, 1), (283, 1), (446, 1), (476, 2), (1010, 1), (1107, 1)], [(121, 1), (1108, 1)], [(1, 1), (114, 1), (143, 1), (146, 1), (1109, 1), (1110, 1)], [(22, 1), (32, 1), (39, 1), (64, 1), (654, 1), (709, 1)], [(259, 1), (583, 1), (1111, 1)], [(243, 4), (589, 1), (630, 1), (1095, 1), (1112, 2), (1113, 1), (1114, 1), (1115, 1), (1116, 1), (1117, 1), (1118, 1), (1119, 1), (1120, 1), (1121, 1), (1122, 1), (1123, 1), (1124, 1), (1125, 1), (1126, 1), (1127, 1), (1128, 1), (1129, 1)], [(436, 1), (441, 1), (633, 1), (640, 1), (1130, 1), (1131, 1)], [(74, 1), (143, 1), (409, 1), (1132, 1), (1133, 1), (1134, 1), (1135, 1)], [(543, 1)], [(324, 1)], [(126, 1), (127, 1), (402, 1)], [(73, 1), (76, 1), (284, 1), (675, 1)], [(127, 1), (1136, 1)], [(21, 1), (1137, 1)], [(2, 1), (10, 1), (52, 1), (442, 1), (587, 1), (749, 1), (768, 1), (1138, 1), (1139, 1)], [(1140, 1)], [(7, 1), (1141, 1), (1142, 1), (1143, 1)], [(1144, 1), (1145, 1)], [(22, 1), (29, 1)], [(1146, 1), (1147, 1), (1148, 1)], [(21, 1), (32, 1), (525, 1), (1149, 1)], [(14, 1), (95, 1), (226, 1), (326, 1), (339, 1), (439, 1), (450, 1), (580, 1), (1150, 1)], [(42, 1), (70, 1), (82, 1), (143, 1), (1151, 1), (1152, 1)], [(446, 1)], [(22, 1), (32, 1), (225, 1)], [(226, 1), (251, 1)], [(31, 1), (434, 1), (1110, 1), (1153, 1), (1154, 1)], [(633, 1), (1155, 1), (1156, 1), (1157, 1), (1158, 1)], [(94, 1), (520, 1), (1159, 1), (1160, 1)], [(149, 1), (1161, 1), (1162, 1), (1163, 1)], [(24, 1), (32, 1), (165, 1)], [(2, 1), (121, 1), (137, 1), (339, 1), (519, 1)], [(20, 1), (1018, 1), (1164, 1), (1165, 1)], [(7, 1), (79, 1)], [(518, 1), (1166, 1)], [(1167, 1)], [(93, 1), (116, 1), (426, 1), (434, 1), (436, 1), (655, 2), (1168, 1), (1169, 1), (1170, 1), (1171, 2), (1172, 1), (1173, 1), (1174, 1), (1175, 1), (1176, 1), (1177, 1), (1178, 1), (1179, 1)], [(32, 1), (102, 1), (111, 1), (202, 1), (1180, 1)], [(22, 1), (52, 1), (326, 1), (1181, 1)], [(267, 1)], [(15, 1), (404, 1), (891, 1)], [(53, 1)], [(40, 1), (243, 1), (1182, 1), (1183, 1), (1184, 1), (1185, 1), (1186, 1), (1187, 1), (1188, 1), (1189, 1)], [(42, 1), (465, 1)], [(20, 1), (49, 1), (149, 1), (408, 1), (520, 1), (572, 1), (927, 1), (960, 1), (966, 1), (1190, 1), (1191, 1), (1192, 1)], [(7, 1), (32, 1), (404, 1)], [(7, 1), (14, 1), (95, 1), (319, 1)], [(79, 1), (102, 1), (167, 1)], [(22, 1), (64, 1), (89, 1), (122, 1), (142, 1), (1193, 1)], [(20, 1), (165, 1), (187, 1)], [(24, 1), (668, 1), (1194, 1)], [(1195, 1)], [(33, 1), (1196, 1), (1197, 1), (1198, 1)], [(1, 1), (1199, 1)], [(21, 1), (42, 1), (245, 1), (324, 1), (398, 1), (614, 1), (633, 1), (1042, 1), (1200, 1)], [(143, 2), (202, 1), (392, 1), (1201, 1), (1202, 1)], [(24, 1), (130, 1), (667, 1), (1179, 1), (1203, 1)], [(79, 1), (1204, 1), (1205, 1)], [(74, 1), (163, 1), (187, 1), (1206, 1)], [(62, 1), (907, 1), (908, 1), (1207, 1)], [(24, 1), (26, 1), (32, 1), (1208, 1), (1209, 1), (1210, 1)], [(14, 1), (21, 1), (689, 1), (1211, 1)], [(24, 1), (198, 1)], [(51, 1)], [(20, 1), (32, 2), (51, 1), (187, 1), (283, 1), (848, 1), (1212, 1)], [(64, 1), (116, 1), (185, 1), (844, 1), (1213, 1), (1214, 1), (1215, 1), (1216, 1)], [(7, 1), (127, 1)], [(1217, 1)], [(20, 1), (22, 1), (33, 1), (42, 1), (143, 1), (225, 1), (1165, 1), (1218, 1), (1219, 1), (1220, 1)], [(21, 1), (70, 2), (79, 1), (129, 1), (267, 1), (431, 1), (554, 1), (831, 1), (1221, 1), (1222, 1)], [(138, 1), (1223, 1)], [(821, 1)], [(32, 1), (332, 1), (337, 1), (427, 1), (684, 1), (848, 1)], [(1, 1), (32, 1), (73, 1), (430, 1), (769, 1)], [(51, 2), (155, 1), (1224, 1)], [(7, 1)], [(33, 1), (246, 1)], [(79, 1)], [(13, 1), (1225, 1)], [(21, 1), (537, 1)], [(248, 1)], [(36, 1), (70, 1), (114, 1)], [(1226, 1), (1227, 1), (1228, 1)], [(32, 1), (1229, 1), (1230, 1), (1231, 1), (1232, 1)], [(149, 1)], [(7, 1), (439, 1), (480, 1), (1233, 1), (1234, 1), (1235, 1)], [(297, 1), (402, 1)], [(22, 1), (102, 1), (142, 1)], [(507, 1), (1236, 1), (1237, 1)], [(13, 1), (18, 1), (21, 1), (32, 1), (259, 1)], [(7, 1), (126, 1), (463, 1)], [(20, 1), (32, 1), (34, 1), (72, 1), (675, 1), (1238, 1), (1239, 1), (1240, 1)], [(409, 1)], [(127, 1), (198, 1), (438, 1), (616, 1), (1241, 1), (1242, 1)], [(4, 1), (717, 1), (1243, 1)], [(416, 1)], [(24, 1), (32, 2), (52, 1), (120, 2), (202, 1), (283, 1), (340, 2), (412, 1), (633, 1), (636, 1), (699, 1), (936, 1), (1244, 1), (1245, 1)], [(32, 1), (568, 1), (1246, 1)], [(7, 1), (127, 1), (476, 1), (655, 1)], [(7, 1)], [(39, 1)], [(20, 1), (36, 1), (39, 1), (70, 1), (177, 1), (280, 1), (1247, 1), (1248, 1), (1249, 1), (1250, 1), (1251, 1)], [(266, 1), (633, 1), (1252, 1), (1253, 1)], [(1, 1), (20, 1), (114, 1), (144, 1), (201, 1), (810, 1), (1254, 1)], [(580, 1), (587, 1), (1255, 1)], [(53, 1), (1256, 1)], [(1257, 1)], [(1258, 1)], [(1259, 1)], [(1260, 1)], [(1261, 1)], [(1140, 1)], [(296, 1), (446, 1), (1262, 1), (1263, 1)], [(74, 1), (463, 1), (1264, 1)], [(119, 1), (408, 1), (426, 1), (1265, 1)], [(1, 2), (20, 1), (36, 1), (52, 1), (79, 1), (101, 1), (157, 1), (220, 1), (275, 1), (370, 1), (577, 1), (624, 1), (759, 1), (1266, 1), (1267, 1), (1268, 1), (1269, 1), (1270, 1), (1271, 1)], [(7, 1), (127, 1)], [(1272, 1), (1273, 1)], [(1274, 1)], [(7, 1), (21, 1), (32, 1), (42, 1), (121, 1), (131, 1), (217, 1), (283, 1), (649, 1)], [(1, 1), (32, 1), (33, 1), (74, 1), (121, 1), (408, 1), (1275, 1)], [(13, 1)], [(64, 1), (173, 1)], [(79, 1), (136, 1)], [(7, 1), (41, 1), (414, 1), (1276, 1)], [(1277, 1)], [(116, 1), (297, 1), (1278, 1)], [(120, 1), (1279, 1)], [(20, 1), (21, 1), (24, 1), (48, 1), (72, 1), (294, 1), (1280, 2), (1281, 1), (1282, 1), (1283, 1), (1284, 1), (1285, 2), (1286, 1)], [(13, 1), (24, 1), (32, 1), (39, 1), (42, 3), (52, 2), (53, 1), (130, 1), (187, 1), (189, 1), (331, 2), (519, 1), (606, 1), (737, 1), (856, 1), (1287, 1), (1288, 1), (1289, 1), (1290, 2), (1291, 1), (1292, 1), (1293, 1), (1294, 1)], [(32, 1), (848, 1)], [(29, 1), (127, 1)], [(137, 1)], [(53, 1)], [(74, 1)], [(203, 1)], [(18, 1), (20, 1), (1295, 1)], [(24, 1), (398, 1), (1143, 1), (1296, 1)], [(243, 1), (1272, 1), (1273, 1), (1297, 1)], [(4, 1)], [(527, 1), (587, 1)], [(36, 1), (1298, 1)], [(7, 1), (53, 1), (73, 1), (554, 1), (867, 1), (1299, 1), (1300, 1)], [(39, 1), (52, 1), (94, 1), (187, 1), (201, 1), (1301, 1)], [(82, 1), (149, 1), (154, 1), (1302, 1)], [(94, 1), (149, 1), (477, 1)], [(162, 1), (434, 1), (1303, 1)], [(127, 1)], [(7, 1), (39, 1), (42, 1), (49, 1), (163, 1), (266, 2), (283, 1), (446, 1)], [(1304, 1)], [(712, 1)], [(94, 1), (149, 1), (1305, 1), (1306, 1), (1307, 1)], [(2, 1), (22, 1), (74, 1), (143, 1), (1308, 1)], [(1140, 1)], [(42, 1), (187, 1), (525, 1), (1309, 1), (1310, 1), (1311, 1), (1312, 1), (1313, 1)], [(120, 1), (1314, 1), (1315, 1)], [(32, 1), (79, 1), (226, 1), (1316, 1)], [(39, 1), (1317, 1)], [(22, 1), (72, 1), (142, 1)], [(7, 1), (198, 1)], [(447, 1)], [(29, 1)], [(22, 1), (33, 1), (616, 1), (1318, 1), (1319, 1), (1320, 1), (1321, 1)], [(1322, 1)], [(223, 1), (477, 1)], [(267, 1)], [(32, 1), (655, 1), (674, 1), (722, 1), (1323, 1), (1324, 1)], [(595, 1)], [(1325, 1)], [(1, 1), (20, 1)], [(64, 1), (1326, 1)], [(53, 1)], [(1327, 1)], [(34, 1), (42, 1), (201, 1), (272, 1), (408, 1), (412, 1), (626, 1), (806, 1), (1328, 1), (1329, 1), (1330, 1), (1331, 1), (1332, 1), (1333, 1), (1334, 1), (1335, 2), (1336, 1), (1337, 1), (1338, 1), (1339, 1)], [(15, 1), (82, 1), (135, 1), (328, 1), (1340, 1), (1341, 1), (1342, 1), (1343, 1), (1344, 1)], [(32, 1), (366, 1)], [(626, 1), (1345, 1), (1346, 1), (1347, 1), (1348, 1), (1349, 1), (1350, 1), (1351, 1), (1352, 1), (1353, 1), (1354, 1), (1355, 1), (1356, 1)], [(1357, 1)], [(689, 1), (1358, 1), (1359, 1), (1360, 1)], [(49, 1), (133, 1)], [(200, 1), (1361, 1), (1362, 1), (1363, 1), (1364, 1), (1365, 1), (1366, 1), (1367, 3), (1368, 1), (1369, 1), (1370, 1), (1371, 1), (1372, 1), (1373, 1), (1374, 1), (1375, 1), (1376, 1), (1377, 1), (1378, 1), (1379, 1), (1380, 1), (1381, 1)], [(7, 1), (1382, 1)], [(21, 1), (32, 1)], [(1383, 1)], [(1384, 1)], [(24, 1), (263, 2)], [(7, 1), (62, 1), (1385, 1), (1386, 1), (1387, 1)], [(7, 1), (463, 1)], [(24, 1)], [(29, 1), (32, 1), (136, 1), (924, 1)], [(158, 1), (1388, 1), (1389, 1)], [(1, 1), (33, 1), (395, 1), (882, 1), (1142, 1), (1390, 1), (1391, 1), (1392, 1)], [(32, 1), (36, 1), (48, 1), (1393, 1)], [(29, 1)], [(1, 1), (32, 1), (41, 1), (42, 1), (53, 2), (64, 1), (157, 1), (326, 1), (443, 2), (459, 1), (1394, 1), (1395, 1), (1396, 1), (1397, 1), (1398, 1)], [(70, 1), (808, 1)], [(70, 1), (769, 1), (1399, 1)], [(20, 1), (21, 1), (32, 2), (73, 1), (101, 1), (587, 1), (649, 1), (787, 1), (1400, 1), (1401, 1)], [(79, 1), (203, 1), (1402, 1)], [(32, 1)], [(202, 1), (633, 1)], [(20, 1), (70, 1), (74, 1), (88, 1), (143, 1), (185, 1), (251, 1), (1201, 1), (1243, 2), (1403, 1), (1404, 1), (1405, 1), (1406, 1), (1407, 1), (1408, 1), (1409, 1), (1410, 1)], [(350, 1)], [(20, 1), (70, 1), (266, 1), (443, 1), (719, 1)], [(18, 1), (41, 1), (52, 1), (64, 1), (94, 1), (269, 1), (715, 1)], [(20, 2), (21, 1), (32, 4), (42, 1), (143, 1), (182, 1), (203, 2), (272, 1), (416, 1), (494, 1), (519, 2), (614, 1), (877, 1), (1411, 1), (1412, 2), (1413, 1), (1414, 1), (1415, 1), (1416, 1), (1417, 1), (1418, 1), (1419, 1), (1420, 1)], [(42, 1), (52, 1), (64, 1), (70, 1), (76, 2), (154, 1), (1421, 1), (1422, 1)], [(53, 1), (1423, 1), (1424, 1)], [(1425, 1)], [(49, 1), (1426, 1), (1427, 1)], [(53, 1)], [(1428, 1)], [(24, 1), (32, 1), (356, 1), (695, 1), (1429, 1)], [(399, 1), (464, 1), (611, 1), (655, 1)], [(1430, 1)], [(7, 1), (32, 1), (36, 1), (65, 1), (143, 1), (201, 1), (633, 1), (1431, 1)], [(118, 1), (625, 1)], [(20, 2), (32, 1), (42, 1), (57, 1), (70, 2), (74, 1), (202, 1), (408, 1), (443, 1), (507, 1), (686, 1), (903, 1), (1432, 1)], [(119, 1)], [(20, 1), (266, 1), (339, 1), (554, 1), (699, 1), (856, 1), (1335, 1), (1433, 1), (1434, 1)], [(1007, 1), (1435, 1)], [(38, 1), (72, 2), (158, 1), (202, 1), (203, 1), (245, 1), (339, 1), (398, 1), (633, 1), (1099, 1)], [(22, 1), (24, 1), (1436, 1)], [(118, 1), (182, 1), (837, 1)], [(42, 1), (70, 1), (200, 1), (1437, 1)], [(595, 1)], [(20, 1), (42, 1), (70, 3), (108, 1), (188, 1), (268, 1), (446, 1), (603, 1), (1009, 1), (1438, 1), (1439, 1), (1440, 1), (1441, 1), (1442, 1), (1443, 1), (1444, 1)], [(7, 1), (278, 1)], [(507, 1), (1241, 1), (1324, 1)], [(21, 1), (32, 2), (42, 1), (856, 1), (1445, 1), (1446, 2)], [(1447, 1), (1448, 1)], [(29, 1), (408, 1), (1006, 1), (1449, 1)], [(32, 1), (120, 1), (1450, 1), (1451, 1)], [(39, 1)], [(120, 1), (248, 1), (381, 1), (1452, 1)], [(1453, 1)], [(22, 1)], [(172, 1), (227, 1)], [(126, 1), (1042, 1)], [(77, 1), (120, 1), (1052, 1), (1454, 1)], [(49, 1), (272, 1), (1455, 1)], [(21, 1), (32, 1), (33, 2), (36, 1), (48, 1), (70, 1), (266, 1), (338, 1), (443, 1), (817, 1), (1456, 1), (1457, 1), (1458, 1), (1459, 1), (1460, 1)], [(598, 1)], [(628, 1)], [(7, 1), (168, 1)], [(118, 1), (182, 1)], [(21, 1), (32, 1), (42, 1), (525, 1), (1461, 1)], [(42, 1), (64, 1), (70, 1), (1462, 1), (1463, 1), (1464, 1)], [(332, 1), (1143, 1), (1296, 1), (1465, 1)], [(53, 1), (1466, 1)], [(1467, 1)], [(48, 1), (121, 1), (443, 1), (1468, 1), (1469, 1), (1470, 1)], [(24, 1), (29, 1), (32, 1), (53, 1), (73, 1), (341, 1), (446, 1), (686, 1)], [(7, 1), (163, 1), (441, 1), (1471, 1)], [(245, 1), (404, 1), (1157, 1), (1472, 1), (1473, 1), (1474, 1)], [(21, 1), (32, 1), (173, 1)], [(1, 1)], [(109, 1), (176, 1), (366, 1), (1475, 1)], [(1476, 1), (1477, 1)], [(32, 1), (39, 1), (143, 1), (266, 1)], [(20, 1), (36, 1), (42, 1), (70, 1), (82, 2), (83, 1), (699, 1), (704, 1), (1060, 1), (1478, 1)], [(446, 1)], [(312, 1), (340, 1), (892, 1)], [(41, 1), (412, 1), (588, 1), (1087, 1), (1479, 1), (1480, 1)], [(1481, 1)], [(121, 1), (368, 1)], [(121, 1), (173, 1), (1106, 1)], [(7, 1), (77, 1), (79, 1), (198, 1), (412, 1), (441, 1), (1013, 1), (1482, 1), (1483, 1), (1484, 1), (1485, 1), (1486, 1)], [(41, 1), (143, 1), (177, 1), (366, 1), (440, 1), (466, 1), (1487, 1), (1488, 1), (1489, 1)], [(1, 1), (1490, 1)], [(82, 1), (291, 1), (326, 1), (412, 1), (442, 1), (1491, 1), (1492, 1)], [(20, 1), (21, 1), (33, 1), (57, 1), (248, 1), (266, 1), (398, 1), (626, 1), (1493, 1)], [(136, 1)], [(1, 1), (33, 1), (42, 1), (53, 1), (70, 1), (226, 1), (266, 1), (275, 1), (443, 1), (635, 1), (869, 1), (963, 1), (1010, 1), (1319, 1), (1494, 1), (1495, 1), (1496, 1), (1497, 1), (1498, 1)], [(135, 1)], [(24, 1), (493, 1), (755, 1)], [(39, 1), (114, 1)], [(32, 1), (53, 1), (73, 1), (120, 1), (1499, 1)], [(24, 1)], [(22, 1), (70, 1), (850, 1), (1358, 1), (1500, 1)], [(73, 1), (493, 1), (1501, 1)], [(82, 1), (157, 1)], [(1447, 1)], [(60, 1), (61, 1)], [(22, 1), (36, 1), (70, 1), (1502, 1)], [(576, 1), (1041, 1), (1503, 1), (1504, 1)], [(243, 1), (1505, 1), (1506, 1), (1507, 1)], [(20, 1), (72, 1), (198, 1), (202, 1), (477, 1), (1243, 1)], [(20, 1), (53, 1), (120, 1), (475, 1), (1508, 1)], [(24, 1)], [(15, 1), (135, 1), (143, 1), (149, 1), (251, 1), (625, 1), (1136, 1), (1244, 1), (1509, 1), (1510, 1), (1511, 1)], [(154, 1)], [(1512, 1), (1513, 1), (1514, 1), (1515, 1)], [(1, 1), (130, 1), (476, 1), (1516, 1), (1517, 1), (1518, 1), (1519, 1)], [(1520, 1)], [(263, 1)], [(21, 1), (29, 1), (33, 1), (48, 1), (70, 1), (127, 1), (381, 1), (616, 1), (868, 1), (869, 1)], [(1521, 1)], [(120, 1)], [(64, 1), (595, 1)], [(120, 1), (127, 1), (1036, 1), (1522, 1), (1523, 1)], [(1524, 16)], [(22, 1), (39, 1), (272, 1), (654, 1)], [(33, 1), (1525, 1), (1526, 1)], [(7, 1), (20, 1), (45, 1), (70, 1), (131, 1), (163, 1), (198, 1), (275, 1), (339, 1), (495, 1), (844, 1), (1230, 1), (1527, 1), (1528, 1), (1529, 1), (1530, 1), (1531, 1)], [(266, 1)], [(19, 1), (33, 1), (339, 1), (414, 1), (449, 1), (714, 1), (719, 1), (866, 1), (1219, 1), (1532, 1), (1533, 1), (1534, 1)], [(111, 1)], [(927, 1), (1444, 1), (1535, 1), (1536, 1), (1537, 1)], [(53, 1)], [(554, 1)], [(21, 1), (32, 1), (1073, 1)], [(1538, 1)], [(62, 1), (120, 1), (201, 1), (633, 1), (728, 1), (1539, 1), (1540, 1)], [(32, 2), (163, 1), (187, 1), (331, 1), (412, 1), (733, 1), (1006, 1)], [(21, 1), (22, 1), (52, 1), (406, 1)], [(120, 1), (136, 1)], [(263, 1), (633, 1), (1541, 1), (1542, 1)], [(1, 1), (18, 1), (22, 3), (79, 1), (121, 1), (142, 1), (326, 1), (445, 1)], [(609, 1), (682, 1), (1543, 1)], [(21, 1), (22, 1)], [(24, 1), (296, 1), (759, 1), (1007, 1), (1544, 1)], [(263, 1), (342, 1)], [(24, 1), (73, 1), (226, 1), (624, 1), (969, 1), (1149, 1)], [(243, 1), (1157, 1), (1545, 2), (1546, 1), (1547, 1), (1548, 1), (1549, 1), (1550, 1), (1551, 1)], [(1552, 1)], [(52, 1), (1553, 1)], [(24, 1), (226, 1)], [(74, 1), (1554, 1), (1555, 1)], [(41, 1)], [(1556, 1), (1557, 1), (1558, 1), (1559, 1)], [(70, 1), (892, 1)], [(100, 1), (263, 1), (342, 1), (1560, 1)], [(29, 2), (1561, 1), (1562, 1), (1563, 1)], [(1, 1), (32, 1), (187, 1), (198, 1), (248, 1), (446, 1), (1564, 1)], [(42, 1), (70, 1), (891, 1), (1565, 2), (1566, 1)], [(1567, 1), (1568, 1)], [(1, 1), (36, 1), (70, 1), (72, 1), (397, 1), (416, 1), (595, 1)], [(582, 1)], [(70, 1), (75, 1), (118, 1), (182, 1), (332, 1), (337, 1), (936, 1)], [(33, 1), (73, 1)], [(29, 2), (64, 1)], [(446, 1), (1569, 1)], [(1570, 1)], [(29, 2), (620, 1), (856, 1), (873, 1), (1571, 1)], [(493, 1)], [(21, 1), (39, 1), (73, 1), (312, 1), (525, 1), (649, 1), (1572, 1), (1573, 1), (1574, 1)], [(20, 1), (62, 1), (74, 1), (126, 1), (312, 1), (328, 1)], [(118, 1), (1458, 1), (1575, 1), (1576, 1)], [(4, 1), (21, 1), (24, 1), (39, 1), (42, 1), (48, 2), (69, 1), (70, 3), (93, 1), (111, 2), (146, 1), (259, 1), (283, 1), (294, 1), (297, 1), (438, 1), (439, 1), (519, 1), (733, 1), (1577, 1), (1578, 1), (1579, 1), (1580, 1), (1581, 1), (1582, 1), (1583, 1), (1584, 1), (1585, 1), (1586, 1), (1587, 1), (1588, 1), (1589, 1), (1590, 1), (1591, 1), (1592, 2)], [(32, 1), (165, 1), (699, 1)], [(1, 1), (62, 1), (398, 1), (614, 1), (1593, 1), (1594, 1), (1595, 1)], [(4, 1)], [(1, 1), (7, 1), (33, 1), (1596, 1), (1597, 1), (1598, 1)], [(39, 1), (1599, 1)], [(203, 1), (539, 1), (620, 1), (655, 1), (844, 1), (869, 1), (1012, 1), (1172, 1), (1510, 1), (1592, 2), (1600, 1), (1601, 1)], [(20, 1), (32, 1), (127, 1), (475, 1), (731, 1), (1602, 1), (1603, 1)], [(633, 1), (1140, 3)], [(1604, 1), (1605, 1)], [(32, 1), (1606, 1), (1607, 1)], [(633, 1), (1140, 3), (1608, 1)], [(13, 1), (73, 1), (686, 1)], [(14, 1), (332, 1), (337, 1)], [(1609, 1)], [(21, 1), (32, 1), (649, 1), (1252, 1)], [(738, 1)], [(13, 1), (180, 1), (187, 1), (256, 1), (259, 1), (398, 1)], [(64, 1), (466, 1)], [(20, 1)], [(1610, 1), (1611, 1)], [(7, 1), (202, 1)], [(39, 1), (202, 1), (936, 1), (1042, 1), (1612, 1)], [(256, 1), (1613, 1)], [(24, 1)], [(24, 1)], [(595, 1)], [(60, 1), (61, 1)], [(22, 1), (653, 1), (654, 1)], [(1423, 1)], [(32, 1), (52, 1)], [(120, 1)], [(34, 1), (52, 1), (202, 1), (271, 1), (1053, 1), (1278, 1), (1432, 1), (1527, 1), (1614, 1), (1615, 1), (1616, 1), (1617, 1), (1618, 1), (1619, 1)], [(1620, 1)], [(74, 1), (83, 1), (459, 1), (736, 1), (1149, 1)], [(582, 1)], [(1621, 1)], [(21, 1), (32, 2), (42, 1), (52, 1), (856, 1), (1504, 1), (1622, 1)], [(21, 2), (32, 2), (74, 1), (82, 1), (165, 1), (1252, 1)], [(216, 1)], [(288, 1)], [(1140, 1)], [(1623, 1)], [(33, 1), (52, 1), (79, 1), (111, 2), (143, 1), (759, 2), (1624, 1)], [(1625, 1)], [(223, 1)], [(781, 1), (856, 1), (1018, 1)], [(507, 1), (1626, 1), (1627, 1)], [(50, 1), (137, 1), (221, 3), (386, 2), (394, 2), (1628, 1), (1629, 2), (1630, 1), (1631, 2), (1632, 1), (1633, 1), (1634, 2), (1635, 1)], [(120, 2), (1636, 1), (1637, 1)], [(21, 1), (32, 1), (41, 1), (121, 1), (130, 1), (143, 1), (326, 1), (409, 1), (728, 1), (1004, 1), (1638, 1)], [(584, 1)], [(32, 1), (52, 1), (633, 1)], [(74, 1), (127, 1)], [(1639, 1), (1640, 1)], [(72, 1), (520, 1), (749, 1), (1641, 1), (1642, 1)], [(259, 1), (1018, 1), (1374, 1), (1643, 1)], [(95, 1)], [(21, 1), (24, 1), (178, 1)], [(70, 1), (547, 1), (1644, 1), (1645, 1)], [(52, 1), (127, 1)], [(2, 1), (22, 1), (70, 1), (1646, 1)], [(32, 1), (366, 1)], [(18, 1), (394, 1), (785, 1), (1307, 1)], [(1647, 1)], [(42, 1), (975, 1), (1145, 1)], [(1648, 1), (1649, 1)], [(587, 1)], [(33, 1), (42, 1), (70, 1), (761, 1), (1650, 1), (1651, 1), (1652, 1)], [(22, 1), (1653, 1)], [(42, 1), (477, 1), (701, 1), (1233, 1), (1654, 1), (1655, 1), (1656, 1), (1657, 1)], [(70, 1), (114, 1), (259, 1), (1658, 1)], [(21, 1), (32, 1), (57, 1), (723, 1)], [(1447, 1), (1659, 1)], [(21, 1), (32, 1), (153, 1), (856, 1)], [(22, 2), (32, 3), (39, 1), (41, 1), (42, 1), (72, 1), (79, 2), (111, 1), (143, 1), (179, 1), (225, 1), (266, 1), (294, 1), (443, 1), (969, 1), (1243, 1), (1528, 1), (1529, 1), (1660, 1), (1661, 1), (1662, 1), (1663, 1), (1664, 1)], [(21, 1), (22, 1), (42, 1), (79, 1), (126, 1), (339, 1), (1665, 1)], [(291, 1), (459, 1)], [(8, 1), (1666, 1)], [(136, 1), (293, 1), (297, 1), (977, 1), (1667, 1), (1668, 1), (1669, 1), (1670, 1), (1671, 1)], [(2, 1), (73, 1), (226, 1), (714, 1)], [(1672, 1)], [(42, 1), (70, 1), (120, 1), (1673, 1)], [(1, 1), (68, 1), (332, 1), (337, 1), (837, 1)], [(24, 1)], [(53, 1), (94, 1), (154, 1)], [(438, 1)], [(7, 1), (475, 1), (633, 1), (984, 1), (1674, 1)], [(53, 1), (245, 1), (398, 1), (1034, 1)], [(382, 2), (1675, 1), (1676, 1), (1677, 1)], [(1678, 1)], [(49, 1)], [(1140, 1)], [(7, 2), (20, 1), (32, 2), (165, 1), (202, 1), (263, 1), (272, 1), (1679, 1)], [(136, 2)], [(42, 1), (52, 1), (70, 1), (1343, 1), (1592, 1), (1680, 1), (1681, 1), (1682, 1), (1683, 1)], [(267, 1)], [(4, 1), (20, 1), (24, 1), (32, 1), (72, 1), (1105, 1), (1684, 1), (1685, 1)], [(32, 1), (79, 1), (406, 1)], [(243, 1), (1686, 1), (1687, 1)], [(24, 1)], [(296, 1), (1688, 1), (1689, 1)], [(20, 2), (32, 1), (1690, 1), (1691, 1), (1692, 1), (1693, 1)], [(42, 1), (70, 1), (1694, 1), (1695, 1), (1696, 1), (1697, 1)], [(20, 1), (32, 1), (36, 1), (39, 1), (42, 1), (70, 1), (1698, 1), (1699, 1), (1700, 1), (1701, 1)], [(34, 1), (42, 1), (519, 1), (1702, 1)], [(493, 120)], [(52, 1), (837, 1), (1517, 1), (1703, 1), (1704, 1), (1705, 1)], [(1007, 1)], [(41, 1), (94, 1), (201, 1)], [(7, 1), (20, 1), (32, 1), (202, 2), (404, 1), (486, 1), (595, 1), (1706, 1)], [(307, 1), (1707, 1), (1708, 1), (1709, 1), (1710, 1), (1711, 1)], [(36, 1)], [(29, 1), (52, 1), (326, 1), (463, 1)], [(39, 1), (42, 1), (70, 2), (203, 1), (761, 1), (1243, 1), (1712, 1)], [(74, 1), (655, 1), (1323, 1)], [(1459, 1), (1713, 1)], [(1007, 1), (1714, 1)], [(1715, 1), (1716, 1)], [(22, 1), (135, 1), (868, 1), (1717, 1), (1718, 1), (1719, 2), (1720, 1), (1721, 1), (1722, 1), (1723, 1), (1724, 1)], [(7, 1), (39, 1), (41, 1), (53, 1), (165, 1), (263, 1), (342, 1), (398, 1), (459, 1), (633, 1), (1560, 1), (1706, 1)], [(7, 1), (1725, 1)], [(1726, 1), (1727, 1)], [(879, 1), (1728, 1), (1729, 1)], [(13, 1), (1730, 1)], [(24, 1)], [(7, 1), (398, 1), (1731, 1)], [(32, 1), (111, 1), (475, 1), (1732, 1)], [(24, 1)], [(4, 1), (412, 1), (450, 1), (1733, 1)], [(1233, 1)], [(443, 1), (554, 1)], [(21, 1), (24, 1), (32, 1), (120, 1), (428, 1), (1734, 1)], [(42, 1), (70, 1), (127, 1), (143, 1), (392, 1)], [(120, 1), (1735, 1)], [(77, 1), (226, 1), (1736, 1)], [(787, 1), (1737, 2)], [(1738, 1)], [(21, 2), (32, 1), (127, 1), (409, 1), (969, 1), (1734, 1), (1739, 1), (1740, 1)], [(312, 1), (1741, 1)], [(53, 1), (100, 1)], [(8, 1), (1094, 1), (1395, 1)], [(1742, 1)], [(475, 1)], [(39, 1), (266, 1), (275, 1), (755, 1)], [(13, 1), (1743, 1)], [(7, 1), (120, 1), (127, 1), (259, 1), (280, 1), (1646, 1), (1744, 1), (1745, 1), (1746, 1), (1747, 1)], [(1556, 1), (1557, 1), (1748, 1), (1749, 1), (1750, 1), (1751, 1), (1752, 1), (1753, 1), (1754, 1), (1755, 1), (1756, 1)], [(1757, 1)], [(42, 1), (57, 1), (339, 1), (408, 1), (624, 1), (767, 1), (1758, 1), (1759, 1)], [(29, 1), (1760, 1)], [(45, 1), (70, 1), (73, 1), (1761, 1), (1762, 1)], [(1763, 1), (1764, 1)], [(42, 1), (70, 1), (102, 1), (176, 1), (638, 2), (1616, 1), (1765, 1), (1766, 1), (1767, 1), (1768, 1)], [(1429, 1), (1769, 1)], [(53, 1), (595, 1)], [(20, 2), (39, 1), (73, 2), (399, 2), (440, 1), (443, 1), (519, 1), (633, 1), (699, 1), (1101, 1), (1239, 1), (1770, 1), (1771, 1), (1772, 1), (1773, 1)], [(1774, 1)], [(42, 1), (198, 1), (294, 1), (891, 1), (1734, 1), (1775, 1), (1776, 1)], [(18, 1)], [(1777, 1), (1778, 1)], [(72, 1)], [(24, 1), (36, 1), (70, 1), (106, 1), (723, 1), (890, 1), (1779, 1), (1780, 1), (1781, 1)], [(64, 1), (1782, 1), (1783, 1)], [(568, 1), (1706, 1)], [(39, 1), (143, 1), (1094, 1), (1404, 1)], [(53, 1)], [(20, 1), (72, 1), (266, 1)], [(13, 1), (924, 1), (1784, 1), (1785, 1)], [(1786, 1)], [(1787, 1), (1788, 1)], [(251, 1), (366, 1), (450, 1), (1789, 1), (1790, 1), (1791, 1), (1792, 1)], [(20, 1), (259, 1), (297, 1)], [(136, 1)], [(186, 1), (427, 1), (1793, 1)], [(471, 1), (1794, 1), (1795, 1), (1796, 1), (1797, 1)], [(1798, 1), (1799, 1), (1800, 1), (1801, 1), (1802, 1), (1803, 1), (1804, 1), (1805, 1)], [(74, 1)], [(126, 1), (1140, 1)], [(20, 2), (32, 1), (39, 1), (41, 1), (42, 1), (62, 1), (70, 2), (73, 1), (120, 1), (135, 1), (259, 1), (283, 1), (297, 2), (332, 2), (337, 2), (438, 2), (466, 1), (577, 2), (699, 1), (709, 1), (913, 1), (1459, 1), (1700, 1), (1806, 1), (1807, 1), (1808, 1), (1809, 1), (1810, 1), (1811, 1), (1812, 1), (1813, 1), (1814, 1), (1815, 1), (1816, 1), (1817, 1)], [(7, 1), (414, 1)], [(29, 1), (120, 1), (127, 1), (226, 1), (646, 1), (856, 1), (1007, 1), (1282, 1)], [(79, 1), (381, 1)], [(79, 1)], [(149, 1), (172, 1), (1818, 1)], [(20, 1), (29, 1), (127, 2), (974, 1), (1819, 1)], [(69, 1), (70, 1), (74, 1), (76, 1), (266, 1), (267, 1)], [(20, 1), (32, 1), (38, 1), (39, 1), (41, 2), (42, 1), (52, 2), (143, 2), (220, 2), (366, 1), (394, 2), (402, 1), (436, 1), (649, 1), (1165, 1), (1451, 1), (1529, 1), (1771, 1), (1820, 1), (1821, 1), (1822, 1)], [(1823, 1)], [(111, 1), (263, 1), (342, 1), (430, 1)], [(1824, 1)], [(95, 1)], [(52, 1), (102, 1), (1429, 1), (1825, 1)], [(20, 1), (32, 1), (48, 1), (188, 1), (721, 1)], [(1826, 1), (1827, 1)], [(65, 1), (582, 2)], [(303, 1), (477, 1)], [(73, 1), (111, 1), (245, 1), (398, 1)], [(42, 1), (701, 1), (1449, 1)], [(263, 1), (398, 1), (449, 1), (614, 1), (638, 1)], [(36, 1), (127, 1), (381, 1), (1828, 1), (1829, 1)], [(95, 1), (143, 1)], [(24, 1), (507, 1), (1830, 1)], [(515, 1), (674, 1), (722, 1), (1140, 1)], [(74, 1), (79, 1), (476, 1), (699, 1)], [(32, 1), (42, 1), (79, 1), (201, 1), (285, 1), (414, 1), (614, 1), (754, 1), (812, 1), (1792, 1), (1812, 1), (1828, 1), (1831, 1), (1832, 1)], [(1046, 1)], [(1833, 1)], [(35, 1)], [(1834, 1), (1835, 1), (1836, 1)], [(582, 1), (1837, 1), (1838, 1)], [(24, 1), (41, 1)], [(1, 1), (2, 1), (719, 1), (1018, 1)], [(2, 1), (22, 1), (29, 1), (42, 1), (70, 1), (143, 2), (653, 1), (1086, 1)], [(22, 1), (792, 1), (1839, 1)], [(127, 1), (409, 1)], [(143, 2), (848, 1), (1404, 1), (1840, 1), (1841, 1), (1842, 1)], [(53, 1)], [(24, 1), (53, 1), (65, 1)], [(39, 120)], [(120, 1), (595, 1), (1843, 1)], [(24, 1), (32, 1), (187, 2), (331, 1), (606, 1)], [(94, 1)], [(307, 1), (1844, 1), (1845, 1)], [(95, 1), (1846, 1)], [(32, 1)], [(20, 1), (259, 1), (1847, 1)], [(1359, 1), (1601, 1), (1734, 1), (1848, 1), (1849, 1)], [(79, 1)], [(21, 1), (32, 1), (33, 1), (74, 1), (1260, 1)], [(1850, 1)], [(202, 1), (399, 1), (1641, 1), (1851, 1), (1852, 1)], [(24, 1)], [(1853, 1), (1854, 1), (1855, 1)], [(79, 1), (1856, 1)], [(15, 1), (20, 1), (177, 1), (202, 1), (263, 1), (342, 1), (1560, 2)], [(127, 1), (326, 1), (461, 1), (1857, 1)], [(1858, 1)], [(36, 1), (1859, 1)], [(1860, 1)], [(57, 1), (120, 1), (366, 1)], [(1861, 1), (1862, 1)], [(33, 1), (34, 1), (381, 1), (577, 1)], [(1, 1), (20, 1), (21, 1), (33, 1), (42, 1), (70, 1), (74, 1), (169, 1), (171, 1), (172, 1), (216, 2), (226, 1), (587, 1), (707, 1), (1518, 1), (1863, 1), (1864, 1), (1865, 1), (1866, 1)], [(8, 1), (21, 1)], [(33, 1), (70, 2), (138, 1), (163, 3), (620, 1)], [(288, 1)], [(74, 1)], [(20, 1), (42, 1), (45, 1), (70, 1), (76, 1), (283, 1), (515, 1), (519, 1), (595, 1), (609, 1), (649, 1), (1733, 1), (1867, 1), (1868, 1)], [(101, 1), (1869, 1)], [(32, 1), (559, 1), (707, 1), (1870, 1), (1871, 1)], [(77, 1), (92, 1), (1318, 1), (1872, 1)], [(7, 1), (9, 1), (32, 2), (41, 1), (79, 1), (114, 1), (138, 1), (143, 1), (165, 2), (166, 1), (167, 1), (202, 2), (225, 2), (392, 1), (577, 1), (863, 1), (1706, 1), (1873, 1)], [(20, 1), (29, 1), (76, 1), (127, 1), (330, 1), (595, 1)], [(975, 1)], [(1874, 1)], [(20, 1), (32, 2), (39, 1), (42, 1), (127, 1), (649, 1)], [(15, 1), (135, 1), (475, 1)], [(39, 1), (72, 1)], [(79, 1)], [(120, 1)], [(24, 1)], [(1875, 1)], [(32, 1), (340, 1), (1876, 1)], [(595, 1)], [(20, 3), (21, 1), (29, 1), (32, 1), (42, 1), (154, 1), (248, 1), (606, 1), (629, 1), (630, 1), (1877, 1), (1878, 1), (1879, 1), (1880, 1), (1881, 1), (1882, 1), (1883, 1)], [(42, 1), (70, 1), (127, 1), (168, 1), (177, 1)], [(32, 1), (52, 1), (427, 1), (477, 1), (848, 1), (1884, 1)], [(14, 1), (1764, 1), (1885, 1), (1886, 1)], [(79, 1), (143, 1), (176, 1)], [(1161, 1), (1887, 1)], [(26, 1), (719, 1)], [(109, 1), (154, 1)], [(86, 1), (101, 1)], [(1888, 1)], [(79, 1)], [(42, 1)], [(297, 1)], [(74, 1)], [(477, 1)], [(1889, 1), (1890, 1)], [(42, 1), (118, 1), (837, 1), (1891, 1)], [(136, 1), (927, 2)], [(7, 1), (1892, 1)], [(1140, 1)], [(70, 1), (1893, 1), (1894, 1), (1895, 1)], [(42, 1), (70, 1), (381, 1), (963, 1)], [(76, 1), (216, 1), (1896, 1)], [(15, 1), (1404, 1)], [(326, 1), (1897, 1), (1898, 1), (1899, 1)], [(53, 1), (94, 1), (580, 1)], [(7, 1)], [(493, 1)], [(76, 1), (446, 1), (1900, 1)], [(1901, 1), (1902, 1)], [(136, 1), (293, 1), (736, 1), (1433, 1), (1667, 1), (1670, 1), (1903, 1)], [(41, 1), (837, 1), (1904, 1)], [(7, 1), (127, 1), (439, 1)], [(1049, 1)], [(19, 1), (20, 1)], [(29, 1), (52, 1), (143, 1), (1905, 1), (1906, 1), (1907, 1), (1908, 1), (1909, 1), (1910, 1), (1911, 1)], [(263, 1)], [(409, 2), (423, 1), (439, 1), (463, 1), (1540, 1), (1912, 1)], [(7, 1)], [(53, 1)], [(1913, 1)], [(52, 1), (220, 1), (221, 1)], [(39, 1)], [(1, 1), (21, 1), (73, 1), (111, 2), (272, 1), (1143, 1), (1296, 1), (1465, 1), (1914, 1), (1915, 1)], [(32, 1), (73, 1), (848, 1), (1916, 1), (1917, 1)], [(127, 1), (143, 1), (475, 1), (653, 1), (1690, 1), (1918, 1), (1919, 1), (1920, 1)], [(645, 2)], [(74, 1)], [(143, 1), (169, 1), (172, 1), (227, 1), (1211, 1), (1313, 1), (1921, 1), (1922, 1)], [(633, 1)], [(1, 1), (21, 1), (32, 2), (161, 1), (381, 1), (633, 1), (856, 1), (1042, 1)], [(24, 1), (1923, 1)], [(614, 1)], [(1, 1), (20, 2), (32, 1), (624, 1), (1924, 1)], [(272, 1)], [(1925, 1)], [(587, 1), (877, 1)], [(263, 1), (1926, 1)], [(13, 1), (20, 1), (42, 1), (70, 2), (266, 1), (396, 1), (399, 1), (613, 1), (1207, 1), (1234, 1)], [(74, 1), (84, 1), (120, 1), (121, 1), (176, 1), (297, 1), (1052, 1), (1927, 1)], [(120, 1), (1928, 1)], [(202, 1)], [(29, 1), (278, 1)], [(259, 1), (1929, 1), (1930, 1)], [(20, 1), (1931, 1)], [(267, 1)], [(1932, 1), (1933, 1)], [(24, 1)], [(15, 1), (20, 1), (24, 1), (73, 1), (478, 1), (686, 1), (722, 1), (1934, 1), (1935, 1)], [(86, 1), (198, 1)], [(13, 1), (42, 1), (70, 1), (101, 1), (449, 1), (1015, 1), (1395, 1), (1936, 1), (1937, 1)], [(10, 1), (33, 1), (42, 1), (70, 1), (127, 1), (1084, 1), (1143, 1), (1296, 1), (1938, 1)], [(1750, 1), (1939, 1)], [(1, 1), (22, 1), (143, 1), (174, 1)], [(1940, 1), (1941, 1), (1942, 1), (1943, 1)], [(127, 1), (1944, 1)], [(1049, 1)], [(53, 1), (177, 1), (1046, 1)], [(202, 1)], [(22, 1), (62, 1), (76, 1), (114, 1), (225, 1)], [(477, 1)], [(76, 1), (458, 1), (598, 1), (1945, 1)], [(1016, 1), (1946, 1)], [(7, 1), (22, 1), (41, 1), (42, 1), (70, 1), (120, 1), (291, 1), (616, 1), (981, 1), (1947, 1)], [(2, 1), (1520, 1)], [(885, 1)], [(185, 1), (277, 1)], [(20, 1), (34, 1), (73, 3), (111, 1), (146, 1), (686, 3), (1948, 1), (1949, 1)], [(42, 1), (70, 1), (624, 1), (1041, 1), (1503, 1)], [(1950, 1)], [(519, 1), (1951, 1), (1952, 1)], [(1, 1), (137, 1), (848, 1)], [(33, 1), (162, 1), (213, 1), (809, 1), (1105, 1), (1602, 1)], [(198, 1), (266, 1), (441, 1), (465, 1), (486, 1), (1953, 1)], [(32, 1), (381, 1), (848, 1)], [(1954, 1)], [(1955, 1)], [(1, 1), (42, 1), (70, 1), (73, 1), (79, 1), (267, 1), (348, 2), (381, 1), (397, 1), (1243, 1), (1956, 2), (1957, 1)], [(24, 1)], [(1958, 1)], [(70, 1), (154, 1), (203, 1), (1959, 1)], [(114, 1), (1960, 1)], [(143, 1), (409, 1), (728, 1), (1961, 1), (1962, 1), (1963, 1)], [(1964, 1)], [(33, 1), (118, 1), (576, 1)], [(39, 1), (263, 1)], [(24, 1), (38, 1), (42, 1), (53, 1), (446, 1), (1965, 1)], [(1966, 1), (1967, 1)], [(135, 1), (1968, 1)], [(127, 1), (1969, 1), (1970, 1)], [(32, 3), (53, 1), (74, 1), (143, 1), (267, 1), (366, 1), (633, 1), (868, 1), (1334, 1)], [(41, 1), (127, 1), (430, 1), (620, 1)], [(21, 1), (172, 1), (759, 1), (894, 1)], [(7, 1), (266, 1), (267, 1), (463, 1)], [(39, 1)], [(341, 1)], [(34, 1), (82, 1), (382, 1), (519, 1), (1631, 1), (1904, 1), (1971, 1)], [(39, 1)], [(22, 1), (39, 1)], [(19, 1), (248, 1), (322, 1), (370, 1), (867, 1), (1300, 1)], [(7, 1), (20, 1), (48, 1), (70, 1), (72, 1), (408, 1), (443, 1), (595, 1), (1222, 1), (1972, 2), (1973, 1)], [(364, 1), (1672, 2), (1896, 1)], [(120, 1)], [(24, 1), (32, 1), (366, 1), (387, 1), (808, 1), (1245, 1), (1667, 1)], [(74, 1)], [(24, 1), (198, 1)], [(1974, 1)], [(24, 1), (76, 1), (158, 1), (1099, 1), (1239, 1)], [(1140, 1)], [(475, 1)], [(74, 1), (772, 1), (1975, 1), (1976, 1)], [(24, 1), (120, 1)], [(74, 1)], [(127, 1), (475, 1), (1977, 1)], [(33, 1), (293, 1), (426, 1), (434, 1), (831, 1), (1241, 1), (1978, 1)], [(24, 1), (1140, 1)], [(1979, 1)], [(1, 1), (7, 1), (10, 1), (20, 1), (21, 1), (120, 1), (143, 2), (339, 1), (416, 1), (624, 1), (812, 1), (1490, 1), (1603, 1), (1828, 1)], [(118, 1), (1458, 1), (1980, 1), (1981, 1)], [(1982, 1)], [(459, 1), (715, 1)], [(1983, 1)], [(1984, 1), (1985, 1), (1986, 1), (1987, 1)], [(7, 1), (127, 1), (655, 1)], [(1988, 1)], [(49, 1)], [(202, 1), (1927, 1), (1988, 1), (1989, 1)], [(24, 1), (127, 1), (1060, 1), (1953, 1)], [(7, 1), (20, 1), (42, 1), (53, 1), (172, 1), (1252, 1), (1990, 1), (1991, 1), (1992, 1), (1993, 1), (1994, 1), (1995, 1), (1996, 1), (1997, 1)], [(20, 1), (21, 1), (32, 1), (226, 1), (340, 1), (680, 1), (1998, 1)], [(24, 1), (1999, 1), (2000, 1), (2001, 1)], [(136, 1)], [(458, 1)], [(18, 1), (22, 1), (79, 1), (406, 2), (2002, 1)], [(127, 1)], [(527, 1), (2003, 1)], [(1438, 1), (2004, 1)], [(541, 1), (1252, 1)], [(20, 1), (74, 1), (127, 1), (475, 1)], [(22, 1), (556, 1), (1734, 1), (2005, 1)], [(2006, 1), (2007, 1), (2008, 1), (2009, 1), (2010, 1)], [(53, 1), (2011, 1)], [(36, 3), (203, 1), (831, 4), (2012, 1), (2013, 1)], [(2014, 1)], [(143, 1), (478, 1), (1429, 1), (2015, 1)], [(74, 1), (2016, 1)], [(1156, 1), (1623, 1), (1932, 1), (2017, 1), (2018, 1)], [(118, 1), (146, 1), (837, 1)], [(2019, 1)], [(39, 1), (442, 1), (2020, 1)], [(94, 1), (2021, 1), (2022, 1)], [(42, 1), (73, 1), (74, 1), (79, 1), (94, 1), (111, 1), (202, 1), (1136, 1), (2023, 1)], [(226, 1), (920, 1)], [(36, 2), (70, 2), (72, 1), (73, 1), (74, 1), (127, 2), (266, 1), (381, 1), (442, 2), (587, 1), (649, 1), (1646, 1), (2024, 1), (2025, 1), (2026, 1), (2027, 1), (2028, 1), (2029, 1), (2030, 1), (2031, 1), (2032, 1)], [(397, 1), (614, 1)], [(19, 1), (2033, 1), (2034, 1)], [(32, 2), (33, 1), (42, 1), (127, 1), (177, 1), (903, 1), (1612, 1), (2035, 1)], [(4, 1), (20, 2), (39, 1), (259, 1), (640, 1), (761, 1), (845, 1), (1006, 1), (1793, 1), (2036, 1), (2037, 1)], [(2038, 1)], [(1081, 1), (1359, 1), (1601, 1), (1734, 1), (1848, 1), (1849, 1), (2039, 1)], [(382, 1), (1675, 1)], [(20, 1), (143, 1), (203, 1), (266, 1), (442, 1), (2040, 1), (2041, 1)], [(33, 1), (728, 1), (1096, 1), (1101, 1), (1641, 1), (1747, 1), (2042, 2)], [(202, 1), (873, 1)], [(20, 1), (519, 1), (574, 1), (587, 1), (633, 1), (2043, 1)], [(2044, 1)], [(22, 1), (121, 1), (703, 1), (786, 1), (892, 1), (1142, 1), (2045, 1)], [(158, 1), (1362, 1), (1363, 1), (2046, 1), (2047, 1), (2048, 1), (2049, 1), (2050, 1), (2051, 1)], [(2052, 1), (2053, 1), (2054, 1)], [(2054, 1), (2055, 1)], [(2054, 1), (2056, 1)], [(7, 1), (165, 1), (166, 1), (167, 1), (398, 1), (1136, 1)], [(2057, 1)], [(1404, 1)], [(2058, 1)], [(312, 1), (896, 1)], [(18, 1), (20, 2), (22, 1), (130, 1), (137, 1), (176, 1), (225, 1), (266, 1), (296, 1), (314, 1), (587, 1), (731, 1), (1193, 1), (1828, 1), (2059, 1), (2060, 1)], [(20, 1), (36, 1), (154, 1), (364, 1), (510, 1), (566, 1), (2061, 1), (2062, 1), (2063, 1), (2064, 1), (2065, 1)], [(49, 1), (114, 1), (430, 1), (2066, 1), (2067, 1)], [(70, 1), (120, 1), (1594, 1), (1646, 1)], [(41, 1), (2068, 1)], [(29, 1), (79, 1)], [(633, 1), (699, 1)], [(689, 2), (746, 1)], [(256, 1), (381, 1), (627, 1), (729, 1), (2069, 1), (2070, 1), (2071, 1)], [(2072, 1)], [(2073, 1)], [(20, 1), (141, 1), (272, 1), (2074, 1)], [(475, 1)], [(76, 1)], [(111, 1)], [(2, 1), (414, 1), (773, 1), (891, 2), (980, 2), (2075, 2), (2076, 1)], [(32, 1), (202, 1), (2077, 1), (2078, 1), (2079, 1), (2080, 1), (2081, 1), (2082, 1)], [(263, 1)], [(53, 1)], [(154, 1), (667, 1), (2083, 1)], [(72, 1), (143, 1), (689, 1), (2084, 1)], [(7, 1), (21, 1), (2085, 1), (2086, 1)], [(77, 1), (2087, 1)], [(810, 1)], [(293, 1)], [(1202, 1)], [(202, 1), (2088, 1)], [(2089, 1)], [(32, 1), (143, 1), (340, 1), (2090, 1), (2091, 1), (2092, 1), (2093, 1), (2094, 1)], [(143, 1), (1303, 1), (2095, 1)], [(21, 2), (32, 1), (136, 1), (143, 1), (633, 1), (2096, 1), (2097, 1), (2098, 2)], [(16, 1), (20, 1), (22, 1), (38, 1), (175, 1), (869, 1)], [(225, 1), (545, 1), (2099, 1)], [(76, 1), (1458, 1), (1630, 1), (2100, 1)], [(74, 1), (248, 1)], [(32, 1), (36, 1), (340, 1), (655, 1)], [(267, 1), (1733, 1), (2101, 1), (2102, 1)], [(33, 1)], [(32, 1), (39, 1), (302, 1), (2103, 1)], [(1295, 1), (2104, 1)], [(382, 1), (1669, 1), (1696, 1)], [(20, 2), (475, 1), (477, 1), (614, 1), (847, 1), (2105, 1)], [(263, 1), (409, 1), (582, 1), (1560, 1)], [(53, 1), (2106, 1)], [(2107, 1), (2108, 1)], [(7, 1)], [(70, 1), (616, 1), (2109, 1)], [(478, 1)], [(136, 1)], [(202, 1), (629, 1), (630, 1)], [(1, 1), (111, 1), (216, 1), (259, 1), (297, 1), (424, 1)], [(42, 1), (79, 1), (163, 1), (260, 1), (595, 1), (1132, 1), (2110, 1)], [(406, 1), (668, 1)], [(20, 1), (39, 1), (165, 1), (179, 1), (263, 1), (342, 1), (2111, 1)], [(32, 1), (42, 2), (133, 1), (229, 1), (701, 1), (844, 1), (1326, 1), (1421, 1), (1786, 1), (2112, 1)], [(20, 2), (32, 4), (33, 1), (42, 1), (62, 1), (70, 1), (79, 1), (143, 1), (146, 2), (187, 2), (226, 1), (266, 1), (281, 1), (439, 2), (442, 1), (518, 1), (554, 1), (633, 1), (686, 2), (1578, 1), (1648, 2), (2113, 1), (2114, 1), (2115, 1), (2116, 1)], [(2117, 1), (2118, 1), (2119, 1), (2120, 1), (2121, 1), (2122, 1)], [(64, 1), (624, 1), (2123, 1)], [(1373, 1)], [(169, 1), (172, 1), (397, 1)], [(79, 1), (381, 1), (633, 1), (2124, 1)], [(41, 1), (638, 1)], [(79, 1), (1857, 1)], [(2015, 1)], [(70, 1), (2125, 1)], [(7, 1), (127, 1)], [(1402, 1), (2126, 1)], [(33, 1), (70, 1), (93, 1), (102, 1), (131, 1), (143, 1), (198, 1), (387, 1), (655, 1), (1314, 1), (1323, 1), (1404, 1), (1504, 1), (1672, 1), (2127, 1), (2128, 2), (2129, 1), (2130, 1)], [(2131, 1), (2132, 1), (2133, 1)], [(120, 1), (475, 1)], [(1202, 1), (2134, 1)], [(39, 1), (2135, 1), (2136, 1)], [(49, 1), (861, 1), (873, 1)], [(153, 1), (185, 1), (394, 1), (625, 1), (746, 1), (772, 1), (969, 1), (2137, 1), (2138, 1), (2139, 1)], [(1, 1), (7, 1), (32, 1), (33, 1), (34, 1), (42, 1), (130, 1), (137, 1), (221, 1), (515, 1), (519, 1), (1083, 1), (1213, 1), (1303, 1), (1395, 1), (2140, 1), (2141, 1), (2142, 1), (2143, 1), (2144, 1), (2145, 1), (2146, 1), (2147, 1), (2148, 1), (2149, 1), (2150, 1), (2151, 1)], [(36, 1), (102, 1), (176, 1), (319, 1), (520, 1)], [(53, 1), (140, 1), (216, 1), (280, 1), (381, 1), (438, 1), (2152, 1), (2153, 1), (2154, 1)], [(37, 1), (102, 1), (278, 1), (844, 1), (877, 1), (1082, 1), (1326, 1), (1601, 1), (2155, 1), (2156, 1), (2157, 1), (2158, 1)], [(1426, 1)], [(243, 1), (458, 1), (2159, 1), (2160, 1), (2161, 1), (2162, 1)], [(64, 1), (136, 1)], [(2163, 1)], [(582, 1)], [(202, 1)], [(53, 1)], [(120, 1), (223, 1), (266, 1), (477, 1)], [(443, 1)], [(655, 1), (1007, 1), (2164, 1)], [(111, 1), (158, 1), (554, 1), (633, 1), (1099, 1), (2165, 1)], [(32, 1), (275, 1), (382, 1), (1675, 1)], [(2166, 1), (2167, 1)], [(2168, 1)], [(15, 1), (20, 2), (42, 4), (52, 1), (70, 1), (72, 1), (116, 1), (135, 1), (143, 1), (276, 1), (294, 1), (296, 1), (347, 3), (348, 4), (350, 1), (351, 1), (371, 2), (450, 1), (475, 3), (826, 2), (856, 1), (1646, 1), (1737, 1), (2169, 1), (2170, 1), (2171, 2), (2172, 1), (2173, 2)], [(263, 1), (2174, 1)], [(13, 1), (2175, 2)], [(79, 1), (102, 1), (733, 1)], [(19, 1), (20, 1), (266, 1), (2176, 1)], [(2177, 1)], [(2178, 1)], [(10, 1), (29, 1), (127, 1), (259, 1), (267, 1), (332, 1), (337, 1), (477, 1), (587, 1), (655, 1), (1609, 1), (2179, 1), (2180, 1), (2181, 1)], [(582, 1), (2182, 1)], [(477, 1)], [(2183, 1)], [(114, 1), (2184, 1)], [(143, 1), (463, 1), (869, 1), (1016, 1), (1321, 1), (1431, 1), (2185, 1)], [(143, 1), (614, 1)], [(32, 1), (165, 1)], [(1400, 1)], [(607, 1)], [(446, 1), (458, 1), (1006, 1), (1011, 1), (2186, 1), (2187, 1)], [(32, 1)], [(1, 1), (7, 1), (22, 2), (32, 1), (654, 1), (2188, 1)], [(79, 1), (2189, 1)], [(595, 1)], [(2190, 1)], [(20, 1), (31, 1), (2191, 1)], [(82, 1), (154, 1)], [(1729, 1), (2192, 1)], [(1520, 1), (2193, 1)], [(173, 1)], [(163, 1), (519, 1), (1006, 1), (2194, 1)], [(266, 1)], [(42, 1), (70, 1), (154, 1), (2195, 1)], [(719, 1), (930, 1), (2196, 1)], [(288, 1)], [(39, 1)], [(41, 1), (731, 1)], [(39, 1)], [(127, 1), (143, 1), (278, 1), (614, 1), (1828, 1)], [(248, 1), (2088, 1)], [(15, 1), (20, 2), (24, 1), (41, 1), (42, 1), (79, 1), (135, 1), (146, 1), (350, 1), (760, 1), (772, 1), (903, 1), (1012, 1), (1013, 1), (1022, 1), (1087, 1), (1516, 1), (1671, 1), (2026, 1), (2197, 1), (2198, 2), (2199, 1), (2200, 1), (2201, 1), (2202, 2), (2203, 2), (2204, 1), (2205, 1), (2206, 1), (2207, 1)], [(245, 1), (398, 1), (888, 1)], [(340, 1), (990, 1)], [(406, 1)], [(21, 1), (1004, 1), (1540, 1)], [(42, 1), (70, 1), (624, 1), (1650, 1)], [(2208, 1)], [(121, 1), (398, 1), (520, 1), (1004, 1)], [(2209, 1), (2210, 1)], [(307, 1), (1845, 1)], [(260, 1), (406, 1), (2083, 1), (2211, 1), (2212, 1), (2213, 1)], [(2214, 1), (2215, 1)], [(74, 1)], [(21, 1), (22, 1)], [(208, 1)], [(406, 1), (1714, 1)], [(2214, 1), (2216, 1), (2217, 1), (2218, 1)], [(21, 1), (22, 1)], [(22, 1), (102, 1), (654, 1), (2219, 1)], [(14, 1)], [(2220, 1)], [(49, 1), (121, 1)], [(1, 1), (20, 1), (33, 2), (70, 1), (2221, 1), (2222, 1)], [(42, 1), (227, 1), (701, 1)], [(70, 1), (118, 1), (267, 1)], [(393, 1), (1057, 1)], [(7, 1)], [(13, 1), (2223, 1)], [(2224, 1)], [(41, 1), (64, 1), (79, 1), (266, 1)], [(149, 1)], [(29, 1)], [(22, 1), (116, 1), (121, 1), (430, 1), (1401, 1)], [(20, 1), (72, 1), (475, 1)], [(21, 1), (32, 1), (120, 1), (595, 1), (611, 1), (849, 1), (1010, 1), (1630, 1), (2225, 1)], [(53, 1), (2226, 1)], [(189, 1), (202, 1), (2101, 1), (2227, 1), (2228, 1)], [(812, 1), (1404, 1), (2229, 1)], [(0, 1), (4, 1), (18, 1), (22, 1), (41, 1), (120, 1), (226, 1), (842, 1), (2230, 1), (2231, 1)], [(1694, 1), (2232, 1), (2233, 1), (2234, 1), (2235, 1)], [(477, 1), (2234, 1)], [(32, 1), (73, 1), (399, 1), (1143, 1), (1296, 1), (2236, 1)], [(39, 1)], [(7, 1), (127, 1)], [(2, 1), (1101, 1), (2237, 1)], [(39, 1), (2238, 1)], [(22, 1), (79, 1)], [(582, 1)], [(73, 1), (82, 1), (686, 1), (2239, 1)], [(20, 1)], [(82, 1), (149, 1)], [(4, 1), (19, 1), (20, 1), (21, 1), (32, 1), (35, 1), (42, 1), (48, 1), (52, 3), (57, 1), (111, 1), (116, 1), (127, 1), (130, 1), (228, 1), (251, 1), (266, 1), (366, 1), (428, 1), (486, 1), (554, 1), (600, 1), (624, 1), (655, 1), (772, 1), (784, 1), (856, 1), (1241, 1), (1260, 1), (1303, 1), (1323, 2), (1340, 1), (1396, 2), (2199, 1), (2240, 1), (2241, 1), (2242, 1), (2243, 1), (2244, 1), (2245, 1), (2246, 1), (2247, 1), (2248, 1), (2249, 1), (2250, 1)], [(2251, 1), (2252, 1)], [(53, 1)], [(20, 1), (64, 1), (114, 1), (202, 1), (203, 1), (356, 1), (1051, 1), (1140, 5)], [(1, 1), (22, 1), (66, 1), (2253, 1)], [(120, 1), (266, 1)], [(143, 1), (595, 1)], [(24, 1)], [(172, 1), (227, 1), (329, 1), (1231, 1)], [(2254, 1)], [(118, 2), (441, 1), (547, 1), (2255, 2)], [(42, 1), (933, 1)], [(52, 1), (709, 1), (1897, 1)], [(1273, 1), (1987, 1), (2119, 1), (2120, 1), (2256, 1), (2257, 1), (2258, 1), (2259, 1), (2260, 1), (2261, 1), (2262, 1), (2263, 1), (2264, 1), (2265, 1), (2266, 1), (2267, 1)], [(640, 1)], [(2268, 1)], [(20, 1)], [(45, 1), (70, 1), (1052, 1)], [(52, 1), (89, 1), (143, 1), (221, 1), (436, 1), (933, 1), (1051, 1), (1335, 1), (2269, 1)], [(39, 1), (422, 1)], [(7, 1), (1007, 1), (1312, 1), (2270, 1)], [(7, 1), (2271, 1)], [(7, 1), (574, 1), (1410, 1), (2271, 1)], [(307, 1)], [(24, 1), (202, 1), (446, 1)], [(42, 1), (227, 1), (701, 1), (2272, 1)], [(35, 1)], [(39, 1), (266, 1), (2273, 1)], [(777, 1)], [(53, 1), (64, 1), (600, 1), (2274, 1)], [(70, 1), (554, 1), (616, 1), (1318, 1)], [(24, 1)], [(70, 1), (116, 1), (328, 1), (2275, 1)], [(2276, 1)], [(52, 1), (53, 1), (70, 3), (221, 1), (381, 1), (2277, 1), (2278, 1), (2279, 1)], [(39, 1), (42, 1), (119, 1), (1701, 1), (2280, 1), (2281, 1), (2282, 1), (2283, 1)], [(130, 1), (248, 1), (2284, 1)], [(14, 2), (42, 1), (2285, 1), (2286, 1), (2287, 1), (2288, 1), (2289, 1), (2290, 1)], [(24, 1), (168, 1), (1007, 1)], [(829, 1)], [(36, 1), (297, 1), (428, 1), (856, 1), (1082, 1), (2291, 1), (2292, 1)], [(296, 1), (2293, 1)], [(20, 1), (418, 1), (2294, 1)], [(86, 1)], [(21, 3), (32, 1), (33, 1), (127, 2), (177, 1), (198, 1), (408, 1), (494, 1), (576, 1), (633, 1), (895, 1), (1103, 1), (2295, 1), (2296, 1), (2297, 1), (2298, 1), (2299, 1), (2300, 1), (2301, 1)], [(1, 1), (74, 1), (1034, 1), (1036, 1)], [(24, 1), (2302, 1)], [(73, 1), (111, 1), (146, 1), (1776, 1)], [(595, 1)], [(74, 1)], [(53, 1)], [(475, 1), (2303, 1)], [(33, 1), (64, 1)], [(42, 1), (70, 1)], [(251, 1), (366, 1), (755, 1), (2304, 1)], [(15, 1), (73, 1), (100, 1), (686, 1)], [(2305, 1)], [(3, 1), (2306, 1), (2307, 1), (2308, 1)], [(227, 1), (1006, 1), (1504, 1)], [(94, 1), (465, 1)], [(29, 1), (276, 1)], [(2309, 1)], [(1081, 1), (2039, 1)], [(1, 1), (21, 1), (32, 1), (42, 1), (53, 1), (69, 1), (70, 1), (79, 2), (397, 1), (520, 1), (723, 1), (1149, 1), (1211, 1), (1646, 1)], [(177, 1), (178, 1), (827, 1)], [(53, 1), (458, 1)], [(7, 1), (143, 1), (387, 1), (554, 1), (723, 1), (861, 1), (1094, 1), (1244, 1), (1323, 1), (2032, 1), (2310, 1), (2311, 2), (2312, 2)], [(24, 1), (2313, 1)], [(479, 1)], [(7, 1), (2314, 1)], [(24, 1)], [(101, 1), (245, 1), (398, 1), (675, 1), (1367, 1), (1548, 1), (2315, 1), (2316, 1), (2317, 1), (2318, 2), (2319, 1), (2320, 1), (2321, 1), (2322, 1)], [(53, 1), (2323, 1)], [(14, 1), (95, 1)], [(29, 1), (381, 1), (633, 1)], [(13, 1), (49, 1), (777, 1)], [(32, 1), (39, 1), (190, 1)], [(7, 1), (2324, 1), (2325, 1), (2326, 1), (2327, 1), (2328, 1), (2329, 1)], [(398, 1), (2330, 1)], [(2331, 1), (2332, 1)], [(115, 1), (345, 1), (486, 1), (588, 1), (2333, 1)], [(102, 1), (157, 1), (477, 1), (733, 1), (2334, 1)], [(543, 1)], [(14, 1), (95, 1), (294, 1)], [(79, 1), (474, 1), (2335, 1)], [(13, 1), (22, 1), (32, 1), (507, 1), (587, 3), (2336, 1), (2337, 1), (2338, 1)], [(38, 1), (507, 1)], [(20, 2), (32, 1), (51, 1), (430, 2), (442, 1), (475, 1), (554, 1), (827, 1), (996, 1), (1058, 1), (1088, 1), (1459, 1), (2339, 1)], [(2340, 1)], [(24, 1)], [(21, 1), (32, 1), (74, 1), (465, 1), (849, 1)], [(24, 1)], [(0, 1)], [(118, 1), (837, 1), (1438, 1), (1700, 1)], [(2341, 1)], [(1564, 1), (2342, 1)], [(202, 1), (1700, 1), (2343, 1)], [(42, 1), (70, 1), (212, 1), (1598, 1), (2344, 1)], [(41, 1), (73, 1), (76, 1), (120, 1), (143, 1), (202, 1), (266, 1), (446, 1), (620, 1), (633, 1), (1602, 1), (2345, 1)], [(8, 1), (53, 1), (143, 1), (283, 1), (392, 1), (481, 1)], [(42, 1), (120, 1)], [(177, 1), (202, 1)], [(176, 1), (2346, 1)], [(7, 1), (73, 1), (198, 1), (568, 1), (1967, 1), (2347, 1)], [(410, 1), (506, 1), (507, 1)], [(22, 1), (32, 1), (33, 1), (266, 1), (275, 1), (2348, 1), (2349, 1), (2350, 1), (2351, 1)], [(38, 1), (42, 1), (2352, 1)], [(1, 1), (16, 2), (20, 2), (21, 1), (72, 2), (130, 1), (176, 1), (266, 1), (598, 2), (633, 1)], [(190, 1)], [(22, 1)], [(202, 1), (582, 1), (2353, 1)], [(92, 1), (2354, 1)], [(381, 1)], [(2355, 1)], [(263, 1)], [(466, 1)], [(296, 1), (2356, 1)], [(33, 1)], [(42, 1), (266, 1), (339, 1), (408, 1), (436, 1), (441, 1), (1142, 1), (1496, 1), (2350, 1), (2357, 1), (2358, 1)], [(74, 1), (422, 1), (2359, 1)], [(79, 1), (104, 1), (519, 1), (1194, 1)], [(704, 1), (2360, 1)], [(53, 1), (1140, 1)], [(20, 1), (223, 1), (251, 1), (1052, 1), (2361, 1)], [(2362, 1), (2363, 1)], [(129, 1)], [(227, 1), (2364, 1)], [(1, 1), (2365, 1)], [(53, 1)], [(73, 1), (554, 1), (577, 1), (595, 1), (1706, 1), (2366, 1)], [(33, 1), (2367, 1)], [(19, 1), (266, 1), (1910, 1), (2368, 1), (2369, 1)], [(1, 1), (414, 1), (2370, 1), (2371, 1)], [(32, 1), (2372, 1), (2373, 1)], [(21, 1), (36, 1), (70, 1), (73, 1), (198, 1), (399, 1)], [(53, 1)], [(20, 1), (22, 2), (64, 1), (79, 1), (190, 1), (326, 1), (442, 1), (1006, 1), (1078, 1), (2374, 1), (2375, 1)], [(14, 1)], [(21, 1), (76, 1), (707, 1), (1866, 1)], [(2376, 1)], [(2377, 1)], [(1, 1), (20, 3), (21, 2), (32, 1), (203, 1), (554, 1), (703, 1), (2378, 1), (2379, 1), (2380, 1)], [(177, 1), (270, 1), (332, 1), (337, 1)], [(42, 1), (79, 1), (154, 1), (475, 1), (633, 1), (2381, 1)], [(29, 1)], [(29, 1), (200, 1)], [(7, 1), (225, 1), (275, 1), (547, 1), (699, 1), (912, 1), (2147, 1), (2382, 1), (2383, 1), (2384, 2), (2385, 1), (2386, 1), (2387, 1), (2388, 1), (2389, 1), (2390, 1)], [(76, 1)], [(1747, 1), (2391, 1)], [(102, 1), (143, 1), (200, 1), (1143, 1), (1296, 1)], [(20, 1), (32, 1), (39, 1), (165, 1), (515, 2), (891, 2), (1519, 1), (2392, 1), (2393, 1), (2394, 1), (2395, 1)]]\n"
     ]
    }
   ],
   "source": [
    "# create a document term matrix\n",
    "document_term_matrix = [comments_dictionary.doc2bow(doc) for doc in corpus]\n",
    "\n",
    "print(document_term_matrix)"
   ]
  },
  {
   "cell_type": "markdown",
   "id": "f47156a7-994e-4ab2-9601-7c00287362fc",
   "metadata": {
    "scrolled": true
   },
   "source": [
    "The document term matrix is a list of lists. Each document (nested list) is a YouTube comment represented as a list of tuples. The tuples provide the word ID (each word has a unique ID created by _Gensim_) and the frequency with which that word occurs in the document (YouTube comment).\n",
    "\n",
    "We can also view the actual word with the frequency..."
   ]
  },
  {
   "cell_type": "code",
   "execution_count": 12,
   "id": "dbec4b20-6977-4597-9f96-3694c9d8a9f2",
   "metadata": {
    "scrolled": true
   },
   "outputs": [
    {
     "data": {
      "text/plain": [
       "[[('bamco', 1), ('get', 1), ('see', 1), ('view', 1)],\n",
       " [('wow', 1)],\n",
       " [('oww', 1), ('yeaah', 1)],\n",
       " [('hope', 1), ('version', 1)],\n",
       " [('begin', 1)],\n",
       " [('right', 1), ('room', 1), ('waiting', 1)],\n",
       " [('let', 1)],\n",
       " [('wow', 1)],\n",
       " [('marvelous', 1)],\n",
       " [('bandai', 1), ('late', 1)]]"
      ]
     },
     "execution_count": 12,
     "metadata": {},
     "output_type": "execute_result"
    }
   ],
   "source": [
    "# human readable format of document term matrix for first 10 documents (first 10 YouTube comments)\n",
    "[[(comments_dictionary[id], freq) for id, freq in cp] for cp in document_term_matrix[:10]]"
   ]
  },
  {
   "cell_type": "markdown",
   "id": "5a841e6b-caad-4aae-b367-99bf54a237ff",
   "metadata": {},
   "source": [
    "We now have the data in a state where we can build the topic model."
   ]
  },
  {
   "cell_type": "markdown",
   "id": "15cc89b2-0fec-45c9-9386-df438a15bebe",
   "metadata": {},
   "source": [
    "# Latent Dirichlet Allocation (LDA) model"
   ]
  },
  {
   "cell_type": "code",
   "execution_count": 13,
   "id": "6addce32-434e-4586-bea3-be9979b3fac4",
   "metadata": {},
   "outputs": [
    {
     "data": {
      "text/plain": [
       "[(0,\n",
       "  '0.063*\"want\" + 0.042*\"capoeira\" + 0.016*\"look\" + 0.016*\"game\" + 0.015*\"like\"'),\n",
       " (1,\n",
       "  '0.044*\"character\" + 0.022*\"look\" + 0.022*\"new\" + 0.020*\"game\" + 0.019*\"like\"'),\n",
       " (2,\n",
       "  '0.026*\"hope\" + 0.020*\"trailer\" + 0.014*\"come\" + 0.012*\"get\" + 0.009*\"baki\"')]"
      ]
     },
     "execution_count": 13,
     "metadata": {},
     "output_type": "execute_result"
    }
   ],
   "source": [
    "# build an LDA model\n",
    "lda_number_of_topics = 3   # manually specify the number of topics we want\n",
    "lda_model = LdaModel(corpus=document_term_matrix,\n",
    "                     num_topics=lda_number_of_topics, \n",
    "                     id2word=comments_dictionary,\n",
    "                     passes=10,   # number of iterations over the entire corpus during model training\n",
    "                     random_state=42,)\n",
    "\n",
    "# print the topics and the words most closely alighned with this topic\n",
    "lda_model.print_topics(num_topics=lda_number_of_topics, num_words=5)"
   ]
  },
  {
   "cell_type": "markdown",
   "id": "73345fc6-1ff4-4268-ad91-e07e81970531",
   "metadata": {},
   "source": [
    "The output shows our three topics and the 5 words most closely aligned with that topic.\n",
    "The output is a list of tuples with the first item in the tuple the topic ID, and the second item contains a string with the words that make up the topic and their weighting.\n",
    "The greater the weight the more important the word is to the given topic.\n",
    "\n",
    "### Topics\n",
    "- 0 appears to focus an interest in 'capoeira', a martial art.\n",
    "- 1 appears to relate to discussion of the new characters and the 'look' or visuals of the game.\n",
    "- 2 appears focus on excitement surrounding the trailer with 'hope' showing anticipation."
   ]
  },
  {
   "cell_type": "markdown",
   "id": "ec0816aa-3d67-4b3a-9527-2c6de253c465",
   "metadata": {},
   "source": [
    "# Visualise model"
   ]
  },
  {
   "cell_type": "code",
   "execution_count": null,
   "id": "d8620115-d090-4b0f-a54c-4e945db69da0",
   "metadata": {
    "scrolled": true
   },
   "outputs": [],
   "source": [
    "pyLDAvis.enable_notebook()\n",
    "viz = pyLDAvis.gensim.prepare(lda_model, document_term_matrix, comments_dictionary)\n",
    "pyLDAvis.save_html(viz, \"models/visualisations/lda_topics_viz.html\")"
   ]
  },
  {
   "cell_type": "markdown",
   "id": "eb4e9543-f4cf-4b4c-b428-4bc4f75699e0",
   "metadata": {},
   "source": [
    "### How to interpret pyLDAvis’s output?\n",
    "(see html output for the visual)\n",
    "\n",
    "#### Bubble plot\n",
    "- Each bubble on the plot represents a topic. The larger the bubble, the more prevalent the topic.\n",
    "- A good topic model will have fairly big, non-overlapping bubbles scattered throughout the chart instead of being clustered in one quadrant.\n",
    "- A model with too many topics will typically have many overlaps and/or small bubbles clustered in one region of the chart.\n",
    "- If you move the cursor over one of the bubbles the words and bars on the right-hand side will update. These words are the most important words that form the selected topic."
   ]
  },
  {
   "cell_type": "markdown",
   "id": "08e7b6ec-5a8c-465d-9528-dde47b70cf4e",
   "metadata": {},
   "source": [
    "# Evaluation"
   ]
  },
  {
   "cell_type": "markdown",
   "id": "5409bd04-b9c3-4e57-924a-40a8f98f70e7",
   "metadata": {},
   "source": [
    "### Perplexity and coherence\n",
    "Model perplexity and topic coherence provide a convenient measure to indicate how good a given topic model is.\n",
    "\n",
    "**Perplexity**:\n",
    "- The lower the perplexity better the model.\n",
    "- It is said that around 10-20 for smaller datasets and closer to 50 for larger ones is a good aim.\n",
    "- Interpretation: Very low perplexity might suggest overfitting, while excessively high values indicate poor topic capture.\n",
    "  \n",
    "**Coherence**:\n",
    "- The higher the topic coherence, the more likely the topic is to be human interpretable.\n",
    "- 'Good scores' will vary depending on the measure and dataset.\n",
    "- Measurements: For 'u_mass', above 0.5 can be good, while for 'c_v' or 'c_uci', above 0.1 might be suitable."
   ]
  },
  {
   "cell_type": "code",
   "execution_count": 14,
   "id": "e2527620-a8c5-4817-bf96-8a927a5ffe38",
   "metadata": {},
   "outputs": [
    {
     "name": "stdout",
     "output_type": "stream",
     "text": [
      "\n",
      "LDA perplexity: -7.234282227711821\n",
      "\n",
      "LDA coherence score: 0.452657714270358\n"
     ]
    }
   ],
   "source": [
    "# get perplexity score\n",
    "print(f\"\\nLDA perplexity: {lda_model.log_perplexity(chunk=document_term_matrix, total_docs=None)}\")   # a measure of how good the model is. lower the better.\n",
    "\n",
    "# get coherence score\n",
    "coherence_model_lda = CoherenceModel(model=lda_model, texts=corpus, dictionary=comments_dictionary, coherence='c_v')\n",
    "coherence_lda = coherence_model_lda.get_coherence()\n",
    "print(f\"\\nLDA coherence score: {coherence_lda}\")"
   ]
  },
  {
   "cell_type": "markdown",
   "id": "9babe6b4-e051-4bfc-b4a2-013f2bcca11e",
   "metadata": {},
   "source": [
    "- The perplexity and coherence scores are good. **Note:** check documentation to see if _Gensim_ calculates negative log-perplexity)\n",
    "- The _pyLDAvis_ gives insight into the top 30 words for each topic. There is some overlap between topics.\n",
    "- Next we'll see if using bigrams and trigrams will improve the model..."
   ]
  },
  {
   "cell_type": "markdown",
   "id": "e8e2cee3-2572-4020-95d2-7d995e1ea2f0",
   "metadata": {},
   "source": [
    "# Create corpus of bigrams and trigrams\n",
    "- Creating bigrams and trigrams can potentially better capture semantic meaning, improve topic coherence, and handle ambguity better.\n",
    "- They achieve this by:\n",
    "    - **Capturing meaning that single words might miss.** For example, \"machine learning\" or \"United States\" convey more specific concepts than \"machine\" or \"States\" alone.\n",
    "    - **Improving topic coherence by capturing more interpretable and meaningful topics**, as sometimes pairs of words can represent specific subject areas or themes better than single words.\n",
    "    - **Handling ambiguity by capturing crucial information in the second word.** For example, \"jaguar car\" vs. \"jaguar animal\"."
   ]
  },
  {
   "cell_type": "markdown",
   "id": "3cd013c8-a5af-4dbb-aaa9-20c1c702c82d",
   "metadata": {},
   "source": [
    "## Build the bigrams and trigrams corpus\n",
    "We want to create a corpus that includes bigrams and trigrams. To do this we need to:\n",
    "- Xyz"
   ]
  },
  {
   "cell_type": "code",
   "execution_count": 15,
   "id": "ce4f5418-6b68-41cb-99c9-46d7aa6d06a3",
   "metadata": {},
   "outputs": [
    {
     "name": "stdout",
     "output_type": "stream",
     "text": [
      "['wow']\n",
      "['need', 'rest', 'trailer', 'mfs']\n"
     ]
    }
   ],
   "source": [
    "# build the bigram and trigram models\n",
    "bigram = gensim.models.Phrases(corpus, \n",
    "                               min_count=3,   # the minimum absolute frequency a word pair needs to have in the corpus to be considered for joining into a bigram\n",
    "                               threshold=0.1)  # higher threshold leads to fewer bigrams, the bigram will need to occur at least 10 times in the document, can also\n",
    "                                              # be set as a perentage the bigram occurs in the document\n",
    "trigram = gensim.models.Phrases(bigram[corpus], threshold=10)  \n",
    "\n",
    "# Phraser objects take Phrases models as inputs and are optimized for faster phrase application\n",
    "bigram_mod = gensim.models.phrases.Phraser(bigram)\n",
    "trigram_mod = gensim.models.phrases.Phraser(trigram)\n",
    "\n",
    "# see trigram example\n",
    "print(trigram_mod[bigram_mod[corpus[1]]])   # applies the bigram model to the first document, combining common word pairs. trigram_mod[] applies the trigram model \n",
    "                                            # to the result of the bigram application, forming trigrams from frequent bigrams and single words.\n",
    "print(trigram_mod[bigram_mod[corpus[13]]])"
   ]
  },
  {
   "cell_type": "code",
   "execution_count": null,
   "id": "d6b7de61-4101-4ac4-8bfc-90805c491eaa",
   "metadata": {
    "scrolled": true
   },
   "outputs": [],
   "source": [
    "def make_bigrams(corpus):\n",
    "    return [bigram_mod[doc] for doc in corpus]\n",
    "\n",
    "def make_trigrams(corpus):\n",
    "    return [trigram_mod[bigram_mod[doc]] for doc in corpus]"
   ]
  },
  {
   "cell_type": "markdown",
   "id": "4b4a2cc1-dcf9-4afe-8aa0-5e755649a3fb",
   "metadata": {},
   "source": [
    "## Create bigrams corpus"
   ]
  },
  {
   "cell_type": "code",
   "execution_count": null,
   "id": "57b75724-241e-4390-9010-90e378702460",
   "metadata": {
    "scrolled": true
   },
   "outputs": [],
   "source": [
    "# create bigrams corpus\n",
    "corpus_bigrams = make_bigrams(corpus)"
   ]
  },
  {
   "cell_type": "code",
   "execution_count": null,
   "id": "9b3a3b40-d422-48dc-a9ca-6d235b3eaf02",
   "metadata": {
    "scrolled": true
   },
   "outputs": [],
   "source": [
    "# create dictionary\n",
    "bigrams_dictionary = corpora.Dictionary(corpus_bigrams)\n",
    "\n",
    "# create term document frequency\n",
    "bigrams_document_term_matrix = [bigrams_dictionary.doc2bow(doc) for doc in corpus_bigrams]"
   ]
  },
  {
   "cell_type": "markdown",
   "id": "529eb5fe-696b-4736-988c-1efcfdb12ae4",
   "metadata": {},
   "source": [
    "### Create bigrams model"
   ]
  },
  {
   "cell_type": "code",
   "execution_count": null,
   "id": "db62d6a1-63cf-4b49-adb7-88a9fec96e0a",
   "metadata": {
    "scrolled": true
   },
   "outputs": [],
   "source": [
    "# LDA model\n",
    "lda_number_of_topics = 3\n",
    "lda_bigrams_model = LdaModel(corpus=bigrams_document_term_matrix,\n",
    "                     num_topics=lda_number_of_topics, \n",
    "                     id2word=bigrams_dictionary,\n",
    "                     passes=10,   # number of iterations over the entire corpus during model training\n",
    "                    random_state=42,)\n",
    "\n",
    "# Results\n",
    "lda_bigrams_model.print_topics(num_topics=lda_number_of_topics, num_words=5)"
   ]
  },
  {
   "cell_type": "code",
   "execution_count": null,
   "id": "13788adf-3c78-4083-af8a-4a3959b9a450",
   "metadata": {
    "scrolled": true
   },
   "outputs": [],
   "source": [
    "pyLDAvis.enable_notebook()\n",
    "viz = pyLDAvis.gensim.prepare(lda_bigrams_model, bigrams_document_term_matrix, bigrams_dictionary)\n",
    "pyLDAvis.save_html(viz, \"models/visualisations/lda_topics_bigrams_viz.html\")"
   ]
  },
  {
   "cell_type": "markdown",
   "id": "aaefc88b-8e25-4ba2-89cc-81831d53d2ae",
   "metadata": {},
   "source": [
    "# Evaluation"
   ]
  },
  {
   "cell_type": "code",
   "execution_count": null,
   "id": "be13ef77-c11e-453a-a640-67f882f9d3d8",
   "metadata": {
    "scrolled": true
   },
   "outputs": [],
   "source": [
    "# compute Perplexity\n",
    "print(f\"\\nLDA bigrams perplexity: {lda_bigrams_model.log_perplexity(chunk=bigrams_document_term_matrix, total_docs=None)}\")   # a measure of how good the model is. lower the better.\n",
    "\n",
    "# Compute Coherence Score\n",
    "coherence_model_lda_bigrams = CoherenceModel(model=lda_bigrams_model, texts=corpus_bigrams, dictionary=bigrams_dictionary, coherence='c_v')\n",
    "coherence_lda_bigrams = coherence_model_lda_bigrams.get_coherence()\n",
    "print(f\"\\nLDA bigrams coherence score: {coherence_lda_bigrams}\")"
   ]
  },
  {
   "cell_type": "markdown",
   "id": "96a8e6ff-995b-4a5c-bd13-f765041c574a",
   "metadata": {},
   "source": [
    "## Model assessment"
   ]
  },
  {
   "cell_type": "code",
   "execution_count": null,
   "id": "fd843c3b-d124-424a-ba72-2a0433979299",
   "metadata": {
    "scrolled": true
   },
   "outputs": [],
   "source": [
    "print(f\"\\nLDA perplexity: {lda_model.log_perplexity(chunk=document_term_matrix, total_docs=None)}\")   # a measure of how good the model is. lower the better.\n",
    "print(f\"\\nLDA bigrams perplexity: {lda_bigrams_model.log_perplexity(chunk=bigrams_document_term_matrix, total_docs=None)}\")   # a measure of how good the model is. lower the better.\n",
    "print(f\"\\nLDA coherence score: {coherence_lda}\")\n",
    "print(f\"\\nLDA bigrams coherence score: {coherence_lda_bigrams}\")\n"
   ]
  },
  {
   "cell_type": "markdown",
   "id": "f42ef079-e0c9-4c7a-8c27-1a876d20d7de",
   "metadata": {},
   "source": [
    "- The two models are similar in terms of perplexity and coherence, although the bigrams model has slightly better scores, meaning that:\n",
    "    - the bigrams model is very slightly more able to measure the model's ability to predict a held-out word in a document and assess how well words within a topic connect semantically and form meaningful themes.\n",
    "    - However, the scores for both models are good."
   ]
  },
  {
   "cell_type": "code",
   "execution_count": null,
   "id": "1eb13de7-3521-48e6-8677-dd895696e6ca",
   "metadata": {
    "scrolled": true
   },
   "outputs": [],
   "source": []
  }
 ],
 "metadata": {
  "kernelspec": {
   "display_name": "Python 3 (ipykernel)",
   "language": "python",
   "name": "python3"
  },
  "language_info": {
   "codemirror_mode": {
    "name": "ipython",
    "version": 3
   },
   "file_extension": ".py",
   "mimetype": "text/x-python",
   "name": "python",
   "nbconvert_exporter": "python",
   "pygments_lexer": "ipython3",
   "version": "3.10.11"
  }
 },
 "nbformat": 4,
 "nbformat_minor": 5
}
