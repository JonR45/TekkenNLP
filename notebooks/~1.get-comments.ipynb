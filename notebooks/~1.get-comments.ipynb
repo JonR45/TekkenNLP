{
 "cells": [
  {
   "cell_type": "code",
   "execution_count": 1,
   "id": "9155a14c-f0bf-4492-9e97-148fde046da8",
   "metadata": {},
   "outputs": [],
   "source": [
    "import os\n",
    "os.chdir('..') # this resolves ImportError: attempted relative import with no known parent package\n",
    "from dotenv import load_dotenv\n",
    "load_dotenv()\n",
    "\n",
    "import googleapiclient.discovery\n",
    "import pandas as pd\n",
    "# pd.set_option('display.max_colwidth', None)\n",
    "from src.api.get_youtube_data import get_video_ids, get_video_data, get_top_level_comments\n",
    "from tqdm.notebook import tqdm\n",
    "import time"
   ]
  },
  {
   "cell_type": "markdown",
   "id": "a2999e7a-c2d5-4a8b-9f6b-5e7d1aab7f05",
   "metadata": {},
   "source": [
    "# Create YouTube service object for connecting to API"
   ]
  },
  {
   "cell_type": "code",
   "execution_count": 2,
   "id": "a68d3047-f453-40c7-b4cd-85587fa9a95b",
   "metadata": {},
   "outputs": [],
   "source": [
    "# set parameters for creating a youtube service object\n",
    "api_service_name = \"youtube\"\n",
    "api_version = \"v3\"\n",
    "API_KEY = os.environ.get(\"API_KEY\")\n",
    "\n",
    "# create a youtube service object\n",
    "youtube = googleapiclient.discovery.build(\n",
    "    api_service_name, api_version, developerKey=API_KEY)"
   ]
  },
  {
   "cell_type": "markdown",
   "id": "23f9b02f-0a12-45a7-9f74-8e567c283008",
   "metadata": {},
   "source": [
    "# Get video IDs and video data\n",
    "**NOTE: The YouTube API sets limits on the number of requests allowed per day; when running this notebook be sure that your request is within the allowed limits to avoid incurring costs.**\n",
    "- I want to get the video IDs and video data for videos published in November and December.\n",
    "- The video IDs retrieved will be video IDs published by a given channel that have 'tekken' in the description, tag, or title; when retrieving the data for each video we will only retrieve data for videos that include 'tekken' in the title."
   ]
  },
  {
   "cell_type": "code",
   "execution_count": 20,
   "id": "d63b0a86-661a-42e6-b839-c2c8e6bd4b1c",
   "metadata": {},
   "outputs": [],
   "source": [
    "# set channel and search details\n",
    "bandai_namco_america_id = \"UC_ntXHv-XdKCD7CPynVvnQw\"\n",
    "published_after = \"2023-11-01T00:00:00Z\"\n",
    "published_before = \"2023-12-21T00:00:00Z\"\n",
    "search_term = \"tekken\""
   ]
  },
  {
   "cell_type": "code",
   "execution_count": 21,
   "id": "208f44e3-b608-4f17-ae17-5805be0079fa",
   "metadata": {
    "scrolled": true
   },
   "outputs": [],
   "source": [
    "# get video Ids so we can pass them to the get_video_data function\n",
    "video_ids = get_video_ids(youtube_service_object=youtube, \n",
    "                          channel_id=bandai_namco_america_id,\n",
    "                          published_before=published_before,\n",
    "                          published_after=published_after, \n",
    "                         search_term=search_term)"
   ]
  },
  {
   "cell_type": "code",
   "execution_count": 22,
   "id": "386b5f88-4b02-44e8-8164-9f208def9a76",
   "metadata": {},
   "outputs": [
    {
     "name": "stdout",
     "output_type": "stream",
     "text": [
      "Number of video IDs retrived: 26\n",
      "Video IDs:\n",
      "['UgnPG2bScVQ', 'ta_lOrG8zrQ', '9jJiNa4HoD0', 'X1dgCe1jDYg', 'EMZkmjE8wdw', 'ToKJfywbe1o', '9D5vq-zq9y4', 'y8JGUIF2pu4', 'oeFfzCWif-Q', 'bSCANspTDeE', 'ucesGynb2Yk', 'UcBcNOSoFzI', '8DVlK_QrZ-A', 'Zc-yMi05vBA', 'e1N4juHVqNc', 'QH6s_o3dIic', '7skTtnpSb58', 'bjzYbEjE-C4', 'Gw5nQaSF0CI', '3pGxqOFmIN4', 'w0IqzD-gUOI', 'PsCpewoF2E4', 'cHnxJplTQuY', 'qbUnCiTMCGE', 'cIDK50IaVpg', 'rDxrpSqYHD8']\n"
     ]
    }
   ],
   "source": [
    "print(f\"Number of video IDs retrived: {len(video_ids)}\")\n",
    "print(f\"Video IDs:\\n{video_ids}\")"
   ]
  },
  {
   "cell_type": "code",
   "execution_count": 23,
   "id": "01de0064-bc3f-408b-bbd1-2d799f0dad71",
   "metadata": {},
   "outputs": [
    {
     "data": {
      "application/vnd.jupyter.widget-view+json": {
       "model_id": "6bcc07cf5a3341bfa12a40827f4f8e74",
       "version_major": 2,
       "version_minor": 0
      },
      "text/plain": [
       "0it [00:00, ?it/s]"
      ]
     },
     "metadata": {},
     "output_type": "display_data"
    },
    {
     "name": "stdout",
     "output_type": "stream",
     "text": [
      "Batch 1 start: 0\n",
      "Batch 1 end: 26\n"
     ]
    },
    {
     "data": {
      "text/html": [
       "<div>\n",
       "<style scoped>\n",
       "    .dataframe tbody tr th:only-of-type {\n",
       "        vertical-align: middle;\n",
       "    }\n",
       "\n",
       "    .dataframe tbody tr th {\n",
       "        vertical-align: top;\n",
       "    }\n",
       "\n",
       "    .dataframe thead th {\n",
       "        text-align: right;\n",
       "    }\n",
       "</style>\n",
       "<table border=\"1\" class=\"dataframe\">\n",
       "  <thead>\n",
       "    <tr style=\"text-align: right;\">\n",
       "      <th></th>\n",
       "      <th>channelTitle</th>\n",
       "      <th>channelId</th>\n",
       "      <th>videoId</th>\n",
       "      <th>publishedAt</th>\n",
       "      <th>title</th>\n",
       "      <th>description</th>\n",
       "      <th>tags</th>\n",
       "      <th>viewCount</th>\n",
       "      <th>likeCount</th>\n",
       "      <th>commentCount</th>\n",
       "      <th>favoriteCount</th>\n",
       "    </tr>\n",
       "  </thead>\n",
       "  <tbody>\n",
       "    <tr>\n",
       "      <th>0</th>\n",
       "      <td>Bandai Namco Entertainment America</td>\n",
       "      <td>UC_ntXHv-XdKCD7CPynVvnQw</td>\n",
       "      <td>rDxrpSqYHD8</td>\n",
       "      <td>2023-11-01 16:09:18+00:00</td>\n",
       "      <td>TEKKEN 8 – THE RETURN OF LEGENDS - NEW CHARACTERS REVEAL TRAILER</td>\n",
       "      <td>Five legends return in #TEKKEN8 for the next King of Iron Fist tournament!\\n\\nAnd we're not done yet. 👊 http://tekken.com\\n\\nTake a look at the latest fighters newly confirmed as playable in Tekken 8: Devil Jin, Zafina, Alisa Bosconovich, and Lee Chaolan (with a bonus appearance by Panda). The final characters will be revealed on November 2 and then November 12.</td>\n",
       "      <td>[Bandai Namco, Bandai Namco Entertainment, Video, Games, video games, namco bandai, United States, PS5, PS4, Xbox Series X]</td>\n",
       "      <td>913541</td>\n",
       "      <td>25048</td>\n",
       "      <td>2770</td>\n",
       "      <td>0</td>\n",
       "    </tr>\n",
       "    <tr>\n",
       "      <th>1</th>\n",
       "      <td>Bandai Namco Entertainment America</td>\n",
       "      <td>UC_ntXHv-XdKCD7CPynVvnQw</td>\n",
       "      <td>cIDK50IaVpg</td>\n",
       "      <td>2023-11-02 13:22:49+00:00</td>\n",
       "      <td>TEKKEN 8 – Victor Chevalier Reveal &amp; Gameplay Trailer</td>\n",
       "      <td>With him, violence is à la carte.\\nVictor Chevalier, voiced by Vincent Cassel, slices his way into the #TEKKEN8 roster!\\n\\nPre-order TEKKEN 8 👉 https://bnent.eu/Preorder-TEKKEN8\\nJoin the official TEKKEN server 👉 https://bnent.eu/TekkenDiscord\\n\\nFollow Bandai Namco Entertainment: \\nInstagram: https://www.instagram.com/bandainamcous\\nFacebook: https://www.facebook.com/BandaiNamcoUS\\nTwitter: https://twitter.com/BandaiNamcoUS\\nTwitch: http://www.twitch.tv/bandainamcous</td>\n",
       "      <td>[Bandai Namco, Bandai Namco Entertainment, Video, Games, video games, namco bandai, United States, PS5, PS4, Xbox Series X]</td>\n",
       "      <td>1500052</td>\n",
       "      <td>44643</td>\n",
       "      <td>7408</td>\n",
       "      <td>0</td>\n",
       "    </tr>\n",
       "    <tr>\n",
       "      <th>2</th>\n",
       "      <td>Bandai Namco Entertainment America</td>\n",
       "      <td>UC_ntXHv-XdKCD7CPynVvnQw</td>\n",
       "      <td>PsCpewoF2E4</td>\n",
       "      <td>2023-11-13 05:03:26+00:00</td>\n",
       "      <td>TEKKEN 8 — Reina Reveal &amp; Gameplay Trailer</td>\n",
       "      <td>It's time for them to learn their place.\\nReina storms the King of Iron Fist Tournament in #TEKKEN8\\n\\nPre-order TEKKEN 8 👉  https://bnent.eu/Preorder-TEKKEN8\\nJoin the official TEKKEN server 👉  https://bnent.eu/TekkenDiscord\\n\\nFollow Tekken:\\nInstagram: https://www.instagram.com/tekken\\nTwitter: https://twitter.com/Twitter\\nFacebook: https://www.facebook.com/TekkenAmericas\\n\\nFollow Bandai Namco Entertainment: \\nInstagram: https://www.instagram.com/bandainamcous\\nFacebook: https://www.facebook.com/BandaiNamcoUS\\nTwitter: https://twitter.com/BandaiNamcoUS\\nTwitch: http://www.twitch.tv/bandainamcous</td>\n",
       "      <td>[Bandai Namco, Bandai Namco Entertainment, Video, Games, video games, namco bandai, United States, PS5, PS4, Xbox Series X]</td>\n",
       "      <td>2280289</td>\n",
       "      <td>62768</td>\n",
       "      <td>7859</td>\n",
       "      <td>0</td>\n",
       "    </tr>\n",
       "  </tbody>\n",
       "</table>\n",
       "</div>"
      ],
      "text/plain": [
       "                         channelTitle                 channelId      videoId  \\\n",
       "0  Bandai Namco Entertainment America  UC_ntXHv-XdKCD7CPynVvnQw  rDxrpSqYHD8   \n",
       "1  Bandai Namco Entertainment America  UC_ntXHv-XdKCD7CPynVvnQw  cIDK50IaVpg   \n",
       "2  Bandai Namco Entertainment America  UC_ntXHv-XdKCD7CPynVvnQw  PsCpewoF2E4   \n",
       "\n",
       "                publishedAt  \\\n",
       "0 2023-11-01 16:09:18+00:00   \n",
       "1 2023-11-02 13:22:49+00:00   \n",
       "2 2023-11-13 05:03:26+00:00   \n",
       "\n",
       "                                                              title  \\\n",
       "0  TEKKEN 8 – THE RETURN OF LEGENDS - NEW CHARACTERS REVEAL TRAILER   \n",
       "1             TEKKEN 8 – Victor Chevalier Reveal & Gameplay Trailer   \n",
       "2                        TEKKEN 8 — Reina Reveal & Gameplay Trailer   \n",
       "\n",
       "                                                                                                                                                                                                                                                                                                                                                                                                                                                                                                                                                                                                                      description  \\\n",
       "0                                                                                                                                                                                                                                                    Five legends return in #TEKKEN8 for the next King of Iron Fist tournament!\\n\\nAnd we're not done yet. 👊 http://tekken.com\\n\\nTake a look at the latest fighters newly confirmed as playable in Tekken 8: Devil Jin, Zafina, Alisa Bosconovich, and Lee Chaolan (with a bonus appearance by Panda). The final characters will be revealed on November 2 and then November 12.   \n",
       "1                                                                                                                                        With him, violence is à la carte.\\nVictor Chevalier, voiced by Vincent Cassel, slices his way into the #TEKKEN8 roster!\\n\\nPre-order TEKKEN 8 👉 https://bnent.eu/Preorder-TEKKEN8\\nJoin the official TEKKEN server 👉 https://bnent.eu/TekkenDiscord\\n\\nFollow Bandai Namco Entertainment: \\nInstagram: https://www.instagram.com/bandainamcous\\nFacebook: https://www.facebook.com/BandaiNamcoUS\\nTwitter: https://twitter.com/BandaiNamcoUS\\nTwitch: http://www.twitch.tv/bandainamcous   \n",
       "2  It's time for them to learn their place.\\nReina storms the King of Iron Fist Tournament in #TEKKEN8\\n\\nPre-order TEKKEN 8 👉  https://bnent.eu/Preorder-TEKKEN8\\nJoin the official TEKKEN server 👉  https://bnent.eu/TekkenDiscord\\n\\nFollow Tekken:\\nInstagram: https://www.instagram.com/tekken\\nTwitter: https://twitter.com/Twitter\\nFacebook: https://www.facebook.com/TekkenAmericas\\n\\nFollow Bandai Namco Entertainment: \\nInstagram: https://www.instagram.com/bandainamcous\\nFacebook: https://www.facebook.com/BandaiNamcoUS\\nTwitter: https://twitter.com/BandaiNamcoUS\\nTwitch: http://www.twitch.tv/bandainamcous   \n",
       "\n",
       "                                                                                                                          tags  \\\n",
       "0  [Bandai Namco, Bandai Namco Entertainment, Video, Games, video games, namco bandai, United States, PS5, PS4, Xbox Series X]   \n",
       "1  [Bandai Namco, Bandai Namco Entertainment, Video, Games, video games, namco bandai, United States, PS5, PS4, Xbox Series X]   \n",
       "2  [Bandai Namco, Bandai Namco Entertainment, Video, Games, video games, namco bandai, United States, PS5, PS4, Xbox Series X]   \n",
       "\n",
       "   viewCount  likeCount  commentCount  favoriteCount  \n",
       "0     913541      25048          2770              0  \n",
       "1    1500052      44643          7408              0  \n",
       "2    2280289      62768          7859              0  "
      ]
     },
     "execution_count": 23,
     "metadata": {},
     "output_type": "execute_result"
    }
   ],
   "source": [
    "# retrieve data about each video\n",
    "df = get_video_data(youtube_service_object=youtube, video_ids=video_ids)\n",
    "df.head(3)"
   ]
  },
  {
   "cell_type": "code",
   "execution_count": 25,
   "id": "e4f7261e-90c3-482d-99be-df6cdad2c630",
   "metadata": {},
   "outputs": [
    {
     "name": "stdout",
     "output_type": "stream",
     "text": [
      "<class 'pandas.core.frame.DataFrame'>\n",
      "RangeIndex: 11 entries, 0 to 10\n",
      "Data columns (total 11 columns):\n",
      " #   Column         Non-Null Count  Dtype              \n",
      "---  ------         --------------  -----              \n",
      " 0   channelTitle   11 non-null     object             \n",
      " 1   channelId      11 non-null     object             \n",
      " 2   videoId        11 non-null     object             \n",
      " 3   publishedAt    11 non-null     datetime64[ns, UTC]\n",
      " 4   title          11 non-null     object             \n",
      " 5   description    11 non-null     object             \n",
      " 6   tags           11 non-null     object             \n",
      " 7   viewCount      11 non-null     int64              \n",
      " 8   likeCount      11 non-null     int64              \n",
      " 9   commentCount   11 non-null     int64              \n",
      " 10  favoriteCount  11 non-null     int64              \n",
      "dtypes: datetime64[ns, UTC](1), int64(4), object(6)\n",
      "memory usage: 1.1+ KB\n"
     ]
    }
   ],
   "source": [
    "df.info()"
   ]
  },
  {
   "cell_type": "code",
   "execution_count": 26,
   "id": "b06311ad-6b15-4c43-b62e-37b7aff264c9",
   "metadata": {},
   "outputs": [
    {
     "data": {
      "text/html": [
       "<div>\n",
       "<style scoped>\n",
       "    .dataframe tbody tr th:only-of-type {\n",
       "        vertical-align: middle;\n",
       "    }\n",
       "\n",
       "    .dataframe tbody tr th {\n",
       "        vertical-align: top;\n",
       "    }\n",
       "\n",
       "    .dataframe thead th {\n",
       "        text-align: right;\n",
       "    }\n",
       "</style>\n",
       "<table border=\"1\" class=\"dataframe\">\n",
       "  <thead>\n",
       "    <tr style=\"text-align: right;\">\n",
       "      <th></th>\n",
       "      <th>title</th>\n",
       "      <th>commentCount</th>\n",
       "      <th>videoId</th>\n",
       "    </tr>\n",
       "  </thead>\n",
       "  <tbody>\n",
       "    <tr>\n",
       "      <th>0</th>\n",
       "      <td>TEKKEN 8 – THE RETURN OF LEGENDS - NEW CHARACTERS REVEAL TRAILER</td>\n",
       "      <td>2770</td>\n",
       "      <td>rDxrpSqYHD8</td>\n",
       "    </tr>\n",
       "    <tr>\n",
       "      <th>1</th>\n",
       "      <td>TEKKEN 8 – Victor Chevalier Reveal &amp; Gameplay Trailer</td>\n",
       "      <td>7408</td>\n",
       "      <td>cIDK50IaVpg</td>\n",
       "    </tr>\n",
       "    <tr>\n",
       "      <th>2</th>\n",
       "      <td>TEKKEN 8 — Reina Reveal &amp; Gameplay Trailer</td>\n",
       "      <td>7859</td>\n",
       "      <td>PsCpewoF2E4</td>\n",
       "    </tr>\n",
       "    <tr>\n",
       "      <th>3</th>\n",
       "      <td>TEKKEN 8 — Leo Reveal &amp; Gameplay Trailer</td>\n",
       "      <td>5135</td>\n",
       "      <td>QH6s_o3dIic</td>\n",
       "    </tr>\n",
       "    <tr>\n",
       "      <th>4</th>\n",
       "      <td>TEKKEN 8 – Steve Fox Reveal &amp; Gameplay Trailer</td>\n",
       "      <td>4319</td>\n",
       "      <td>Zc-yMi05vBA</td>\n",
       "    </tr>\n",
       "    <tr>\n",
       "      <th>5</th>\n",
       "      <td>TEKKEN 8 — Dragunov Reveal &amp; Gameplay Trailer</td>\n",
       "      <td>3348</td>\n",
       "      <td>ucesGynb2Yk</td>\n",
       "    </tr>\n",
       "    <tr>\n",
       "      <th>6</th>\n",
       "      <td>TEKKEN 8 — Yoshimitsu Reveal &amp; Gameplay Trailer</td>\n",
       "      <td>5021</td>\n",
       "      <td>y8JGUIF2pu4</td>\n",
       "    </tr>\n",
       "    <tr>\n",
       "      <th>7</th>\n",
       "      <td>TEKKEN 8 – Exclusive Story Demo Showcase</td>\n",
       "      <td>362</td>\n",
       "      <td>9D5vq-zq9y4</td>\n",
       "    </tr>\n",
       "    <tr>\n",
       "      <th>8</th>\n",
       "      <td>TEKKEN 8 – Official Story Trailer</td>\n",
       "      <td>4245</td>\n",
       "      <td>ToKJfywbe1o</td>\n",
       "    </tr>\n",
       "    <tr>\n",
       "      <th>9</th>\n",
       "      <td>TEKKEN 8 – Ultimate Edition Trailer</td>\n",
       "      <td>1217</td>\n",
       "      <td>9jJiNa4HoD0</td>\n",
       "    </tr>\n",
       "    <tr>\n",
       "      <th>10</th>\n",
       "      <td>TEKKEN 8 – Shaheen Reveal &amp; Gameplay Trailer</td>\n",
       "      <td>3789</td>\n",
       "      <td>UgnPG2bScVQ</td>\n",
       "    </tr>\n",
       "  </tbody>\n",
       "</table>\n",
       "</div>"
      ],
      "text/plain": [
       "                                                               title  \\\n",
       "0   TEKKEN 8 – THE RETURN OF LEGENDS - NEW CHARACTERS REVEAL TRAILER   \n",
       "1              TEKKEN 8 – Victor Chevalier Reveal & Gameplay Trailer   \n",
       "2                         TEKKEN 8 — Reina Reveal & Gameplay Trailer   \n",
       "3                           TEKKEN 8 — Leo Reveal & Gameplay Trailer   \n",
       "4                     TEKKEN 8 – Steve Fox Reveal & Gameplay Trailer   \n",
       "5                      TEKKEN 8 — Dragunov Reveal & Gameplay Trailer   \n",
       "6                    TEKKEN 8 — Yoshimitsu Reveal & Gameplay Trailer   \n",
       "7                           TEKKEN 8 – Exclusive Story Demo Showcase   \n",
       "8                                  TEKKEN 8 – Official Story Trailer   \n",
       "9                                TEKKEN 8 – Ultimate Edition Trailer   \n",
       "10                      TEKKEN 8 – Shaheen Reveal & Gameplay Trailer   \n",
       "\n",
       "    commentCount      videoId  \n",
       "0           2770  rDxrpSqYHD8  \n",
       "1           7408  cIDK50IaVpg  \n",
       "2           7859  PsCpewoF2E4  \n",
       "3           5135  QH6s_o3dIic  \n",
       "4           4319  Zc-yMi05vBA  \n",
       "5           3348  ucesGynb2Yk  \n",
       "6           5021  y8JGUIF2pu4  \n",
       "7            362  9D5vq-zq9y4  \n",
       "8           4245  ToKJfywbe1o  \n",
       "9           1217  9jJiNa4HoD0  \n",
       "10          3789  UgnPG2bScVQ  "
      ]
     },
     "execution_count": 26,
     "metadata": {},
     "output_type": "execute_result"
    }
   ],
   "source": [
    "# investigate the titles of the videos so we can find the one we're looking for\n",
    "df.loc[:][[\"title\", \"commentCount\", \"videoId\"]]"
   ]
  },
  {
   "cell_type": "markdown",
   "id": "afe0a1ee-6ed2-41f2-9ed1-cc04a0175af4",
   "metadata": {},
   "source": [
    "I want to do some topic modeling on the 'new characters reveal trailer', so I'll grab the video ID."
   ]
  },
  {
   "cell_type": "code",
   "execution_count": 36,
   "id": "132fd1de-00a3-4804-977a-bc909062448b",
   "metadata": {},
   "outputs": [
    {
     "data": {
      "text/plain": [
       "'rDxrpSqYHD8'"
      ]
     },
     "execution_count": 36,
     "metadata": {},
     "output_type": "execute_result"
    }
   ],
   "source": [
    "# extract the video id for the 'new characters reveal trailer' video\n",
    "new_characters_revealed_id = df.loc[df[\"title\"].str.lower().str.contains(\"the return of legends - new characters reveal trailer\")]['videoId'][0]\n",
    "new_characters_revealed_id"
   ]
  },
  {
   "cell_type": "markdown",
   "id": "a9b0111b-a522-4513-b61c-81e2509863f3",
   "metadata": {},
   "source": [
    "# Get comments for the video"
   ]
  },
  {
   "cell_type": "code",
   "execution_count": 37,
   "id": "071c1d58-9d83-4a67-bcb1-9be3adeb2771",
   "metadata": {},
   "outputs": [
    {
     "data": {
      "text/html": [
       "<div>\n",
       "<style scoped>\n",
       "    .dataframe tbody tr th:only-of-type {\n",
       "        vertical-align: middle;\n",
       "    }\n",
       "\n",
       "    .dataframe tbody tr th {\n",
       "        vertical-align: top;\n",
       "    }\n",
       "\n",
       "    .dataframe thead th {\n",
       "        text-align: right;\n",
       "    }\n",
       "</style>\n",
       "<table border=\"1\" class=\"dataframe\">\n",
       "  <thead>\n",
       "    <tr style=\"text-align: right;\">\n",
       "      <th></th>\n",
       "      <th>videoId</th>\n",
       "      <th>authorDisplayName</th>\n",
       "      <th>publishedAt</th>\n",
       "      <th>updatedAt</th>\n",
       "      <th>likeCount</th>\n",
       "      <th>totalReplyCount</th>\n",
       "      <th>textDisplay</th>\n",
       "    </tr>\n",
       "  </thead>\n",
       "  <tbody>\n",
       "    <tr>\n",
       "      <th>0</th>\n",
       "      <td>rDxrpSqYHD8</td>\n",
       "      <td>@silveriver9</td>\n",
       "      <td>2023-11-01 16:09:58+00:00</td>\n",
       "      <td>2023-11-01 16:10:43+00:00</td>\n",
       "      <td>4</td>\n",
       "      <td>4</td>\n",
       "      <td>First. Now where is LEI WULONG?!</td>\n",
       "    </tr>\n",
       "    <tr>\n",
       "      <th>1</th>\n",
       "      <td>rDxrpSqYHD8</td>\n",
       "      <td>@faizaanjaved7150</td>\n",
       "      <td>2023-11-01 16:10:05+00:00</td>\n",
       "      <td>2023-11-01 16:10:05+00:00</td>\n",
       "      <td>1</td>\n",
       "      <td>1</td>\n",
       "      <td>Already seen it. Ur getting less view&amp;#39;s now bamco</td>\n",
       "    </tr>\n",
       "    <tr>\n",
       "      <th>2</th>\n",
       "      <td>rDxrpSqYHD8</td>\n",
       "      <td>@TS-rw4lk</td>\n",
       "      <td>2023-11-01 16:10:05+00:00</td>\n",
       "      <td>2023-11-01 16:10:05+00:00</td>\n",
       "      <td>0</td>\n",
       "      <td>0</td>\n",
       "      <td>wow</td>\n",
       "    </tr>\n",
       "  </tbody>\n",
       "</table>\n",
       "</div>"
      ],
      "text/plain": [
       "       videoId  authorDisplayName               publishedAt  \\\n",
       "0  rDxrpSqYHD8       @silveriver9 2023-11-01 16:09:58+00:00   \n",
       "1  rDxrpSqYHD8  @faizaanjaved7150 2023-11-01 16:10:05+00:00   \n",
       "2  rDxrpSqYHD8          @TS-rw4lk 2023-11-01 16:10:05+00:00   \n",
       "\n",
       "                  updatedAt  likeCount  totalReplyCount  \\\n",
       "0 2023-11-01 16:10:43+00:00          4                4   \n",
       "1 2023-11-01 16:10:05+00:00          1                1   \n",
       "2 2023-11-01 16:10:05+00:00          0                0   \n",
       "\n",
       "                                             textDisplay  \n",
       "0                       First. Now where is LEI WULONG?!  \n",
       "1  Already seen it. Ur getting less view&#39;s now bamco  \n",
       "2                                                    wow  "
      ]
     },
     "execution_count": 37,
     "metadata": {},
     "output_type": "execute_result"
    }
   ],
   "source": [
    "df_new_character_reveal_comments = get_top_level_comments(youtube_service_object=youtube, video_ids=new_characters_revealed_id)\n",
    "df_new_character_reveal_comments.head(3)"
   ]
  },
  {
   "cell_type": "code",
   "execution_count": 38,
   "id": "921fafbb-5dd1-407b-8f2f-52bc2202d533",
   "metadata": {},
   "outputs": [
    {
     "name": "stdout",
     "output_type": "stream",
     "text": [
      "<class 'pandas.core.frame.DataFrame'>\n",
      "RangeIndex: 2043 entries, 0 to 2042\n",
      "Data columns (total 7 columns):\n",
      " #   Column             Non-Null Count  Dtype              \n",
      "---  ------             --------------  -----              \n",
      " 0   videoId            2043 non-null   object             \n",
      " 1   authorDisplayName  2043 non-null   object             \n",
      " 2   publishedAt        2043 non-null   datetime64[ns, UTC]\n",
      " 3   updatedAt          2043 non-null   datetime64[ns, UTC]\n",
      " 4   likeCount          2043 non-null   int64              \n",
      " 5   totalReplyCount    2043 non-null   int64              \n",
      " 6   textDisplay        2043 non-null   object             \n",
      "dtypes: datetime64[ns, UTC](2), int64(2), object(3)\n",
      "memory usage: 111.9+ KB\n"
     ]
    }
   ],
   "source": [
    "df_new_character_reveal_comments.info()"
   ]
  },
  {
   "cell_type": "markdown",
   "id": "34ef06ba-c58c-4cfe-b70c-c12be07e7a5d",
   "metadata": {},
   "source": [
    "# Export to csv"
   ]
  },
  {
   "cell_type": "code",
   "execution_count": 39,
   "id": "7e71f918-4c98-4996-9755-f962e113d797",
   "metadata": {},
   "outputs": [],
   "source": [
    "df_new_character_reveal_comments.to_csv(\"data/raw/new_character_reveal_comments.csv\", index=False)"
   ]
  },
  {
   "cell_type": "code",
   "execution_count": null,
   "id": "5cd71d90-c66b-4f1e-a344-fabd27c0f7c9",
   "metadata": {},
   "outputs": [],
   "source": []
  }
 ],
 "metadata": {
  "kernelspec": {
   "display_name": "Python 3 (ipykernel)",
   "language": "python",
   "name": "python3"
  },
  "language_info": {
   "codemirror_mode": {
    "name": "ipython",
    "version": 3
   },
   "file_extension": ".py",
   "mimetype": "text/x-python",
   "name": "python",
   "nbconvert_exporter": "python",
   "pygments_lexer": "ipython3",
   "version": "3.10.11"
  }
 },
 "nbformat": 4,
 "nbformat_minor": 5
}
