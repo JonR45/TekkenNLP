{
 "cells": [
  {
   "cell_type": "markdown",
   "id": "4b564551-f866-45eb-b7a3-fcbc295d74f5",
   "metadata": {},
   "source": [
    "- Finish topic modelling by\n",
    "    - Implementing BERT model\n",
    "    - removing character names to see what topics outside of characters are being discussed\n",
    "- Do a 'most discussed' project:\n",
    "    - Which characters were being discussed most\n",
    "      - Report\n",
    "      - Visualisation\n",
    "    - Sentiment score for the n sentences before and m sentences after character mention"
   ]
  },
  {
   "cell_type": "code",
   "execution_count": null,
   "id": "f437ca5e-199e-4067-8bcf-245fb83f7ea6",
   "metadata": {},
   "outputs": [],
   "source": []
  }
 ],
 "metadata": {
  "kernelspec": {
   "display_name": "Python 3 (ipykernel)",
   "language": "python",
   "name": "python3"
  },
  "language_info": {
   "codemirror_mode": {
    "name": "ipython",
    "version": 3
   },
   "file_extension": ".py",
   "mimetype": "text/x-python",
   "name": "python",
   "nbconvert_exporter": "python",
   "pygments_lexer": "ipython3",
   "version": "3.12.1"
  }
 },
 "nbformat": 4,
 "nbformat_minor": 5
}
