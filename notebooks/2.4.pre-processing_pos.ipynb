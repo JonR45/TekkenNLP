{
 "cells": [
  {
   "cell_type": "code",
   "execution_count": 1,
   "id": "9976d3c9-fe21-4d5c-af0b-9cc547d7704a",
   "metadata": {
    "scrolled": true
   },
   "outputs": [],
   "source": [
    "import os\n",
    "os.chdir('..') # this resolves ImportError: attempted relative import with no known parent package\n",
    "import pandas as pd\n",
    "import spacy\n",
    "from tqdm import tqdm\n",
    "from src.processing.text_cleaning import normalize_text, process_contractions, remove_all_punctuation, remove_emojis, remove_html_unescape\n",
    "from src.processing.text_processing import tokenize_comment, lemmatize_comment, remove_stop_words\n",
    "\n",
    "pd.set_option('display.max_colwidth', None)"
   ]
  },
  {
   "cell_type": "code",
   "execution_count": 2,
   "id": "05c647d7-02d8-4751-95c2-c6c3253baae0",
   "metadata": {
    "scrolled": true
   },
   "outputs": [
    {
     "data": {
      "text/html": [
       "<div>\n",
       "<style scoped>\n",
       "    .dataframe tbody tr th:only-of-type {\n",
       "        vertical-align: middle;\n",
       "    }\n",
       "\n",
       "    .dataframe tbody tr th {\n",
       "        vertical-align: top;\n",
       "    }\n",
       "\n",
       "    .dataframe thead th {\n",
       "        text-align: right;\n",
       "    }\n",
       "</style>\n",
       "<table border=\"1\" class=\"dataframe\">\n",
       "  <thead>\n",
       "    <tr style=\"text-align: right;\">\n",
       "      <th></th>\n",
       "      <th>videoId</th>\n",
       "      <th>authorDisplayName</th>\n",
       "      <th>publishedAt</th>\n",
       "      <th>updatedAt</th>\n",
       "      <th>likeCount</th>\n",
       "      <th>totalReplyCount</th>\n",
       "      <th>textDisplay</th>\n",
       "    </tr>\n",
       "  </thead>\n",
       "  <tbody>\n",
       "    <tr>\n",
       "      <th>0</th>\n",
       "      <td>rDxrpSqYHD8</td>\n",
       "      <td>@silveriver9</td>\n",
       "      <td>2023-11-01 16:09:58+00:00</td>\n",
       "      <td>2023-11-01 16:10:43+00:00</td>\n",
       "      <td>4</td>\n",
       "      <td>4</td>\n",
       "      <td>First. Now where is LEI WULONG?!</td>\n",
       "    </tr>\n",
       "    <tr>\n",
       "      <th>1</th>\n",
       "      <td>rDxrpSqYHD8</td>\n",
       "      <td>@faizaanjaved7150</td>\n",
       "      <td>2023-11-01 16:10:05+00:00</td>\n",
       "      <td>2023-11-01 16:10:05+00:00</td>\n",
       "      <td>1</td>\n",
       "      <td>1</td>\n",
       "      <td>Already seen it. Ur getting less view&amp;#39;s now bamco</td>\n",
       "    </tr>\n",
       "    <tr>\n",
       "      <th>2</th>\n",
       "      <td>rDxrpSqYHD8</td>\n",
       "      <td>@TS-rw4lk</td>\n",
       "      <td>2023-11-01 16:10:05+00:00</td>\n",
       "      <td>2023-11-01 16:10:05+00:00</td>\n",
       "      <td>0</td>\n",
       "      <td>0</td>\n",
       "      <td>wow</td>\n",
       "    </tr>\n",
       "    <tr>\n",
       "      <th>3</th>\n",
       "      <td>rDxrpSqYHD8</td>\n",
       "      <td>@ALONCAK</td>\n",
       "      <td>2023-11-01 16:10:06+00:00</td>\n",
       "      <td>2023-11-01 16:10:06+00:00</td>\n",
       "      <td>0</td>\n",
       "      <td>0</td>\n",
       "      <td>Oww yeaah</td>\n",
       "    </tr>\n",
       "    <tr>\n",
       "      <th>4</th>\n",
       "      <td>rDxrpSqYHD8</td>\n",
       "      <td>@Rough_Estimates</td>\n",
       "      <td>2023-11-01 16:10:06+00:00</td>\n",
       "      <td>2023-11-01 16:10:06+00:00</td>\n",
       "      <td>135</td>\n",
       "      <td>14</td>\n",
       "      <td>I hope we get an angel version of Jin</td>\n",
       "    </tr>\n",
       "  </tbody>\n",
       "</table>\n",
       "</div>"
      ],
      "text/plain": [
       "       videoId  authorDisplayName                publishedAt  \\\n",
       "0  rDxrpSqYHD8       @silveriver9  2023-11-01 16:09:58+00:00   \n",
       "1  rDxrpSqYHD8  @faizaanjaved7150  2023-11-01 16:10:05+00:00   \n",
       "2  rDxrpSqYHD8          @TS-rw4lk  2023-11-01 16:10:05+00:00   \n",
       "3  rDxrpSqYHD8           @ALONCAK  2023-11-01 16:10:06+00:00   \n",
       "4  rDxrpSqYHD8   @Rough_Estimates  2023-11-01 16:10:06+00:00   \n",
       "\n",
       "                   updatedAt  likeCount  totalReplyCount  \\\n",
       "0  2023-11-01 16:10:43+00:00          4                4   \n",
       "1  2023-11-01 16:10:05+00:00          1                1   \n",
       "2  2023-11-01 16:10:05+00:00          0                0   \n",
       "3  2023-11-01 16:10:06+00:00          0                0   \n",
       "4  2023-11-01 16:10:06+00:00        135               14   \n",
       "\n",
       "                                             textDisplay  \n",
       "0                       First. Now where is LEI WULONG?!  \n",
       "1  Already seen it. Ur getting less view&#39;s now bamco  \n",
       "2                                                    wow  \n",
       "3                                              Oww yeaah  \n",
       "4                  I hope we get an angel version of Jin  "
      ]
     },
     "execution_count": 2,
     "metadata": {},
     "output_type": "execute_result"
    }
   ],
   "source": [
    "# import data from csv\n",
    "raw_data = pd.read_csv(\"data/raw/new_character_reveal_comments.csv\")\n",
    "data = raw_data.copy()\n",
    "df = pd.DataFrame(data)\n",
    "df.head()"
   ]
  },
  {
   "cell_type": "markdown",
   "id": "04573f86-649b-48f0-8bbe-db501bacfb9a",
   "metadata": {},
   "source": [
    "# Clean comments"
   ]
  },
  {
   "cell_type": "code",
   "execution_count": 3,
   "id": "b9da5933-a31c-418a-b309-1710dd1981f5",
   "metadata": {
    "scrolled": true
   },
   "outputs": [
    {
     "data": {
      "text/html": [
       "<div>\n",
       "<style scoped>\n",
       "    .dataframe tbody tr th:only-of-type {\n",
       "        vertical-align: middle;\n",
       "    }\n",
       "\n",
       "    .dataframe tbody tr th {\n",
       "        vertical-align: top;\n",
       "    }\n",
       "\n",
       "    .dataframe thead th {\n",
       "        text-align: right;\n",
       "    }\n",
       "</style>\n",
       "<table border=\"1\" class=\"dataframe\">\n",
       "  <thead>\n",
       "    <tr style=\"text-align: right;\">\n",
       "      <th></th>\n",
       "      <th>videoId</th>\n",
       "      <th>authorDisplayName</th>\n",
       "      <th>publishedAt</th>\n",
       "      <th>updatedAt</th>\n",
       "      <th>likeCount</th>\n",
       "      <th>totalReplyCount</th>\n",
       "      <th>textDisplay</th>\n",
       "    </tr>\n",
       "  </thead>\n",
       "  <tbody>\n",
       "    <tr>\n",
       "      <th>0</th>\n",
       "      <td>rDxrpSqYHD8</td>\n",
       "      <td>@silveriver9</td>\n",
       "      <td>2023-11-01 16:09:58+00:00</td>\n",
       "      <td>2023-11-01 16:10:43+00:00</td>\n",
       "      <td>4</td>\n",
       "      <td>4</td>\n",
       "      <td>First. Now where is LEI WULONG?!</td>\n",
       "    </tr>\n",
       "    <tr>\n",
       "      <th>1</th>\n",
       "      <td>rDxrpSqYHD8</td>\n",
       "      <td>@faizaanjaved7150</td>\n",
       "      <td>2023-11-01 16:10:05+00:00</td>\n",
       "      <td>2023-11-01 16:10:05+00:00</td>\n",
       "      <td>1</td>\n",
       "      <td>1</td>\n",
       "      <td>Already seen it. Ur getting less view&amp;#39;s now bamco</td>\n",
       "    </tr>\n",
       "    <tr>\n",
       "      <th>2</th>\n",
       "      <td>rDxrpSqYHD8</td>\n",
       "      <td>@TS-rw4lk</td>\n",
       "      <td>2023-11-01 16:10:05+00:00</td>\n",
       "      <td>2023-11-01 16:10:05+00:00</td>\n",
       "      <td>0</td>\n",
       "      <td>0</td>\n",
       "      <td>wow</td>\n",
       "    </tr>\n",
       "    <tr>\n",
       "      <th>3</th>\n",
       "      <td>rDxrpSqYHD8</td>\n",
       "      <td>@ALONCAK</td>\n",
       "      <td>2023-11-01 16:10:06+00:00</td>\n",
       "      <td>2023-11-01 16:10:06+00:00</td>\n",
       "      <td>0</td>\n",
       "      <td>0</td>\n",
       "      <td>Oww yeaah</td>\n",
       "    </tr>\n",
       "    <tr>\n",
       "      <th>4</th>\n",
       "      <td>rDxrpSqYHD8</td>\n",
       "      <td>@Rough_Estimates</td>\n",
       "      <td>2023-11-01 16:10:06+00:00</td>\n",
       "      <td>2023-11-01 16:10:06+00:00</td>\n",
       "      <td>135</td>\n",
       "      <td>14</td>\n",
       "      <td>I hope we get an angel version of Jin</td>\n",
       "    </tr>\n",
       "  </tbody>\n",
       "</table>\n",
       "</div>"
      ],
      "text/plain": [
       "       videoId  authorDisplayName                publishedAt  \\\n",
       "0  rDxrpSqYHD8       @silveriver9  2023-11-01 16:09:58+00:00   \n",
       "1  rDxrpSqYHD8  @faizaanjaved7150  2023-11-01 16:10:05+00:00   \n",
       "2  rDxrpSqYHD8          @TS-rw4lk  2023-11-01 16:10:05+00:00   \n",
       "3  rDxrpSqYHD8           @ALONCAK  2023-11-01 16:10:06+00:00   \n",
       "4  rDxrpSqYHD8   @Rough_Estimates  2023-11-01 16:10:06+00:00   \n",
       "\n",
       "                   updatedAt  likeCount  totalReplyCount  \\\n",
       "0  2023-11-01 16:10:43+00:00          4                4   \n",
       "1  2023-11-01 16:10:05+00:00          1                1   \n",
       "2  2023-11-01 16:10:05+00:00          0                0   \n",
       "3  2023-11-01 16:10:06+00:00          0                0   \n",
       "4  2023-11-01 16:10:06+00:00        135               14   \n",
       "\n",
       "                                             textDisplay  \n",
       "0                       First. Now where is LEI WULONG?!  \n",
       "1  Already seen it. Ur getting less view&#39;s now bamco  \n",
       "2                                                    wow  \n",
       "3                                              Oww yeaah  \n",
       "4                  I hope we get an angel version of Jin  "
      ]
     },
     "execution_count": 3,
     "metadata": {},
     "output_type": "execute_result"
    }
   ],
   "source": [
    "df_cleaned = df.copy()\n",
    "# clean the text\n",
    "df_cleaned['textDisplay'] = df_cleaned['textDisplay'].apply(remove_html_unescape)\n",
    "df_cleaned['textDisplay'] = df_cleaned['textDisplay'].apply(remove_emojis)\n",
    "df_cleaned['textDisplay'] = df_cleaned['textDisplay'].apply(remove_all_punctuation)\n",
    "df_cleaned['textDisplay'] = df_cleaned['textDisplay'].apply(process_contractions)\n",
    "df_cleaned['textDisplay'] = df_cleaned['textDisplay'].apply(normalize_text)\n",
    "df.head()"
   ]
  },
  {
   "cell_type": "markdown",
   "id": "24abf0c5-5643-4a72-ae70-bac15a06f4a1",
   "metadata": {},
   "source": [
    "# Process comments"
   ]
  },
  {
   "cell_type": "code",
   "execution_count": 4,
   "id": "7ee2d3c6-23cb-4211-bdaa-a685c5ae5a70",
   "metadata": {
    "scrolled": true
   },
   "outputs": [
    {
     "data": {
      "text/html": [
       "<div>\n",
       "<style scoped>\n",
       "    .dataframe tbody tr th:only-of-type {\n",
       "        vertical-align: middle;\n",
       "    }\n",
       "\n",
       "    .dataframe tbody tr th {\n",
       "        vertical-align: top;\n",
       "    }\n",
       "\n",
       "    .dataframe thead th {\n",
       "        text-align: right;\n",
       "    }\n",
       "</style>\n",
       "<table border=\"1\" class=\"dataframe\">\n",
       "  <thead>\n",
       "    <tr style=\"text-align: right;\">\n",
       "      <th></th>\n",
       "      <th>videoId</th>\n",
       "      <th>authorDisplayName</th>\n",
       "      <th>publishedAt</th>\n",
       "      <th>updatedAt</th>\n",
       "      <th>likeCount</th>\n",
       "      <th>totalReplyCount</th>\n",
       "      <th>textDisplay</th>\n",
       "      <th>textStopWordsRemoved</th>\n",
       "      <th>textTokenized</th>\n",
       "      <th>textLemmatized</th>\n",
       "    </tr>\n",
       "  </thead>\n",
       "  <tbody>\n",
       "    <tr>\n",
       "      <th>0</th>\n",
       "      <td>rDxrpSqYHD8</td>\n",
       "      <td>@silveriver9</td>\n",
       "      <td>2023-11-01 16:09:58+00:00</td>\n",
       "      <td>2023-11-01 16:10:43+00:00</td>\n",
       "      <td>4</td>\n",
       "      <td>4</td>\n",
       "      <td>first now where is lei wulong</td>\n",
       "      <td>lei wulong</td>\n",
       "      <td>[lei, wulong]</td>\n",
       "      <td>[lei, wulong]</td>\n",
       "    </tr>\n",
       "    <tr>\n",
       "      <th>1</th>\n",
       "      <td>rDxrpSqYHD8</td>\n",
       "      <td>@faizaanjaved7150</td>\n",
       "      <td>2023-11-01 16:10:05+00:00</td>\n",
       "      <td>2023-11-01 16:10:05+00:00</td>\n",
       "      <td>1</td>\n",
       "      <td>1</td>\n",
       "      <td>already seen it you are getting less views now bamco</td>\n",
       "      <td>seen getting views bamco</td>\n",
       "      <td>[seen, getting, views, bamco]</td>\n",
       "      <td>[see, get, view, bamco]</td>\n",
       "    </tr>\n",
       "    <tr>\n",
       "      <th>2</th>\n",
       "      <td>rDxrpSqYHD8</td>\n",
       "      <td>@TS-rw4lk</td>\n",
       "      <td>2023-11-01 16:10:05+00:00</td>\n",
       "      <td>2023-11-01 16:10:05+00:00</td>\n",
       "      <td>0</td>\n",
       "      <td>0</td>\n",
       "      <td>wow</td>\n",
       "      <td>wow</td>\n",
       "      <td>[wow]</td>\n",
       "      <td>[wow]</td>\n",
       "    </tr>\n",
       "    <tr>\n",
       "      <th>3</th>\n",
       "      <td>rDxrpSqYHD8</td>\n",
       "      <td>@ALONCAK</td>\n",
       "      <td>2023-11-01 16:10:06+00:00</td>\n",
       "      <td>2023-11-01 16:10:06+00:00</td>\n",
       "      <td>0</td>\n",
       "      <td>0</td>\n",
       "      <td>oww yeaah</td>\n",
       "      <td>oww yeaah</td>\n",
       "      <td>[oww, yeaah]</td>\n",
       "      <td>[oww, yeaah]</td>\n",
       "    </tr>\n",
       "    <tr>\n",
       "      <th>4</th>\n",
       "      <td>rDxrpSqYHD8</td>\n",
       "      <td>@Rough_Estimates</td>\n",
       "      <td>2023-11-01 16:10:06+00:00</td>\n",
       "      <td>2023-11-01 16:10:06+00:00</td>\n",
       "      <td>135</td>\n",
       "      <td>14</td>\n",
       "      <td>i hope we get an angel version of jin</td>\n",
       "      <td>hope angel version jin</td>\n",
       "      <td>[hope, angel, version, jin]</td>\n",
       "      <td>[hope, angel, version, jin]</td>\n",
       "    </tr>\n",
       "  </tbody>\n",
       "</table>\n",
       "</div>"
      ],
      "text/plain": [
       "       videoId  authorDisplayName                publishedAt  \\\n",
       "0  rDxrpSqYHD8       @silveriver9  2023-11-01 16:09:58+00:00   \n",
       "1  rDxrpSqYHD8  @faizaanjaved7150  2023-11-01 16:10:05+00:00   \n",
       "2  rDxrpSqYHD8          @TS-rw4lk  2023-11-01 16:10:05+00:00   \n",
       "3  rDxrpSqYHD8           @ALONCAK  2023-11-01 16:10:06+00:00   \n",
       "4  rDxrpSqYHD8   @Rough_Estimates  2023-11-01 16:10:06+00:00   \n",
       "\n",
       "                   updatedAt  likeCount  totalReplyCount  \\\n",
       "0  2023-11-01 16:10:43+00:00          4                4   \n",
       "1  2023-11-01 16:10:05+00:00          1                1   \n",
       "2  2023-11-01 16:10:05+00:00          0                0   \n",
       "3  2023-11-01 16:10:06+00:00          0                0   \n",
       "4  2023-11-01 16:10:06+00:00        135               14   \n",
       "\n",
       "                                            textDisplay  \\\n",
       "0                         first now where is lei wulong   \n",
       "1  already seen it you are getting less views now bamco   \n",
       "2                                                   wow   \n",
       "3                                             oww yeaah   \n",
       "4                 i hope we get an angel version of jin   \n",
       "\n",
       "       textStopWordsRemoved                  textTokenized  \\\n",
       "0                lei wulong                  [lei, wulong]   \n",
       "1  seen getting views bamco  [seen, getting, views, bamco]   \n",
       "2                       wow                          [wow]   \n",
       "3                 oww yeaah                   [oww, yeaah]   \n",
       "4    hope angel version jin    [hope, angel, version, jin]   \n",
       "\n",
       "                textLemmatized  \n",
       "0                [lei, wulong]  \n",
       "1      [see, get, view, bamco]  \n",
       "2                        [wow]  \n",
       "3                 [oww, yeaah]  \n",
       "4  [hope, angel, version, jin]  "
      ]
     },
     "execution_count": 4,
     "metadata": {},
     "output_type": "execute_result"
    }
   ],
   "source": [
    "# remove stop words, tokenize, and lemmatize the text\n",
    "df_processed = df_cleaned.copy()\n",
    "df_processed[\"textStopWordsRemoved\"] = df_processed[\"textDisplay\"].apply(remove_stop_words)\n",
    "df_processed[\"textTokenized\"] = df_processed['textStopWordsRemoved'].apply(tokenize_comment)\n",
    "df_processed[\"textLemmatized\"] = df_processed[\"textStopWordsRemoved\"].apply(lemmatize_comment)\n",
    "df_processed.head()"
   ]
  },
  {
   "cell_type": "markdown",
   "id": "7344cce6-64ad-44b0-9f14-f75dd7aba9cd",
   "metadata": {},
   "source": [
    "# Part of Speech"
   ]
  },
  {
   "cell_type": "code",
   "execution_count": null,
   "id": "3ee453e8-2ad2-4fd7-b9df-db5f41bd6c74",
   "metadata": {
    "scrolled": true
   },
   "outputs": [],
   "source": []
  },
  {
   "cell_type": "code",
   "execution_count": null,
   "id": "40cbd7fe-c6a5-4bd3-ab8a-3559fbfda2b4",
   "metadata": {
    "scrolled": true
   },
   "outputs": [],
   "source": []
  },
  {
   "cell_type": "code",
   "execution_count": null,
   "id": "a29afa4f-9208-41c5-959b-323a705da687",
   "metadata": {
    "scrolled": true
   },
   "outputs": [],
   "source": []
  },
  {
   "cell_type": "code",
   "execution_count": null,
   "id": "dac9d0cf-f559-43c0-ba5c-3db2b568962d",
   "metadata": {
    "scrolled": true
   },
   "outputs": [],
   "source": []
  },
  {
   "cell_type": "code",
   "execution_count": null,
   "id": "7f82256b-e0f2-4f76-a87c-9f1d366b4a55",
   "metadata": {
    "scrolled": true
   },
   "outputs": [],
   "source": []
  },
  {
   "cell_type": "code",
   "execution_count": null,
   "id": "28ad555b-eb43-467f-8c43-9db2efdfb0cb",
   "metadata": {
    "scrolled": true
   },
   "outputs": [],
   "source": []
  },
  {
   "cell_type": "code",
   "execution_count": null,
   "id": "845b3d3d-128b-46e7-bad7-095037416d64",
   "metadata": {
    "scrolled": true
   },
   "outputs": [],
   "source": []
  },
  {
   "cell_type": "code",
   "execution_count": null,
   "id": "72f617b6-a91e-4e3a-93fb-85ccc6ef0bc9",
   "metadata": {
    "scrolled": true
   },
   "outputs": [],
   "source": []
  },
  {
   "cell_type": "code",
   "execution_count": null,
   "id": "051b5c42-6ddd-4b47-ab83-0f44fba1cb82",
   "metadata": {
    "scrolled": true
   },
   "outputs": [],
   "source": []
  },
  {
   "cell_type": "code",
   "execution_count": null,
   "id": "0b1ecdfa-6b02-453e-963f-141f3c37855d",
   "metadata": {
    "scrolled": true
   },
   "outputs": [],
   "source": []
  },
  {
   "cell_type": "code",
   "execution_count": null,
   "id": "c83ae2d9-2d2a-47a9-b8f5-d128a98b7284",
   "metadata": {
    "scrolled": true
   },
   "outputs": [],
   "source": []
  },
  {
   "cell_type": "code",
   "execution_count": null,
   "id": "ae3ce49c-5ad7-4cd4-a620-715858c70f32",
   "metadata": {
    "scrolled": true
   },
   "outputs": [],
   "source": []
  }
 ],
 "metadata": {
  "kernelspec": {
   "display_name": "Python 3 (ipykernel)",
   "language": "python",
   "name": "python3"
  },
  "language_info": {
   "codemirror_mode": {
    "name": "ipython",
    "version": 3
   },
   "file_extension": ".py",
   "mimetype": "text/x-python",
   "name": "python",
   "nbconvert_exporter": "python",
   "pygments_lexer": "ipython3",
   "version": "3.12.1"
  }
 },
 "nbformat": 4,
 "nbformat_minor": 5
}
